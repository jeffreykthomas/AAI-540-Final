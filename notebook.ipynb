{
 "cells": [
  {
   "cell_type": "code",
   "execution_count": 3,
   "id": "573864ac-773a-4b40-bd5a-e5ded004a4df",
   "metadata": {
    "tags": []
   },
   "outputs": [
    {
     "name": "stdout",
     "output_type": "stream",
     "text": [
      "\u001b[33mWARNING: Running pip as the 'root' user can result in broken permissions and conflicting behaviour with the system package manager. It is recommended to use a virtual environment instead: https://pip.pypa.io/warnings/venv\u001b[0m\u001b[33m\n",
      "\u001b[0mRequirement already satisfied: seaborn in /opt/conda/lib/python3.10/site-packages (0.13.2)\n",
      "Requirement already satisfied: pandas in /opt/conda/lib/python3.10/site-packages (2.2.0)\n",
      "Requirement already satisfied: pyathena in /opt/conda/lib/python3.10/site-packages (3.2.0)\n",
      "Requirement already satisfied: numpy!=1.24.0,>=1.20 in /opt/conda/lib/python3.10/site-packages (from seaborn) (1.26.2)\n",
      "Requirement already satisfied: matplotlib!=3.6.1,>=3.4 in /opt/conda/lib/python3.10/site-packages (from seaborn) (3.5.2)\n",
      "Requirement already satisfied: python-dateutil>=2.8.2 in /opt/conda/lib/python3.10/site-packages (from pandas) (2.8.2)\n",
      "Requirement already satisfied: pytz>=2020.1 in /opt/conda/lib/python3.10/site-packages (from pandas) (2022.1)\n",
      "Requirement already satisfied: tzdata>=2022.7 in /opt/conda/lib/python3.10/site-packages (from pandas) (2023.3)\n",
      "Requirement already satisfied: boto3>=1.26.4 in /opt/conda/lib/python3.10/site-packages (from pyathena) (1.33.9)\n",
      "Requirement already satisfied: botocore>=1.29.4 in /opt/conda/lib/python3.10/site-packages (from pyathena) (1.33.9)\n",
      "Requirement already satisfied: tenacity>=4.1.0 in /opt/conda/lib/python3.10/site-packages (from pyathena) (8.0.1)\n",
      "Requirement already satisfied: fsspec in /opt/conda/lib/python3.10/site-packages (from pyathena) (2022.7.1)\n",
      "Requirement already satisfied: jmespath<2.0.0,>=0.7.1 in /opt/conda/lib/python3.10/site-packages (from boto3>=1.26.4->pyathena) (0.10.0)\n",
      "Requirement already satisfied: s3transfer<0.9.0,>=0.8.2 in /opt/conda/lib/python3.10/site-packages (from boto3>=1.26.4->pyathena) (0.8.2)\n",
      "Requirement already satisfied: urllib3<2.1,>=1.25.4 in /opt/conda/lib/python3.10/site-packages (from botocore>=1.29.4->pyathena) (2.0.7)\n",
      "Requirement already satisfied: cycler>=0.10 in /opt/conda/lib/python3.10/site-packages (from matplotlib!=3.6.1,>=3.4->seaborn) (0.11.0)\n",
      "Requirement already satisfied: fonttools>=4.22.0 in /opt/conda/lib/python3.10/site-packages (from matplotlib!=3.6.1,>=3.4->seaborn) (4.25.0)\n",
      "Requirement already satisfied: kiwisolver>=1.0.1 in /opt/conda/lib/python3.10/site-packages (from matplotlib!=3.6.1,>=3.4->seaborn) (1.4.2)\n",
      "Requirement already satisfied: packaging>=20.0 in /opt/conda/lib/python3.10/site-packages (from matplotlib!=3.6.1,>=3.4->seaborn) (21.3)\n",
      "Requirement already satisfied: pillow>=6.2.0 in /opt/conda/lib/python3.10/site-packages (from matplotlib!=3.6.1,>=3.4->seaborn) (10.1.0)\n",
      "Requirement already satisfied: pyparsing>=2.2.1 in /opt/conda/lib/python3.10/site-packages (from matplotlib!=3.6.1,>=3.4->seaborn) (3.0.9)\n",
      "Requirement already satisfied: six>=1.5 in /opt/conda/lib/python3.10/site-packages (from python-dateutil>=2.8.2->pandas) (1.16.0)\n",
      "\u001b[33mWARNING: Running pip as the 'root' user can result in broken permissions and conflicting behaviour with the system package manager. It is recommended to use a virtual environment instead: https://pip.pypa.io/warnings/venv\u001b[0m\u001b[33m\n",
      "\u001b[0mRequirement already satisfied: numexpr in /opt/conda/lib/python3.10/site-packages (2.8.3)\n",
      "Collecting numexpr\n",
      "  Downloading numexpr-2.9.0-cp310-cp310-manylinux_2_17_x86_64.manylinux2014_x86_64.whl.metadata (7.9 kB)\n",
      "Requirement already satisfied: bottleneck in /opt/conda/lib/python3.10/site-packages (1.3.5)\n",
      "Collecting bottleneck\n",
      "  Downloading Bottleneck-1.3.7-cp310-cp310-manylinux_2_5_x86_64.manylinux1_x86_64.manylinux_2_17_x86_64.manylinux2014_x86_64.whl (354 kB)\n",
      "\u001b[2K     \u001b[90m━━━━━━━━━━━━━━━━━━━━━━━━━━━━━━━━━━━━━━━\u001b[0m \u001b[32m354.0/354.0 kB\u001b[0m \u001b[31m3.4 MB/s\u001b[0m eta \u001b[36m0:00:00\u001b[0m00:01\u001b[0m\n",
      "\u001b[?25hRequirement already satisfied: numpy>=1.13.3 in /opt/conda/lib/python3.10/site-packages (from numexpr) (1.26.2)\n",
      "Downloading numexpr-2.9.0-cp310-cp310-manylinux_2_17_x86_64.manylinux2014_x86_64.whl (375 kB)\n",
      "\u001b[2K   \u001b[90m━━━━━━━━━━━━━━━━━━━━━━━━━━━━━━━━━━━━━━━━\u001b[0m \u001b[32m375.2/375.2 kB\u001b[0m \u001b[31m4.7 MB/s\u001b[0m eta \u001b[36m0:00:00\u001b[0m:00:01\u001b[0m\n",
      "\u001b[?25hInstalling collected packages: numexpr, bottleneck\n",
      "  Attempting uninstall: numexpr\n",
      "    Found existing installation: numexpr 2.8.3\n",
      "    Uninstalling numexpr-2.8.3:\n",
      "      Successfully uninstalled numexpr-2.8.3\n",
      "  Attempting uninstall: bottleneck\n",
      "    Found existing installation: Bottleneck 1.3.5\n",
      "    Uninstalling Bottleneck-1.3.5:\n",
      "      Successfully uninstalled Bottleneck-1.3.5\n",
      "Successfully installed bottleneck-1.3.7 numexpr-2.9.0\n",
      "\u001b[33mWARNING: Running pip as the 'root' user can result in broken permissions and conflicting behaviour with the system package manager. It is recommended to use a virtual environment instead: https://pip.pypa.io/warnings/venv\u001b[0m\u001b[33m\n",
      "\u001b[0m"
     ]
    }
   ],
   "source": [
    "!pip install -qU pip\n",
    "!pip install --upgrade seaborn pandas pyathena\n",
    "!pip install --upgrade numexpr bottleneck"
   ]
  },
  {
   "cell_type": "code",
   "execution_count": 9,
   "id": "9254a0c4-5684-4dea-a618-43d3650af0e4",
   "metadata": {
    "tags": []
   },
   "outputs": [],
   "source": [
    "import boto3\n",
    "from pyathena import connect\n",
    "import csv\n",
    "\n",
    "import pandas as pd\n",
    "import io\n",
    "\n",
    "import matplotlib.pyplot as plt\n",
    "import seaborn as sns\n",
    "from sklearn.model_selection import train_test_split"
   ]
  },
  {
   "cell_type": "code",
   "execution_count": 5,
   "id": "81fd17c2-65b0-4df5-858b-1c25e5172b2d",
   "metadata": {
    "tags": []
   },
   "outputs": [],
   "source": [
    "s3 = boto3.client('s3')"
   ]
  },
  {
   "cell_type": "code",
   "execution_count": 13,
   "id": "64866d18-0910-412a-b03f-e0c92818e4f6",
   "metadata": {
    "tags": []
   },
   "outputs": [
    {
     "name": "stdout",
     "output_type": "stream",
     "text": [
      "athena/results/05d175b5-0fc9-4f48-b944-2224d9cbcff7.txt\n",
      "athena/results/0ab3f146-93e1-4299-b0bd-6c77a24234ac.txt\n",
      "athena/results/0b33ffeb-2cef-4edd-868e-a4b9370ce4e3.txt\n",
      "athena/results/0d908d57-ee7c-4463-b20d-1b10190e01ef.txt\n",
      "athena/results/0d908d57-ee7c-4463-b20d-1b10190e01ef.txt.metadata\n",
      "athena/results/17504ef3-8a9d-4085-b961-b717f24fc584.csv\n",
      "athena/results/17504ef3-8a9d-4085-b961-b717f24fc584.csv.metadata\n",
      "athena/results/17751a9d-3ca6-420c-a064-b7361148d418.txt\n",
      "athena/results/185c46ac-3ebe-45ef-af2a-ffa4c707a07d.csv\n",
      "athena/results/185c46ac-3ebe-45ef-af2a-ffa4c707a07d.csv.metadata\n",
      "athena/results/18d2b3ab-d91f-4f62-9e1b-164c7daf2997.csv\n",
      "athena/results/18d2b3ab-d91f-4f62-9e1b-164c7daf2997.csv.metadata\n",
      "athena/results/1eacba0b-882b-437b-95d1-4d9fce43a185.csv\n",
      "athena/results/1eacba0b-882b-437b-95d1-4d9fce43a185.csv.metadata\n",
      "athena/results/1f04672e-c18e-4875-a03c-ec3c35dc9a4e.txt\n",
      "athena/results/214fd6f2-b77a-43f9-b997-deba4b464eba.txt\n",
      "athena/results/30fea615-80ab-4e43-9a51-84c60a92a47c.txt\n",
      "athena/results/30fea615-80ab-4e43-9a51-84c60a92a47c.txt.metadata\n",
      "athena/results/3dda9df3-aa7c-46da-a35d-31ebce76c88e.txt\n",
      "athena/results/3ec0a8b1-36f5-4f72-bdce-0d99c3fae8ef.txt\n",
      "athena/results/3ec0a8b1-36f5-4f72-bdce-0d99c3fae8ef.txt.metadata\n",
      "athena/results/402acf53-b950-4a63-ba9d-18017946a85b.csv\n",
      "athena/results/402acf53-b950-4a63-ba9d-18017946a85b.csv.metadata\n",
      "athena/results/479a5167-7b96-44a9-aa19-cbbceb5133e7.txt\n",
      "athena/results/47e50651-ecd6-4194-bcdb-b65025f64829.txt\n",
      "athena/results/4fee7840-3af4-422c-a022-37b9218582c8.txt\n",
      "athena/results/51646af8-04ac-4e59-b6d9-c0f859aa7a8f.csv\n",
      "athena/results/51646af8-04ac-4e59-b6d9-c0f859aa7a8f.csv.metadata\n",
      "athena/results/5aa63d31-7a59-4db3-9d8c-705e6a19de04.csv\n",
      "athena/results/5aa63d31-7a59-4db3-9d8c-705e6a19de04.csv.metadata\n",
      "athena/results/661fb6a8-21db-4df7-b72e-dc6c1d10ee96.txt\n",
      "athena/results/6774c0f9-3727-41e9-80a6-1f803deb5d9b.txt\n",
      "athena/results/6baf1b51-bda7-4bc5-9be0-f119932d46ad.csv\n",
      "athena/results/6baf1b51-bda7-4bc5-9be0-f119932d46ad.csv.metadata\n",
      "athena/results/6d2ce3cb-d129-41cc-8cf2-7495a2b9086b.txt\n",
      "athena/results/6faef45d-8097-4f0f-8048-e527ec4ffdf2.csv\n",
      "athena/results/6faef45d-8097-4f0f-8048-e527ec4ffdf2.csv.metadata\n",
      "athena/results/7132e336-dec7-4cbc-9b17-ec57dd9b1087.csv\n",
      "athena/results/7132e336-dec7-4cbc-9b17-ec57dd9b1087.csv.metadata\n",
      "athena/results/8bfcb4a9-73a4-495b-ba5d-be49f42a3c3d.csv\n",
      "athena/results/8bfcb4a9-73a4-495b-ba5d-be49f42a3c3d.csv.metadata\n",
      "athena/results/8f995a53-4d19-4ac9-a1c9-2a94a32246a1.txt\n",
      "athena/results/8f995a53-4d19-4ac9-a1c9-2a94a32246a1.txt.metadata\n",
      "athena/results/a0d92e48-f9c5-48b0-8488-ebeb6f8b93ad.txt\n",
      "athena/results/a60f3bf7-3f05-4f27-977d-8b594f9dcb1d.csv\n",
      "athena/results/a60f3bf7-3f05-4f27-977d-8b594f9dcb1d.csv.metadata\n",
      "athena/results/b65299be-f0d5-4f2d-af0e-43afe5e43ce9.txt\n",
      "athena/results/ba9b960c-171f-4689-99c0-324f3f5b2932.txt\n",
      "athena/results/c020fc88-c3b1-48c0-9ade-85cd403075d9.txt\n",
      "athena/results/c15d8725-fb2f-4fb7-9735-55f4036a2552.txt\n",
      "athena/results/c6e841f1-994f-49f7-b9ee-f9fc11cf0f0b.csv\n",
      "athena/results/c6e841f1-994f-49f7-b9ee-f9fc11cf0f0b.csv.metadata\n",
      "athena/results/cc786df1-65b2-4758-9e4f-0768c441de94.txt\n",
      "athena/results/ce86fab5-4c62-4eb7-b79b-12fe2c801283.txt\n",
      "athena/results/d068049d-b24d-4f47-ad87-57f1142cb74e.csv\n",
      "athena/results/d068049d-b24d-4f47-ad87-57f1142cb74e.csv.metadata\n",
      "athena/results/deb67a2d-584b-420a-b8f3-6f4c6774d957.txt\n",
      "athena/results/eb456fb7-9b59-45f8-b86a-5266e7423217.txt\n",
      "athena/results/edc3d8fd-29c3-435f-aaf8-fa9cf3271cd2.csv\n",
      "athena/results/edc3d8fd-29c3-435f-aaf8-fa9cf3271cd2.csv.metadata\n",
      "athena/results/f402e073-187c-4c31-9926-7f1c53fd3da4.txt\n",
      "athena/results/f421a7db-1308-4f06-be80-36d122ae4217.txt\n",
      "athena/results/f6a5de40-d2c5-4656-8dc2-010d9eec0c0b.csv\n",
      "athena/results/f6a5de40-d2c5-4656-8dc2-010d9eec0c0b.csv.metadata\n",
      "athena/results/f743a473-e9a8-42d5-b6ad-c8afc97cb1dd.txt\n",
      "data/dev.tsv\n",
      "data/emotions.txt\n",
      "data/goemotions_1.csv\n",
      "data/goemotions_2.csv\n",
      "data/goemotions_3.csv\n",
      "data/pre_processed_data.tsv\n",
      "data/test.tsv\n",
      "data/train.tsv\n",
      "full-dataset/preprocessed_goemotions_1.tsv\n",
      "full-dataset/preprocessed_goemotions_2.tsv\n",
      "full-dataset/preprocessed_goemotions_3.tsv\n"
     ]
    }
   ],
   "source": [
    "bucket_name = 'aai-540-final-data'\n",
    "response = s3.list_objects_v2(Bucket=bucket_name)\n",
    "for obj in response['Contents']:\n",
    "    print(obj['Key'])"
   ]
  },
  {
   "cell_type": "code",
   "execution_count": 14,
   "id": "5db255af-3baa-4093-a9f7-1d890d729100",
   "metadata": {
    "tags": []
   },
   "outputs": [],
   "source": [
    "first_data_obj = s3.get_object(Bucket=bucket_name, Key='data/goemotions_1.csv')\n",
    "second_data_obj = s3.get_object(Bucket=bucket_name, Key='data/goemotions_2.csv')\n",
    "third_data_obj = s3.get_object(Bucket=bucket_name, Key='data/goemotions_3.csv')\n",
    "df_1 = pd.read_csv(io.BytesIO(first_data_obj['Body'].read()))\n",
    "df_2 = pd.read_csv(io.BytesIO(second_data_obj['Body'].read()))\n",
    "df_3 = pd.read_csv(io.BytesIO(third_data_obj['Body'].read()))"
   ]
  },
  {
   "cell_type": "code",
   "execution_count": 10,
   "id": "886995f4-7618-4896-8da4-8ea96895e547",
   "metadata": {
    "tags": []
   },
   "outputs": [],
   "source": [
    "dfs = [df_1, df_2, df_3]\n",
    "\n",
    "for i, df in enumerate(dfs):\n",
    "    local_file_path = f'/tmp/goemotions_{i + 1}.csv'\n",
    "    s3_file_path = f'full-dataset/preprocessed_goemotions_{i + 1}.tsv'\n",
    "\n",
    "    # Save to CSV without extra quoting\n",
    "    df.to_csv(local_file_path, sep='\\t', index=False)\n",
    "\n",
    "    # Upload to S3\n",
    "    s3.upload_file(local_file_path, bucket_name, s3_file_path)"
   ]
  },
  {
   "cell_type": "code",
   "execution_count": 11,
   "id": "39cc3077-cec7-40ea-9117-69a952185e04",
   "metadata": {
    "tags": []
   },
   "outputs": [],
   "source": [
    "region = 'us-west-2'\n",
    "conn = connect(s3_staging_dir=f\"s3://{bucket_name}/athena/results\", region_name=region)"
   ]
  },
  {
   "cell_type": "code",
   "execution_count": 12,
   "id": "e437c798-5ad7-4430-b0ea-07442a7f6e46",
   "metadata": {
    "ExecuteTime": {
     "end_time": "2024-01-16T23:25:52.104108Z",
     "start_time": "2024-01-16T23:25:52.097151Z"
    },
    "tags": []
   },
   "outputs": [
    {
     "data": {
      "text/plain": [
       "<pyathena.cursor.Cursor at 0x7fccc250a770>"
      ]
     },
     "execution_count": 12,
     "metadata": {},
     "output_type": "execute_result"
    }
   ],
   "source": [
    "database_name = 'emotions_database'\n",
    "cursor = conn.cursor()\n",
    "statement = f\"CREATE DATABASE IF NOT EXISTS {database_name}\"\n",
    "cursor.execute(statement)"
   ]
  },
  {
   "cell_type": "code",
   "execution_count": 15,
   "id": "74385acf-43de-4fe9-9f01-7f934ed7f0ec",
   "metadata": {
    "tags": []
   },
   "outputs": [
    {
     "name": "stdout",
     "output_type": "stream",
     "text": [
      "Database: emotions_database, Table: emotions_table\n",
      "Table created successfully.\n"
     ]
    }
   ],
   "source": [
    "table_name = 'emotions_table'\n",
    "create_table_query = f\"\"\"\n",
    "CREATE EXTERNAL TABLE IF NOT EXISTS {database_name}.{table_name} (\n",
    "    text string,\n",
    "    id string,\n",
    "    author string,\n",
    "    subreddit string,\n",
    "    link_id string,\n",
    "    parent_id string,\n",
    "    created_utc bigint,\n",
    "    rater_id int,\n",
    "    example_very_unclear boolean,\n",
    "    admiration int,\n",
    "    amusement int,\n",
    "    anger int,\n",
    "    annoyance int,\n",
    "    approval int,\n",
    "    caring int,\n",
    "    confusion int,\n",
    "    curiosity int,\n",
    "    desire int,\n",
    "    disappointment int,\n",
    "    disapproval int,\n",
    "    disgust int,\n",
    "    embarrassment int,\n",
    "    excitement int,\n",
    "    fear int,\n",
    "    gratitude int,\n",
    "    grief int,\n",
    "    joy int,\n",
    "    love int,\n",
    "    nervousness int,\n",
    "    optimism int,\n",
    "    pride int,\n",
    "    realization int,\n",
    "    relief int,\n",
    "    remorse int,\n",
    "    sadness int,\n",
    "    surprise int,\n",
    "    neutral int\n",
    ")\n",
    "ROW FORMAT DELIMITED FIELDS TERMINATED BY '\\t'\n",
    "LINES TERMINATED BY '\\n'\n",
    "LOCATION 's3://{bucket_name}/full-dataset'\n",
    "TBLPROPERTIES ('skip.header.line.count'='1');\n",
    "\"\"\"\n",
    "\n",
    "try:\n",
    "    # Print the database and table names\n",
    "    print(f\"Database: {database_name}, Table: {table_name}\")\n",
    "\n",
    "    # Execute the create table query\n",
    "    cursor.execute(create_table_query)\n",
    "    print(\"Table created successfully.\")\n",
    "except Exception as e:\n",
    "    print(\"Error creating table:\", e)"
   ]
  },
  {
   "cell_type": "code",
   "execution_count": 107,
   "id": "c1319e3c-68aa-4d09-baa8-2c6e39edb622",
   "metadata": {
    "tags": []
   },
   "outputs": [
    {
     "data": {
      "text/plain": [
       "<pyathena.cursor.Cursor at 0x7f39f2418640>"
      ]
     },
     "execution_count": 107,
     "metadata": {},
     "output_type": "execute_result"
    }
   ],
   "source": [
    "drop_table = f\"DROP TABLE IF EXISTS {database_name}.{table_name};\"\n",
    "cursor.execute(drop_table)"
   ]
  },
  {
   "cell_type": "code",
   "execution_count": 16,
   "id": "ec7b49e0-1b0a-4a67-bf3a-1afa42fbf691",
   "metadata": {
    "tags": []
   },
   "outputs": [
    {
     "name": "stderr",
     "output_type": "stream",
     "text": [
      "/tmp/ipykernel_84/1029288951.py:74: UserWarning: pandas only supports SQLAlchemy connectable (engine/connection) or database string URI or sqlite3 DBAPI2 connection. Other DBAPI2 objects are not tested. Please consider using SQLAlchemy.\n",
      "  df_filtered = pd.read_sql(COMPARE_RATERS, conn)\n"
     ]
    },
    {
     "data": {
      "text/html": [
       "<div>\n",
       "<style scoped>\n",
       "    .dataframe tbody tr th:only-of-type {\n",
       "        vertical-align: middle;\n",
       "    }\n",
       "\n",
       "    .dataframe tbody tr th {\n",
       "        vertical-align: top;\n",
       "    }\n",
       "\n",
       "    .dataframe thead th {\n",
       "        text-align: right;\n",
       "    }\n",
       "</style>\n",
       "<table border=\"1\" class=\"dataframe\">\n",
       "  <thead>\n",
       "    <tr style=\"text-align: right;\">\n",
       "      <th></th>\n",
       "      <th>id</th>\n",
       "      <th>_col1</th>\n",
       "      <th>_col2</th>\n",
       "      <th>_col3</th>\n",
       "      <th>_col4</th>\n",
       "      <th>_col5</th>\n",
       "      <th>_col6</th>\n",
       "      <th>_col7</th>\n",
       "      <th>_col8</th>\n",
       "      <th>_col9</th>\n",
       "      <th>...</th>\n",
       "      <th>_col19</th>\n",
       "      <th>_col20</th>\n",
       "      <th>_col21</th>\n",
       "      <th>_col22</th>\n",
       "      <th>_col23</th>\n",
       "      <th>_col24</th>\n",
       "      <th>_col25</th>\n",
       "      <th>_col26</th>\n",
       "      <th>_col27</th>\n",
       "      <th>_col28</th>\n",
       "    </tr>\n",
       "  </thead>\n",
       "  <tbody>\n",
       "    <tr>\n",
       "      <th>0</th>\n",
       "      <td>eebl3z7</td>\n",
       "      <td>0</td>\n",
       "      <td>0</td>\n",
       "      <td>2</td>\n",
       "      <td>0</td>\n",
       "      <td>0</td>\n",
       "      <td>0</td>\n",
       "      <td>0</td>\n",
       "      <td>0</td>\n",
       "      <td>0</td>\n",
       "      <td>...</td>\n",
       "      <td>0</td>\n",
       "      <td>0</td>\n",
       "      <td>0</td>\n",
       "      <td>0</td>\n",
       "      <td>1</td>\n",
       "      <td>0</td>\n",
       "      <td>0</td>\n",
       "      <td>0</td>\n",
       "      <td>0</td>\n",
       "      <td>0</td>\n",
       "    </tr>\n",
       "    <tr>\n",
       "      <th>1</th>\n",
       "      <td>edjldcm</td>\n",
       "      <td>0</td>\n",
       "      <td>0</td>\n",
       "      <td>0</td>\n",
       "      <td>0</td>\n",
       "      <td>0</td>\n",
       "      <td>0</td>\n",
       "      <td>0</td>\n",
       "      <td>3</td>\n",
       "      <td>0</td>\n",
       "      <td>...</td>\n",
       "      <td>0</td>\n",
       "      <td>0</td>\n",
       "      <td>0</td>\n",
       "      <td>0</td>\n",
       "      <td>0</td>\n",
       "      <td>0</td>\n",
       "      <td>0</td>\n",
       "      <td>0</td>\n",
       "      <td>0</td>\n",
       "      <td>0</td>\n",
       "    </tr>\n",
       "    <tr>\n",
       "      <th>2</th>\n",
       "      <td>ee7j34k</td>\n",
       "      <td>0</td>\n",
       "      <td>0</td>\n",
       "      <td>0</td>\n",
       "      <td>0</td>\n",
       "      <td>0</td>\n",
       "      <td>0</td>\n",
       "      <td>0</td>\n",
       "      <td>0</td>\n",
       "      <td>0</td>\n",
       "      <td>...</td>\n",
       "      <td>0</td>\n",
       "      <td>0</td>\n",
       "      <td>0</td>\n",
       "      <td>0</td>\n",
       "      <td>0</td>\n",
       "      <td>0</td>\n",
       "      <td>0</td>\n",
       "      <td>2</td>\n",
       "      <td>0</td>\n",
       "      <td>1</td>\n",
       "    </tr>\n",
       "    <tr>\n",
       "      <th>3</th>\n",
       "      <td>edoz8qt</td>\n",
       "      <td>0</td>\n",
       "      <td>0</td>\n",
       "      <td>0</td>\n",
       "      <td>1</td>\n",
       "      <td>0</td>\n",
       "      <td>0</td>\n",
       "      <td>1</td>\n",
       "      <td>0</td>\n",
       "      <td>0</td>\n",
       "      <td>...</td>\n",
       "      <td>0</td>\n",
       "      <td>0</td>\n",
       "      <td>0</td>\n",
       "      <td>0</td>\n",
       "      <td>0</td>\n",
       "      <td>0</td>\n",
       "      <td>0</td>\n",
       "      <td>0</td>\n",
       "      <td>0</td>\n",
       "      <td>2</td>\n",
       "    </tr>\n",
       "    <tr>\n",
       "      <th>4</th>\n",
       "      <td>edo8t8y</td>\n",
       "      <td>0</td>\n",
       "      <td>0</td>\n",
       "      <td>0</td>\n",
       "      <td>1</td>\n",
       "      <td>0</td>\n",
       "      <td>1</td>\n",
       "      <td>0</td>\n",
       "      <td>0</td>\n",
       "      <td>0</td>\n",
       "      <td>...</td>\n",
       "      <td>0</td>\n",
       "      <td>2</td>\n",
       "      <td>0</td>\n",
       "      <td>0</td>\n",
       "      <td>0</td>\n",
       "      <td>0</td>\n",
       "      <td>0</td>\n",
       "      <td>0</td>\n",
       "      <td>0</td>\n",
       "      <td>0</td>\n",
       "    </tr>\n",
       "  </tbody>\n",
       "</table>\n",
       "<p>5 rows × 29 columns</p>\n",
       "</div>"
      ],
      "text/plain": [
       "        id  _col1  _col2  _col3  _col4  _col5  _col6  _col7  _col8  _col9  \\\n",
       "0  eebl3z7      0      0      2      0      0      0      0      0      0   \n",
       "1  edjldcm      0      0      0      0      0      0      0      3      0   \n",
       "2  ee7j34k      0      0      0      0      0      0      0      0      0   \n",
       "3  edoz8qt      0      0      0      1      0      0      1      0      0   \n",
       "4  edo8t8y      0      0      0      1      0      1      0      0      0   \n",
       "\n",
       "   ...  _col19  _col20  _col21  _col22  _col23  _col24  _col25  _col26  \\\n",
       "0  ...       0       0       0       0       1       0       0       0   \n",
       "1  ...       0       0       0       0       0       0       0       0   \n",
       "2  ...       0       0       0       0       0       0       0       2   \n",
       "3  ...       0       0       0       0       0       0       0       0   \n",
       "4  ...       0       2       0       0       0       0       0       0   \n",
       "\n",
       "   _col27  _col28  \n",
       "0       0       0  \n",
       "1       0       0  \n",
       "2       0       1  \n",
       "3       0       2  \n",
       "4       0       0  \n",
       "\n",
       "[5 rows x 29 columns]"
      ]
     },
     "execution_count": 16,
     "metadata": {},
     "output_type": "execute_result"
    }
   ],
   "source": [
    "COMPARE_RATERS = f\"\"\"\n",
    "SELECT id,\n",
    "SUM(admiration),\n",
    "SUM(amusement),\n",
    "SUM(anger),\n",
    "SUM(annoyance),\n",
    "SUM(approval),\n",
    "SUM(caring),\n",
    "SUM(confusion),\n",
    "SUM(curiosity),\n",
    "SUM(desire),\n",
    "SUM(disappointment),\n",
    "SUM(disapproval),\n",
    "SUM(disgust),\n",
    "SUM(embarrassment),\n",
    "SUM(excitement),\n",
    "SUM(fear),\n",
    "SUM(gratitude),\n",
    "SUM(grief),\n",
    "SUM(joy),\n",
    "SUM(love),\n",
    "SUM(nervousness),\n",
    "SUM(optimism),\n",
    "SUM(pride),\n",
    "SUM(realization),\n",
    "SUM(relief),\n",
    "SUM(remorse),\n",
    "SUM(sadness),\n",
    "SUM(surprise),\n",
    "SUM(neutral)\n",
    "FROM {database_name}.{table_name}\n",
    "GROUP BY id\n",
    "HAVING SUM(admiration) > 1 OR\n",
    "       SUM(amusement) > 1 OR\n",
    "       SUM(anger) > 1 OR\n",
    "       SUM(annoyance) > 1 OR\n",
    "       SUM(approval) > 1 OR\n",
    "       SUM(caring) > 1 OR\n",
    "       SUM(confusion) > 1 OR\n",
    "       SUM(curiosity) > 1 OR\n",
    "       SUM(desire) > 1 OR\n",
    "       SUM(disappointment) > 1 OR\n",
    "       SUM(disapproval) > 1 OR\n",
    "       SUM(disgust) > 1 OR\n",
    "       SUM(embarrassment) > 1 OR\n",
    "       SUM(excitement) > 1 OR\n",
    "       SUM(fear) > 1 OR\n",
    "       SUM(gratitude) > 1 OR\n",
    "       SUM(grief) > 1 OR\n",
    "       SUM(joy) > 1 OR\n",
    "       SUM(love) > 1 OR\n",
    "       SUM(nervousness) > 1 OR\n",
    "       SUM(optimism) > 1 OR\n",
    "       SUM(pride) > 1 OR\n",
    "       SUM(realization) > 1 OR\n",
    "       SUM(relief) > 1 OR\n",
    "       SUM(remorse) > 1 OR\n",
    "       SUM(sadness) > 1 OR\n",
    "       SUM(surprise) > 1 OR\n",
    "       SUM(neutral) > 1\n",
    "\"\"\"\n",
    "\n",
    "test = f\"\"\"\n",
    "SELECT *\n",
    "FROM {database_name}.{table_name}\n",
    "LIMIT 10;\n",
    "\"\"\"\n",
    "\n",
    "test2 = f\"\"\"\n",
    "SELECT admiration \n",
    "FROM {database_name}.{table_name}\n",
    "WHERE TRY_CAST(admiration AS INTEGER) IS NULL;\n",
    "\"\"\"\n",
    "df_filtered = pd.read_sql(COMPARE_RATERS, conn)\n",
    "df_filtered.head()"
   ]
  },
  {
   "cell_type": "code",
   "execution_count": 17,
   "id": "a651a5df-838d-40cf-8e6d-8fa3e514485b",
   "metadata": {
    "tags": []
   },
   "outputs": [
    {
     "data": {
      "text/plain": [
       "54263"
      ]
     },
     "execution_count": 17,
     "metadata": {},
     "output_type": "execute_result"
    }
   ],
   "source": [
    "len(df_filtered)"
   ]
  },
  {
   "cell_type": "code",
   "execution_count": 18,
   "id": "ccf48afa-0867-43a6-88b3-8406e987d83a",
   "metadata": {
    "tags": []
   },
   "outputs": [],
   "source": [
    "df_full = pd.concat([df_1, df_2, df_3])"
   ]
  },
  {
   "cell_type": "code",
   "execution_count": 19,
   "id": "150620b4-f6db-4989-88ef-06c947d6e273",
   "metadata": {
    "tags": []
   },
   "outputs": [
    {
     "data": {
      "text/html": [
       "<div>\n",
       "<style scoped>\n",
       "    .dataframe tbody tr th:only-of-type {\n",
       "        vertical-align: middle;\n",
       "    }\n",
       "\n",
       "    .dataframe tbody tr th {\n",
       "        vertical-align: top;\n",
       "    }\n",
       "\n",
       "    .dataframe thead th {\n",
       "        text-align: right;\n",
       "    }\n",
       "</style>\n",
       "<table border=\"1\" class=\"dataframe\">\n",
       "  <thead>\n",
       "    <tr style=\"text-align: right;\">\n",
       "      <th></th>\n",
       "      <th>text</th>\n",
       "      <th>emotions</th>\n",
       "      <th>id</th>\n",
       "    </tr>\n",
       "  </thead>\n",
       "  <tbody>\n",
       "    <tr>\n",
       "      <th>0</th>\n",
       "      <td>Shhh don't give them the idea!</td>\n",
       "      <td>[2]</td>\n",
       "      <td>eebl3z7</td>\n",
       "    </tr>\n",
       "    <tr>\n",
       "      <th>1</th>\n",
       "      <td>Is this real? 🤔</td>\n",
       "      <td>[7]</td>\n",
       "      <td>edjldcm</td>\n",
       "    </tr>\n",
       "    <tr>\n",
       "      <th>2</th>\n",
       "      <td>My favorite pod when they are fresh &amp; clear. S...</td>\n",
       "      <td>[9, 25]</td>\n",
       "      <td>ee7j34k</td>\n",
       "    </tr>\n",
       "    <tr>\n",
       "      <th>3</th>\n",
       "      <td>Forgot what it's like to actually not dislike ...</td>\n",
       "      <td>[27]</td>\n",
       "      <td>edoz8qt</td>\n",
       "    </tr>\n",
       "    <tr>\n",
       "      <th>4</th>\n",
       "      <td>I’m more worried about the dude getting pissed...</td>\n",
       "      <td>[19]</td>\n",
       "      <td>edo8t8y</td>\n",
       "    </tr>\n",
       "  </tbody>\n",
       "</table>\n",
       "</div>"
      ],
      "text/plain": [
       "                                                text emotions       id\n",
       "0                     Shhh don't give them the idea!      [2]  eebl3z7\n",
       "1                                    Is this real? 🤔      [7]  edjldcm\n",
       "2  My favorite pod when they are fresh & clear. S...  [9, 25]  ee7j34k\n",
       "3  Forgot what it's like to actually not dislike ...     [27]  edoz8qt\n",
       "4  I’m more worried about the dude getting pissed...     [19]  edo8t8y"
      ]
     },
     "execution_count": 19,
     "metadata": {},
     "output_type": "execute_result"
    }
   ],
   "source": [
    "# Create a dictionary from df_full for fast lookup\n",
    "id_text_dict = pd.Series(df_full['text'].values, index=df_full['id']).to_dict()\n",
    "\n",
    "rows = []\n",
    "\n",
    "for index, row in df_filtered.iterrows():\n",
    "    emotions = [int(col.replace('_col', '')) - 1 for col in df_filtered.columns if col != 'id' and row[col] > 1]\n",
    "    # Use the dictionary for fast lookup\n",
    "    text = id_text_dict.get(row['id'], '')\n",
    "    rows.append({'text': text, 'emotions': emotions, 'id': row['id']})\n",
    "\n",
    "final_df = pd.DataFrame(rows)\n",
    "final_df.head()        "
   ]
  },
  {
   "cell_type": "code",
   "execution_count": 20,
   "id": "2d180b80-c3ef-4324-b0cb-7cc8e3f590e8",
   "metadata": {
    "tags": []
   },
   "outputs": [],
   "source": [
    "final_df['emotions'] = final_df['emotions'].apply(lambda x: x[0] if x else None)"
   ]
  },
  {
   "cell_type": "code",
   "execution_count": 119,
   "id": "38203e40-e91c-4886-a76c-d166aa914053",
   "metadata": {
    "tags": []
   },
   "outputs": [],
   "source": [
    "local_path = 'data/pre_processed_data.tsv'\n",
    "final_df.to_csv(local_path, sep='\\t', index=False)\n",
    "\n",
    "# Upload to S3\n",
    "s3.upload_file(local_path, bucket_name, local_path)"
   ]
  },
  {
   "cell_type": "code",
   "execution_count": 125,
   "id": "08e54b6c-2fc3-4281-bf1d-9782ab81ccc2",
   "metadata": {
    "ExecuteTime": {
     "end_time": "2024-01-16T23:25:48.496845Z",
     "start_time": "2024-01-16T23:25:48.492129Z"
    },
    "tags": []
   },
   "outputs": [],
   "source": [
    "# split into train, text, val\n",
    "X = final_df.drop('emotions', axis=1)\n",
    "y = final_df['emotions']\n",
    "\n",
    "# Split the data into training and test sets\n",
    "df_train, df_test, y_train, y_test = train_test_split(X, y, test_size=0.1, random_state=42)\n",
    "\n",
    "# Further split the training set into training and validation sets\n",
    "df_train, df_val, y_train, y_val = train_test_split(df_train, y_train, test_size=0.125, random_state=42)"
   ]
  },
  {
   "cell_type": "code",
   "execution_count": 126,
   "id": "03822b2b-a45e-4065-a7c2-7601d8bc0769",
   "metadata": {
    "tags": []
   },
   "outputs": [
    {
     "name": "stdout",
     "output_type": "stream",
     "text": [
      "Train length: 42731, test length: 5427, val length: 6105\n"
     ]
    }
   ],
   "source": [
    "print(f'Train length: {len(df_train)}, test length: {len(df_test)}, val length: {len(df_val)}')"
   ]
  },
  {
   "cell_type": "code",
   "execution_count": 127,
   "id": "d59655f6b0d66f7f",
   "metadata": {
    "ExecuteTime": {
     "end_time": "2024-01-16T23:37:16.220735Z",
     "start_time": "2024-01-16T23:37:16.136898Z"
    },
    "collapsed": false,
    "jupyter": {
     "outputs_hidden": false
    },
    "tags": []
   },
   "outputs": [
    {
     "name": "stdout",
     "output_type": "stream",
     "text": [
      "Word Count:  count    42731.000000\n",
      "mean        12.837027\n",
      "std          6.713001\n",
      "min          1.000000\n",
      "25%          7.000000\n",
      "50%         12.000000\n",
      "75%         18.000000\n",
      "max         32.000000\n",
      "Name: text, dtype: float64\n",
      "Character Count:  count    42731.000000\n",
      "mean        68.354075\n",
      "std         36.688322\n",
      "min          2.000000\n",
      "25%         38.000000\n",
      "50%         65.000000\n",
      "75%         96.000000\n",
      "max        542.000000\n",
      "Name: text, dtype: float64\n",
      "Average Word Length:  count    42731.000000\n",
      "mean         4.470755\n",
      "std          0.919942\n",
      "min          1.000000\n",
      "25%          3.947368\n",
      "50%          4.352941\n",
      "75%          4.850000\n",
      "max         48.000000\n",
      "Name: text, dtype: float64\n",
      "Most Frequent Words:  the       15989\n",
      "I         14631\n",
      "a         11919\n",
      "to        11919\n",
      "and        8136\n",
      "is         7708\n",
      "you        6953\n",
      "of         6875\n",
      "that       6173\n",
      "[NAME]     5681\n",
      "for        5456\n",
      "in         5424\n",
      "it         5064\n",
      "this       4198\n",
      "was        3669\n",
      "be         3290\n",
      "on         3268\n",
      "my         3102\n",
      "have       3084\n",
      "like       3001\n",
      "Name: count, dtype: int64\n"
     ]
    }
   ],
   "source": [
    "# initial data exploration\n",
    "\n",
    "# Calculating text length in terms of words and characters\n",
    "word_count = df_train['text'].apply(lambda x: len(str(x).split()))\n",
    "char_count = df_train['text'].apply(lambda x: len(str(x)))\n",
    "\n",
    "# Calculating the average word length\n",
    "def avg_word(sentence):\n",
    "    words = sentence.split()\n",
    "    return sum(len(word) for word in words)/len(words)\n",
    "\n",
    "avg_word_len = df_train['text'].apply(lambda x: avg_word(x))\n",
    "\n",
    "# Word frequency\n",
    "freq = pd.Series(' '.join(df_train['text']).split()).value_counts()[:20]\n",
    "\n",
    "# Display basic statistics and the most frequent words\n",
    "print('Word Count: ', word_count.describe())\n",
    "print('Character Count: ', char_count.describe())\n",
    "print('Average Word Length: ', avg_word_len.describe())\n",
    "print('Most Frequent Words: ', freq)"
   ]
  },
  {
   "cell_type": "code",
   "execution_count": 142,
   "id": "46b562fe-1e97-4fe1-8880-bff77c5be73f",
   "metadata": {
    "tags": []
   },
   "outputs": [
    {
     "data": {
      "text/plain": [
       "emotions\n",
       "28    12502\n",
       "1      4059\n",
       "5      2595\n",
       "2      2186\n",
       "16     2115\n",
       "4      2106\n",
       "8      1735\n",
       "11     1699\n",
       "3      1556\n",
       "19     1481\n",
       "7      1222\n",
       "10     1030\n",
       "18      980\n",
       "21      969\n",
       "6       941\n",
       "26      856\n",
       "27      745\n",
       "23      708\n",
       "14      675\n",
       "12      578\n",
       "15      532\n",
       "9       532\n",
       "25      389\n",
       "13      234\n",
       "20       98\n",
       "24       86\n",
       "17       63\n",
       "22       59\n",
       "Name: count, dtype: int64"
      ]
     },
     "execution_count": 142,
     "metadata": {},
     "output_type": "execute_result"
    }
   ],
   "source": [
    "y_train.value_counts()"
   ]
  },
  {
   "cell_type": "code",
   "execution_count": 28,
   "id": "2bb40db3-1900-4ce5-95ee-ee4b2a138fba",
   "metadata": {
    "tags": []
   },
   "outputs": [],
   "source": [
    "# Loading the file with emotion label names\n",
    "emotion_labels_obj = s3.get_object(Bucket=bucket_name, Key='data/emotions.txt')\n",
    "emotion_labels_data = emotion_labels_obj['Body'].read()\n",
    "\n",
    "# Converting the data from bytes to string and splitting by lines\n",
    "emotion_labels = emotion_labels_data.decode('utf-8').splitlines()"
   ]
  },
  {
   "cell_type": "code",
   "execution_count": 30,
   "id": "e71ea742-bc60-4f7c-a69b-c4c145b8e1b2",
   "metadata": {
    "tags": []
   },
   "outputs": [],
   "source": [
    "# Split emotions column to get count of each emotion individually\n",
    "split_emotions = df_train['emotions'].astype(str).str.split(',')"
   ]
  },
  {
   "cell_type": "code",
   "execution_count": 52,
   "id": "5138ef8b-3a75-44f7-ab95-ebb061c7052c",
   "metadata": {
    "tags": []
   },
   "outputs": [],
   "source": [
    "all_emotions = split_emotions.explode().astype(int)"
   ]
  },
  {
   "cell_type": "code",
   "execution_count": 53,
   "id": "f243f8b2-4c9f-4cdc-b932-738787aac563",
   "metadata": {
    "tags": []
   },
   "outputs": [
    {
     "data": {
      "image/png": "[encoded data removed]",
      "text/plain": [
       "<Figure size 1800x600 with 1 Axes>"
      ]
     },
     "metadata": {},
     "output_type": "display_data"
    }
   ],
   "source": [
    "# Creating a mapping of indices to emotion labels\n",
    "emotion_index_to_label = {index: label for index, label in enumerate(emotion_labels)}\n",
    "\n",
    "# Applying the mapping to the emotions dataset\n",
    "labeled_emotions = all_emotions.map(emotion_index_to_label)\n",
    "\n",
    "# Counting occurrences of each emotion label\n",
    "labeled_emotion_counts = labeled_emotions.value_counts()\n",
    "\n",
    "# Plotting the distribution of emotions with correct labels and data\n",
    "plt.figure(figsize=(18, 6))\n",
    "sns.barplot(x=labeled_emotion_counts.index, y=labeled_emotion_counts.values, hue=labeled_emotion_counts.index, palette=\"viridis\", legend=False)\n",
    "plt.title('Distribution of Emotions with Labels')\n",
    "plt.xlabel('Emotions')\n",
    "plt.ylabel('Frequency')\n",
    "plt.xticks(rotation=90)\n",
    "plt.show()\n"
   ]
  },
  {
   "cell_type": "code",
   "execution_count": 43,
   "id": "5ecc9466-aaa9-4275-b2e2-120d0bd18069",
   "metadata": {
    "tags": []
   },
   "outputs": [
    {
     "data": {
      "image/png": "[encoded data removed]",
      "text/plain": [
       "<Figure size 1800x600 with 1 Axes>"
      ]
     },
     "metadata": {},
     "output_type": "display_data"
    }
   ],
   "source": [
    "# Extracting only the first emotion label from each row\n",
    "first_emotions = df_train['emotions'].astype(str).str.split(',').str[0].astype(int)\n",
    "\n",
    "# Applying the mapping to the emotions dataset\n",
    "labeled_first_emotions = first_emotions.map(emotion_index_to_label)\n",
    "\n",
    "# Counting occurrences of each emotion label\n",
    "labeled_first_emotion_counts = labeled_first_emotions.value_counts()\n",
    "\n",
    "# Plotting the distribution of emotions with correct labels and data\n",
    "plt.figure(figsize=(18, 6))\n",
    "sns.barplot(x=labeled_first_emotion_counts.index, y=labeled_first_emotion_counts.values, hue=labeled_first_emotion_counts.index, palette=\"viridis\", legend=False)\n",
    "plt.title('Distribution of Emotions with Labels')\n",
    "plt.xlabel('Emotions')\n",
    "plt.ylabel('Frequency')\n",
    "plt.xticks(rotation=90)\n",
    "plt.show()"
   ]
  },
  {
   "cell_type": "code",
   "execution_count": 56,
   "id": "4d0f267d-d031-4c55-8604-2e5173d39550",
   "metadata": {
    "tags": []
   },
   "outputs": [
    {
     "data": {
      "text/plain": [
       "emotions\n",
       "neutral           14219\n",
       "admiration         4130\n",
       "approval           2939\n",
       "gratitude          2662\n",
       "annoyance          2470\n",
       "amusement          2328\n",
       "curiosity          2191\n",
       "love               2086\n",
       "disapproval        2022\n",
       "optimism           1581\n",
       "anger              1567\n",
       "joy                1452\n",
       "confusion          1368\n",
       "sadness            1326\n",
       "disappointment     1269\n",
       "realization        1110\n",
       "caring             1087\n",
       "surprise           1060\n",
       "excitement          853\n",
       "disgust             793\n",
       "desire              641\n",
       "fear                596\n",
       "remorse             545\n",
       "embarrassment       303\n",
       "nervousness         164\n",
       "relief              153\n",
       "pride               111\n",
       "grief                77\n",
       "Name: count, dtype: int64"
      ]
     },
     "execution_count": 56,
     "metadata": {},
     "output_type": "execute_result"
    }
   ],
   "source": [
    "labeled_emotion_counts"
   ]
  },
  {
   "cell_type": "code",
   "execution_count": 73,
   "id": "df3a0905-f8c5-4072-9f98-15a8069ce56f",
   "metadata": {
    "tags": []
   },
   "outputs": [
    {
     "data": {
      "text/plain": [
       "Affectionate Emotions                 10242\n",
       "Joyful and Entertaining Emotions       6214\n",
       "Reflective and Thoughtful Emotions     3942\n",
       "Negative Reactive Emotions             5426\n",
       "Discontented Emotions                  4920\n",
       "Complex or Ambiguous Emotions          2780\n",
       "Introspective Emotions                 3360\n",
       "Neutral                               14219\n",
       "dtype: int64"
      ]
     },
     "execution_count": 73,
     "metadata": {},
     "output_type": "execute_result"
    }
   ],
   "source": [
    "emotion_categories = {\n",
    "    'Affectionate Emotions': ['love', 'caring', 'admiration', 'approval'],\n",
    "    'Joyful and Entertaining Emotions': ['amusement', 'joy', 'excitement', 'optimism'],\n",
    "    'Reflective and Thoughtful Emotions': ['curiosity', 'realization', 'relief', 'desire'],\n",
    "    'Negative Reactive Emotions': ['annoyance', 'anger', 'disgust', 'fear'],\n",
    "    'Discontented Emotions': ['disapproval', 'disappointment', 'sadness', 'remorse', 'embarrassment'],\n",
    "    'Complex or Ambiguous Emotions': ['confusion', 'surprise', 'pride', 'grief', 'nervousness'],\n",
    "    'Introspective Emotions': ['gratitude', 'relief', 'remorse'],\n",
    "    'Neutral': ['neutral']\n",
    "}\n",
    "\n",
    "\n",
    "emotion_to_category = {}\n",
    "for category, emotions in emotion_categories.items():\n",
    "    for emotion in emotions:\n",
    "        emotion_to_category[emotion] = category\n",
    "\n",
    "category_counts = pd.Series(dtype=int).reindex(emotion_categories.keys(), fill_value=0)\n",
    "\n",
    "for emotion, count in labeled_emotion_counts.items():\n",
    "    category = emotion_to_category[emotion]\n",
    "    if category:\n",
    "        category_counts[category] += count\n",
    "        \n",
    "category_counts"
   ]
  },
  {
   "cell_type": "code",
   "execution_count": 70,
   "id": "16f6f81b-7715-4f39-8864-7d53e9a221b6",
   "metadata": {
    "tags": []
   },
   "outputs": [
    {
     "data": {
      "text/plain": [
       "{'Love': 'Affectionate Emotions',\n",
       " 'Caring': 'Affectionate Emotions',\n",
       " 'Admiration': 'Affectionate Emotions',\n",
       " 'Approval': 'Affectionate Emotions',\n",
       " 'Amusement': 'Joyful and Entertaining Emotions',\n",
       " 'Joy': 'Joyful and Entertaining Emotions',\n",
       " 'Excitement': 'Joyful and Entertaining Emotions',\n",
       " 'Optimism': 'Joyful and Entertaining Emotions',\n",
       " 'Curiosity': 'Reflective and Thoughtful Emotions',\n",
       " 'Realization': 'Reflective and Thoughtful Emotions',\n",
       " 'Relief': 'Introspective Emotions',\n",
       " 'Desire': 'Reflective and Thoughtful Emotions',\n",
       " 'Annoyance': 'Negative Reactive Emotions',\n",
       " 'Anger': 'Negative Reactive Emotions',\n",
       " 'Disgust': 'Negative Reactive Emotions',\n",
       " 'Fear': 'Negative Reactive Emotions',\n",
       " 'Disapproval': 'Discontented Emotions',\n",
       " 'Disappointment': 'Discontented Emotions',\n",
       " 'Sadness': 'Discontented Emotions',\n",
       " 'Remorse': 'Introspective Emotions',\n",
       " 'Embarrassment': 'Discontented Emotions',\n",
       " 'Pride': 'Socially-Driven Emotions',\n",
       " 'Grief': 'Socially-Driven Emotions',\n",
       " 'Nervousness': 'Socially-Driven Emotions',\n",
       " 'Confusion': 'Complex or Ambiguous Emotions',\n",
       " 'Surprise': 'Complex or Ambiguous Emotions',\n",
       " 'Gratitude': 'Introspective Emotions',\n",
       " 'Neutral': 'Neutral'}"
      ]
     },
     "execution_count": 70,
     "metadata": {},
     "output_type": "execute_result"
    }
   ],
   "source": [
    "emotion_to_category"
   ]
  },
  {
   "cell_type": "code",
   "execution_count": 104,
   "id": "5e06122c-7365-40d6-8b7e-28bab7cf63ff",
   "metadata": {
    "tags": []
   },
   "outputs": [
    {
     "data": {
      "text/plain": [
       "emotions\n",
       "27       12823\n",
       "0         2710\n",
       "4         1873\n",
       "15        1857\n",
       "1         1652\n",
       "3         1451\n",
       "18        1427\n",
       "10        1402\n",
       "7         1389\n",
       "2         1025\n",
       "20         861\n",
       "6          858\n",
       "17         853\n",
       "25         817\n",
       "26         720\n",
       "9          709\n",
       "5          649\n",
       "22         586\n",
       "13         510\n",
       "11         498\n",
       "14         430\n",
       "8          389\n",
       "24         353\n",
       "2,3        230\n",
       "0,15       227\n",
       "12         203\n",
       "0,4        199\n",
       "4,27       190\n",
       "6,7        174\n",
       "0,18       155\n",
       "3,10       148\n",
       "3,27       123\n",
       "10,27      104\n",
       "9,25       103\n",
       "7,27       102\n",
       "Name: count, dtype: int64"
      ]
     },
     "execution_count": 104,
     "metadata": {},
     "output_type": "execute_result"
    }
   ],
   "source": [
    "train_df['emotions'].value_counts().head(35)"
   ]
  },
  {
   "cell_type": "code",
   "execution_count": null,
   "id": "975f4b65-eaea-46c0-b478-2f4c404b668a",
   "metadata": {},
   "outputs": [],
   "source": []
  }
 ],
 "metadata": {
  "availableInstances": [
   {
    "_defaultOrder": 0,
    "_isFastLaunch": true,
    "category": "General purpose",
    "gpuNum": 0,
    "hideHardwareSpecs": false,
    "memoryGiB": 4,
    "name": "ml.t3.medium",
    "vcpuNum": 2
   },
   {
    "_defaultOrder": 1,
    "_isFastLaunch": false,
    "category": "General purpose",
    "gpuNum": 0,
    "hideHardwareSpecs": false,
    "memoryGiB": 8,
    "name": "ml.t3.large",
    "vcpuNum": 2
   },
   {
    "_defaultOrder": 2,
    "_isFastLaunch": false,
    "category": "General purpose",
    "gpuNum": 0,
    "hideHardwareSpecs": false,
    "memoryGiB": 16,
    "name": "ml.t3.xlarge",
    "vcpuNum": 4
   },
   {
    "_defaultOrder": 3,
    "_isFastLaunch": false,
    "category": "General purpose",
    "gpuNum": 0,
    "hideHardwareSpecs": false,
    "memoryGiB": 32,
    "name": "ml.t3.2xlarge",
    "vcpuNum": 8
   },
   {
    "_defaultOrder": 4,
    "_isFastLaunch": true,
    "category": "General purpose",
    "gpuNum": 0,
    "hideHardwareSpecs": false,
    "memoryGiB": 8,
    "name": "ml.m5.large",
    "vcpuNum": 2
   },
   {
    "_defaultOrder": 5,
    "_isFastLaunch": false,
    "category": "General purpose",
    "gpuNum": 0,
    "hideHardwareSpecs": false,
    "memoryGiB": 16,
    "name": "ml.m5.xlarge",
    "vcpuNum": 4
   },
   {
    "_defaultOrder": 6,
    "_isFastLaunch": false,
    "category": "General purpose",
    "gpuNum": 0,
    "hideHardwareSpecs": false,
    "memoryGiB": 32,
    "name": "ml.m5.2xlarge",
    "vcpuNum": 8
   },
   {
    "_defaultOrder": 7,
    "_isFastLaunch": false,
    "category": "General purpose",
    "gpuNum": 0,
    "hideHardwareSpecs": false,
    "memoryGiB": 64,
    "name": "ml.m5.4xlarge",
    "vcpuNum": 16
   },
   {
    "_defaultOrder": 8,
    "_isFastLaunch": false,
    "category": "General purpose",
    "gpuNum": 0,
    "hideHardwareSpecs": false,
    "memoryGiB": 128,
    "name": "ml.m5.8xlarge",
    "vcpuNum": 32
   },
   {
    "_defaultOrder": 9,
    "_isFastLaunch": false,
    "category": "General purpose",
    "gpuNum": 0,
    "hideHardwareSpecs": false,
    "memoryGiB": 192,
    "name": "ml.m5.12xlarge",
    "vcpuNum": 48
   },
   {
    "_defaultOrder": 10,
    "_isFastLaunch": false,
    "category": "General purpose",
    "gpuNum": 0,
    "hideHardwareSpecs": false,
    "memoryGiB": 256,
    "name": "ml.m5.16xlarge",
    "vcpuNum": 64
   },
   {
    "_defaultOrder": 11,
    "_isFastLaunch": false,
    "category": "General purpose",
    "gpuNum": 0,
    "hideHardwareSpecs": false,
    "memoryGiB": 384,
    "name": "ml.m5.24xlarge",
    "vcpuNum": 96
   },
   {
    "_defaultOrder": 12,
    "_isFastLaunch": false,
    "category": "General purpose",
    "gpuNum": 0,
    "hideHardwareSpecs": false,
    "memoryGiB": 8,
    "name": "ml.m5d.large",
    "vcpuNum": 2
   },
   {
    "_defaultOrder": 13,
    "_isFastLaunch": false,
    "category": "General purpose",
    "gpuNum": 0,
    "hideHardwareSpecs": false,
    "memoryGiB": 16,
    "name": "ml.m5d.xlarge",
    "vcpuNum": 4
   },
   {
    "_defaultOrder": 14,
    "_isFastLaunch": false,
    "category": "General purpose",
    "gpuNum": 0,
    "hideHardwareSpecs": false,
    "memoryGiB": 32,
    "name": "ml.m5d.2xlarge",
    "vcpuNum": 8
   },
   {
    "_defaultOrder": 15,
    "_isFastLaunch": false,
    "category": "General purpose",
    "gpuNum": 0,
    "hideHardwareSpecs": false,
    "memoryGiB": 64,
    "name": "ml.m5d.4xlarge",
    "vcpuNum": 16
   },
   {
    "_defaultOrder": 16,
    "_isFastLaunch": false,
    "category": "General purpose",
    "gpuNum": 0,
    "hideHardwareSpecs": false,
    "memoryGiB": 128,
    "name": "ml.m5d.8xlarge",
    "vcpuNum": 32
   },
   {
    "_defaultOrder": 17,
    "_isFastLaunch": false,
    "category": "General purpose",
    "gpuNum": 0,
    "hideHardwareSpecs": false,
    "memoryGiB": 192,
    "name": "ml.m5d.12xlarge",
    "vcpuNum": 48
   },
   {
    "_defaultOrder": 18,
    "_isFastLaunch": false,
    "category": "General purpose",
    "gpuNum": 0,
    "hideHardwareSpecs": false,
    "memoryGiB": 256,
    "name": "ml.m5d.16xlarge",
    "vcpuNum": 64
   },
   {
    "_defaultOrder": 19,
    "_isFastLaunch": false,
    "category": "General purpose",
    "gpuNum": 0,
    "hideHardwareSpecs": false,
    "memoryGiB": 384,
    "name": "ml.m5d.24xlarge",
    "vcpuNum": 96
   },
   {
    "_defaultOrder": 20,
    "_isFastLaunch": false,
    "category": "General purpose",
    "gpuNum": 0,
    "hideHardwareSpecs": true,
    "memoryGiB": 0,
    "name": "ml.geospatial.interactive",
    "supportedImageNames": [
     "sagemaker-geospatial-v1-0"
    ],
    "vcpuNum": 0
   },
   {
    "_defaultOrder": 21,
    "_isFastLaunch": true,
    "category": "Compute optimized",
    "gpuNum": 0,
    "hideHardwareSpecs": false,
    "memoryGiB": 4,
    "name": "ml.c5.large",
    "vcpuNum": 2
   },
   {
    "_defaultOrder": 22,
    "_isFastLaunch": false,
    "category": "Compute optimized",
    "gpuNum": 0,
    "hideHardwareSpecs": false,
    "memoryGiB": 8,
    "name": "ml.c5.xlarge",
    "vcpuNum": 4
   },
   {
    "_defaultOrder": 23,
    "_isFastLaunch": false,
    "category": "Compute optimized",
    "gpuNum": 0,
    "hideHardwareSpecs": false,
    "memoryGiB": 16,
    "name": "ml.c5.2xlarge",
    "vcpuNum": 8
   },
   {
    "_defaultOrder": 24,
    "_isFastLaunch": false,
    "category": "Compute optimized",
    "gpuNum": 0,
    "hideHardwareSpecs": false,
    "memoryGiB": 32,
    "name": "ml.c5.4xlarge",
    "vcpuNum": 16
   },
   {
    "_defaultOrder": 25,
    "_isFastLaunch": false,
    "category": "Compute optimized",
    "gpuNum": 0,
    "hideHardwareSpecs": false,
    "memoryGiB": 72,
    "name": "ml.c5.9xlarge",
    "vcpuNum": 36
   },
   {
    "_defaultOrder": 26,
    "_isFastLaunch": false,
    "category": "Compute optimized",
    "gpuNum": 0,
    "hideHardwareSpecs": false,
    "memoryGiB": 96,
    "name": "ml.c5.12xlarge",
    "vcpuNum": 48
   },
   {
    "_defaultOrder": 27,
    "_isFastLaunch": false,
    "category": "Compute optimized",
    "gpuNum": 0,
    "hideHardwareSpecs": false,
    "memoryGiB": 144,
    "name": "ml.c5.18xlarge",
    "vcpuNum": 72
   },
   {
    "_defaultOrder": 28,
    "_isFastLaunch": false,
    "category": "Compute optimized",
    "gpuNum": 0,
    "hideHardwareSpecs": false,
    "memoryGiB": 192,
    "name": "ml.c5.24xlarge",
    "vcpuNum": 96
   },
   {
    "_defaultOrder": 29,
    "_isFastLaunch": true,
    "category": "Accelerated computing",
    "gpuNum": 1,
    "hideHardwareSpecs": false,
    "memoryGiB": 16,
    "name": "ml.g4dn.xlarge",
    "vcpuNum": 4
   },
   {
    "_defaultOrder": 30,
    "_isFastLaunch": false,
    "category": "Accelerated computing",
    "gpuNum": 1,
    "hideHardwareSpecs": false,
    "memoryGiB": 32,
    "name": "ml.g4dn.2xlarge",
    "vcpuNum": 8
   },
   {
    "_defaultOrder": 31,
    "_isFastLaunch": false,
    "category": "Accelerated computing",
    "gpuNum": 1,
    "hideHardwareSpecs": false,
    "memoryGiB": 64,
    "name": "ml.g4dn.4xlarge",
    "vcpuNum": 16
   },
   {
    "_defaultOrder": 32,
    "_isFastLaunch": false,
    "category": "Accelerated computing",
    "gpuNum": 1,
    "hideHardwareSpecs": false,
    "memoryGiB": 128,
    "name": "ml.g4dn.8xlarge",
    "vcpuNum": 32
   },
   {
    "_defaultOrder": 33,
    "_isFastLaunch": false,
    "category": "Accelerated computing",
    "gpuNum": 4,
    "hideHardwareSpecs": false,
    "memoryGiB": 192,
    "name": "ml.g4dn.12xlarge",
    "vcpuNum": 48
   },
   {
    "_defaultOrder": 34,
    "_isFastLaunch": false,
    "category": "Accelerated computing",
    "gpuNum": 1,
    "hideHardwareSpecs": false,
    "memoryGiB": 256,
    "name": "ml.g4dn.16xlarge",
    "vcpuNum": 64
   },
   {
    "_defaultOrder": 35,
    "_isFastLaunch": false,
    "category": "Accelerated computing",
    "gpuNum": 1,
    "hideHardwareSpecs": false,
    "memoryGiB": 61,
    "name": "ml.p3.2xlarge",
    "vcpuNum": 8
   },
   {
    "_defaultOrder": 36,
    "_isFastLaunch": false,
    "category": "Accelerated computing",
    "gpuNum": 4,
    "hideHardwareSpecs": false,
    "memoryGiB": 244,
    "name": "ml.p3.8xlarge",
    "vcpuNum": 32
   },
   {
    "_defaultOrder": 37,
    "_isFastLaunch": false,
    "category": "Accelerated computing",
    "gpuNum": 8,
    "hideHardwareSpecs": false,
    "memoryGiB": 488,
    "name": "ml.p3.16xlarge",
    "vcpuNum": 64
   },
   {
    "_defaultOrder": 38,
    "_isFastLaunch": false,
    "category": "Accelerated computing",
    "gpuNum": 8,
    "hideHardwareSpecs": false,
    "memoryGiB": 768,
    "name": "ml.p3dn.24xlarge",
    "vcpuNum": 96
   },
   {
    "_defaultOrder": 39,
    "_isFastLaunch": false,
    "category": "Memory Optimized",
    "gpuNum": 0,
    "hideHardwareSpecs": false,
    "memoryGiB": 16,
    "name": "ml.r5.large",
    "vcpuNum": 2
   },
   {
    "_defaultOrder": 40,
    "_isFastLaunch": false,
    "category": "Memory Optimized",
    "gpuNum": 0,
    "hideHardwareSpecs": false,
    "memoryGiB": 32,
    "name": "ml.r5.xlarge",
    "vcpuNum": 4
   },
   {
    "_defaultOrder": 41,
    "_isFastLaunch": false,
    "category": "Memory Optimized",
    "gpuNum": 0,
    "hideHardwareSpecs": false,
    "memoryGiB": 64,
    "name": "ml.r5.2xlarge",
    "vcpuNum": 8
   },
   {
    "_defaultOrder": 42,
    "_isFastLaunch": false,
    "category": "Memory Optimized",
    "gpuNum": 0,
    "hideHardwareSpecs": false,
    "memoryGiB": 128,
    "name": "ml.r5.4xlarge",
    "vcpuNum": 16
   },
   {
    "_defaultOrder": 43,
    "_isFastLaunch": false,
    "category": "Memory Optimized",
    "gpuNum": 0,
    "hideHardwareSpecs": false,
    "memoryGiB": 256,
    "name": "ml.r5.8xlarge",
    "vcpuNum": 32
   },
   {
    "_defaultOrder": 44,
    "_isFastLaunch": false,
    "category": "Memory Optimized",
    "gpuNum": 0,
    "hideHardwareSpecs": false,
    "memoryGiB": 384,
    "name": "ml.r5.12xlarge",
    "vcpuNum": 48
   },
   {
    "_defaultOrder": 45,
    "_isFastLaunch": false,
    "category": "Memory Optimized",
    "gpuNum": 0,
    "hideHardwareSpecs": false,
    "memoryGiB": 512,
    "name": "ml.r5.16xlarge",
    "vcpuNum": 64
   },
   {
    "_defaultOrder": 46,
    "_isFastLaunch": false,
    "category": "Memory Optimized",
    "gpuNum": 0,
    "hideHardwareSpecs": false,
    "memoryGiB": 768,
    "name": "ml.r5.24xlarge",
    "vcpuNum": 96
   },
   {
    "_defaultOrder": 47,
    "_isFastLaunch": false,
    "category": "Accelerated computing",
    "gpuNum": 1,
    "hideHardwareSpecs": false,
    "memoryGiB": 16,
    "name": "ml.g5.xlarge",
    "vcpuNum": 4
   },
   {
    "_defaultOrder": 48,
    "_isFastLaunch": false,
    "category": "Accelerated computing",
    "gpuNum": 1,
    "hideHardwareSpecs": false,
    "memoryGiB": 32,
    "name": "ml.g5.2xlarge",
    "vcpuNum": 8
   },
   {
    "_defaultOrder": 49,
    "_isFastLaunch": false,
    "category": "Accelerated computing",
    "gpuNum": 1,
    "hideHardwareSpecs": false,
    "memoryGiB": 64,
    "name": "ml.g5.4xlarge",
    "vcpuNum": 16
   },
   {
    "_defaultOrder": 50,
    "_isFastLaunch": false,
    "category": "Accelerated computing",
    "gpuNum": 1,
    "hideHardwareSpecs": false,
    "memoryGiB": 128,
    "name": "ml.g5.8xlarge",
    "vcpuNum": 32
   },
   {
    "_defaultOrder": 51,
    "_isFastLaunch": false,
    "category": "Accelerated computing",
    "gpuNum": 1,
    "hideHardwareSpecs": false,
    "memoryGiB": 256,
    "name": "ml.g5.16xlarge",
    "vcpuNum": 64
   },
   {
    "_defaultOrder": 52,
    "_isFastLaunch": false,
    "category": "Accelerated computing",
    "gpuNum": 4,
    "hideHardwareSpecs": false,
    "memoryGiB": 192,
    "name": "ml.g5.12xlarge",
    "vcpuNum": 48
   },
   {
    "_defaultOrder": 53,
    "_isFastLaunch": false,
    "category": "Accelerated computing",
    "gpuNum": 4,
    "hideHardwareSpecs": false,
    "memoryGiB": 384,
    "name": "ml.g5.24xlarge",
    "vcpuNum": 96
   },
   {
    "_defaultOrder": 54,
    "_isFastLaunch": false,
    "category": "Accelerated computing",
    "gpuNum": 8,
    "hideHardwareSpecs": false,
    "memoryGiB": 768,
    "name": "ml.g5.48xlarge",
    "vcpuNum": 192
   },
   {
    "_defaultOrder": 55,
    "_isFastLaunch": false,
    "category": "Accelerated computing",
    "gpuNum": 8,
    "hideHardwareSpecs": false,
    "memoryGiB": 1152,
    "name": "ml.p4d.24xlarge",
    "vcpuNum": 96
   },
   {
    "_defaultOrder": 56,
    "_isFastLaunch": false,
    "category": "Accelerated computing",
    "gpuNum": 8,
    "hideHardwareSpecs": false,
    "memoryGiB": 1152,
    "name": "ml.p4de.24xlarge",
    "vcpuNum": 96
   },
   {
    "_defaultOrder": 57,
    "_isFastLaunch": false,
    "category": "Accelerated computing",
    "gpuNum": 0,
    "hideHardwareSpecs": false,
    "memoryGiB": 32,
    "name": "ml.trn1.2xlarge",
    "vcpuNum": 8
   },
   {
    "_defaultOrder": 58,
    "_isFastLaunch": false,
    "category": "Accelerated computing",
    "gpuNum": 0,
    "hideHardwareSpecs": false,
    "memoryGiB": 512,
    "name": "ml.trn1.32xlarge",
    "vcpuNum": 128
   },
   {
    "_defaultOrder": 59,
    "_isFastLaunch": false,
    "category": "Accelerated computing",
    "gpuNum": 0,
    "hideHardwareSpecs": false,
    "memoryGiB": 512,
    "name": "ml.trn1n.32xlarge",
    "vcpuNum": 128
   }
  ],
  "instance_type": "ml.t3.medium",
  "kernelspec": {
   "display_name": "Python 3 (Data Science 3.0)",
   "language": "python",
   "name": "python3__SAGEMAKER_INTERNAL__arn:aws:sagemaker:us-west-2:236514542706:image/sagemaker-data-science-310-v1"
  },
  "language_info": {
   "codemirror_mode": {
    "name": "ipython",
    "version": 3
   },
   "file_extension": ".py",
   "mimetype": "text/x-python",
   "name": "python",
   "nbconvert_exporter": "python",
   "pygments_lexer": "ipython3",
   "version": "3.10.6"
  }
 },
 "nbformat": 4,
 "nbformat_minor": 5
}
