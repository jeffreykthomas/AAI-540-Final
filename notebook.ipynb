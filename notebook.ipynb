{
 "cells": [
  {
   "cell_type": "code",
   "execution_count": 18,
   "id": "573864ac-773a-4b40-bd5a-e5ded004a4df",
   "metadata": {
    "tags": []
   },
   "outputs": [
    {
     "name": "stdout",
     "output_type": "stream",
     "text": [
      "\u001b[33mWARNING: Running pip as the 'root' user can result in broken permissions and conflicting behaviour with the system package manager. It is recommended to use a virtual environment instead: https://pip.pypa.io/warnings/venv\u001b[0m\u001b[33m\n",
      "\u001b[0m\u001b[33mWARNING: Running pip as the 'root' user can result in broken permissions and conflicting behaviour with the system package manager. It is recommended to use a virtual environment instead: https://pip.pypa.io/warnings/venv\u001b[0m\u001b[33m\n",
      "\u001b[0m"
     ]
    }
   ],
   "source": [
    "!pip install -qU pip\n",
    "!pip install -qU seaborn==0.13.1"
   ]
  },
  {
   "cell_type": "code",
   "execution_count": 12,
   "id": "9254a0c4-5684-4dea-a618-43d3650af0e4",
   "metadata": {
    "tags": []
   },
   "outputs": [],
   "source": [
    "import boto3\n",
    "from pyathena import connect\n",
    "\n",
    "import pandas as pd\n",
    "import io\n",
    "\n",
    "import matplotlib.pyplot as plt\n",
    "import seaborn as sns"
   ]
  },
  {
   "cell_type": "code",
   "execution_count": 3,
   "id": "81fd17c2-65b0-4df5-858b-1c25e5172b2d",
   "metadata": {
    "tags": []
   },
   "outputs": [],
   "source": [
    "s3 = boto3.client('s3')"
   ]
  },
  {
   "cell_type": "code",
   "execution_count": 11,
   "id": "64866d18-0910-412a-b03f-e0c92818e4f6",
   "metadata": {
    "tags": []
   },
   "outputs": [
    {
     "name": "stdout",
     "output_type": "stream",
     "text": [
      "data/dev.tsv\n",
      "data/emotions.txt\n",
      "data/test.tsv\n",
      "data/train.tsv\n",
      "full-dataset/goemotions_1.csv\n",
      "full-dataset/goemotions_2.csv\n",
      "full-dataset/goemotions_3.csv\n"
     ]
    }
   ],
   "source": [
    "bucket_name = 'aai-540-final-data'\n",
    "response = s3.list_objects_v2(Bucket=bucket_name)\n",
    "for obj in response['Contents']:\n",
    "    print(obj['Key'])"
   ]
  },
  {
   "cell_type": "code",
   "execution_count": 65,
   "id": "5db255af-3baa-4093-a9f7-1d890d729100",
   "metadata": {
    "tags": []
   },
   "outputs": [],
   "source": [
    "first_data_obj = s3.get_object(Bucket=bucket_name, Key='full-dataset/goemotions_1.csv')\n",
    "second_data_obj = s3.get_object(Bucket=bucket_name, Key='full-dataset/goemotions_2.csv')\n",
    "third_data_obj = s3.get_object(Bucket=bucket_name, Key='full-dataset/goemotions_3.csv')\n",
    "df_1 = pd.read_csv(io.BytesIO(first_data_obj['Body'].read()))\n",
    "df_2 = pd.read_csv(io.BytesIO(second_data_obj['Body'].read()))\n",
    "df_3 = pd.read_csv(io.BytesIO(third_data_obj['Body'].read()))"
   ]
  },
  {
   "cell_type": "code",
   "execution_count": 72,
   "id": "07a3234a-48be-4fb5-883f-7ac2ed411d54",
   "metadata": {
    "tags": []
   },
   "outputs": [
    {
     "data": {
      "text/html": [
       "<div>\n",
       "<style scoped>\n",
       "    .dataframe tbody tr th:only-of-type {\n",
       "        vertical-align: middle;\n",
       "    }\n",
       "\n",
       "    .dataframe tbody tr th {\n",
       "        vertical-align: top;\n",
       "    }\n",
       "\n",
       "    .dataframe thead th {\n",
       "        text-align: right;\n",
       "    }\n",
       "</style>\n",
       "<table border=\"1\" class=\"dataframe\">\n",
       "  <thead>\n",
       "    <tr style=\"text-align: right;\">\n",
       "      <th></th>\n",
       "      <th>text</th>\n",
       "      <th>id</th>\n",
       "      <th>author</th>\n",
       "      <th>subreddit</th>\n",
       "      <th>link_id</th>\n",
       "      <th>parent_id</th>\n",
       "      <th>created_utc</th>\n",
       "      <th>rater_id</th>\n",
       "      <th>example_very_unclear</th>\n",
       "      <th>admiration</th>\n",
       "      <th>...</th>\n",
       "      <th>love</th>\n",
       "      <th>nervousness</th>\n",
       "      <th>optimism</th>\n",
       "      <th>pride</th>\n",
       "      <th>realization</th>\n",
       "      <th>relief</th>\n",
       "      <th>remorse</th>\n",
       "      <th>sadness</th>\n",
       "      <th>surprise</th>\n",
       "      <th>neutral</th>\n",
       "    </tr>\n",
       "  </thead>\n",
       "  <tbody>\n",
       "    <tr>\n",
       "      <th>0</th>\n",
       "      <td>That game hurt.</td>\n",
       "      <td>eew5j0j</td>\n",
       "      <td>Brdd9</td>\n",
       "      <td>nrl</td>\n",
       "      <td>t3_ajis4z</td>\n",
       "      <td>t1_eew18eq</td>\n",
       "      <td>1.548381e+09</td>\n",
       "      <td>1</td>\n",
       "      <td>False</td>\n",
       "      <td>0</td>\n",
       "      <td>...</td>\n",
       "      <td>0</td>\n",
       "      <td>0</td>\n",
       "      <td>0</td>\n",
       "      <td>0</td>\n",
       "      <td>0</td>\n",
       "      <td>0</td>\n",
       "      <td>0</td>\n",
       "      <td>1</td>\n",
       "      <td>0</td>\n",
       "      <td>0</td>\n",
       "    </tr>\n",
       "    <tr>\n",
       "      <th>1</th>\n",
       "      <td>&gt;sexuality shouldn’t be a grouping category I...</td>\n",
       "      <td>eemcysk</td>\n",
       "      <td>TheGreen888</td>\n",
       "      <td>unpopularopinion</td>\n",
       "      <td>t3_ai4q37</td>\n",
       "      <td>t3_ai4q37</td>\n",
       "      <td>1.548084e+09</td>\n",
       "      <td>37</td>\n",
       "      <td>True</td>\n",
       "      <td>0</td>\n",
       "      <td>...</td>\n",
       "      <td>0</td>\n",
       "      <td>0</td>\n",
       "      <td>0</td>\n",
       "      <td>0</td>\n",
       "      <td>0</td>\n",
       "      <td>0</td>\n",
       "      <td>0</td>\n",
       "      <td>0</td>\n",
       "      <td>0</td>\n",
       "      <td>0</td>\n",
       "    </tr>\n",
       "    <tr>\n",
       "      <th>2</th>\n",
       "      <td>You do right, if you don't care then fuck 'em!</td>\n",
       "      <td>ed2mah1</td>\n",
       "      <td>Labalool</td>\n",
       "      <td>confessions</td>\n",
       "      <td>t3_abru74</td>\n",
       "      <td>t1_ed2m7g7</td>\n",
       "      <td>1.546428e+09</td>\n",
       "      <td>37</td>\n",
       "      <td>False</td>\n",
       "      <td>0</td>\n",
       "      <td>...</td>\n",
       "      <td>0</td>\n",
       "      <td>0</td>\n",
       "      <td>0</td>\n",
       "      <td>0</td>\n",
       "      <td>0</td>\n",
       "      <td>0</td>\n",
       "      <td>0</td>\n",
       "      <td>0</td>\n",
       "      <td>0</td>\n",
       "      <td>1</td>\n",
       "    </tr>\n",
       "    <tr>\n",
       "      <th>3</th>\n",
       "      <td>Man I love reddit.</td>\n",
       "      <td>eeibobj</td>\n",
       "      <td>MrsRobertshaw</td>\n",
       "      <td>facepalm</td>\n",
       "      <td>t3_ahulml</td>\n",
       "      <td>t3_ahulml</td>\n",
       "      <td>1.547965e+09</td>\n",
       "      <td>18</td>\n",
       "      <td>False</td>\n",
       "      <td>0</td>\n",
       "      <td>...</td>\n",
       "      <td>1</td>\n",
       "      <td>0</td>\n",
       "      <td>0</td>\n",
       "      <td>0</td>\n",
       "      <td>0</td>\n",
       "      <td>0</td>\n",
       "      <td>0</td>\n",
       "      <td>0</td>\n",
       "      <td>0</td>\n",
       "      <td>0</td>\n",
       "    </tr>\n",
       "    <tr>\n",
       "      <th>4</th>\n",
       "      <td>[NAME] was nowhere near them, he was by the Fa...</td>\n",
       "      <td>eda6yn6</td>\n",
       "      <td>American_Fascist713</td>\n",
       "      <td>starwarsspeculation</td>\n",
       "      <td>t3_ackt2f</td>\n",
       "      <td>t1_eda65q2</td>\n",
       "      <td>1.546669e+09</td>\n",
       "      <td>2</td>\n",
       "      <td>False</td>\n",
       "      <td>0</td>\n",
       "      <td>...</td>\n",
       "      <td>0</td>\n",
       "      <td>0</td>\n",
       "      <td>0</td>\n",
       "      <td>0</td>\n",
       "      <td>0</td>\n",
       "      <td>0</td>\n",
       "      <td>0</td>\n",
       "      <td>0</td>\n",
       "      <td>0</td>\n",
       "      <td>1</td>\n",
       "    </tr>\n",
       "  </tbody>\n",
       "</table>\n",
       "<p>5 rows × 37 columns</p>\n",
       "</div>"
      ],
      "text/plain": [
       "                                                text       id  \\\n",
       "0                                    That game hurt.  eew5j0j   \n",
       "1   >sexuality shouldn’t be a grouping category I...  eemcysk   \n",
       "2     You do right, if you don't care then fuck 'em!  ed2mah1   \n",
       "3                                 Man I love reddit.  eeibobj   \n",
       "4  [NAME] was nowhere near them, he was by the Fa...  eda6yn6   \n",
       "\n",
       "                author            subreddit    link_id   parent_id  \\\n",
       "0                Brdd9                  nrl  t3_ajis4z  t1_eew18eq   \n",
       "1          TheGreen888     unpopularopinion  t3_ai4q37   t3_ai4q37   \n",
       "2             Labalool          confessions  t3_abru74  t1_ed2m7g7   \n",
       "3        MrsRobertshaw             facepalm  t3_ahulml   t3_ahulml   \n",
       "4  American_Fascist713  starwarsspeculation  t3_ackt2f  t1_eda65q2   \n",
       "\n",
       "    created_utc  rater_id  example_very_unclear  admiration  ...  love  \\\n",
       "0  1.548381e+09         1                 False           0  ...     0   \n",
       "1  1.548084e+09        37                  True           0  ...     0   \n",
       "2  1.546428e+09        37                 False           0  ...     0   \n",
       "3  1.547965e+09        18                 False           0  ...     1   \n",
       "4  1.546669e+09         2                 False           0  ...     0   \n",
       "\n",
       "   nervousness  optimism  pride  realization  relief  remorse  sadness  \\\n",
       "0            0         0      0            0       0        0        1   \n",
       "1            0         0      0            0       0        0        0   \n",
       "2            0         0      0            0       0        0        0   \n",
       "3            0         0      0            0       0        0        0   \n",
       "4            0         0      0            0       0        0        0   \n",
       "\n",
       "   surprise  neutral  \n",
       "0         0        0  \n",
       "1         0        0  \n",
       "2         0        1  \n",
       "3         0        0  \n",
       "4         0        1  \n",
       "\n",
       "[5 rows x 37 columns]"
      ]
     },
     "execution_count": 72,
     "metadata": {},
     "output_type": "execute_result"
    }
   ],
   "source": [
    "df_1 = pd.read_csv('data/goemotions_1.csv')\n",
    "df_2 = pd.read_csv('data/goemotions_2.csv')\n",
    "df_3 = pd.read_csv('data/goemotions_3.csv')\n",
    "df_1.head()"
   ]
  },
  {
   "cell_type": "code",
   "execution_count": 94,
   "id": "c9d23352-1308-4fe4-8b79-4b5647dc0fbd",
   "metadata": {
    "tags": []
   },
   "outputs": [
    {
     "name": "stdout",
     "output_type": "stream",
     "text": [
      "All values in the 'admiration' column are integers.\n"
     ]
    }
   ],
   "source": [
    "if df_3['admiration'].isna().any():\n",
    "    print(\"There are non-integer values in the 'admiration' column.\")\n",
    "else:\n",
    "    print(\"All values in the 'admiration' column are integers.\")"
   ]
  },
  {
   "cell_type": "code",
   "execution_count": 81,
   "id": "886995f4-7618-4896-8da4-8ea96895e547",
   "metadata": {
    "tags": []
   },
   "outputs": [],
   "source": [
    "import csv\n",
    "dfs = [df_1, df_2, df_3]\n",
    "\n",
    "for i, df in enumerate(dfs):\n",
    "    df['text'] = df['text'].str.replace(',', '')\n",
    "    local_file_path = f'/tmp/goemotions_{i + 1}.csv'\n",
    "    s3_file_path = f'full-dataset/goemotions_{i + 1}.csv'\n",
    "\n",
    "    # Save to CSV without extra quoting\n",
    "    df.to_csv(local_file_path, index=False, quoting=csv.QUOTE_NONNUMERIC)\n",
    "\n",
    "    # Upload to S3\n",
    "    s3.upload_file(local_file_path, bucket_name, s3_file_path)"
   ]
  },
  {
   "cell_type": "code",
   "execution_count": 17,
   "id": "39cc3077-cec7-40ea-9117-69a952185e04",
   "metadata": {
    "tags": []
   },
   "outputs": [],
   "source": [
    "region = 'us-west-2'\n",
    "conn = connect(s3_staging_dir=f\"s3://{bucket_name}/athena/results\", region_name=region)"
   ]
  },
  {
   "cell_type": "code",
   "execution_count": 26,
   "id": "e437c798-5ad7-4430-b0ea-07442a7f6e46",
   "metadata": {
    "ExecuteTime": {
     "end_time": "2024-01-16T23:25:52.104108Z",
     "start_time": "2024-01-16T23:25:52.097151Z"
    },
    "tags": []
   },
   "outputs": [
    {
     "data": {
      "text/plain": [
       "<pyathena.cursor.Cursor at 0x7f39f2418640>"
      ]
     },
     "execution_count": 26,
     "metadata": {},
     "output_type": "execute_result"
    }
   ],
   "source": [
    "database_name = 'emotions_database'\n",
    "cursor = conn.cursor()\n",
    "statement = f\"CREATE DATABASE IF NOT EXISTS {database_name}\"\n",
    "cursor.execute(statement)"
   ]
  },
  {
   "cell_type": "code",
   "execution_count": 83,
   "id": "74385acf-43de-4fe9-9f01-7f934ed7f0ec",
   "metadata": {
    "tags": []
   },
   "outputs": [
    {
     "name": "stdout",
     "output_type": "stream",
     "text": [
      "Database: emotions_database, Table: emotions_table\n",
      "Table created successfully.\n"
     ]
    }
   ],
   "source": [
    "table_name = 'emotions_table'\n",
    "create_table_query = f\"\"\"\n",
    "CREATE EXTERNAL TABLE IF NOT EXISTS {database_name}.{table_name} (\n",
    "    text string,\n",
    "    id string,\n",
    "    author string,\n",
    "    subreddit string,\n",
    "    link_id string,\n",
    "    parent_id string,\n",
    "    created_utc bigint,\n",
    "    rater_id int,\n",
    "    example_very_unclear boolean,\n",
    "    admiration int,\n",
    "    amusement int,\n",
    "    anger int,\n",
    "    annoyance int,\n",
    "    approval int,\n",
    "    caring int,\n",
    "    confusion int,\n",
    "    curiosity int,\n",
    "    desire int,\n",
    "    disappointment int,\n",
    "    disapproval int,\n",
    "    disgust int,\n",
    "    embarrassment int,\n",
    "    excitement int,\n",
    "    fear int,\n",
    "    gratitude int,\n",
    "    grief int,\n",
    "    joy int,\n",
    "    love int,\n",
    "    nervousness int,\n",
    "    optimism int,\n",
    "    pride int,\n",
    "    realization int,\n",
    "    relief int,\n",
    "    remorse int,\n",
    "    sadness int,\n",
    "    surprise int,\n",
    "    neutral int\n",
    ")\n",
    "ROW FORMAT DELIMITED FIELDS TERMINATED BY ','\n",
    "LINES TERMINATED BY '\\n'\n",
    "LOCATION 's3://{bucket_name}/full-dataset'\n",
    "TBLPROPERTIES ('skip.header.line.count'='1');\n",
    "\"\"\"\n",
    "\n",
    "try:\n",
    "    # Print the database and table names\n",
    "    print(f\"Database: {database_name}, Table: {table_name}\")\n",
    "\n",
    "    # Execute the create table query\n",
    "    cursor.execute(create_table_query)\n",
    "    print(\"Table created successfully.\")\n",
    "except Exception as e:\n",
    "    print(\"Error creating table:\", e)"
   ]
  },
  {
   "cell_type": "code",
   "execution_count": 82,
   "id": "c1319e3c-68aa-4d09-baa8-2c6e39edb622",
   "metadata": {
    "tags": []
   },
   "outputs": [
    {
     "data": {
      "text/plain": [
       "<pyathena.cursor.Cursor at 0x7f39f2418640>"
      ]
     },
     "execution_count": 82,
     "metadata": {},
     "output_type": "execute_result"
    }
   ],
   "source": [
    "drop_table = f\"DROP TABLE IF EXISTS {database_name}.{table_name};\"\n",
    "cursor.execute(drop_table)"
   ]
  },
  {
   "cell_type": "code",
   "execution_count": 98,
   "id": "ec7b49e0-1b0a-4a67-bf3a-1afa42fbf691",
   "metadata": {
    "tags": []
   },
   "outputs": [
    {
     "name": "stderr",
     "output_type": "stream",
     "text": [
      "/tmp/ipykernel_1224/1029288951.py:74: UserWarning: pandas only supports SQLAlchemy connectable (engine/connection) or database string URI or sqlite3 DBAPI2 connection. Other DBAPI2 objects are not tested. Please consider using SQLAlchemy.\n",
      "  df_filtered = pd.read_sql(COMPARE_RATERS, conn)\n"
     ]
    },
    {
     "data": {
      "text/html": [
       "<div>\n",
       "<style scoped>\n",
       "    .dataframe tbody tr th:only-of-type {\n",
       "        vertical-align: middle;\n",
       "    }\n",
       "\n",
       "    .dataframe tbody tr th {\n",
       "        vertical-align: top;\n",
       "    }\n",
       "\n",
       "    .dataframe thead th {\n",
       "        text-align: right;\n",
       "    }\n",
       "</style>\n",
       "<table border=\"1\" class=\"dataframe\">\n",
       "  <thead>\n",
       "    <tr style=\"text-align: right;\">\n",
       "      <th></th>\n",
       "      <th>id</th>\n",
       "      <th>_col1</th>\n",
       "      <th>_col2</th>\n",
       "      <th>_col3</th>\n",
       "      <th>_col4</th>\n",
       "      <th>_col5</th>\n",
       "      <th>_col6</th>\n",
       "      <th>_col7</th>\n",
       "      <th>_col8</th>\n",
       "      <th>_col9</th>\n",
       "      <th>...</th>\n",
       "      <th>_col19</th>\n",
       "      <th>_col20</th>\n",
       "      <th>_col21</th>\n",
       "      <th>_col22</th>\n",
       "      <th>_col23</th>\n",
       "      <th>_col24</th>\n",
       "      <th>_col25</th>\n",
       "      <th>_col26</th>\n",
       "      <th>_col27</th>\n",
       "      <th>_col28</th>\n",
       "    </tr>\n",
       "  </thead>\n",
       "  <tbody>\n",
       "    <tr>\n",
       "      <th>0</th>\n",
       "      <td>\"edzwsvy\"</td>\n",
       "      <td>0</td>\n",
       "      <td>0</td>\n",
       "      <td>1</td>\n",
       "      <td>2</td>\n",
       "      <td>0</td>\n",
       "      <td>0</td>\n",
       "      <td>0</td>\n",
       "      <td>0</td>\n",
       "      <td>0</td>\n",
       "      <td>...</td>\n",
       "      <td>0</td>\n",
       "      <td>0</td>\n",
       "      <td>0</td>\n",
       "      <td>0</td>\n",
       "      <td>0</td>\n",
       "      <td>0</td>\n",
       "      <td>0</td>\n",
       "      <td>0</td>\n",
       "      <td>0</td>\n",
       "      <td>1</td>\n",
       "    </tr>\n",
       "    <tr>\n",
       "      <th>1</th>\n",
       "      <td>\"ee7irj3\"</td>\n",
       "      <td>0</td>\n",
       "      <td>0</td>\n",
       "      <td>0</td>\n",
       "      <td>0</td>\n",
       "      <td>0</td>\n",
       "      <td>0</td>\n",
       "      <td>0</td>\n",
       "      <td>0</td>\n",
       "      <td>0</td>\n",
       "      <td>...</td>\n",
       "      <td>0</td>\n",
       "      <td>0</td>\n",
       "      <td>0</td>\n",
       "      <td>0</td>\n",
       "      <td>1</td>\n",
       "      <td>0</td>\n",
       "      <td>2</td>\n",
       "      <td>3</td>\n",
       "      <td>0</td>\n",
       "      <td>0</td>\n",
       "    </tr>\n",
       "    <tr>\n",
       "      <th>2</th>\n",
       "      <td>\"edzl3ki\"</td>\n",
       "      <td>0</td>\n",
       "      <td>0</td>\n",
       "      <td>0</td>\n",
       "      <td>2</td>\n",
       "      <td>1</td>\n",
       "      <td>1</td>\n",
       "      <td>0</td>\n",
       "      <td>0</td>\n",
       "      <td>0</td>\n",
       "      <td>...</td>\n",
       "      <td>0</td>\n",
       "      <td>0</td>\n",
       "      <td>0</td>\n",
       "      <td>0</td>\n",
       "      <td>0</td>\n",
       "      <td>0</td>\n",
       "      <td>0</td>\n",
       "      <td>0</td>\n",
       "      <td>0</td>\n",
       "      <td>0</td>\n",
       "    </tr>\n",
       "    <tr>\n",
       "      <th>3</th>\n",
       "      <td>\"ee52tcc\"</td>\n",
       "      <td>0</td>\n",
       "      <td>0</td>\n",
       "      <td>0</td>\n",
       "      <td>1</td>\n",
       "      <td>0</td>\n",
       "      <td>0</td>\n",
       "      <td>0</td>\n",
       "      <td>0</td>\n",
       "      <td>0</td>\n",
       "      <td>...</td>\n",
       "      <td>0</td>\n",
       "      <td>0</td>\n",
       "      <td>0</td>\n",
       "      <td>0</td>\n",
       "      <td>0</td>\n",
       "      <td>0</td>\n",
       "      <td>0</td>\n",
       "      <td>0</td>\n",
       "      <td>0</td>\n",
       "      <td>2</td>\n",
       "    </tr>\n",
       "    <tr>\n",
       "      <th>4</th>\n",
       "      <td>\"edk510s\"</td>\n",
       "      <td>0</td>\n",
       "      <td>1</td>\n",
       "      <td>0</td>\n",
       "      <td>0</td>\n",
       "      <td>0</td>\n",
       "      <td>0</td>\n",
       "      <td>0</td>\n",
       "      <td>0</td>\n",
       "      <td>0</td>\n",
       "      <td>...</td>\n",
       "      <td>0</td>\n",
       "      <td>0</td>\n",
       "      <td>0</td>\n",
       "      <td>0</td>\n",
       "      <td>0</td>\n",
       "      <td>0</td>\n",
       "      <td>0</td>\n",
       "      <td>0</td>\n",
       "      <td>0</td>\n",
       "      <td>3</td>\n",
       "    </tr>\n",
       "  </tbody>\n",
       "</table>\n",
       "<p>5 rows × 29 columns</p>\n",
       "</div>"
      ],
      "text/plain": [
       "          id  _col1  _col2  _col3  _col4  _col5  _col6  _col7  _col8  _col9  \\\n",
       "0  \"edzwsvy\"      0      0      1      2      0      0      0      0      0   \n",
       "1  \"ee7irj3\"      0      0      0      0      0      0      0      0      0   \n",
       "2  \"edzl3ki\"      0      0      0      2      1      1      0      0      0   \n",
       "3  \"ee52tcc\"      0      0      0      1      0      0      0      0      0   \n",
       "4  \"edk510s\"      0      1      0      0      0      0      0      0      0   \n",
       "\n",
       "   ...  _col19  _col20  _col21  _col22  _col23  _col24  _col25  _col26  \\\n",
       "0  ...       0       0       0       0       0       0       0       0   \n",
       "1  ...       0       0       0       0       1       0       2       3   \n",
       "2  ...       0       0       0       0       0       0       0       0   \n",
       "3  ...       0       0       0       0       0       0       0       0   \n",
       "4  ...       0       0       0       0       0       0       0       0   \n",
       "\n",
       "   _col27  _col28  \n",
       "0       0       1  \n",
       "1       0       0  \n",
       "2       0       0  \n",
       "3       0       2  \n",
       "4       0       3  \n",
       "\n",
       "[5 rows x 29 columns]"
      ]
     },
     "execution_count": 98,
     "metadata": {},
     "output_type": "execute_result"
    }
   ],
   "source": [
    "COMPARE_RATERS = f\"\"\"\n",
    "SELECT id,\n",
    "SUM(admiration),\n",
    "SUM(amusement),\n",
    "SUM(anger),\n",
    "SUM(annoyance),\n",
    "SUM(approval),\n",
    "SUM(caring),\n",
    "SUM(confusion),\n",
    "SUM(curiosity),\n",
    "SUM(desire),\n",
    "SUM(disappointment),\n",
    "SUM(disapproval),\n",
    "SUM(disgust),\n",
    "SUM(embarrassment),\n",
    "SUM(excitement),\n",
    "SUM(fear),\n",
    "SUM(gratitude),\n",
    "SUM(grief),\n",
    "SUM(joy),\n",
    "SUM(love),\n",
    "SUM(nervousness),\n",
    "SUM(optimism),\n",
    "SUM(pride),\n",
    "SUM(realization),\n",
    "SUM(relief),\n",
    "SUM(remorse),\n",
    "SUM(sadness),\n",
    "SUM(surprise),\n",
    "SUM(neutral)\n",
    "FROM {database_name}.{table_name}\n",
    "GROUP BY id\n",
    "HAVING SUM(admiration) > 1 OR\n",
    "       SUM(amusement) > 1 OR\n",
    "       SUM(anger) > 1 OR\n",
    "       SUM(annoyance) > 1 OR\n",
    "       SUM(approval) > 1 OR\n",
    "       SUM(caring) > 1 OR\n",
    "       SUM(confusion) > 1 OR\n",
    "       SUM(curiosity) > 1 OR\n",
    "       SUM(desire) > 1 OR\n",
    "       SUM(disappointment) > 1 OR\n",
    "       SUM(disapproval) > 1 OR\n",
    "       SUM(disgust) > 1 OR\n",
    "       SUM(embarrassment) > 1 OR\n",
    "       SUM(excitement) > 1 OR\n",
    "       SUM(fear) > 1 OR\n",
    "       SUM(gratitude) > 1 OR\n",
    "       SUM(grief) > 1 OR\n",
    "       SUM(joy) > 1 OR\n",
    "       SUM(love) > 1 OR\n",
    "       SUM(nervousness) > 1 OR\n",
    "       SUM(optimism) > 1 OR\n",
    "       SUM(pride) > 1 OR\n",
    "       SUM(realization) > 1 OR\n",
    "       SUM(relief) > 1 OR\n",
    "       SUM(remorse) > 1 OR\n",
    "       SUM(sadness) > 1 OR\n",
    "       SUM(surprise) > 1 OR\n",
    "       SUM(neutral) > 1\n",
    "\"\"\"\n",
    "\n",
    "test = f\"\"\"\n",
    "SELECT *\n",
    "FROM {database_name}.{table_name}\n",
    "LIMIT 10;\n",
    "\"\"\"\n",
    "\n",
    "test2 = f\"\"\"\n",
    "SELECT admiration \n",
    "FROM {database_name}.{table_name}\n",
    "WHERE TRY_CAST(admiration AS INTEGER) IS NULL;\n",
    "\"\"\"\n",
    "df_filtered = pd.read_sql(COMPARE_RATERS, conn)\n",
    "df_filtered.head()"
   ]
  },
  {
   "cell_type": "code",
   "execution_count": 99,
   "id": "a651a5df-838d-40cf-8e6d-8fa3e514485b",
   "metadata": {
    "tags": []
   },
   "outputs": [
    {
     "data": {
      "text/plain": [
       "54263"
      ]
     },
     "execution_count": 99,
     "metadata": {},
     "output_type": "execute_result"
    }
   ],
   "source": [
    "len(df_filtered)"
   ]
  },
  {
   "cell_type": "code",
   "execution_count": 88,
   "id": "150620b4-f6db-4989-88ef-06c947d6e273",
   "metadata": {
    "tags": []
   },
   "outputs": [],
   "source": [
    "test2 = f\"DESCRIBE {database_name}.{table_name}\"\n",
    "cursor.execute(test2)\n",
    "schema_info = cursor.fetchall()"
   ]
  },
  {
   "cell_type": "code",
   "execution_count": 89,
   "id": "2d180b80-c3ef-4324-b0cb-7cc8e3f590e8",
   "metadata": {
    "tags": []
   },
   "outputs": [
    {
     "name": "stdout",
     "output_type": "stream",
     "text": [
      "[('text                \\tstring              \\t                    ',), ('id                  \\tstring              \\t                    ',), ('author              \\tstring              \\t                    ',), ('subreddit           \\tstring              \\t                    ',), ('link_id             \\tstring              \\t                    ',), ('parent_id           \\tstring              \\t                    ',), ('created_utc         \\tbigint              \\t                    ',), ('rater_id            \\tint                 \\t                    ',), ('example_very_unclear\\tboolean             \\t                    ',), ('admiration          \\tint                 \\t                    ',), ('amusement           \\tint                 \\t                    ',), ('anger               \\tint                 \\t                    ',), ('annoyance           \\tint                 \\t                    ',), ('approval            \\tint                 \\t                    ',), ('caring              \\tint                 \\t                    ',), ('confusion           \\tint                 \\t                    ',), ('curiosity           \\tint                 \\t                    ',), ('desire              \\tint                 \\t                    ',), ('disappointment      \\tint                 \\t                    ',), ('disapproval         \\tint                 \\t                    ',), ('disgust             \\tint                 \\t                    ',), ('embarrassment       \\tint                 \\t                    ',), ('excitement          \\tint                 \\t                    ',), ('fear                \\tint                 \\t                    ',), ('gratitude           \\tint                 \\t                    ',), ('grief               \\tint                 \\t                    ',), ('joy                 \\tint                 \\t                    ',), ('love                \\tint                 \\t                    ',), ('nervousness         \\tint                 \\t                    ',), ('optimism            \\tint                 \\t                    ',), ('pride               \\tint                 \\t                    ',), ('realization         \\tint                 \\t                    ',), ('relief              \\tint                 \\t                    ',), ('remorse             \\tint                 \\t                    ',), ('sadness             \\tint                 \\t                    ',), ('surprise            \\tint                 \\t                    ',), ('neutral             \\tint                 \\t                    ',)]\n"
     ]
    }
   ],
   "source": [
    "print(schema_info)"
   ]
  },
  {
   "cell_type": "code",
   "execution_count": 29,
   "id": "d91af46c-430c-4672-9568-ca9e652d6f4d",
   "metadata": {
    "tags": []
   },
   "outputs": [],
   "source": [
    "test_data_obj = s3.get_object(Bucket=bucket_name, Key='data/test.tsv')\n",
    "test_df = pd.read_csv(io.BytesIO(test_data_obj['Body'].read()), delimiter='\\t')\n",
    "\n",
    "dev_data_obj = s3.get_object(Bucket=bucket_name, Key='data/dev.tsv')\n",
    "val_df = pd.read_csv(io.BytesIO(dev_data_obj['Body'].read()), delimiter='\\t')"
   ]
  },
  {
   "cell_type": "code",
   "execution_count": 2,
   "id": "08e54b6c-2fc3-4281-bf1d-9782ab81ccc2",
   "metadata": {
    "ExecuteTime": {
     "end_time": "2024-01-16T23:25:48.496845Z",
     "start_time": "2024-01-16T23:25:48.492129Z"
    },
    "tags": []
   },
   "outputs": [
    {
     "data": {
      "text/plain": [
       "5427"
      ]
     },
     "execution_count": 2,
     "metadata": {},
     "output_type": "execute_result"
    }
   ],
   "source": [
    "len(test_df)"
   ]
  },
  {
   "cell_type": "code",
   "execution_count": 21,
   "id": "d59655f6b0d66f7f",
   "metadata": {
    "ExecuteTime": {
     "end_time": "2024-01-16T23:37:16.220735Z",
     "start_time": "2024-01-16T23:37:16.136898Z"
    },
    "collapsed": false,
    "jupyter": {
     "outputs_hidden": false
    },
    "tags": []
   },
   "outputs": [
    {
     "name": "stdout",
     "output_type": "stream",
     "text": [
      "Word Count:  count    43410.000000\n",
      "mean        12.840175\n",
      "std          6.701597\n",
      "min          1.000000\n",
      "25%          7.000000\n",
      "50%         12.000000\n",
      "75%         18.000000\n",
      "max         33.000000\n",
      "Name: text, dtype: float64\n",
      "Character Count:  count    43410.000000\n",
      "mean        68.400875\n",
      "std         36.721898\n",
      "min          2.000000\n",
      "25%         38.000000\n",
      "50%         65.000000\n",
      "75%         96.000000\n",
      "max        703.000000\n",
      "Name: text, dtype: float64\n",
      "Average Word Length:  count    43410.000000\n",
      "mean         4.473930\n",
      "std          0.943552\n",
      "min          1.000000\n",
      "25%          3.950000\n",
      "50%          4.357143\n",
      "75%          4.846154\n",
      "max         49.285714\n",
      "Name: text, dtype: float64\n",
      "Most Frequent Words:  the       16294\n",
      "I         14933\n",
      "to        12267\n",
      "a         11920\n",
      "and        8186\n",
      "is         7799\n",
      "you        7002\n",
      "of         6955\n",
      "that       6322\n",
      "[NAME]     5743\n",
      "for        5459\n",
      "in         5459\n",
      "it         5162\n",
      "this       4330\n",
      "was        3764\n",
      "be         3398\n",
      "on         3309\n",
      "my         3129\n",
      "have       3107\n",
      "like       3033\n",
      "Name: count, dtype: int64\n"
     ]
    }
   ],
   "source": [
    "# initial data exploration\n",
    "\n",
    "# Calculating text length in terms of words and characters\n",
    "word_count = train_df['text'].apply(lambda x: len(str(x).split()))\n",
    "char_count = train_df['text'].apply(lambda x: len(str(x)))\n",
    "\n",
    "# Calculating the average word length\n",
    "def avg_word(sentence):\n",
    "    words = sentence.split()\n",
    "    return sum(len(word) for word in words)/len(words)\n",
    "\n",
    "avg_word_len = train_df['text'].apply(lambda x: avg_word(x))\n",
    "\n",
    "# Word frequency\n",
    "freq = pd.Series(' '.join(train_df['text']).split()).value_counts()[:20]\n",
    "\n",
    "# Display basic statistics and the most frequent words\n",
    "print('Word Count: ', word_count.describe())\n",
    "print('Character Count: ', char_count.describe())\n",
    "print('Average Word Length: ', avg_word_len.describe())\n",
    "print('Most Frequent Words: ', freq)"
   ]
  },
  {
   "cell_type": "code",
   "execution_count": 22,
   "id": "fd544d6f9e25e2cd",
   "metadata": {
    "ExecuteTime": {
     "end_time": "2024-01-16T23:40:07.180995Z",
     "start_time": "2024-01-16T23:40:06.342451Z"
    },
    "collapsed": false,
    "jupyter": {
     "outputs_hidden": false
    },
    "tags": []
   },
   "outputs": [
    {
     "data": {
      "image/png": "[encoded data removed]",
      "text/plain": [
       "<Figure size 1200x600 with 2 Axes>"
      ]
     },
     "metadata": {},
     "output_type": "display_data"
    },
    {
     "data": {
      "image/png": "[encoded data removed]",
      "text/plain": [
       "<Figure size 1000x600 with 1 Axes>"
      ]
     },
     "metadata": {},
     "output_type": "display_data"
    }
   ],
   "source": [
    "# Setting up the aesthetics for the plots\n",
    "sns.set_style(\"whitegrid\")\n",
    "\n",
    "# Plot for Text Length Distribution\n",
    "plt.figure(figsize=(12, 6))\n",
    "\n",
    "plt.subplot(1, 2, 1)\n",
    "sns.histplot(word_count, bins=30, kde=True)\n",
    "plt.title('Word Count Distribution')\n",
    "plt.xlabel('Word Count')\n",
    "plt.ylabel('Frequency')\n",
    "\n",
    "plt.subplot(1, 2, 2)\n",
    "sns.histplot(char_count, bins=30, kde=True, color='orange')\n",
    "plt.title('Character Count Distribution')\n",
    "plt.xlabel('Character Count')\n",
    "plt.ylabel('Frequency')\n",
    "\n",
    "plt.tight_layout()\n",
    "plt.show()\n",
    "\n",
    "# Bar plot for most common words\n",
    "most_common_words = dict(freq)\n",
    "plt.figure(figsize=(10, 6))\n",
    "plt.bar(most_common_words.keys(), most_common_words.values(), color='purple')\n",
    "plt.title('Most Common Words')\n",
    "plt.xlabel('Words')\n",
    "plt.ylabel('Frequency')\n",
    "plt.xticks(rotation=45)\n",
    "plt.show()"
   ]
  },
  {
   "cell_type": "code",
   "execution_count": 23,
   "id": "5bd16907-b324-4a94-a421-000c2cb223ea",
   "metadata": {
    "tags": []
   },
   "outputs": [
    {
     "name": "stderr",
     "output_type": "stream",
     "text": [
      "/tmp/ipykernel_20/2509304997.py:3: FutureWarning: \n",
      "\n",
      "Passing `palette` without assigning `hue` is deprecated and will be removed in v0.14.0. Assign the `x` variable to `hue` and set `legend=False` for the same effect.\n",
      "\n",
      "  sns.countplot(x='emotions', data=train_df, palette='mako')\n"
     ]
    },
    {
     "data": {
      "image/png": "[encoded data removed]",
      "text/plain": [
       "<Figure size 1000x600 with 1 Axes>"
      ]
     },
     "metadata": {},
     "output_type": "display_data"
    }
   ],
   "source": [
    "# Plot the distribution of emotions\n",
    "plt.figure(figsize=(10, 6))\n",
    "sns.countplot(x='emotions', data=train_df, hue='mako')\n",
    "plt.title('Emotion Distribution')\n",
    "plt.xlabel('Emotions')\n",
    "plt.ylabel('Frequency')\n",
    "plt.show()"
   ]
  },
  {
   "cell_type": "code",
   "execution_count": 26,
   "id": "46b562fe-1e97-4fe1-8880-bff77c5be73f",
   "metadata": {
    "tags": []
   },
   "outputs": [
    {
     "data": {
      "text/plain": [
       "emotions\n",
       "27          12823\n",
       "0            2710\n",
       "4            1873\n",
       "15           1857\n",
       "1            1652\n",
       "            ...  \n",
       "11,13           1\n",
       "0,5,20          1\n",
       "9,20,25         1\n",
       "13,17,21        1\n",
       "8,11,18         1\n",
       "Name: count, Length: 711, dtype: int64"
      ]
     },
     "execution_count": 26,
     "metadata": {},
     "output_type": "execute_result"
    }
   ],
   "source": [
    "train_df['emotions'].value_counts()"
   ]
  },
  {
   "cell_type": "code",
   "execution_count": 28,
   "id": "2bb40db3-1900-4ce5-95ee-ee4b2a138fba",
   "metadata": {
    "tags": []
   },
   "outputs": [],
   "source": [
    "# Loading the file with emotion label names\n",
    "emotion_labels_obj = s3.get_object(Bucket=bucket_name, Key='data/emotions.txt')\n",
    "emotion_labels_data = emotion_labels_obj['Body'].read()\n",
    "\n",
    "# Converting the data from bytes to string and splitting by lines\n",
    "emotion_labels = emotion_labels_data.decode('utf-8').splitlines()"
   ]
  },
  {
   "cell_type": "code",
   "execution_count": 30,
   "id": "e71ea742-bc60-4f7c-a69b-c4c145b8e1b2",
   "metadata": {
    "tags": []
   },
   "outputs": [],
   "source": [
    "# Split emotions column to get count of each emotion individually\n",
    "split_emotions = train_df['emotions'].astype(str).str.split(',')"
   ]
  },
  {
   "cell_type": "code",
   "execution_count": 52,
   "id": "5138ef8b-3a75-44f7-ab95-ebb061c7052c",
   "metadata": {
    "tags": []
   },
   "outputs": [],
   "source": [
    "all_emotions = split_emotions.explode().astype(int)"
   ]
  },
  {
   "cell_type": "code",
   "execution_count": 53,
   "id": "f243f8b2-4c9f-4cdc-b932-738787aac563",
   "metadata": {
    "tags": []
   },
   "outputs": [
    {
     "data": {
      "image/png": "[encoded data removed]",
      "text/plain": [
       "<Figure size 1800x600 with 1 Axes>"
      ]
     },
     "metadata": {},
     "output_type": "display_data"
    }
   ],
   "source": [
    "# Creating a mapping of indices to emotion labels\n",
    "emotion_index_to_label = {index: label for index, label in enumerate(emotion_labels)}\n",
    "\n",
    "# Applying the mapping to the emotions dataset\n",
    "labeled_emotions = all_emotions.map(emotion_index_to_label)\n",
    "\n",
    "# Counting occurrences of each emotion label\n",
    "labeled_emotion_counts = labeled_emotions.value_counts()\n",
    "\n",
    "# Plotting the distribution of emotions with correct labels and data\n",
    "plt.figure(figsize=(18, 6))\n",
    "sns.barplot(x=labeled_emotion_counts.index, y=labeled_emotion_counts.values, hue=labeled_emotion_counts.index, palette=\"viridis\", legend=False)\n",
    "plt.title('Distribution of Emotions with Labels')\n",
    "plt.xlabel('Emotions')\n",
    "plt.ylabel('Frequency')\n",
    "plt.xticks(rotation=90)\n",
    "plt.show()\n"
   ]
  },
  {
   "cell_type": "code",
   "execution_count": 43,
   "id": "5ecc9466-aaa9-4275-b2e2-120d0bd18069",
   "metadata": {
    "tags": []
   },
   "outputs": [
    {
     "data": {
      "image/png": "[encoded data removed]",
      "text/plain": [
       "<Figure size 1800x600 with 1 Axes>"
      ]
     },
     "metadata": {},
     "output_type": "display_data"
    }
   ],
   "source": [
    "# Extracting only the first emotion label from each row\n",
    "first_emotions = train_df['emotions'].astype(str).str.split(',').str[0].astype(int)\n",
    "\n",
    "# Applying the mapping to the emotions dataset\n",
    "labeled_first_emotions = first_emotions.map(emotion_index_to_label)\n",
    "\n",
    "# Counting occurrences of each emotion label\n",
    "labeled_first_emotion_counts = labeled_first_emotions.value_counts()\n",
    "\n",
    "# Plotting the distribution of emotions with correct labels and data\n",
    "plt.figure(figsize=(18, 6))\n",
    "sns.barplot(x=labeled_first_emotion_counts.index, y=labeled_first_emotion_counts.values, hue=labeled_first_emotion_counts.index, palette=\"viridis\", legend=False)\n",
    "plt.title('Distribution of Emotions with Labels')\n",
    "plt.xlabel('Emotions')\n",
    "plt.ylabel('Frequency')\n",
    "plt.xticks(rotation=90)\n",
    "plt.show()"
   ]
  },
  {
   "cell_type": "code",
   "execution_count": 56,
   "id": "4d0f267d-d031-4c55-8604-2e5173d39550",
   "metadata": {
    "tags": []
   },
   "outputs": [
    {
     "data": {
      "text/plain": [
       "emotions\n",
       "neutral           14219\n",
       "admiration         4130\n",
       "approval           2939\n",
       "gratitude          2662\n",
       "annoyance          2470\n",
       "amusement          2328\n",
       "curiosity          2191\n",
       "love               2086\n",
       "disapproval        2022\n",
       "optimism           1581\n",
       "anger              1567\n",
       "joy                1452\n",
       "confusion          1368\n",
       "sadness            1326\n",
       "disappointment     1269\n",
       "realization        1110\n",
       "caring             1087\n",
       "surprise           1060\n",
       "excitement          853\n",
       "disgust             793\n",
       "desire              641\n",
       "fear                596\n",
       "remorse             545\n",
       "embarrassment       303\n",
       "nervousness         164\n",
       "relief              153\n",
       "pride               111\n",
       "grief                77\n",
       "Name: count, dtype: int64"
      ]
     },
     "execution_count": 56,
     "metadata": {},
     "output_type": "execute_result"
    }
   ],
   "source": [
    "labeled_emotion_counts"
   ]
  },
  {
   "cell_type": "code",
   "execution_count": 73,
   "id": "df3a0905-f8c5-4072-9f98-15a8069ce56f",
   "metadata": {
    "tags": []
   },
   "outputs": [
    {
     "data": {
      "text/plain": [
       "Affectionate Emotions                 10242\n",
       "Joyful and Entertaining Emotions       6214\n",
       "Reflective and Thoughtful Emotions     3942\n",
       "Negative Reactive Emotions             5426\n",
       "Discontented Emotions                  4920\n",
       "Complex or Ambiguous Emotions          2780\n",
       "Introspective Emotions                 3360\n",
       "Neutral                               14219\n",
       "dtype: int64"
      ]
     },
     "execution_count": 73,
     "metadata": {},
     "output_type": "execute_result"
    }
   ],
   "source": [
    "emotion_categories = {\n",
    "    'Affectionate Emotions': ['love', 'caring', 'admiration', 'approval'],\n",
    "    'Joyful and Entertaining Emotions': ['amusement', 'joy', 'excitement', 'optimism'],\n",
    "    'Reflective and Thoughtful Emotions': ['curiosity', 'realization', 'relief', 'desire'],\n",
    "    'Negative Reactive Emotions': ['annoyance', 'anger', 'disgust', 'fear'],\n",
    "    'Discontented Emotions': ['disapproval', 'disappointment', 'sadness', 'remorse', 'embarrassment'],\n",
    "    'Complex or Ambiguous Emotions': ['confusion', 'surprise', 'pride', 'grief', 'nervousness'],\n",
    "    'Introspective Emotions': ['gratitude', 'relief', 'remorse'],\n",
    "    'Neutral': ['neutral']\n",
    "}\n",
    "\n",
    "\n",
    "emotion_to_category = {}\n",
    "for category, emotions in emotion_categories.items():\n",
    "    for emotion in emotions:\n",
    "        emotion_to_category[emotion] = category\n",
    "\n",
    "category_counts = pd.Series(dtype=int).reindex(emotion_categories.keys(), fill_value=0)\n",
    "\n",
    "for emotion, count in labeled_emotion_counts.items():\n",
    "    category = emotion_to_category[emotion]\n",
    "    if category:\n",
    "        category_counts[category] += count\n",
    "        \n",
    "category_counts"
   ]
  },
  {
   "cell_type": "code",
   "execution_count": 70,
   "id": "16f6f81b-7715-4f39-8864-7d53e9a221b6",
   "metadata": {
    "tags": []
   },
   "outputs": [
    {
     "data": {
      "text/plain": [
       "{'Love': 'Affectionate Emotions',\n",
       " 'Caring': 'Affectionate Emotions',\n",
       " 'Admiration': 'Affectionate Emotions',\n",
       " 'Approval': 'Affectionate Emotions',\n",
       " 'Amusement': 'Joyful and Entertaining Emotions',\n",
       " 'Joy': 'Joyful and Entertaining Emotions',\n",
       " 'Excitement': 'Joyful and Entertaining Emotions',\n",
       " 'Optimism': 'Joyful and Entertaining Emotions',\n",
       " 'Curiosity': 'Reflective and Thoughtful Emotions',\n",
       " 'Realization': 'Reflective and Thoughtful Emotions',\n",
       " 'Relief': 'Introspective Emotions',\n",
       " 'Desire': 'Reflective and Thoughtful Emotions',\n",
       " 'Annoyance': 'Negative Reactive Emotions',\n",
       " 'Anger': 'Negative Reactive Emotions',\n",
       " 'Disgust': 'Negative Reactive Emotions',\n",
       " 'Fear': 'Negative Reactive Emotions',\n",
       " 'Disapproval': 'Discontented Emotions',\n",
       " 'Disappointment': 'Discontented Emotions',\n",
       " 'Sadness': 'Discontented Emotions',\n",
       " 'Remorse': 'Introspective Emotions',\n",
       " 'Embarrassment': 'Discontented Emotions',\n",
       " 'Pride': 'Socially-Driven Emotions',\n",
       " 'Grief': 'Socially-Driven Emotions',\n",
       " 'Nervousness': 'Socially-Driven Emotions',\n",
       " 'Confusion': 'Complex or Ambiguous Emotions',\n",
       " 'Surprise': 'Complex or Ambiguous Emotions',\n",
       " 'Gratitude': 'Introspective Emotions',\n",
       " 'Neutral': 'Neutral'}"
      ]
     },
     "execution_count": 70,
     "metadata": {},
     "output_type": "execute_result"
    }
   ],
   "source": [
    "emotion_to_category"
   ]
  },
  {
   "cell_type": "code",
   "execution_count": 102,
   "id": "148d259e-1e17-4351-8287-0eb1cb208069",
   "metadata": {
    "tags": []
   },
   "outputs": [
    {
     "data": {
      "text/html": [
       "<div>\n",
       "<style scoped>\n",
       "    .dataframe tbody tr th:only-of-type {\n",
       "        vertical-align: middle;\n",
       "    }\n",
       "\n",
       "    .dataframe tbody tr th {\n",
       "        vertical-align: top;\n",
       "    }\n",
       "\n",
       "    .dataframe thead th {\n",
       "        text-align: right;\n",
       "    }\n",
       "</style>\n",
       "<table border=\"1\" class=\"dataframe\">\n",
       "  <thead>\n",
       "    <tr style=\"text-align: right;\">\n",
       "      <th></th>\n",
       "      <th>text</th>\n",
       "      <th>emotions</th>\n",
       "      <th>id</th>\n",
       "    </tr>\n",
       "  </thead>\n",
       "  <tbody>\n",
       "    <tr>\n",
       "      <th>0</th>\n",
       "      <td>My favourite food is anything I didn't have to...</td>\n",
       "      <td>27</td>\n",
       "      <td>eebbqej</td>\n",
       "    </tr>\n",
       "    <tr>\n",
       "      <th>1</th>\n",
       "      <td>Now if he does off himself, everyone will thin...</td>\n",
       "      <td>27</td>\n",
       "      <td>ed00q6i</td>\n",
       "    </tr>\n",
       "    <tr>\n",
       "      <th>2</th>\n",
       "      <td>WHY THE FUCK IS BAYLESS ISOING</td>\n",
       "      <td>2</td>\n",
       "      <td>eezlygj</td>\n",
       "    </tr>\n",
       "    <tr>\n",
       "      <th>3</th>\n",
       "      <td>To make her feel threatened</td>\n",
       "      <td>14</td>\n",
       "      <td>ed7ypvh</td>\n",
       "    </tr>\n",
       "    <tr>\n",
       "      <th>4</th>\n",
       "      <td>Dirty Southern Wankers</td>\n",
       "      <td>3</td>\n",
       "      <td>ed0bdzj</td>\n",
       "    </tr>\n",
       "    <tr>\n",
       "      <th>5</th>\n",
       "      <td>OmG pEyToN iSn'T gOoD eNoUgH tO hElP uS iN tHe...</td>\n",
       "      <td>26</td>\n",
       "      <td>edvnz26</td>\n",
       "    </tr>\n",
       "    <tr>\n",
       "      <th>6</th>\n",
       "      <td>Yes I heard abt the f bombs! That has to be wh...</td>\n",
       "      <td>15</td>\n",
       "      <td>ee3b6wu</td>\n",
       "    </tr>\n",
       "    <tr>\n",
       "      <th>7</th>\n",
       "      <td>We need more boards and to create a bit more s...</td>\n",
       "      <td>8,20</td>\n",
       "      <td>ef4qmod</td>\n",
       "    </tr>\n",
       "    <tr>\n",
       "      <th>8</th>\n",
       "      <td>Damn youtube and outrage drama is super lucrat...</td>\n",
       "      <td>0</td>\n",
       "      <td>ed8wbdn</td>\n",
       "    </tr>\n",
       "    <tr>\n",
       "      <th>9</th>\n",
       "      <td>It might be linked to the trust factor of your...</td>\n",
       "      <td>27</td>\n",
       "      <td>eczgv1o</td>\n",
       "    </tr>\n",
       "    <tr>\n",
       "      <th>10</th>\n",
       "      <td>Demographics? I don’t know anybody under 35 wh...</td>\n",
       "      <td>6</td>\n",
       "      <td>eel6g5h</td>\n",
       "    </tr>\n",
       "    <tr>\n",
       "      <th>11</th>\n",
       "      <td>Aww... she'll probably come around eventually,...</td>\n",
       "      <td>1,4</td>\n",
       "      <td>edex4ki</td>\n",
       "    </tr>\n",
       "    <tr>\n",
       "      <th>12</th>\n",
       "      <td>Hello everyone. Im from Toronto as well. Can c...</td>\n",
       "      <td>27</td>\n",
       "      <td>ef83m1s</td>\n",
       "    </tr>\n",
       "    <tr>\n",
       "      <th>13</th>\n",
       "      <td>R/sleeptrain Might be time for some sleep trai...</td>\n",
       "      <td>5</td>\n",
       "      <td>efh7xnk</td>\n",
       "    </tr>\n",
       "    <tr>\n",
       "      <th>14</th>\n",
       "      <td>[NAME] - same fucking problem, slightly better...</td>\n",
       "      <td>3</td>\n",
       "      <td>efdqav7</td>\n",
       "    </tr>\n",
       "    <tr>\n",
       "      <th>15</th>\n",
       "      <td>Shit, I guess I accidentally bought a Pay-Per-...</td>\n",
       "      <td>3,12</td>\n",
       "      <td>edivtm3</td>\n",
       "    </tr>\n",
       "    <tr>\n",
       "      <th>16</th>\n",
       "      <td>Thank you friend</td>\n",
       "      <td>15</td>\n",
       "      <td>eeqd04y</td>\n",
       "    </tr>\n",
       "    <tr>\n",
       "      <th>17</th>\n",
       "      <td>Fucking coward.</td>\n",
       "      <td>2</td>\n",
       "      <td>edk0z9k</td>\n",
       "    </tr>\n",
       "    <tr>\n",
       "      <th>18</th>\n",
       "      <td>that is what retardation looks like</td>\n",
       "      <td>27</td>\n",
       "      <td>eeb9aft</td>\n",
       "    </tr>\n",
       "    <tr>\n",
       "      <th>19</th>\n",
       "      <td>Maybe that’s what happened to the great white ...</td>\n",
       "      <td>6,22</td>\n",
       "      <td>eczq8zg</td>\n",
       "    </tr>\n",
       "  </tbody>\n",
       "</table>\n",
       "</div>"
      ],
      "text/plain": [
       "                                                 text emotions       id\n",
       "0   My favourite food is anything I didn't have to...       27  eebbqej\n",
       "1   Now if he does off himself, everyone will thin...       27  ed00q6i\n",
       "2                      WHY THE FUCK IS BAYLESS ISOING        2  eezlygj\n",
       "3                         To make her feel threatened       14  ed7ypvh\n",
       "4                              Dirty Southern Wankers        3  ed0bdzj\n",
       "5   OmG pEyToN iSn'T gOoD eNoUgH tO hElP uS iN tHe...       26  edvnz26\n",
       "6   Yes I heard abt the f bombs! That has to be wh...       15  ee3b6wu\n",
       "7   We need more boards and to create a bit more s...     8,20  ef4qmod\n",
       "8   Damn youtube and outrage drama is super lucrat...        0  ed8wbdn\n",
       "9   It might be linked to the trust factor of your...       27  eczgv1o\n",
       "10  Demographics? I don’t know anybody under 35 wh...        6  eel6g5h\n",
       "11  Aww... she'll probably come around eventually,...      1,4  edex4ki\n",
       "12  Hello everyone. Im from Toronto as well. Can c...       27  ef83m1s\n",
       "13  R/sleeptrain Might be time for some sleep trai...        5  efh7xnk\n",
       "14  [NAME] - same fucking problem, slightly better...        3  efdqav7\n",
       "15  Shit, I guess I accidentally bought a Pay-Per-...     3,12  edivtm3\n",
       "16                                   Thank you friend       15  eeqd04y\n",
       "17                                    Fucking coward.        2  edk0z9k\n",
       "18                that is what retardation looks like       27  eeb9aft\n",
       "19  Maybe that’s what happened to the great white ...     6,22  eczq8zg"
      ]
     },
     "execution_count": 102,
     "metadata": {},
     "output_type": "execute_result"
    }
   ],
   "source": [
    "column_names = ['text', 'emotions', 'id']\n",
    "train_data_obj = s3.get_object(Bucket=bucket_name, Key='data/train.tsv')\n",
    "train_df = pd.read_csv(io.BytesIO(train_data_obj['Body'].read()), delimiter='\\t', header=None, names=column_names)\n",
    "\n",
    "train_df.head(20)"
   ]
  },
  {
   "cell_type": "code",
   "execution_count": 104,
   "id": "5e06122c-7365-40d6-8b7e-28bab7cf63ff",
   "metadata": {
    "tags": []
   },
   "outputs": [
    {
     "data": {
      "text/plain": [
       "emotions\n",
       "27       12823\n",
       "0         2710\n",
       "4         1873\n",
       "15        1857\n",
       "1         1652\n",
       "3         1451\n",
       "18        1427\n",
       "10        1402\n",
       "7         1389\n",
       "2         1025\n",
       "20         861\n",
       "6          858\n",
       "17         853\n",
       "25         817\n",
       "26         720\n",
       "9          709\n",
       "5          649\n",
       "22         586\n",
       "13         510\n",
       "11         498\n",
       "14         430\n",
       "8          389\n",
       "24         353\n",
       "2,3        230\n",
       "0,15       227\n",
       "12         203\n",
       "0,4        199\n",
       "4,27       190\n",
       "6,7        174\n",
       "0,18       155\n",
       "3,10       148\n",
       "3,27       123\n",
       "10,27      104\n",
       "9,25       103\n",
       "7,27       102\n",
       "Name: count, dtype: int64"
      ]
     },
     "execution_count": 104,
     "metadata": {},
     "output_type": "execute_result"
    }
   ],
   "source": [
    "train_df['emotions'].value_counts().head(35)"
   ]
  },
  {
   "cell_type": "code",
   "execution_count": null,
   "id": "975f4b65-eaea-46c0-b478-2f4c404b668a",
   "metadata": {},
   "outputs": [],
   "source": []
  }
 ],
 "metadata": {
  "availableInstances": [
   {
    "_defaultOrder": 0,
    "_isFastLaunch": true,
    "category": "General purpose",
    "gpuNum": 0,
    "hideHardwareSpecs": false,
    "memoryGiB": 4,
    "name": "ml.t3.medium",
    "vcpuNum": 2
   },
   {
    "_defaultOrder": 1,
    "_isFastLaunch": false,
    "category": "General purpose",
    "gpuNum": 0,
    "hideHardwareSpecs": false,
    "memoryGiB": 8,
    "name": "ml.t3.large",
    "vcpuNum": 2
   },
   {
    "_defaultOrder": 2,
    "_isFastLaunch": false,
    "category": "General purpose",
    "gpuNum": 0,
    "hideHardwareSpecs": false,
    "memoryGiB": 16,
    "name": "ml.t3.xlarge",
    "vcpuNum": 4
   },
   {
    "_defaultOrder": 3,
    "_isFastLaunch": false,
    "category": "General purpose",
    "gpuNum": 0,
    "hideHardwareSpecs": false,
    "memoryGiB": 32,
    "name": "ml.t3.2xlarge",
    "vcpuNum": 8
   },
   {
    "_defaultOrder": 4,
    "_isFastLaunch": true,
    "category": "General purpose",
    "gpuNum": 0,
    "hideHardwareSpecs": false,
    "memoryGiB": 8,
    "name": "ml.m5.large",
    "vcpuNum": 2
   },
   {
    "_defaultOrder": 5,
    "_isFastLaunch": false,
    "category": "General purpose",
    "gpuNum": 0,
    "hideHardwareSpecs": false,
    "memoryGiB": 16,
    "name": "ml.m5.xlarge",
    "vcpuNum": 4
   },
   {
    "_defaultOrder": 6,
    "_isFastLaunch": false,
    "category": "General purpose",
    "gpuNum": 0,
    "hideHardwareSpecs": false,
    "memoryGiB": 32,
    "name": "ml.m5.2xlarge",
    "vcpuNum": 8
   },
   {
    "_defaultOrder": 7,
    "_isFastLaunch": false,
    "category": "General purpose",
    "gpuNum": 0,
    "hideHardwareSpecs": false,
    "memoryGiB": 64,
    "name": "ml.m5.4xlarge",
    "vcpuNum": 16
   },
   {
    "_defaultOrder": 8,
    "_isFastLaunch": false,
    "category": "General purpose",
    "gpuNum": 0,
    "hideHardwareSpecs": false,
    "memoryGiB": 128,
    "name": "ml.m5.8xlarge",
    "vcpuNum": 32
   },
   {
    "_defaultOrder": 9,
    "_isFastLaunch": false,
    "category": "General purpose",
    "gpuNum": 0,
    "hideHardwareSpecs": false,
    "memoryGiB": 192,
    "name": "ml.m5.12xlarge",
    "vcpuNum": 48
   },
   {
    "_defaultOrder": 10,
    "_isFastLaunch": false,
    "category": "General purpose",
    "gpuNum": 0,
    "hideHardwareSpecs": false,
    "memoryGiB": 256,
    "name": "ml.m5.16xlarge",
    "vcpuNum": 64
   },
   {
    "_defaultOrder": 11,
    "_isFastLaunch": false,
    "category": "General purpose",
    "gpuNum": 0,
    "hideHardwareSpecs": false,
    "memoryGiB": 384,
    "name": "ml.m5.24xlarge",
    "vcpuNum": 96
   },
   {
    "_defaultOrder": 12,
    "_isFastLaunch": false,
    "category": "General purpose",
    "gpuNum": 0,
    "hideHardwareSpecs": false,
    "memoryGiB": 8,
    "name": "ml.m5d.large",
    "vcpuNum": 2
   },
   {
    "_defaultOrder": 13,
    "_isFastLaunch": false,
    "category": "General purpose",
    "gpuNum": 0,
    "hideHardwareSpecs": false,
    "memoryGiB": 16,
    "name": "ml.m5d.xlarge",
    "vcpuNum": 4
   },
   {
    "_defaultOrder": 14,
    "_isFastLaunch": false,
    "category": "General purpose",
    "gpuNum": 0,
    "hideHardwareSpecs": false,
    "memoryGiB": 32,
    "name": "ml.m5d.2xlarge",
    "vcpuNum": 8
   },
   {
    "_defaultOrder": 15,
    "_isFastLaunch": false,
    "category": "General purpose",
    "gpuNum": 0,
    "hideHardwareSpecs": false,
    "memoryGiB": 64,
    "name": "ml.m5d.4xlarge",
    "vcpuNum": 16
   },
   {
    "_defaultOrder": 16,
    "_isFastLaunch": false,
    "category": "General purpose",
    "gpuNum": 0,
    "hideHardwareSpecs": false,
    "memoryGiB": 128,
    "name": "ml.m5d.8xlarge",
    "vcpuNum": 32
   },
   {
    "_defaultOrder": 17,
    "_isFastLaunch": false,
    "category": "General purpose",
    "gpuNum": 0,
    "hideHardwareSpecs": false,
    "memoryGiB": 192,
    "name": "ml.m5d.12xlarge",
    "vcpuNum": 48
   },
   {
    "_defaultOrder": 18,
    "_isFastLaunch": false,
    "category": "General purpose",
    "gpuNum": 0,
    "hideHardwareSpecs": false,
    "memoryGiB": 256,
    "name": "ml.m5d.16xlarge",
    "vcpuNum": 64
   },
   {
    "_defaultOrder": 19,
    "_isFastLaunch": false,
    "category": "General purpose",
    "gpuNum": 0,
    "hideHardwareSpecs": false,
    "memoryGiB": 384,
    "name": "ml.m5d.24xlarge",
    "vcpuNum": 96
   },
   {
    "_defaultOrder": 20,
    "_isFastLaunch": false,
    "category": "General purpose",
    "gpuNum": 0,
    "hideHardwareSpecs": true,
    "memoryGiB": 0,
    "name": "ml.geospatial.interactive",
    "supportedImageNames": [
     "sagemaker-geospatial-v1-0"
    ],
    "vcpuNum": 0
   },
   {
    "_defaultOrder": 21,
    "_isFastLaunch": true,
    "category": "Compute optimized",
    "gpuNum": 0,
    "hideHardwareSpecs": false,
    "memoryGiB": 4,
    "name": "ml.c5.large",
    "vcpuNum": 2
   },
   {
    "_defaultOrder": 22,
    "_isFastLaunch": false,
    "category": "Compute optimized",
    "gpuNum": 0,
    "hideHardwareSpecs": false,
    "memoryGiB": 8,
    "name": "ml.c5.xlarge",
    "vcpuNum": 4
   },
   {
    "_defaultOrder": 23,
    "_isFastLaunch": false,
    "category": "Compute optimized",
    "gpuNum": 0,
    "hideHardwareSpecs": false,
    "memoryGiB": 16,
    "name": "ml.c5.2xlarge",
    "vcpuNum": 8
   },
   {
    "_defaultOrder": 24,
    "_isFastLaunch": false,
    "category": "Compute optimized",
    "gpuNum": 0,
    "hideHardwareSpecs": false,
    "memoryGiB": 32,
    "name": "ml.c5.4xlarge",
    "vcpuNum": 16
   },
   {
    "_defaultOrder": 25,
    "_isFastLaunch": false,
    "category": "Compute optimized",
    "gpuNum": 0,
    "hideHardwareSpecs": false,
    "memoryGiB": 72,
    "name": "ml.c5.9xlarge",
    "vcpuNum": 36
   },
   {
    "_defaultOrder": 26,
    "_isFastLaunch": false,
    "category": "Compute optimized",
    "gpuNum": 0,
    "hideHardwareSpecs": false,
    "memoryGiB": 96,
    "name": "ml.c5.12xlarge",
    "vcpuNum": 48
   },
   {
    "_defaultOrder": 27,
    "_isFastLaunch": false,
    "category": "Compute optimized",
    "gpuNum": 0,
    "hideHardwareSpecs": false,
    "memoryGiB": 144,
    "name": "ml.c5.18xlarge",
    "vcpuNum": 72
   },
   {
    "_defaultOrder": 28,
    "_isFastLaunch": false,
    "category": "Compute optimized",
    "gpuNum": 0,
    "hideHardwareSpecs": false,
    "memoryGiB": 192,
    "name": "ml.c5.24xlarge",
    "vcpuNum": 96
   },
   {
    "_defaultOrder": 29,
    "_isFastLaunch": true,
    "category": "Accelerated computing",
    "gpuNum": 1,
    "hideHardwareSpecs": false,
    "memoryGiB": 16,
    "name": "ml.g4dn.xlarge",
    "vcpuNum": 4
   },
   {
    "_defaultOrder": 30,
    "_isFastLaunch": false,
    "category": "Accelerated computing",
    "gpuNum": 1,
    "hideHardwareSpecs": false,
    "memoryGiB": 32,
    "name": "ml.g4dn.2xlarge",
    "vcpuNum": 8
   },
   {
    "_defaultOrder": 31,
    "_isFastLaunch": false,
    "category": "Accelerated computing",
    "gpuNum": 1,
    "hideHardwareSpecs": false,
    "memoryGiB": 64,
    "name": "ml.g4dn.4xlarge",
    "vcpuNum": 16
   },
   {
    "_defaultOrder": 32,
    "_isFastLaunch": false,
    "category": "Accelerated computing",
    "gpuNum": 1,
    "hideHardwareSpecs": false,
    "memoryGiB": 128,
    "name": "ml.g4dn.8xlarge",
    "vcpuNum": 32
   },
   {
    "_defaultOrder": 33,
    "_isFastLaunch": false,
    "category": "Accelerated computing",
    "gpuNum": 4,
    "hideHardwareSpecs": false,
    "memoryGiB": 192,
    "name": "ml.g4dn.12xlarge",
    "vcpuNum": 48
   },
   {
    "_defaultOrder": 34,
    "_isFastLaunch": false,
    "category": "Accelerated computing",
    "gpuNum": 1,
    "hideHardwareSpecs": false,
    "memoryGiB": 256,
    "name": "ml.g4dn.16xlarge",
    "vcpuNum": 64
   },
   {
    "_defaultOrder": 35,
    "_isFastLaunch": false,
    "category": "Accelerated computing",
    "gpuNum": 1,
    "hideHardwareSpecs": false,
    "memoryGiB": 61,
    "name": "ml.p3.2xlarge",
    "vcpuNum": 8
   },
   {
    "_defaultOrder": 36,
    "_isFastLaunch": false,
    "category": "Accelerated computing",
    "gpuNum": 4,
    "hideHardwareSpecs": false,
    "memoryGiB": 244,
    "name": "ml.p3.8xlarge",
    "vcpuNum": 32
   },
   {
    "_defaultOrder": 37,
    "_isFastLaunch": false,
    "category": "Accelerated computing",
    "gpuNum": 8,
    "hideHardwareSpecs": false,
    "memoryGiB": 488,
    "name": "ml.p3.16xlarge",
    "vcpuNum": 64
   },
   {
    "_defaultOrder": 38,
    "_isFastLaunch": false,
    "category": "Accelerated computing",
    "gpuNum": 8,
    "hideHardwareSpecs": false,
    "memoryGiB": 768,
    "name": "ml.p3dn.24xlarge",
    "vcpuNum": 96
   },
   {
    "_defaultOrder": 39,
    "_isFastLaunch": false,
    "category": "Memory Optimized",
    "gpuNum": 0,
    "hideHardwareSpecs": false,
    "memoryGiB": 16,
    "name": "ml.r5.large",
    "vcpuNum": 2
   },
   {
    "_defaultOrder": 40,
    "_isFastLaunch": false,
    "category": "Memory Optimized",
    "gpuNum": 0,
    "hideHardwareSpecs": false,
    "memoryGiB": 32,
    "name": "ml.r5.xlarge",
    "vcpuNum": 4
   },
   {
    "_defaultOrder": 41,
    "_isFastLaunch": false,
    "category": "Memory Optimized",
    "gpuNum": 0,
    "hideHardwareSpecs": false,
    "memoryGiB": 64,
    "name": "ml.r5.2xlarge",
    "vcpuNum": 8
   },
   {
    "_defaultOrder": 42,
    "_isFastLaunch": false,
    "category": "Memory Optimized",
    "gpuNum": 0,
    "hideHardwareSpecs": false,
    "memoryGiB": 128,
    "name": "ml.r5.4xlarge",
    "vcpuNum": 16
   },
   {
    "_defaultOrder": 43,
    "_isFastLaunch": false,
    "category": "Memory Optimized",
    "gpuNum": 0,
    "hideHardwareSpecs": false,
    "memoryGiB": 256,
    "name": "ml.r5.8xlarge",
    "vcpuNum": 32
   },
   {
    "_defaultOrder": 44,
    "_isFastLaunch": false,
    "category": "Memory Optimized",
    "gpuNum": 0,
    "hideHardwareSpecs": false,
    "memoryGiB": 384,
    "name": "ml.r5.12xlarge",
    "vcpuNum": 48
   },
   {
    "_defaultOrder": 45,
    "_isFastLaunch": false,
    "category": "Memory Optimized",
    "gpuNum": 0,
    "hideHardwareSpecs": false,
    "memoryGiB": 512,
    "name": "ml.r5.16xlarge",
    "vcpuNum": 64
   },
   {
    "_defaultOrder": 46,
    "_isFastLaunch": false,
    "category": "Memory Optimized",
    "gpuNum": 0,
    "hideHardwareSpecs": false,
    "memoryGiB": 768,
    "name": "ml.r5.24xlarge",
    "vcpuNum": 96
   },
   {
    "_defaultOrder": 47,
    "_isFastLaunch": false,
    "category": "Accelerated computing",
    "gpuNum": 1,
    "hideHardwareSpecs": false,
    "memoryGiB": 16,
    "name": "ml.g5.xlarge",
    "vcpuNum": 4
   },
   {
    "_defaultOrder": 48,
    "_isFastLaunch": false,
    "category": "Accelerated computing",
    "gpuNum": 1,
    "hideHardwareSpecs": false,
    "memoryGiB": 32,
    "name": "ml.g5.2xlarge",
    "vcpuNum": 8
   },
   {
    "_defaultOrder": 49,
    "_isFastLaunch": false,
    "category": "Accelerated computing",
    "gpuNum": 1,
    "hideHardwareSpecs": false,
    "memoryGiB": 64,
    "name": "ml.g5.4xlarge",
    "vcpuNum": 16
   },
   {
    "_defaultOrder": 50,
    "_isFastLaunch": false,
    "category": "Accelerated computing",
    "gpuNum": 1,
    "hideHardwareSpecs": false,
    "memoryGiB": 128,
    "name": "ml.g5.8xlarge",
    "vcpuNum": 32
   },
   {
    "_defaultOrder": 51,
    "_isFastLaunch": false,
    "category": "Accelerated computing",
    "gpuNum": 1,
    "hideHardwareSpecs": false,
    "memoryGiB": 256,
    "name": "ml.g5.16xlarge",
    "vcpuNum": 64
   },
   {
    "_defaultOrder": 52,
    "_isFastLaunch": false,
    "category": "Accelerated computing",
    "gpuNum": 4,
    "hideHardwareSpecs": false,
    "memoryGiB": 192,
    "name": "ml.g5.12xlarge",
    "vcpuNum": 48
   },
   {
    "_defaultOrder": 53,
    "_isFastLaunch": false,
    "category": "Accelerated computing",
    "gpuNum": 4,
    "hideHardwareSpecs": false,
    "memoryGiB": 384,
    "name": "ml.g5.24xlarge",
    "vcpuNum": 96
   },
   {
    "_defaultOrder": 54,
    "_isFastLaunch": false,
    "category": "Accelerated computing",
    "gpuNum": 8,
    "hideHardwareSpecs": false,
    "memoryGiB": 768,
    "name": "ml.g5.48xlarge",
    "vcpuNum": 192
   },
   {
    "_defaultOrder": 55,
    "_isFastLaunch": false,
    "category": "Accelerated computing",
    "gpuNum": 8,
    "hideHardwareSpecs": false,
    "memoryGiB": 1152,
    "name": "ml.p4d.24xlarge",
    "vcpuNum": 96
   },
   {
    "_defaultOrder": 56,
    "_isFastLaunch": false,
    "category": "Accelerated computing",
    "gpuNum": 8,
    "hideHardwareSpecs": false,
    "memoryGiB": 1152,
    "name": "ml.p4de.24xlarge",
    "vcpuNum": 96
   },
   {
    "_defaultOrder": 57,
    "_isFastLaunch": false,
    "category": "Accelerated computing",
    "gpuNum": 0,
    "hideHardwareSpecs": false,
    "memoryGiB": 32,
    "name": "ml.trn1.2xlarge",
    "vcpuNum": 8
   },
   {
    "_defaultOrder": 58,
    "_isFastLaunch": false,
    "category": "Accelerated computing",
    "gpuNum": 0,
    "hideHardwareSpecs": false,
    "memoryGiB": 512,
    "name": "ml.trn1.32xlarge",
    "vcpuNum": 128
   },
   {
    "_defaultOrder": 59,
    "_isFastLaunch": false,
    "category": "Accelerated computing",
    "gpuNum": 0,
    "hideHardwareSpecs": false,
    "memoryGiB": 512,
    "name": "ml.trn1n.32xlarge",
    "vcpuNum": 128
   }
  ],
  "instance_type": "ml.t3.medium",
  "kernelspec": {
   "display_name": "Python 3 (Data Science 3.0)",
   "language": "python",
   "name": "python3__SAGEMAKER_INTERNAL__arn:aws:sagemaker:us-east-1:081325390199:image/sagemaker-data-science-310-v1"
  },
  "language_info": {
   "codemirror_mode": {
    "name": "ipython",
    "version": 3
   },
   "file_extension": ".py",
   "mimetype": "text/x-python",
   "name": "python",
   "nbconvert_exporter": "python",
   "pygments_lexer": "ipython3",
   "version": "3.10.6"
  }
 },
 "nbformat": 4,
 "nbformat_minor": 5
}
