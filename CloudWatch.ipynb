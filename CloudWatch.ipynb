{
 "cells": [
  {
   "cell_type": "markdown",
   "id": "1b4e5d11-39a7-42e6-86e2-0d5c30b99994",
   "metadata": {},
   "source": [
    "# CloudWatch"
   ]
  },
  {
   "cell_type": "code",
   "execution_count": 7,
   "id": "2cae21f9-da6e-4735-b67c-14a6e6e20f7c",
   "metadata": {
    "tags": []
   },
   "outputs": [
    {
     "name": "stdout",
     "output_type": "stream",
     "text": [
      "CPU times: user 573 µs, sys: 35 µs, total: 608 µs\n",
      "Wall time: 618 µs\n"
     ]
    }
   ],
   "source": [
    "%%time\n",
    "import boto3\n",
    "import pandas as pd\n",
    "from datetime import datetime, timedelta, timezone\n",
    "import io\n",
    "import json\n",
    "from time import sleep\n",
    "from threading import Thread\n",
    "\n",
    "import sagemaker\n",
    "from sagemaker.session import Session\n",
    "from sagemaker.feature_store.feature_group import FeatureGroup\n",
    "from sagemaker import get_execution_role, session, Session, image_uris\n",
    "from sagemaker.s3 import S3Downloader, S3Uploader\n",
    "from sagemaker.processing import ProcessingJob\n",
    "from sagemaker.serializers import CSVSerializer\n",
    "from sagemaker.model_monitor import DataCaptureConfig\n",
    "from sagemaker.huggingface.model import HuggingFaceModel"
   ]
  },
  {
   "cell_type": "code",
   "execution_count": 8,
   "id": "c609b2f6-a95e-4391-adea-d44dc4421ddd",
   "metadata": {
    "tags": []
   },
   "outputs": [
    {
     "name": "stdout",
     "output_type": "stream",
     "text": [
      "Image URI: 156813124566.dkr.ecr.us-east-1.amazonaws.com/sagemaker-model-monitor-analyzer\n",
      "Capture path: s3://aai-540-final-data-east-1/sagemaker/AIEmotions-ModelQualityMonitor/datacapture\n",
      "Ground truth path: s3://aai-540-final-data-east-1/sagemaker/AIEmotions-ModelQualityMonitor/ground_truth_data/2024-02-21-19-18-30\n",
      "Report path: s3://aai-540-final-data-east-1/sagemaker/AIEmotions-ModelQualityMonitor/reports\n"
     ]
    }
   ],
   "source": [
    "##S3 prefixes\n",
    "bucket_name = 'aai-540-final-data-east-1'\n",
    "region_name = 'us-east-1'\n",
    "session = sagemaker.Session(boto3.Session(region_name=region_name))\n",
    "s3 = session.boto_session.client('s3')\n",
    "s3_path = 'athena/results/'\n",
    "\n",
    "prefix = \"sagemaker/AIEmotions-ModelQualityMonitor\"\n",
    "data_capture_prefix = f\"{prefix}/datacapture\"\n",
    "s3_capture_upload_path = f\"s3://{bucket_name}/{data_capture_prefix}\"\n",
    "\n",
    "\n",
    "ground_truth_upload_path = (\n",
    "    f\"s3://{bucket_name}/{prefix}/ground_truth_data/{datetime.now():%Y-%m-%d-%H-%M-%S}\"\n",
    ")\n",
    "\n",
    "reports_prefix = f\"{prefix}/reports\"\n",
    "s3_report_path = f\"s3://{bucket_name}/{reports_prefix}\"\n",
    "\n",
    "##Get the model monitor image\n",
    "monitor_image_uri = image_uris.retrieve(framework=\"model-monitor\", region=region_name)\n",
    "\n",
    "print(\"Image URI:\", monitor_image_uri)\n",
    "print(f\"Capture path: {s3_capture_upload_path}\")\n",
    "print(f\"Ground truth path: {ground_truth_upload_path}\")\n",
    "print(f\"Report path: {s3_report_path}\")"
   ]
  },
  {
   "cell_type": "code",
   "execution_count": 4,
   "id": "c1bfff60-5d3a-4c4d-a4a8-c99be1d23085",
   "metadata": {
    "tags": []
   },
   "outputs": [],
   "source": [
    "'''\n",
    "# Access Queried Test Data\n",
    "bucket_name = 'aai-540-final-data'\n",
    "s3_test_query = 'athena/results/f4cf6706-1ba6-4538-ab86-13c8137facb5.csv'\n",
    "test_data_obj = s3.get_object(Bucket=bucket_name, Key = s3_test_query)\n",
    "df_test = pd.read_csv(io.BytesIO(test_data_obj['Body'].read()))\n",
    "'''"
   ]
  },
  {
   "cell_type": "code",
   "execution_count": 9,
   "id": "c8342d93-fc3c-4333-9703-272b95814201",
   "metadata": {
    "tags": []
   },
   "outputs": [
    {
     "data": {
      "text/html": [
       "<div>\n",
       "<style scoped>\n",
       "    .dataframe tbody tr th:only-of-type {\n",
       "        vertical-align: middle;\n",
       "    }\n",
       "\n",
       "    .dataframe tbody tr th {\n",
       "        vertical-align: top;\n",
       "    }\n",
       "\n",
       "    .dataframe thead th {\n",
       "        text-align: right;\n",
       "    }\n",
       "</style>\n",
       "<table border=\"1\" class=\"dataframe\">\n",
       "  <thead>\n",
       "    <tr style=\"text-align: right;\">\n",
       "      <th></th>\n",
       "      <th>text</th>\n",
       "      <th>emotions</th>\n",
       "    </tr>\n",
       "  </thead>\n",
       "  <tbody>\n",
       "    <tr>\n",
       "      <th>0</th>\n",
       "      <td>Yeah I tried to apply but with being partially...</td>\n",
       "      <td>sadness</td>\n",
       "    </tr>\n",
       "    <tr>\n",
       "      <th>1</th>\n",
       "      <td>First time, health/environmental reasons. Seco...</td>\n",
       "      <td>neutral</td>\n",
       "    </tr>\n",
       "    <tr>\n",
       "      <th>2</th>\n",
       "      <td>Wow. I dig that.</td>\n",
       "      <td>affectionate</td>\n",
       "    </tr>\n",
       "    <tr>\n",
       "      <th>3</th>\n",
       "      <td>Thank you! We’re currently shoveling ourselves...</td>\n",
       "      <td>happy</td>\n",
       "    </tr>\n",
       "    <tr>\n",
       "      <th>4</th>\n",
       "      <td>This is one of my favorite of [NAME] songs alt...</td>\n",
       "      <td>affectionate</td>\n",
       "    </tr>\n",
       "    <tr>\n",
       "      <th>...</th>\n",
       "      <td>...</td>\n",
       "      <td>...</td>\n",
       "    </tr>\n",
       "    <tr>\n",
       "      <th>5422</th>\n",
       "      <td>So, the kicker... her brother played on Xbox s...</td>\n",
       "      <td>neutral</td>\n",
       "    </tr>\n",
       "    <tr>\n",
       "      <th>5423</th>\n",
       "      <td>It would be hilarious if it was a pasta place too</td>\n",
       "      <td>happy</td>\n",
       "    </tr>\n",
       "    <tr>\n",
       "      <th>5424</th>\n",
       "      <td>Oh damn, that would have been the only correct...</td>\n",
       "      <td>sadness</td>\n",
       "    </tr>\n",
       "    <tr>\n",
       "      <th>5425</th>\n",
       "      <td>At this point, LSC only exists to give sociali...</td>\n",
       "      <td>anger</td>\n",
       "    </tr>\n",
       "    <tr>\n",
       "      <th>5426</th>\n",
       "      <td>omgad that monster!</td>\n",
       "      <td>neutral</td>\n",
       "    </tr>\n",
       "  </tbody>\n",
       "</table>\n",
       "<p>5427 rows × 2 columns</p>\n",
       "</div>"
      ],
      "text/plain": [
       "                                                   text      emotions\n",
       "0     Yeah I tried to apply but with being partially...       sadness\n",
       "1     First time, health/environmental reasons. Seco...       neutral\n",
       "2                                      Wow. I dig that.  affectionate\n",
       "3     Thank you! We’re currently shoveling ourselves...         happy\n",
       "4     This is one of my favorite of [NAME] songs alt...  affectionate\n",
       "...                                                 ...           ...\n",
       "5422  So, the kicker... her brother played on Xbox s...       neutral\n",
       "5423  It would be hilarious if it was a pasta place too         happy\n",
       "5424  Oh damn, that would have been the only correct...       sadness\n",
       "5425  At this point, LSC only exists to give sociali...         anger\n",
       "5426                                omgad that monster!       neutral\n",
       "\n",
       "[5427 rows x 2 columns]"
      ]
     },
     "execution_count": 9,
     "metadata": {},
     "output_type": "execute_result"
    }
   ],
   "source": [
    "df_test_new = pd.read_csv('test.csv')\n",
    "df_test_new\n",
    "\n",
    "emotion_categories = {\n",
    "\t\"anger\": [\"anger\", \"annoyance\", \"disapproval\"],\n",
    "\t\"disgust\": [\"disgust\"],\n",
    "\t\"fear\": [\"fear\", \"nervousness\"],\n",
    "\t\"happy\": [\"joy\", \"amusement\", \"approval\", \"gratitude\"],\n",
    "\t\"optimistic\": [\"optimism\", \"relief\", \"pride\", \"excitement\"],\n",
    "\t\"affectionate\": [ \"love\", \"caring\", \"admiration\",  \"desire\"],\n",
    "\t\"sadness\": [\"sadness\", \"disappointment\", \"embarrassment\", \"grief\",  \"remorse\"],\n",
    "\t\"surprise\": [\"surprise\", \"realization\", \"confusion\", \"curiosity\"],\n",
    "\t\"neutral\": [\"neutral\"]\n",
    "} \n",
    "\n",
    "emotion_index_to_label = {index: label for index, label in enumerate(emotion_categories)}\n",
    "df_test_new['emotions'] = df_test_new['emotions'].apply(lambda x: emotion_index_to_label[x])\n",
    "df_test_new"
   ]
  },
  {
   "cell_type": "code",
   "execution_count": 10,
   "id": "c1684d9e-cd82-420b-ae09-428a9fc7e105",
   "metadata": {
    "tags": []
   },
   "outputs": [],
   "source": [
    "#Retrieve Model\n",
    "role = sagemaker.get_execution_role()\n",
    "s3 = boto3.client('s3')\n",
    "model_dir = 'models/tuned_model/'\n",
    "tar_file = 'model.tar.gz'\n",
    "\n",
    "\n",
    "model_name = f\"AIEmotion-model-monitor-{datetime.utcnow():%Y-%m-%d-%H%M}\"\n",
    "\n",
    "model_data = f's3://{bucket_name}/{model_dir}{tar_file}'\n",
    "tensorflow_version = '2.6.3'\n",
    "transformers_version='4.17.0'\n",
    "py_version = 'py38'\n",
    "huggingface_model = HuggingFaceModel(model_data=model_data,\n",
    "                                     role=role,\n",
    "                                     transformers_version=transformers_version,\n",
    "                                     tensorflow_version=tensorflow_version,\n",
    "                                     py_version=py_version,\n",
    "                                     entry_point='inference.py'\n",
    "                                   )"
   ]
  },
  {
   "cell_type": "code",
   "execution_count": 11,
   "id": "c6674e18-89e7-47d7-a07a-831cf7429d74",
   "metadata": {
    "tags": []
   },
   "outputs": [
    {
     "name": "stdout",
     "output_type": "stream",
     "text": [
      "EndpointName = AIEmotion-model-quality-monitor-2024-02-21-1918\n",
      "-----!"
     ]
    }
   ],
   "source": [
    "endpoint_name = f\"AIEmotion-model-quality-monitor-{datetime.utcnow():%Y-%m-%d-%H%M}\"\n",
    "print(\"EndpointName =\", endpoint_name)\n",
    "\n",
    "data_capture_config = DataCaptureConfig(\n",
    "    enable_capture=True, sampling_percentage=100, destination_s3_uri=s3_capture_upload_path\n",
    ")\n",
    "\n",
    "predictor = huggingface_model.deploy(\n",
    "    initial_instance_count=1,\n",
    "    instance_type='ml.c5.large',\n",
    "    endpoint_name=endpoint_name,\n",
    "    data_capture_config=data_capture_config,\n",
    ")"
   ]
  },
  {
   "cell_type": "code",
   "execution_count": 12,
   "id": "53bdcf0d-ca62-4535-9c8a-8e22d982c1d2",
   "metadata": {
    "tags": []
   },
   "outputs": [
    {
     "name": "stdout",
     "output_type": "stream",
     "text": [
      "Baseline data uri: s3://aai-540-final-data-east-1/sagemaker/AIEmotions-ModelQualityMonitor/baselining/data\n",
      "Baseline results uri: s3://aai-540-final-data-east-1/sagemaker/AIEmotions-ModelQualityMonitor/baselining/results\n"
     ]
    }
   ],
   "source": [
    "# Predictions as baseline dataset\n",
    "baseline_prefix = prefix + \"/baselining\"\n",
    "baseline_data_prefix = baseline_prefix + \"/data\"\n",
    "baseline_results_prefix = baseline_prefix + \"/results\"\n",
    "\n",
    "baseline_data_uri = f\"s3://{bucket_name}/{baseline_data_prefix}\"\n",
    "baseline_results_uri = f\"s3://{bucket_name}/{baseline_results_prefix}\"\n",
    "print(f\"Baseline data uri: {baseline_data_uri}\")\n",
    "print(f\"Baseline results uri: {baseline_results_uri}\")"
   ]
  },
  {
   "cell_type": "code",
   "execution_count": 13,
   "id": "c9152541-3913-4244-b827-6c42b90ef31d",
   "metadata": {
    "tags": []
   },
   "outputs": [],
   "source": [
    "# Grab a sample of the dataset\n",
    "df_test_subset = df_test_new.sample(500)\n",
    "df_test_subset = df_test_subset.reset_index(drop=True)"
   ]
  },
  {
   "cell_type": "code",
   "execution_count": 14,
   "id": "03c9406d-a6a2-43c7-ba4c-707e8140eb89",
   "metadata": {
    "tags": []
   },
   "outputs": [],
   "source": [
    "def calculate_predictions(results):\n",
    "    df_results = pd.DataFrame(columns = ['pred_labels', 'probabilities'])\n",
    "    for result in results:\n",
    "        res = json.loads(result[0])\n",
    "        pred_labels = list(res.keys())\n",
    "        prob = list(res.values())\n",
    "        row = {'pred_labels': pred_labels, 'probabilities': prob}\n",
    "        df_results = df_results.append(row, ignore_index = True)\n",
    "    return df_results"
   ]
  },
  {
   "cell_type": "code",
   "execution_count": 15,
   "id": "ad4fd43d-ed93-478f-a108-990b45811e61",
   "metadata": {
    "tags": []
   },
   "outputs": [
    {
     "data": {
      "text/plain": [
       "0      [{\"affectionate\": 0.5383890271186829, \"happy\":...\n",
       "1      [{\"neutral\": 0.923974335193634, \"happy\": 0.029...\n",
       "2      [{\"neutral\": 0.5757226943969727, \"anger\": 0.35...\n",
       "3      [{\"affectionate\": 0.6554600596427917, \"happy\":...\n",
       "4      [{\"happy\": 0.5222921967506409, \"affectionate\":...\n",
       "                             ...                        \n",
       "495    [{\"happy\": 0.9611902236938477, \"affectionate\":...\n",
       "496    [{\"anger\": 0.9043861031532288, \"neutral\": 0.04...\n",
       "497    [{\"happy\": 0.8997564315795898, \"optimistic\": 0...\n",
       "498    [{\"surprised\": 0.7620328068733215, \"neutral\": ...\n",
       "499    [{\"anger\": 0.8883174061775208, \"neutral\": 0.06...\n",
       "Length: 500, dtype: object"
      ]
     },
     "execution_count": 15,
     "metadata": {},
     "output_type": "execute_result"
    }
   ],
   "source": [
    "predictions = df_test_subset.apply(lambda x: predictor.predict({'text': x['text']}), axis = 1)\n",
    "predictions"
   ]
  },
  {
   "cell_type": "code",
   "execution_count": 16,
   "id": "aca88cf1-99bb-4a8f-83d9-0da6d9f68eb3",
   "metadata": {
    "tags": []
   },
   "outputs": [
    {
     "data": {
      "text/html": [
       "<div>\n",
       "<style scoped>\n",
       "    .dataframe tbody tr th:only-of-type {\n",
       "        vertical-align: middle;\n",
       "    }\n",
       "\n",
       "    .dataframe tbody tr th {\n",
       "        vertical-align: top;\n",
       "    }\n",
       "\n",
       "    .dataframe thead th {\n",
       "        text-align: right;\n",
       "    }\n",
       "</style>\n",
       "<table border=\"1\" class=\"dataframe\">\n",
       "  <thead>\n",
       "    <tr style=\"text-align: right;\">\n",
       "      <th></th>\n",
       "      <th>pred_labels</th>\n",
       "      <th>probabilities</th>\n",
       "    </tr>\n",
       "  </thead>\n",
       "  <tbody>\n",
       "    <tr>\n",
       "      <th>0</th>\n",
       "      <td>[affectionate, happy, optimistic]</td>\n",
       "      <td>[0.5383890271186829, 0.38293197751045227, 0.04...</td>\n",
       "    </tr>\n",
       "    <tr>\n",
       "      <th>1</th>\n",
       "      <td>[neutral, happy, anger]</td>\n",
       "      <td>[0.923974335193634, 0.029579658061265945, 0.01...</td>\n",
       "    </tr>\n",
       "    <tr>\n",
       "      <th>2</th>\n",
       "      <td>[neutral, anger, disgust]</td>\n",
       "      <td>[0.5757226943969727, 0.35368630290031433, 0.02...</td>\n",
       "    </tr>\n",
       "    <tr>\n",
       "      <th>3</th>\n",
       "      <td>[affectionate, happy, optimistic]</td>\n",
       "      <td>[0.6554600596427917, 0.2711202800273895, 0.052...</td>\n",
       "    </tr>\n",
       "    <tr>\n",
       "      <th>4</th>\n",
       "      <td>[happy, affectionate, neutral]</td>\n",
       "      <td>[0.5222921967506409, 0.2225363403558731, 0.186...</td>\n",
       "    </tr>\n",
       "    <tr>\n",
       "      <th>...</th>\n",
       "      <td>...</td>\n",
       "      <td>...</td>\n",
       "    </tr>\n",
       "    <tr>\n",
       "      <th>495</th>\n",
       "      <td>[happy, affectionate, anger]</td>\n",
       "      <td>[0.9611902236938477, 0.01130503136664629, 0.00...</td>\n",
       "    </tr>\n",
       "    <tr>\n",
       "      <th>496</th>\n",
       "      <td>[anger, neutral, disgust]</td>\n",
       "      <td>[0.9043861031532288, 0.04557618126273155, 0.01...</td>\n",
       "    </tr>\n",
       "    <tr>\n",
       "      <th>497</th>\n",
       "      <td>[happy, optimistic, affectionate]</td>\n",
       "      <td>[0.8997564315795898, 0.04736463725566864, 0.02...</td>\n",
       "    </tr>\n",
       "    <tr>\n",
       "      <th>498</th>\n",
       "      <td>[surprised, neutral, happy]</td>\n",
       "      <td>[0.7620328068733215, 0.16513626277446747, 0.01...</td>\n",
       "    </tr>\n",
       "    <tr>\n",
       "      <th>499</th>\n",
       "      <td>[anger, neutral, disgust]</td>\n",
       "      <td>[0.8883174061775208, 0.061778344213962555, 0.0...</td>\n",
       "    </tr>\n",
       "  </tbody>\n",
       "</table>\n",
       "<p>500 rows × 2 columns</p>\n",
       "</div>"
      ],
      "text/plain": [
       "                           pred_labels  \\\n",
       "0    [affectionate, happy, optimistic]   \n",
       "1              [neutral, happy, anger]   \n",
       "2            [neutral, anger, disgust]   \n",
       "3    [affectionate, happy, optimistic]   \n",
       "4       [happy, affectionate, neutral]   \n",
       "..                                 ...   \n",
       "495       [happy, affectionate, anger]   \n",
       "496          [anger, neutral, disgust]   \n",
       "497  [happy, optimistic, affectionate]   \n",
       "498        [surprised, neutral, happy]   \n",
       "499          [anger, neutral, disgust]   \n",
       "\n",
       "                                         probabilities  \n",
       "0    [0.5383890271186829, 0.38293197751045227, 0.04...  \n",
       "1    [0.923974335193634, 0.029579658061265945, 0.01...  \n",
       "2    [0.5757226943969727, 0.35368630290031433, 0.02...  \n",
       "3    [0.6554600596427917, 0.2711202800273895, 0.052...  \n",
       "4    [0.5222921967506409, 0.2225363403558731, 0.186...  \n",
       "..                                                 ...  \n",
       "495  [0.9611902236938477, 0.01130503136664629, 0.00...  \n",
       "496  [0.9043861031532288, 0.04557618126273155, 0.01...  \n",
       "497  [0.8997564315795898, 0.04736463725566864, 0.02...  \n",
       "498  [0.7620328068733215, 0.16513626277446747, 0.01...  \n",
       "499  [0.8883174061775208, 0.061778344213962555, 0.0...  \n",
       "\n",
       "[500 rows x 2 columns]"
      ]
     },
     "execution_count": 16,
     "metadata": {},
     "output_type": "execute_result"
    }
   ],
   "source": [
    "import warnings\n",
    "warnings.simplefilter(action='ignore', category=FutureWarning)\n",
    "\n",
    "df_preds = calculate_predictions(predictions)\n",
    "df_preds"
   ]
  },
  {
   "cell_type": "code",
   "execution_count": 17,
   "id": "9366e984-fdaf-4e42-8c8f-38ec78951148",
   "metadata": {
    "tags": []
   },
   "outputs": [
    {
     "data": {
      "text/html": [
       "<div>\n",
       "<style scoped>\n",
       "    .dataframe tbody tr th:only-of-type {\n",
       "        vertical-align: middle;\n",
       "    }\n",
       "\n",
       "    .dataframe tbody tr th {\n",
       "        vertical-align: top;\n",
       "    }\n",
       "\n",
       "    .dataframe thead th {\n",
       "        text-align: right;\n",
       "    }\n",
       "</style>\n",
       "<table border=\"1\" class=\"dataframe\">\n",
       "  <thead>\n",
       "    <tr style=\"text-align: right;\">\n",
       "      <th></th>\n",
       "      <th>pred_labels</th>\n",
       "      <th>probabilities</th>\n",
       "    </tr>\n",
       "  </thead>\n",
       "  <tbody>\n",
       "    <tr>\n",
       "      <th>0</th>\n",
       "      <td>affectionate</td>\n",
       "      <td>0.538389</td>\n",
       "    </tr>\n",
       "    <tr>\n",
       "      <th>1</th>\n",
       "      <td>neutral</td>\n",
       "      <td>0.923974</td>\n",
       "    </tr>\n",
       "    <tr>\n",
       "      <th>2</th>\n",
       "      <td>neutral</td>\n",
       "      <td>0.575723</td>\n",
       "    </tr>\n",
       "    <tr>\n",
       "      <th>3</th>\n",
       "      <td>affectionate</td>\n",
       "      <td>0.655460</td>\n",
       "    </tr>\n",
       "    <tr>\n",
       "      <th>4</th>\n",
       "      <td>happy</td>\n",
       "      <td>0.522292</td>\n",
       "    </tr>\n",
       "    <tr>\n",
       "      <th>...</th>\n",
       "      <td>...</td>\n",
       "      <td>...</td>\n",
       "    </tr>\n",
       "    <tr>\n",
       "      <th>495</th>\n",
       "      <td>happy</td>\n",
       "      <td>0.961190</td>\n",
       "    </tr>\n",
       "    <tr>\n",
       "      <th>496</th>\n",
       "      <td>anger</td>\n",
       "      <td>0.904386</td>\n",
       "    </tr>\n",
       "    <tr>\n",
       "      <th>497</th>\n",
       "      <td>happy</td>\n",
       "      <td>0.899756</td>\n",
       "    </tr>\n",
       "    <tr>\n",
       "      <th>498</th>\n",
       "      <td>surprised</td>\n",
       "      <td>0.762033</td>\n",
       "    </tr>\n",
       "    <tr>\n",
       "      <th>499</th>\n",
       "      <td>anger</td>\n",
       "      <td>0.888317</td>\n",
       "    </tr>\n",
       "  </tbody>\n",
       "</table>\n",
       "<p>500 rows × 2 columns</p>\n",
       "</div>"
      ],
      "text/plain": [
       "      pred_labels  probabilities\n",
       "0    affectionate       0.538389\n",
       "1         neutral       0.923974\n",
       "2         neutral       0.575723\n",
       "3    affectionate       0.655460\n",
       "4           happy       0.522292\n",
       "..            ...            ...\n",
       "495         happy       0.961190\n",
       "496         anger       0.904386\n",
       "497         happy       0.899756\n",
       "498     surprised       0.762033\n",
       "499         anger       0.888317\n",
       "\n",
       "[500 rows x 2 columns]"
      ]
     },
     "execution_count": 17,
     "metadata": {},
     "output_type": "execute_result"
    }
   ],
   "source": [
    "# Extract the first element of each tuple\n",
    "df_preds['pred_labels'] = df_preds['pred_labels'].apply(lambda x: x[0])\n",
    "df_preds['probabilities'] = df_preds['probabilities'].apply(lambda x: x[0])\n",
    "df_preds"
   ]
  },
  {
   "cell_type": "code",
   "execution_count": 18,
   "id": "b94c20ac-59e9-4b55-bfb8-05ec9221dcb7",
   "metadata": {
    "tags": []
   },
   "outputs": [
    {
     "data": {
      "text/html": [
       "<div>\n",
       "<style scoped>\n",
       "    .dataframe tbody tr th:only-of-type {\n",
       "        vertical-align: middle;\n",
       "    }\n",
       "\n",
       "    .dataframe tbody tr th {\n",
       "        vertical-align: top;\n",
       "    }\n",
       "\n",
       "    .dataframe thead th {\n",
       "        text-align: right;\n",
       "    }\n",
       "</style>\n",
       "<table border=\"1\" class=\"dataframe\">\n",
       "  <thead>\n",
       "    <tr style=\"text-align: right;\">\n",
       "      <th></th>\n",
       "      <th>text</th>\n",
       "      <th>true_label</th>\n",
       "      <th>pred_label</th>\n",
       "      <th>probability</th>\n",
       "    </tr>\n",
       "  </thead>\n",
       "  <tbody>\n",
       "    <tr>\n",
       "      <th>0</th>\n",
       "      <td>Congrats, you got pleb filtered</td>\n",
       "      <td>affectionate</td>\n",
       "      <td>affectionate</td>\n",
       "      <td>0.538389</td>\n",
       "    </tr>\n",
       "    <tr>\n",
       "      <th>1</th>\n",
       "      <td>Admin is all over it!</td>\n",
       "      <td>neutral</td>\n",
       "      <td>neutral</td>\n",
       "      <td>0.923974</td>\n",
       "    </tr>\n",
       "    <tr>\n",
       "      <th>2</th>\n",
       "      <td>assault some more people.</td>\n",
       "      <td>neutral</td>\n",
       "      <td>neutral</td>\n",
       "      <td>0.575723</td>\n",
       "    </tr>\n",
       "    <tr>\n",
       "      <th>3</th>\n",
       "      <td>This actually made me squeal like a little gir...</td>\n",
       "      <td>affectionate</td>\n",
       "      <td>affectionate</td>\n",
       "      <td>0.655460</td>\n",
       "    </tr>\n",
       "    <tr>\n",
       "      <th>4</th>\n",
       "      <td>If I wasn't destitute I would give you gold. I...</td>\n",
       "      <td>happy</td>\n",
       "      <td>happy</td>\n",
       "      <td>0.522292</td>\n",
       "    </tr>\n",
       "    <tr>\n",
       "      <th>...</th>\n",
       "      <td>...</td>\n",
       "      <td>...</td>\n",
       "      <td>...</td>\n",
       "      <td>...</td>\n",
       "    </tr>\n",
       "    <tr>\n",
       "      <th>495</th>\n",
       "      <td>Ok thanks bro for the opinion. I’m trying to s...</td>\n",
       "      <td>happy</td>\n",
       "      <td>happy</td>\n",
       "      <td>0.961190</td>\n",
       "    </tr>\n",
       "    <tr>\n",
       "      <th>496</th>\n",
       "      <td>Fuck sake man</td>\n",
       "      <td>anger</td>\n",
       "      <td>anger</td>\n",
       "      <td>0.904386</td>\n",
       "    </tr>\n",
       "    <tr>\n",
       "      <th>497</th>\n",
       "      <td>I am just like this! Glad to know I’m not imag...</td>\n",
       "      <td>optimistic</td>\n",
       "      <td>happy</td>\n",
       "      <td>0.899756</td>\n",
       "    </tr>\n",
       "    <tr>\n",
       "      <th>498</th>\n",
       "      <td>Your girlfriend accepts gifts in exchange for ...</td>\n",
       "      <td>surprise</td>\n",
       "      <td>surprise</td>\n",
       "      <td>0.762033</td>\n",
       "    </tr>\n",
       "    <tr>\n",
       "      <th>499</th>\n",
       "      <td>Hey [NAME]! **TRY DRAWING TWO CARDS NOW, YOU S...</td>\n",
       "      <td>anger</td>\n",
       "      <td>anger</td>\n",
       "      <td>0.888317</td>\n",
       "    </tr>\n",
       "  </tbody>\n",
       "</table>\n",
       "<p>500 rows × 4 columns</p>\n",
       "</div>"
      ],
      "text/plain": [
       "                                                  text    true_label  \\\n",
       "0                      Congrats, you got pleb filtered  affectionate   \n",
       "1                                Admin is all over it!       neutral   \n",
       "2                            assault some more people.       neutral   \n",
       "3    This actually made me squeal like a little gir...  affectionate   \n",
       "4    If I wasn't destitute I would give you gold. I...         happy   \n",
       "..                                                 ...           ...   \n",
       "495  Ok thanks bro for the opinion. I’m trying to s...         happy   \n",
       "496                                      Fuck sake man         anger   \n",
       "497  I am just like this! Glad to know I’m not imag...    optimistic   \n",
       "498  Your girlfriend accepts gifts in exchange for ...      surprise   \n",
       "499  Hey [NAME]! **TRY DRAWING TWO CARDS NOW, YOU S...         anger   \n",
       "\n",
       "       pred_label  probability  \n",
       "0    affectionate     0.538389  \n",
       "1         neutral     0.923974  \n",
       "2         neutral     0.575723  \n",
       "3    affectionate     0.655460  \n",
       "4           happy     0.522292  \n",
       "..            ...          ...  \n",
       "495         happy     0.961190  \n",
       "496         anger     0.904386  \n",
       "497         happy     0.899756  \n",
       "498      surprise     0.762033  \n",
       "499         anger     0.888317  \n",
       "\n",
       "[500 rows x 4 columns]"
      ]
     },
     "execution_count": 18,
     "metadata": {},
     "output_type": "execute_result"
    }
   ],
   "source": [
    "# Concat datasets\n",
    "validate_dataset = pd.concat([df_test_subset, df_preds], ignore_index=True, axis = 1)\n",
    "validate_dataset = validate_dataset.rename(columns = {0: 'text', \n",
    "                                                      1: 'true_label', \n",
    "                                                      2: 'pred_label', \n",
    "                                                      3: 'probability'})\n",
    "\n",
    "validate_dataset['pred_label'] = validate_dataset['pred_label'].replace({'sad': 'sadness', 'surprised': 'surprise'})\n",
    "validate_dataset"
   ]
  },
  {
   "cell_type": "code",
   "execution_count": 19,
   "id": "43e05c1f-eb05-4df1-9839-7314f6a569d7",
   "metadata": {
    "tags": []
   },
   "outputs": [],
   "source": [
    "# Export to CSV\n",
    "validate_dataset_name = 'validate_dataset.csv'\n",
    "validate_dataset.to_csv(validate_dataset_name, index=False) "
   ]
  },
  {
   "cell_type": "code",
   "execution_count": 20,
   "id": "eeef0b98-b965-417d-ad2d-3910da1932fa",
   "metadata": {},
   "outputs": [
    {
     "data": {
      "text/plain": [
       "'s3://aai-540-final-data-east-1/sagemaker/AIEmotions-ModelQualityMonitor/baselining/data/validate_dataset.csv'"
      ]
     },
     "execution_count": 20,
     "metadata": {},
     "output_type": "execute_result"
    }
   ],
   "source": [
    "# Upload baseline\n",
    "baseline_dataset_uri = S3Uploader.upload(f\"{validate_dataset_name}\", baseline_data_uri)\n",
    "baseline_dataset_uri"
   ]
  },
  {
   "cell_type": "markdown",
   "id": "b5e20072-2013-4f12-a783-c3e1919b1083",
   "metadata": {},
   "source": [
    "## Setup Baseline"
   ]
  },
  {
   "cell_type": "code",
   "execution_count": 21,
   "id": "480ce54a-95f9-4894-96f1-766371a744f3",
   "metadata": {
    "tags": []
   },
   "outputs": [
    {
     "name": "stderr",
     "output_type": "stream",
     "text": [
      "INFO:sagemaker:Creating processing-job with name AIEmotions-model-baseline-job-2024-02-21-1924\n"
     ]
    },
    {
     "name": "stdout",
     "output_type": "stream",
     "text": [
      ".................................................................................!"
     ]
    }
   ],
   "source": [
    "from sagemaker.model_monitor import ModelQualityMonitor\n",
    "from sagemaker.model_monitor import EndpointInput\n",
    "from sagemaker.model_monitor.dataset_format import DatasetFormat\n",
    "\n",
    "baseline_dataset_uri = 's3://aai-540-final-data-east-1/sagemaker/AIEmotions-ModelQualityMonitor/baselining/data/validate_dataset.csv'\n",
    "\n",
    "emotions_base_model_quality_monitor = ModelQualityMonitor(\n",
    "    role=role,\n",
    "    instance_count=1,\n",
    "    instance_type='ml.m5.large',\n",
    "    volume_size_in_gb=20,\n",
    "    max_runtime_in_seconds=1800,\n",
    "    sagemaker_session=session,\n",
    ")\n",
    "\n",
    "# Name of the model quality baseline job\n",
    "baseline_job_name = f\"AIEmotions-model-baseline-job-{datetime.utcnow():%Y-%m-%d-%H%M}\"\n",
    "\n",
    "\n",
    "# Execute the baseline suggestion job.\n",
    "job = emotions_base_model_quality_monitor.suggest_baseline(\n",
    "    job_name=baseline_job_name,\n",
    "    baseline_dataset=baseline_dataset_uri,\n",
    "    dataset_format=DatasetFormat.csv(header=True),\n",
    "    output_s3_uri=baseline_results_uri,\n",
    "    problem_type=\"MulticlassClassification\",\n",
    "    inference_attribute=\"pred_label\",\n",
    "    probability_attribute=\"probability\",\n",
    "    ground_truth_attribute=\"true_label\",\n",
    ")\n",
    "job.wait(logs=False)"
   ]
  },
  {
   "cell_type": "code",
   "execution_count": 22,
   "id": "0182e46f-5c71-4bfa-8dee-e4ec674bec9a",
   "metadata": {
    "tags": []
   },
   "outputs": [],
   "source": [
    "baseline_job = emotions_base_model_quality_monitor.latest_baselining_job"
   ]
  },
  {
   "cell_type": "code",
   "execution_count": 23,
   "id": "beb708d8-6d60-406c-9499-0ca752ac1439",
   "metadata": {
    "tags": []
   },
   "outputs": [
    {
     "data": {
      "text/html": [
       "<div>\n",
       "<style scoped>\n",
       "    .dataframe tbody tr th:only-of-type {\n",
       "        vertical-align: middle;\n",
       "    }\n",
       "\n",
       "    .dataframe tbody tr th {\n",
       "        vertical-align: top;\n",
       "    }\n",
       "\n",
       "    .dataframe thead th {\n",
       "        text-align: right;\n",
       "    }\n",
       "</style>\n",
       "<table border=\"1\" class=\"dataframe\">\n",
       "  <thead>\n",
       "    <tr style=\"text-align: right;\">\n",
       "      <th></th>\n",
       "      <th>0</th>\n",
       "    </tr>\n",
       "  </thead>\n",
       "  <tbody>\n",
       "    <tr>\n",
       "      <th>confusion_matrix._and._and</th>\n",
       "      <td>0.000000</td>\n",
       "    </tr>\n",
       "    <tr>\n",
       "      <th>confusion_matrix._and._i'm_not_taking_any_risks\"\"_\"</th>\n",
       "      <td>0.000000</td>\n",
       "    </tr>\n",
       "    <tr>\n",
       "      <th>confusion_matrix._and.disgust</th>\n",
       "      <td>0.000000</td>\n",
       "    </tr>\n",
       "    <tr>\n",
       "      <th>confusion_matrix._and._abuse_and_brainwash_children_without_putting_their_liberal_noses_where_they_don't_belong.\"\"\"</th>\n",
       "      <td>0.000000</td>\n",
       "    </tr>\n",
       "    <tr>\n",
       "      <th>confusion_matrix._and.surprise</th>\n",
       "      <td>0.000000</td>\n",
       "    </tr>\n",
       "    <tr>\n",
       "      <th>...</th>\n",
       "      <td>...</td>\n",
       "    </tr>\n",
       "    <tr>\n",
       "      <th>weighted_f0_5_best_constant_classifier.standard_deviation</th>\n",
       "      <td>0.001837</td>\n",
       "    </tr>\n",
       "    <tr>\n",
       "      <th>weighted_f1_best_constant_classifier.value</th>\n",
       "      <td>0.145052</td>\n",
       "    </tr>\n",
       "    <tr>\n",
       "      <th>weighted_f1_best_constant_classifier.standard_deviation</th>\n",
       "      <td>0.002212</td>\n",
       "    </tr>\n",
       "    <tr>\n",
       "      <th>weighted_f2_best_constant_classifier.value</th>\n",
       "      <td>0.212509</td>\n",
       "    </tr>\n",
       "    <tr>\n",
       "      <th>weighted_f2_best_constant_classifier.standard_deviation</th>\n",
       "      <td>0.002656</td>\n",
       "    </tr>\n",
       "  </tbody>\n",
       "</table>\n",
       "<p>220 rows × 1 columns</p>\n",
       "</div>"
      ],
      "text/plain": [
       "                                                           0\n",
       "confusion_matrix._and._and                          0.000000\n",
       "confusion_matrix._and._i'm_not_taking_any_risks...  0.000000\n",
       "confusion_matrix._and.disgust                       0.000000\n",
       "confusion_matrix._and._abuse_and_brainwash_chil...  0.000000\n",
       "confusion_matrix._and.surprise                      0.000000\n",
       "...                                                      ...\n",
       "weighted_f0_5_best_constant_classifier.standard...  0.001837\n",
       "weighted_f1_best_constant_classifier.value          0.145052\n",
       "weighted_f1_best_constant_classifier.standard_d...  0.002212\n",
       "weighted_f2_best_constant_classifier.value          0.212509\n",
       "weighted_f2_best_constant_classifier.standard_d...  0.002656\n",
       "\n",
       "[220 rows x 1 columns]"
      ]
     },
     "execution_count": 23,
     "metadata": {},
     "output_type": "execute_result"
    }
   ],
   "source": [
    "multiclass_metrics = baseline_job.baseline_statistics().body_dict[\"multiclass_classification_metrics\"]\n",
    "pd.json_normalize(multiclass_metrics).T"
   ]
  },
  {
   "cell_type": "code",
   "execution_count": 24,
   "id": "c537c162-449e-4dda-9ac3-09c3287369c1",
   "metadata": {
    "tags": []
   },
   "outputs": [
    {
     "data": {
      "text/html": [
       "<div>\n",
       "<style scoped>\n",
       "    .dataframe tbody tr th:only-of-type {\n",
       "        vertical-align: middle;\n",
       "    }\n",
       "\n",
       "    .dataframe tbody tr th {\n",
       "        vertical-align: top;\n",
       "    }\n",
       "\n",
       "    .dataframe thead th {\n",
       "        text-align: right;\n",
       "    }\n",
       "</style>\n",
       "<table border=\"1\" class=\"dataframe\">\n",
       "  <thead>\n",
       "    <tr style=\"text-align: right;\">\n",
       "      <th></th>\n",
       "      <th>threshold</th>\n",
       "      <th>comparison_operator</th>\n",
       "    </tr>\n",
       "  </thead>\n",
       "  <tbody>\n",
       "    <tr>\n",
       "      <th>accuracy</th>\n",
       "      <td>0.682</td>\n",
       "      <td>LessThanThreshold</td>\n",
       "    </tr>\n",
       "    <tr>\n",
       "      <th>weighted_recall</th>\n",
       "      <td>0.682</td>\n",
       "      <td>LessThanThreshold</td>\n",
       "    </tr>\n",
       "    <tr>\n",
       "      <th>weighted_precision</th>\n",
       "      <td>0.677708</td>\n",
       "      <td>LessThanThreshold</td>\n",
       "    </tr>\n",
       "    <tr>\n",
       "      <th>weighted_f0_5</th>\n",
       "      <td>0.675832</td>\n",
       "      <td>LessThanThreshold</td>\n",
       "    </tr>\n",
       "    <tr>\n",
       "      <th>weighted_f1</th>\n",
       "      <td>0.675866</td>\n",
       "      <td>LessThanThreshold</td>\n",
       "    </tr>\n",
       "    <tr>\n",
       "      <th>weighted_f2</th>\n",
       "      <td>0.678707</td>\n",
       "      <td>LessThanThreshold</td>\n",
       "    </tr>\n",
       "  </tbody>\n",
       "</table>\n",
       "</div>"
      ],
      "text/plain": [
       "                   threshold comparison_operator\n",
       "accuracy               0.682   LessThanThreshold\n",
       "weighted_recall        0.682   LessThanThreshold\n",
       "weighted_precision  0.677708   LessThanThreshold\n",
       "weighted_f0_5       0.675832   LessThanThreshold\n",
       "weighted_f1         0.675866   LessThanThreshold\n",
       "weighted_f2         0.678707   LessThanThreshold"
      ]
     },
     "execution_count": 24,
     "metadata": {},
     "output_type": "execute_result"
    }
   ],
   "source": [
    "pd.DataFrame(baseline_job.suggested_constraints().body_dict[\"multiclass_classification_constraints\"]).T"
   ]
  },
  {
   "cell_type": "markdown",
   "id": "6cab719d-caea-479a-bbaa-40ff92f35e00",
   "metadata": {},
   "source": [
    "## Setup continuous model monitoring"
   ]
  },
  {
   "cell_type": "code",
   "execution_count": 25,
   "id": "82bb6710-f484-49f2-a38f-c868d2dd6d5d",
   "metadata": {
    "tags": []
   },
   "outputs": [],
   "source": [
    "# Generate a small sample from our testing data\n",
    "synthetic_sample = df_test_new.sample(10)\n",
    "synthetic_sample = synthetic_sample.reset_index(drop=True)\n",
    "#synthetic_sample.to_csv('synthetic_data.csv', index=False)"
   ]
  },
  {
   "cell_type": "code",
   "execution_count": 26,
   "id": "33590ae1-9974-44fe-b034-dba3d12e71c8",
   "metadata": {
    "tags": []
   },
   "outputs": [
    {
     "data": {
      "text/plain": [
       "0    [{\"anger\": 0.5706148147583008, \"surprised\": 0....\n",
       "1    [{\"anger\": 0.6091394424438477, \"neutral\": 0.20...\n",
       "2    [{\"neutral\": 0.585700273513794, \"anger\": 0.301...\n",
       "3    [{\"anger\": 0.8066050410270691, \"surprised\": 0....\n",
       "4    [{\"sad\": 0.9122321009635925, \"anger\": 0.026297...\n",
       "5    [{\"anger\": 0.5246332883834839, \"neutral\": 0.37...\n",
       "6    [{\"neutral\": 0.5897254943847656, \"surprised\": ...\n",
       "7    [{\"happy\": 0.6504971385002136, \"affectionate\":...\n",
       "8    [{\"surprised\": 0.5263181924819946, \"neutral\": ...\n",
       "9    [{\"affectionate\": 0.8705141544342041, \"happy\":...\n",
       "dtype: object"
      ]
     },
     "execution_count": 26,
     "metadata": {},
     "output_type": "execute_result"
    }
   ],
   "source": [
    "predictions = synthetic_sample.apply(lambda x: predictor.predict({'text': x['text']}), axis = 1)\n",
    "predictions"
   ]
  },
  {
   "cell_type": "code",
   "execution_count": 27,
   "id": "6ce73303-22ca-4874-9a82-96d731f7f184",
   "metadata": {
    "tags": []
   },
   "outputs": [
    {
     "data": {
      "text/html": [
       "<div>\n",
       "<style scoped>\n",
       "    .dataframe tbody tr th:only-of-type {\n",
       "        vertical-align: middle;\n",
       "    }\n",
       "\n",
       "    .dataframe tbody tr th {\n",
       "        vertical-align: top;\n",
       "    }\n",
       "\n",
       "    .dataframe thead th {\n",
       "        text-align: right;\n",
       "    }\n",
       "</style>\n",
       "<table border=\"1\" class=\"dataframe\">\n",
       "  <thead>\n",
       "    <tr style=\"text-align: right;\">\n",
       "      <th></th>\n",
       "      <th>pred_labels</th>\n",
       "      <th>probabilities</th>\n",
       "    </tr>\n",
       "  </thead>\n",
       "  <tbody>\n",
       "    <tr>\n",
       "      <th>0</th>\n",
       "      <td>[anger, surprised, neutral]</td>\n",
       "      <td>[0.5706148147583008, 0.18668246269226074, 0.13...</td>\n",
       "    </tr>\n",
       "    <tr>\n",
       "      <th>1</th>\n",
       "      <td>[anger, neutral, sad]</td>\n",
       "      <td>[0.6091394424438477, 0.20147308707237244, 0.07...</td>\n",
       "    </tr>\n",
       "    <tr>\n",
       "      <th>2</th>\n",
       "      <td>[neutral, anger, affectionate]</td>\n",
       "      <td>[0.585700273513794, 0.3018295466899872, 0.0253...</td>\n",
       "    </tr>\n",
       "    <tr>\n",
       "      <th>3</th>\n",
       "      <td>[anger, surprised, neutral]</td>\n",
       "      <td>[0.8066050410270691, 0.05767594277858734, 0.05...</td>\n",
       "    </tr>\n",
       "    <tr>\n",
       "      <th>4</th>\n",
       "      <td>[sad, anger, neutral]</td>\n",
       "      <td>[0.9122321009635925, 0.026297012344002724, 0.0...</td>\n",
       "    </tr>\n",
       "    <tr>\n",
       "      <th>5</th>\n",
       "      <td>[anger, neutral, sad]</td>\n",
       "      <td>[0.5246332883834839, 0.37060004472732544, 0.03...</td>\n",
       "    </tr>\n",
       "    <tr>\n",
       "      <th>6</th>\n",
       "      <td>[neutral, surprised, anger]</td>\n",
       "      <td>[0.5897254943847656, 0.36416923999786377, 0.01...</td>\n",
       "    </tr>\n",
       "    <tr>\n",
       "      <th>7</th>\n",
       "      <td>[happy, affectionate, neutral]</td>\n",
       "      <td>[0.6504971385002136, 0.19373853504657745, 0.08...</td>\n",
       "    </tr>\n",
       "    <tr>\n",
       "      <th>8</th>\n",
       "      <td>[surprised, neutral, anger]</td>\n",
       "      <td>[0.5263181924819946, 0.31863000988960266, 0.11...</td>\n",
       "    </tr>\n",
       "    <tr>\n",
       "      <th>9</th>\n",
       "      <td>[affectionate, happy, optimistic]</td>\n",
       "      <td>[0.8705141544342041, 0.06400194019079208, 0.04...</td>\n",
       "    </tr>\n",
       "  </tbody>\n",
       "</table>\n",
       "</div>"
      ],
      "text/plain": [
       "                         pred_labels  \\\n",
       "0        [anger, surprised, neutral]   \n",
       "1              [anger, neutral, sad]   \n",
       "2     [neutral, anger, affectionate]   \n",
       "3        [anger, surprised, neutral]   \n",
       "4              [sad, anger, neutral]   \n",
       "5              [anger, neutral, sad]   \n",
       "6        [neutral, surprised, anger]   \n",
       "7     [happy, affectionate, neutral]   \n",
       "8        [surprised, neutral, anger]   \n",
       "9  [affectionate, happy, optimistic]   \n",
       "\n",
       "                                       probabilities  \n",
       "0  [0.5706148147583008, 0.18668246269226074, 0.13...  \n",
       "1  [0.6091394424438477, 0.20147308707237244, 0.07...  \n",
       "2  [0.585700273513794, 0.3018295466899872, 0.0253...  \n",
       "3  [0.8066050410270691, 0.05767594277858734, 0.05...  \n",
       "4  [0.9122321009635925, 0.026297012344002724, 0.0...  \n",
       "5  [0.5246332883834839, 0.37060004472732544, 0.03...  \n",
       "6  [0.5897254943847656, 0.36416923999786377, 0.01...  \n",
       "7  [0.6504971385002136, 0.19373853504657745, 0.08...  \n",
       "8  [0.5263181924819946, 0.31863000988960266, 0.11...  \n",
       "9  [0.8705141544342041, 0.06400194019079208, 0.04...  "
      ]
     },
     "execution_count": 27,
     "metadata": {},
     "output_type": "execute_result"
    }
   ],
   "source": [
    "preds = calculate_predictions(predictions)\n",
    "preds"
   ]
  },
  {
   "cell_type": "code",
   "execution_count": 28,
   "id": "08f1b278-e559-48e3-a140-dfcad8f0674c",
   "metadata": {
    "tags": []
   },
   "outputs": [
    {
     "data": {
      "text/html": [
       "<div>\n",
       "<style scoped>\n",
       "    .dataframe tbody tr th:only-of-type {\n",
       "        vertical-align: middle;\n",
       "    }\n",
       "\n",
       "    .dataframe tbody tr th {\n",
       "        vertical-align: top;\n",
       "    }\n",
       "\n",
       "    .dataframe thead th {\n",
       "        text-align: right;\n",
       "    }\n",
       "</style>\n",
       "<table border=\"1\" class=\"dataframe\">\n",
       "  <thead>\n",
       "    <tr style=\"text-align: right;\">\n",
       "      <th></th>\n",
       "      <th>pred_labels</th>\n",
       "      <th>probabilities</th>\n",
       "    </tr>\n",
       "  </thead>\n",
       "  <tbody>\n",
       "    <tr>\n",
       "      <th>0</th>\n",
       "      <td>anger</td>\n",
       "      <td>0.570615</td>\n",
       "    </tr>\n",
       "    <tr>\n",
       "      <th>1</th>\n",
       "      <td>anger</td>\n",
       "      <td>0.609139</td>\n",
       "    </tr>\n",
       "    <tr>\n",
       "      <th>2</th>\n",
       "      <td>neutral</td>\n",
       "      <td>0.585700</td>\n",
       "    </tr>\n",
       "    <tr>\n",
       "      <th>3</th>\n",
       "      <td>anger</td>\n",
       "      <td>0.806605</td>\n",
       "    </tr>\n",
       "    <tr>\n",
       "      <th>4</th>\n",
       "      <td>sad</td>\n",
       "      <td>0.912232</td>\n",
       "    </tr>\n",
       "    <tr>\n",
       "      <th>5</th>\n",
       "      <td>anger</td>\n",
       "      <td>0.524633</td>\n",
       "    </tr>\n",
       "    <tr>\n",
       "      <th>6</th>\n",
       "      <td>neutral</td>\n",
       "      <td>0.589725</td>\n",
       "    </tr>\n",
       "    <tr>\n",
       "      <th>7</th>\n",
       "      <td>happy</td>\n",
       "      <td>0.650497</td>\n",
       "    </tr>\n",
       "    <tr>\n",
       "      <th>8</th>\n",
       "      <td>surprised</td>\n",
       "      <td>0.526318</td>\n",
       "    </tr>\n",
       "    <tr>\n",
       "      <th>9</th>\n",
       "      <td>affectionate</td>\n",
       "      <td>0.870514</td>\n",
       "    </tr>\n",
       "  </tbody>\n",
       "</table>\n",
       "</div>"
      ],
      "text/plain": [
       "    pred_labels  probabilities\n",
       "0         anger       0.570615\n",
       "1         anger       0.609139\n",
       "2       neutral       0.585700\n",
       "3         anger       0.806605\n",
       "4           sad       0.912232\n",
       "5         anger       0.524633\n",
       "6       neutral       0.589725\n",
       "7         happy       0.650497\n",
       "8     surprised       0.526318\n",
       "9  affectionate       0.870514"
      ]
     },
     "execution_count": 28,
     "metadata": {},
     "output_type": "execute_result"
    }
   ],
   "source": [
    "preds['pred_labels'] = preds['pred_labels'].apply(lambda x: x[0])\n",
    "preds['probabilities'] = preds['probabilities'].apply(lambda x: x[0])\n",
    "preds"
   ]
  },
  {
   "cell_type": "code",
   "execution_count": 29,
   "id": "cf887d31-1ffe-47a8-9791-e73148e662ba",
   "metadata": {
    "tags": []
   },
   "outputs": [
    {
     "name": "stdout",
     "output_type": "stream",
     "text": [
      "Sending test traffic to the endpoint AIEmotion-model-quality-monitor-2024-02-21-1918. \n",
      "Please wait...\n",
      "Done!\n",
      "CPU times: user 30.2 ms, sys: 344 µs, total: 30.5 ms\n",
      "Wall time: 7.52 s\n"
     ]
    }
   ],
   "source": [
    "%%time\n",
    "\n",
    "import numpy as np\n",
    "import time\n",
    "\n",
    "print(\"Sending test traffic to the endpoint {}. \\nPlease wait...\".format(endpoint_name))\n",
    "\n",
    "#flat_list = []\n",
    "for i in range(10):\n",
    "    result = predictor.predict({'text': synthetic_sample['text'][i]})\n",
    "    #flat_list.append(float(\"%.3f\" % (np.array(result))))\n",
    "    time.sleep(0.5)\n",
    "\n",
    "print(\"Done!\")\n",
    "#print(\"predictions: \\t{}\".format(np.array(flat_list)))"
   ]
  },
  {
   "cell_type": "code",
   "execution_count": 30,
   "id": "e35315ee-bac8-49c6-be05-249723245fcf",
   "metadata": {
    "tags": []
   },
   "outputs": [
    {
     "name": "stdout",
     "output_type": "stream",
     "text": [
      "Found Capture Files:\n",
      "sagemaker/AIEmotions-ModelQualityMonitor/datacapture/AIEmotion-model-quality-monitor-2024-02-21-1918/AllTraffic/2024/02/21/19/22-11-666-e235b121-fd0c-4af9-8bc9-881988992d84.jsonl\n",
      " sagemaker/AIEmotions-ModelQualityMonitor/datacapture/AIEmotion-model-quality-monitor-2024-02-21-1918/AllTraffic/2024/02/21/19/23-11-769-244da09e-f334-460a-8f20-575c80bac8e3.jsonl\n"
     ]
    }
   ],
   "source": [
    "s3_client = boto3.Session().client(\"s3\")\n",
    "result = s3_client.list_objects(Bucket=bucket_name, Prefix=data_capture_prefix)\n",
    "capture_files = [capture_file.get(\"Key\") for capture_file in result.get(\"Contents\")]\n",
    "print(\"Found Capture Files:\")\n",
    "print(\"\\n \".join(capture_files))"
   ]
  },
  {
   "cell_type": "code",
   "execution_count": 32,
   "id": "f175baf7-1eda-4614-b831-a75dea6636f5",
   "metadata": {
    "tags": []
   },
   "outputs": [
    {
     "name": "stdout",
     "output_type": "stream",
     "text": [
      "{\"captureData\":{\"endpointInput\":{\"observedContentType\":\"application/json\",\"mode\":\"INPUT\",\"data\":\"{\\\"text\\\": \\\"I'd say [NAME].\\\"}\",\"encoding\":\"JSON\"},\"endpointOutput\":{\"observedContentType\":\"application/json\",\"mode\":\"OUTPUT\",\"data\":\"[\\n  \\\"{\\\\\\\"neutral\\\\\\\": 0.8980746269226074, \\\\\\\"happy\\\\\\\": 0.05805426836013794, \\\\\\\"surprised\\\\\\\": 0.010948991402983665}\\\",\\n  \\\"application/json\\\"\\n]\",\"encoding\":\"JSON\"}},\"eventMetadata\":{\"eventId\":\"5a678e73-5f85-42bf-8a2f-e7e8758cc405\",\"inferenceTime\":\"2024-02-21T19:23:11Z\"},\"eventVersion\":\"0\"}\n",
      "{\"captureData\":{\"endpointInput\":{\"observedContentType\":\"application/json\",\"mode\":\"INPUT\",\"data\":\"{\\\"text\\\": \\\"Of all of the fan-favorites from each city, [NAME] being the fan-favorite confuses and annoys me most. Her headlines are becoming insufferable.\\\"}\",\"encoding\":\"JSON\"},\"endpointOutput\":{\"observedContentType\":\"application/json\",\"mode\":\"OUTPUT\",\"data\":\"[\\n  \\\"{\\\\\\\"anger\\\\\\\": 0.7004535794258118, \\\\\\\"neutral\\\\\\\": 0.07503578066825867, \\\\\\\"disgust\\\\\\\": 0.07243283092975616}\\\",\\n  \\\"application/json\\\"\\n]\",\"encoding\":\"JSON\"}},\"eventMetadata\":{\"eventId\":\"16e774ee-9d82-46a3-a761-d2d56ed4abfa\",\"inferenceTime\":\"2024-02-21T19:23:11Z\"},\"eventVersion\":\"0\"}\n",
      "{\"captureData\":{\"endpointInput\":{\"observedContentType\":\"application/json\",\"mode\":\"INPUT\",\"data\":\"{\\\"text\\\": \\\"Humanity is doomed\\\"}\",\"encoding\":\"JSON\"},\"endpointOutput\":{\"observedContentType\":\"application/json\",\"mode\":\"OUTPUT\",\"data\":\"[\\n  \\\"{\\\\\\\"neutral\\\\\\\": 0.5634108185768127, \\\\\\\"anger\\\\\\\": 0.21526533365249634, \\\\\\\"sad\\\\\\\": 0.1369190663099289}\\\",\\n  \\\"application/json\\\"\\n]\",\"encoding\":\"JSON\"}},\"eventMetadata\":{\"eventId\":\"df56dc51-88c5-42be-8270-db96d4fd2e82\",\"inferenceTime\":\"2024-02-21T19:23:12Z\"},\"eventVersion\":\"0\"}\n",
      "{\"captureData\":{\"endpointInput\":{\"observedContentType\":\"application/json\",\"mode\":\"INPUT\",\"data\":\"{\\\"text\\\": \\\"Thank you! And may [NAME] shine His love upon you!\\\"}\",\"encoding\":\"JSON\"},\"endpointOutput\":{\"observedContentType\":\"application/json\",\"mode\":\"OUTPUT\",\"data\":\"[\\n  \\\"{\\\\\\\"happy\\\\\\\n"
     ]
    }
   ],
   "source": [
    "def get_obj_body(obj_key):\n",
    "    return s3_client.get_object(Bucket=bucket_name, Key=obj_key).get(\"Body\").read().decode(\"utf-8\")\n",
    "\n",
    "\n",
    "capture_file = get_obj_body(capture_files[-1])\n",
    "print(capture_file[:2000])"
   ]
  },
  {
   "cell_type": "code",
   "execution_count": 33,
   "id": "662a64df-48a2-4a6c-a080-df646f70ad02",
   "metadata": {
    "tags": []
   },
   "outputs": [
    {
     "name": "stdout",
     "output_type": "stream",
     "text": [
      "{\n",
      "  \"captureData\": {\n",
      "    \"endpointInput\": {\n",
      "      \"observedContentType\": \"application/json\",\n",
      "      \"mode\": \"INPUT\",\n",
      "      \"data\": \"{\\\"text\\\": \\\"I'd say [NAME].\\\"}\",\n",
      "      \"encoding\": \"JSON\"\n",
      "    },\n",
      "    \"endpointOutput\": {\n",
      "      \"observedContentType\": \"application/json\",\n",
      "      \"mode\": \"OUTPUT\",\n",
      "      \"data\": \"[\\n  \\\"{\\\\\\\"neutral\\\\\\\": 0.8980746269226074, \\\\\\\"happy\\\\\\\": 0.05805426836013794, \\\\\\\"surprised\\\\\\\": 0.010948991402983665}\\\",\\n  \\\"application/json\\\"\\n]\",\n",
      "      \"encoding\": \"JSON\"\n",
      "    }\n",
      "  },\n",
      "  \"eventMetadata\": {\n",
      "    \"eventId\": \"5a678e73-5f85-42bf-8a2f-e7e8758cc405\",\n",
      "    \"inferenceTime\": \"2024-02-21T19:23:11Z\"\n",
      "  },\n",
      "  \"eventVersion\": \"0\"\n",
      "}\n"
     ]
    }
   ],
   "source": [
    "import json\n",
    "\n",
    "print(json.dumps(json.loads(capture_file.split(\"\\n\")[0]), indent=2))"
   ]
  },
  {
   "cell_type": "code",
   "execution_count": 39,
   "id": "f9d71cad-aeca-4e66-9f35-ef10b130265d",
   "metadata": {
    "tags": []
   },
   "outputs": [
    {
     "data": {
      "text/plain": [
       "'s3://aai-540-final-data-east-1/sagemaker/AIEmotions-ModelQualityMonitor/ground_truth_data/2024-02-21-19-18-30/2024/02/21/19/4758.jsonl'"
      ]
     },
     "execution_count": 39,
     "metadata": {},
     "output_type": "execute_result"
    }
   ],
   "source": [
    "upload_time = datetime.utcnow()\n",
    "target_s3_uri = f\"{ground_truth_upload_path}/{upload_time:%Y/%m/%d/%H/%M%S}.jsonl\"\n",
    "synthetic_sample['emotions'].to_json('output.jsonl', orient='records', lines=True)\n",
    "S3Uploader.upload_string_as_file_body('output.jsonl', target_s3_uri)"
   ]
  },
  {
   "cell_type": "code",
   "execution_count": 45,
   "id": "2e81f0f0-244f-48ec-8c8a-9fe0e9a0890a",
   "metadata": {
    "tags": []
   },
   "outputs": [
    {
     "ename": "ClientError",
     "evalue": "An error occurred (ValidationException) when calling the CreateModelQualityJobDefinition operation: InvalidParameter: 1 validation error(s) found.\n- missing required field, CreateModelQualityJobDefinitionInput.ModelQualityJobInputs.EndpointInput.InferenceAttribute.\n",
     "output_type": "error",
     "traceback": [
      "\u001b[0;31m---------------------------------------------------------------------------\u001b[0m",
      "\u001b[0;31mClientError\u001b[0m                               Traceback (most recent call last)",
      "Cell \u001b[0;32mIn[45], line 11\u001b[0m\n\u001b[1;32m      4\u001b[0m model_monitor_schedule_name \u001b[38;5;241m=\u001b[39m (\u001b[38;5;124mf\u001b[39m\u001b[38;5;124m\"\u001b[39m\u001b[38;5;124mAIEmotion-model-monitoring-schedule-\u001b[39m\u001b[38;5;132;01m{\u001b[39;00mdatetime\u001b[38;5;241m.\u001b[39mutcnow()\u001b[38;5;132;01m:\u001b[39;00m\u001b[38;5;124m%Y-%m-%d-%H%M\u001b[39m\u001b[38;5;132;01m}\u001b[39;00m\u001b[38;5;124m\"\u001b[39m)\n\u001b[1;32m      6\u001b[0m endpoint_input\u001b[38;5;241m=\u001b[39mEndpointInput(\n\u001b[1;32m      7\u001b[0m         endpoint_name\u001b[38;5;241m=\u001b[39mendpoint_name,\n\u001b[1;32m      8\u001b[0m         destination\u001b[38;5;241m=\u001b[39m\u001b[38;5;124m\"\u001b[39m\u001b[38;5;124m/opt/ml/processing/input/endpoint\u001b[39m\u001b[38;5;124m\"\u001b[39m\n\u001b[1;32m      9\u001b[0m     )\n\u001b[0;32m---> 11\u001b[0m \u001b[43memotions_base_model_quality_monitor\u001b[49m\u001b[38;5;241;43m.\u001b[39;49m\u001b[43mcreate_monitoring_schedule\u001b[49m\u001b[43m(\u001b[49m\n\u001b[1;32m     12\u001b[0m \u001b[43m    \u001b[49m\u001b[43mmonitor_schedule_name\u001b[49m\u001b[38;5;241;43m=\u001b[39;49m\u001b[43mmodel_monitor_schedule_name\u001b[49m\u001b[43m,\u001b[49m\n\u001b[1;32m     13\u001b[0m \u001b[43m    \u001b[49m\u001b[43mendpoint_input\u001b[49m\u001b[38;5;241;43m=\u001b[39;49m\u001b[43mendpoint_input\u001b[49m\u001b[43m,\u001b[49m\n\u001b[1;32m     14\u001b[0m \u001b[43m    \u001b[49m\u001b[43moutput_s3_uri\u001b[49m\u001b[38;5;241;43m=\u001b[39;49m\u001b[43ms3_report_path\u001b[49m\u001b[43m,\u001b[49m\n\u001b[1;32m     15\u001b[0m \u001b[43m    \u001b[49m\u001b[43mconstraints\u001b[49m\u001b[38;5;241;43m=\u001b[39;49m\u001b[43mbaseline_job\u001b[49m\u001b[38;5;241;43m.\u001b[39;49m\u001b[43msuggested_constraints\u001b[49m\u001b[43m(\u001b[49m\u001b[43m)\u001b[49m\u001b[43m,\u001b[49m\n\u001b[1;32m     16\u001b[0m \u001b[43m    \u001b[49m\u001b[43mground_truth_input\u001b[49m\u001b[38;5;241;43m=\u001b[39;49m\u001b[43mground_truth_upload_path\u001b[49m\u001b[43m,\u001b[49m\n\u001b[1;32m     17\u001b[0m \u001b[43m    \u001b[49m\u001b[43mproblem_type\u001b[49m\u001b[43m \u001b[49m\u001b[38;5;241;43m=\u001b[39;49m\u001b[43m \u001b[49m\u001b[38;5;124;43m'\u001b[39;49m\u001b[38;5;124;43mMulticlassClassification\u001b[39;49m\u001b[38;5;124;43m'\u001b[39;49m\u001b[43m,\u001b[49m\n\u001b[1;32m     18\u001b[0m \u001b[43m    \u001b[49m\u001b[43mschedule_cron_expression\u001b[49m\u001b[38;5;241;43m=\u001b[39;49m\u001b[43mCronExpressionGenerator\u001b[49m\u001b[38;5;241;43m.\u001b[39;49m\u001b[43mhourly\u001b[49m\u001b[43m(\u001b[49m\u001b[43m)\u001b[49m\u001b[43m,\u001b[49m\n\u001b[1;32m     19\u001b[0m \u001b[43m    \u001b[49m\u001b[43menable_cloudwatch_metrics\u001b[49m\u001b[38;5;241;43m=\u001b[39;49m\u001b[38;5;28;43;01mTrue\u001b[39;49;00m\u001b[43m,\u001b[49m\n\u001b[1;32m     20\u001b[0m \u001b[43m)\u001b[49m\n",
      "File \u001b[0;32m/usr/local/lib/python3.9/site-packages/sagemaker/model_monitor/model_monitoring.py:3166\u001b[0m, in \u001b[0;36mModelQualityMonitor.create_monitoring_schedule\u001b[0;34m(self, endpoint_input, ground_truth_input, problem_type, record_preprocessor_script, post_analytics_processor_script, output_s3_uri, constraints, monitor_schedule_name, schedule_cron_expression, enable_cloudwatch_metrics, batch_transform_input, data_analysis_start_time, data_analysis_end_time)\u001b[0m\n\u001b[1;32m   3138\u001b[0m new_job_definition_name \u001b[38;5;241m=\u001b[39m name_from_base(\u001b[38;5;28mself\u001b[39m\u001b[38;5;241m.\u001b[39mJOB_DEFINITION_BASE_NAME)\n\u001b[1;32m   3139\u001b[0m request_dict \u001b[38;5;241m=\u001b[39m \u001b[38;5;28mself\u001b[39m\u001b[38;5;241m.\u001b[39m_build_create_model_quality_job_definition_request(\n\u001b[1;32m   3140\u001b[0m     monitoring_schedule_name\u001b[38;5;241m=\u001b[39mmonitor_schedule_name,\n\u001b[1;32m   3141\u001b[0m     job_definition_name\u001b[38;5;241m=\u001b[39mnew_job_definition_name,\n\u001b[0;32m   (...)\u001b[0m\n\u001b[1;32m   3164\u001b[0m     batch_transform_input\u001b[38;5;241m=\u001b[39mbatch_transform_input,\n\u001b[1;32m   3165\u001b[0m )\n\u001b[0;32m-> 3166\u001b[0m \u001b[38;5;28;43mself\u001b[39;49m\u001b[38;5;241;43m.\u001b[39;49m\u001b[43msagemaker_session\u001b[49m\u001b[38;5;241;43m.\u001b[39;49m\u001b[43msagemaker_client\u001b[49m\u001b[38;5;241;43m.\u001b[39;49m\u001b[43mcreate_model_quality_job_definition\u001b[49m\u001b[43m(\u001b[49m\u001b[38;5;241;43m*\u001b[39;49m\u001b[38;5;241;43m*\u001b[39;49m\u001b[43mrequest_dict\u001b[49m\u001b[43m)\u001b[49m\n\u001b[1;32m   3168\u001b[0m \u001b[38;5;66;03m# create schedule\u001b[39;00m\n\u001b[1;32m   3169\u001b[0m \u001b[38;5;28;01mtry\u001b[39;00m:\n",
      "File \u001b[0;32m/usr/local/lib/python3.9/site-packages/botocore/client.py:553\u001b[0m, in \u001b[0;36mClientCreator._create_api_method.<locals>._api_call\u001b[0;34m(self, *args, **kwargs)\u001b[0m\n\u001b[1;32m    549\u001b[0m     \u001b[38;5;28;01mraise\u001b[39;00m \u001b[38;5;167;01mTypeError\u001b[39;00m(\n\u001b[1;32m    550\u001b[0m         \u001b[38;5;124mf\u001b[39m\u001b[38;5;124m\"\u001b[39m\u001b[38;5;132;01m{\u001b[39;00mpy_operation_name\u001b[38;5;132;01m}\u001b[39;00m\u001b[38;5;124m() only accepts keyword arguments.\u001b[39m\u001b[38;5;124m\"\u001b[39m\n\u001b[1;32m    551\u001b[0m     )\n\u001b[1;32m    552\u001b[0m \u001b[38;5;66;03m# The \"self\" in this scope is referring to the BaseClient.\u001b[39;00m\n\u001b[0;32m--> 553\u001b[0m \u001b[38;5;28;01mreturn\u001b[39;00m \u001b[38;5;28;43mself\u001b[39;49m\u001b[38;5;241;43m.\u001b[39;49m\u001b[43m_make_api_call\u001b[49m\u001b[43m(\u001b[49m\u001b[43moperation_name\u001b[49m\u001b[43m,\u001b[49m\u001b[43m \u001b[49m\u001b[43mkwargs\u001b[49m\u001b[43m)\u001b[49m\n",
      "File \u001b[0;32m/usr/local/lib/python3.9/site-packages/botocore/client.py:1009\u001b[0m, in \u001b[0;36mBaseClient._make_api_call\u001b[0;34m(self, operation_name, api_params)\u001b[0m\n\u001b[1;32m   1005\u001b[0m     error_code \u001b[38;5;241m=\u001b[39m error_info\u001b[38;5;241m.\u001b[39mget(\u001b[38;5;124m\"\u001b[39m\u001b[38;5;124mQueryErrorCode\u001b[39m\u001b[38;5;124m\"\u001b[39m) \u001b[38;5;129;01mor\u001b[39;00m error_info\u001b[38;5;241m.\u001b[39mget(\n\u001b[1;32m   1006\u001b[0m         \u001b[38;5;124m\"\u001b[39m\u001b[38;5;124mCode\u001b[39m\u001b[38;5;124m\"\u001b[39m\n\u001b[1;32m   1007\u001b[0m     )\n\u001b[1;32m   1008\u001b[0m     error_class \u001b[38;5;241m=\u001b[39m \u001b[38;5;28mself\u001b[39m\u001b[38;5;241m.\u001b[39mexceptions\u001b[38;5;241m.\u001b[39mfrom_code(error_code)\n\u001b[0;32m-> 1009\u001b[0m     \u001b[38;5;28;01mraise\u001b[39;00m error_class(parsed_response, operation_name)\n\u001b[1;32m   1010\u001b[0m \u001b[38;5;28;01melse\u001b[39;00m:\n\u001b[1;32m   1011\u001b[0m     \u001b[38;5;28;01mreturn\u001b[39;00m parsed_response\n",
      "\u001b[0;31mClientError\u001b[0m: An error occurred (ValidationException) when calling the CreateModelQualityJobDefinition operation: InvalidParameter: 1 validation error(s) found.\n- missing required field, CreateModelQualityJobDefinitionInput.ModelQualityJobInputs.EndpointInput.InferenceAttribute.\n"
     ]
    }
   ],
   "source": [
    "from sagemaker.model_monitor import CronExpressionGenerator\n",
    "from time import gmtime, strftime\n",
    "##Monitoring schedule name\n",
    "model_monitor_schedule_name = (f\"AIEmotion-model-monitoring-schedule-{datetime.utcnow():%Y-%m-%d-%H%M}\")\n",
    "\n",
    "endpoint_input=EndpointInput(\n",
    "        endpoint_name=endpoint_name,\n",
    "        destination=\"/opt/ml/processing/input/endpoint\"\n",
    "    )\n",
    "\n",
    "emotions_base_model_quality_monitor.create_monitoring_schedule(\n",
    "    monitor_schedule_name=model_monitor_schedule_name,\n",
    "    endpoint_input=endpoint_input,\n",
    "    output_s3_uri=s3_report_path,\n",
    "    constraints=baseline_job.suggested_constraints(),\n",
    "    ground_truth_input=ground_truth_upload_path,\n",
    "    problem_type = 'MulticlassClassification',\n",
    "    schedule_cron_expression=CronExpressionGenerator.hourly(),\n",
    "    enable_cloudwatch_metrics=True,\n",
    ")"
   ]
  },
  {
   "cell_type": "markdown",
   "id": "2e77d056-5ec7-4077-b939-8c2b84e5a5ef",
   "metadata": {},
   "source": [
    "## Analyze Model Quality"
   ]
  },
  {
   "cell_type": "markdown",
   "id": "c6e87ce1-67fd-4a19-bb2b-76b43ccde3ad",
   "metadata": {},
   "source": [
    "## Release Resources"
   ]
  },
  {
   "cell_type": "code",
   "execution_count": 62,
   "id": "0b6d1fe7-cb53-4c67-b374-97ac9e1002ec",
   "metadata": {},
   "outputs": [
    {
     "name": "stderr",
     "output_type": "stream",
     "text": [
      "INFO:sagemaker:Deleting endpoint configuration with name: AIEmotion-model-quality-monitor-2024-02-21-1751\n",
      "INFO:sagemaker:Deleting endpoint with name: AIEmotion-model-quality-monitor-2024-02-21-1751\n"
     ]
    },
    {
     "name": "stdout",
     "output_type": "stream",
     "text": [
      "Unexpected exception formatting exception. Falling back to standard exception\n"
     ]
    },
    {
     "name": "stderr",
     "output_type": "stream",
     "text": [
      "Traceback (most recent call last):\n",
      "  File \"/usr/local/lib/python3.9/site-packages/IPython/core/interactiveshell.py\", line 3442, in run_code\n",
      "    exec(code_obj, self.user_global_ns, self.user_ns)\n",
      "  File \"/tmp/ipykernel_31/1204019056.py\", line 2, in <module>\n",
      "    predictor.delete_model()\n",
      "  File \"/usr/local/lib/python3.9/site-packages/sagemaker/predictor.py\", line 339, in delete_model\n",
      "  File \"/usr/local/lib/python3.9/site-packages/sagemaker/predictor.py\", line 530, in _get_model_names\n",
      "  File \"/usr/local/lib/python3.9/site-packages/botocore/client.py\", line 530, in _api_call\n",
      "    return op_dict\n",
      "  File \"/usr/local/lib/python3.9/site-packages/botocore/client.py\", line 960, in _make_api_call\n",
      "    # for use during construction.\n",
      "botocore.exceptions.ClientError: An error occurred (ValidationException) when calling the DescribeEndpointConfig operation: Could not find endpoint configuration \"AIEmotion-model-quality-monitor-2024-02-21-1751\".\n",
      "\n",
      "During handling of the above exception, another exception occurred:\n",
      "\n",
      "Traceback (most recent call last):\n",
      "  File \"/usr/local/lib/python3.9/site-packages/IPython/core/interactiveshell.py\", line 2057, in showtraceback\n",
      "    stb = self.InteractiveTB.structured_traceback(\n",
      "  File \"/usr/local/lib/python3.9/site-packages/IPython/core/ultratb.py\", line 1118, in structured_traceback\n",
      "    return FormattedTB.structured_traceback(\n",
      "  File \"/usr/local/lib/python3.9/site-packages/IPython/core/ultratb.py\", line 1012, in structured_traceback\n",
      "    return VerboseTB.structured_traceback(\n",
      "  File \"/usr/local/lib/python3.9/site-packages/IPython/core/ultratb.py\", line 865, in structured_traceback\n",
      "    formatted_exception = self.format_exception_as_a_whole(etype, evalue, etb, number_of_lines_of_context,\n",
      "  File \"/usr/local/lib/python3.9/site-packages/IPython/core/ultratb.py\", line 818, in format_exception_as_a_whole\n",
      "    frames.append(self.format_record(r))\n",
      "  File \"/usr/local/lib/python3.9/site-packages/IPython/core/ultratb.py\", line 736, in format_record\n",
      "    result += ''.join(_format_traceback_lines(frame_info.lines, Colors, self.has_colors, lvals))\n",
      "  File \"/usr/local/lib/python3.9/site-packages/stack_data/utils.py\", line 144, in cached_property_wrapper\n",
      "    value = obj.__dict__[self.func.__name__] = self.func(obj)\n",
      "  File \"/usr/local/lib/python3.9/site-packages/stack_data/core.py\", line 734, in lines\n",
      "    pieces = self.included_pieces\n",
      "  File \"/usr/local/lib/python3.9/site-packages/stack_data/utils.py\", line 144, in cached_property_wrapper\n",
      "    value = obj.__dict__[self.func.__name__] = self.func(obj)\n",
      "  File \"/usr/local/lib/python3.9/site-packages/stack_data/core.py\", line 681, in included_pieces\n",
      "    pos = scope_pieces.index(self.executing_piece)\n",
      "  File \"/usr/local/lib/python3.9/site-packages/stack_data/utils.py\", line 144, in cached_property_wrapper\n",
      "    value = obj.__dict__[self.func.__name__] = self.func(obj)\n",
      "  File \"/usr/local/lib/python3.9/site-packages/stack_data/core.py\", line 660, in executing_piece\n",
      "    return only(\n",
      "  File \"/usr/local/lib/python3.9/site-packages/executing/executing.py\", line 190, in only\n",
      "    raise NotOneValueFound('Expected one value, found 0')\n",
      "executing.executing.NotOneValueFound: Expected one value, found 0\n"
     ]
    }
   ],
   "source": [
    "predictor.delete_endpoint()\n",
    "predictor.delete_model()"
   ]
  },
  {
   "cell_type": "code",
   "execution_count": null,
   "id": "1498c1f1-26ad-47dd-ad76-6791be57a6bf",
   "metadata": {},
   "outputs": [],
   "source": []
  }
 ],
 "metadata": {
  "availableInstances": [
   {
    "_defaultOrder": 0,
    "_isFastLaunch": true,
    "category": "General purpose",
    "gpuNum": 0,
    "hideHardwareSpecs": false,
    "memoryGiB": 4,
    "name": "ml.t3.medium",
    "vcpuNum": 2
   },
   {
    "_defaultOrder": 1,
    "_isFastLaunch": false,
    "category": "General purpose",
    "gpuNum": 0,
    "hideHardwareSpecs": false,
    "memoryGiB": 8,
    "name": "ml.t3.large",
    "vcpuNum": 2
   },
   {
    "_defaultOrder": 2,
    "_isFastLaunch": false,
    "category": "General purpose",
    "gpuNum": 0,
    "hideHardwareSpecs": false,
    "memoryGiB": 16,
    "name": "ml.t3.xlarge",
    "vcpuNum": 4
   },
   {
    "_defaultOrder": 3,
    "_isFastLaunch": false,
    "category": "General purpose",
    "gpuNum": 0,
    "hideHardwareSpecs": false,
    "memoryGiB": 32,
    "name": "ml.t3.2xlarge",
    "vcpuNum": 8
   },
   {
    "_defaultOrder": 4,
    "_isFastLaunch": true,
    "category": "General purpose",
    "gpuNum": 0,
    "hideHardwareSpecs": false,
    "memoryGiB": 8,
    "name": "ml.m5.large",
    "vcpuNum": 2
   },
   {
    "_defaultOrder": 5,
    "_isFastLaunch": false,
    "category": "General purpose",
    "gpuNum": 0,
    "hideHardwareSpecs": false,
    "memoryGiB": 16,
    "name": "ml.m5.xlarge",
    "vcpuNum": 4
   },
   {
    "_defaultOrder": 6,
    "_isFastLaunch": false,
    "category": "General purpose",
    "gpuNum": 0,
    "hideHardwareSpecs": false,
    "memoryGiB": 32,
    "name": "ml.m5.2xlarge",
    "vcpuNum": 8
   },
   {
    "_defaultOrder": 7,
    "_isFastLaunch": false,
    "category": "General purpose",
    "gpuNum": 0,
    "hideHardwareSpecs": false,
    "memoryGiB": 64,
    "name": "ml.m5.4xlarge",
    "vcpuNum": 16
   },
   {
    "_defaultOrder": 8,
    "_isFastLaunch": false,
    "category": "General purpose",
    "gpuNum": 0,
    "hideHardwareSpecs": false,
    "memoryGiB": 128,
    "name": "ml.m5.8xlarge",
    "vcpuNum": 32
   },
   {
    "_defaultOrder": 9,
    "_isFastLaunch": false,
    "category": "General purpose",
    "gpuNum": 0,
    "hideHardwareSpecs": false,
    "memoryGiB": 192,
    "name": "ml.m5.12xlarge",
    "vcpuNum": 48
   },
   {
    "_defaultOrder": 10,
    "_isFastLaunch": false,
    "category": "General purpose",
    "gpuNum": 0,
    "hideHardwareSpecs": false,
    "memoryGiB": 256,
    "name": "ml.m5.16xlarge",
    "vcpuNum": 64
   },
   {
    "_defaultOrder": 11,
    "_isFastLaunch": false,
    "category": "General purpose",
    "gpuNum": 0,
    "hideHardwareSpecs": false,
    "memoryGiB": 384,
    "name": "ml.m5.24xlarge",
    "vcpuNum": 96
   },
   {
    "_defaultOrder": 12,
    "_isFastLaunch": false,
    "category": "General purpose",
    "gpuNum": 0,
    "hideHardwareSpecs": false,
    "memoryGiB": 8,
    "name": "ml.m5d.large",
    "vcpuNum": 2
   },
   {
    "_defaultOrder": 13,
    "_isFastLaunch": false,
    "category": "General purpose",
    "gpuNum": 0,
    "hideHardwareSpecs": false,
    "memoryGiB": 16,
    "name": "ml.m5d.xlarge",
    "vcpuNum": 4
   },
   {
    "_defaultOrder": 14,
    "_isFastLaunch": false,
    "category": "General purpose",
    "gpuNum": 0,
    "hideHardwareSpecs": false,
    "memoryGiB": 32,
    "name": "ml.m5d.2xlarge",
    "vcpuNum": 8
   },
   {
    "_defaultOrder": 15,
    "_isFastLaunch": false,
    "category": "General purpose",
    "gpuNum": 0,
    "hideHardwareSpecs": false,
    "memoryGiB": 64,
    "name": "ml.m5d.4xlarge",
    "vcpuNum": 16
   },
   {
    "_defaultOrder": 16,
    "_isFastLaunch": false,
    "category": "General purpose",
    "gpuNum": 0,
    "hideHardwareSpecs": false,
    "memoryGiB": 128,
    "name": "ml.m5d.8xlarge",
    "vcpuNum": 32
   },
   {
    "_defaultOrder": 17,
    "_isFastLaunch": false,
    "category": "General purpose",
    "gpuNum": 0,
    "hideHardwareSpecs": false,
    "memoryGiB": 192,
    "name": "ml.m5d.12xlarge",
    "vcpuNum": 48
   },
   {
    "_defaultOrder": 18,
    "_isFastLaunch": false,
    "category": "General purpose",
    "gpuNum": 0,
    "hideHardwareSpecs": false,
    "memoryGiB": 256,
    "name": "ml.m5d.16xlarge",
    "vcpuNum": 64
   },
   {
    "_defaultOrder": 19,
    "_isFastLaunch": false,
    "category": "General purpose",
    "gpuNum": 0,
    "hideHardwareSpecs": false,
    "memoryGiB": 384,
    "name": "ml.m5d.24xlarge",
    "vcpuNum": 96
   },
   {
    "_defaultOrder": 20,
    "_isFastLaunch": false,
    "category": "General purpose",
    "gpuNum": 0,
    "hideHardwareSpecs": true,
    "memoryGiB": 0,
    "name": "ml.geospatial.interactive",
    "supportedImageNames": [
     "sagemaker-geospatial-v1-0"
    ],
    "vcpuNum": 0
   },
   {
    "_defaultOrder": 21,
    "_isFastLaunch": true,
    "category": "Compute optimized",
    "gpuNum": 0,
    "hideHardwareSpecs": false,
    "memoryGiB": 4,
    "name": "ml.c5.large",
    "vcpuNum": 2
   },
   {
    "_defaultOrder": 22,
    "_isFastLaunch": false,
    "category": "Compute optimized",
    "gpuNum": 0,
    "hideHardwareSpecs": false,
    "memoryGiB": 8,
    "name": "ml.c5.xlarge",
    "vcpuNum": 4
   },
   {
    "_defaultOrder": 23,
    "_isFastLaunch": false,
    "category": "Compute optimized",
    "gpuNum": 0,
    "hideHardwareSpecs": false,
    "memoryGiB": 16,
    "name": "ml.c5.2xlarge",
    "vcpuNum": 8
   },
   {
    "_defaultOrder": 24,
    "_isFastLaunch": false,
    "category": "Compute optimized",
    "gpuNum": 0,
    "hideHardwareSpecs": false,
    "memoryGiB": 32,
    "name": "ml.c5.4xlarge",
    "vcpuNum": 16
   },
   {
    "_defaultOrder": 25,
    "_isFastLaunch": false,
    "category": "Compute optimized",
    "gpuNum": 0,
    "hideHardwareSpecs": false,
    "memoryGiB": 72,
    "name": "ml.c5.9xlarge",
    "vcpuNum": 36
   },
   {
    "_defaultOrder": 26,
    "_isFastLaunch": false,
    "category": "Compute optimized",
    "gpuNum": 0,
    "hideHardwareSpecs": false,
    "memoryGiB": 96,
    "name": "ml.c5.12xlarge",
    "vcpuNum": 48
   },
   {
    "_defaultOrder": 27,
    "_isFastLaunch": false,
    "category": "Compute optimized",
    "gpuNum": 0,
    "hideHardwareSpecs": false,
    "memoryGiB": 144,
    "name": "ml.c5.18xlarge",
    "vcpuNum": 72
   },
   {
    "_defaultOrder": 28,
    "_isFastLaunch": false,
    "category": "Compute optimized",
    "gpuNum": 0,
    "hideHardwareSpecs": false,
    "memoryGiB": 192,
    "name": "ml.c5.24xlarge",
    "vcpuNum": 96
   },
   {
    "_defaultOrder": 29,
    "_isFastLaunch": true,
    "category": "Accelerated computing",
    "gpuNum": 1,
    "hideHardwareSpecs": false,
    "memoryGiB": 16,
    "name": "ml.g4dn.xlarge",
    "vcpuNum": 4
   },
   {
    "_defaultOrder": 30,
    "_isFastLaunch": false,
    "category": "Accelerated computing",
    "gpuNum": 1,
    "hideHardwareSpecs": false,
    "memoryGiB": 32,
    "name": "ml.g4dn.2xlarge",
    "vcpuNum": 8
   },
   {
    "_defaultOrder": 31,
    "_isFastLaunch": false,
    "category": "Accelerated computing",
    "gpuNum": 1,
    "hideHardwareSpecs": false,
    "memoryGiB": 64,
    "name": "ml.g4dn.4xlarge",
    "vcpuNum": 16
   },
   {
    "_defaultOrder": 32,
    "_isFastLaunch": false,
    "category": "Accelerated computing",
    "gpuNum": 1,
    "hideHardwareSpecs": false,
    "memoryGiB": 128,
    "name": "ml.g4dn.8xlarge",
    "vcpuNum": 32
   },
   {
    "_defaultOrder": 33,
    "_isFastLaunch": false,
    "category": "Accelerated computing",
    "gpuNum": 4,
    "hideHardwareSpecs": false,
    "memoryGiB": 192,
    "name": "ml.g4dn.12xlarge",
    "vcpuNum": 48
   },
   {
    "_defaultOrder": 34,
    "_isFastLaunch": false,
    "category": "Accelerated computing",
    "gpuNum": 1,
    "hideHardwareSpecs": false,
    "memoryGiB": 256,
    "name": "ml.g4dn.16xlarge",
    "vcpuNum": 64
   },
   {
    "_defaultOrder": 35,
    "_isFastLaunch": false,
    "category": "Accelerated computing",
    "gpuNum": 1,
    "hideHardwareSpecs": false,
    "memoryGiB": 61,
    "name": "ml.p3.2xlarge",
    "vcpuNum": 8
   },
   {
    "_defaultOrder": 36,
    "_isFastLaunch": false,
    "category": "Accelerated computing",
    "gpuNum": 4,
    "hideHardwareSpecs": false,
    "memoryGiB": 244,
    "name": "ml.p3.8xlarge",
    "vcpuNum": 32
   },
   {
    "_defaultOrder": 37,
    "_isFastLaunch": false,
    "category": "Accelerated computing",
    "gpuNum": 8,
    "hideHardwareSpecs": false,
    "memoryGiB": 488,
    "name": "ml.p3.16xlarge",
    "vcpuNum": 64
   },
   {
    "_defaultOrder": 38,
    "_isFastLaunch": false,
    "category": "Accelerated computing",
    "gpuNum": 8,
    "hideHardwareSpecs": false,
    "memoryGiB": 768,
    "name": "ml.p3dn.24xlarge",
    "vcpuNum": 96
   },
   {
    "_defaultOrder": 39,
    "_isFastLaunch": false,
    "category": "Memory Optimized",
    "gpuNum": 0,
    "hideHardwareSpecs": false,
    "memoryGiB": 16,
    "name": "ml.r5.large",
    "vcpuNum": 2
   },
   {
    "_defaultOrder": 40,
    "_isFastLaunch": false,
    "category": "Memory Optimized",
    "gpuNum": 0,
    "hideHardwareSpecs": false,
    "memoryGiB": 32,
    "name": "ml.r5.xlarge",
    "vcpuNum": 4
   },
   {
    "_defaultOrder": 41,
    "_isFastLaunch": false,
    "category": "Memory Optimized",
    "gpuNum": 0,
    "hideHardwareSpecs": false,
    "memoryGiB": 64,
    "name": "ml.r5.2xlarge",
    "vcpuNum": 8
   },
   {
    "_defaultOrder": 42,
    "_isFastLaunch": false,
    "category": "Memory Optimized",
    "gpuNum": 0,
    "hideHardwareSpecs": false,
    "memoryGiB": 128,
    "name": "ml.r5.4xlarge",
    "vcpuNum": 16
   },
   {
    "_defaultOrder": 43,
    "_isFastLaunch": false,
    "category": "Memory Optimized",
    "gpuNum": 0,
    "hideHardwareSpecs": false,
    "memoryGiB": 256,
    "name": "ml.r5.8xlarge",
    "vcpuNum": 32
   },
   {
    "_defaultOrder": 44,
    "_isFastLaunch": false,
    "category": "Memory Optimized",
    "gpuNum": 0,
    "hideHardwareSpecs": false,
    "memoryGiB": 384,
    "name": "ml.r5.12xlarge",
    "vcpuNum": 48
   },
   {
    "_defaultOrder": 45,
    "_isFastLaunch": false,
    "category": "Memory Optimized",
    "gpuNum": 0,
    "hideHardwareSpecs": false,
    "memoryGiB": 512,
    "name": "ml.r5.16xlarge",
    "vcpuNum": 64
   },
   {
    "_defaultOrder": 46,
    "_isFastLaunch": false,
    "category": "Memory Optimized",
    "gpuNum": 0,
    "hideHardwareSpecs": false,
    "memoryGiB": 768,
    "name": "ml.r5.24xlarge",
    "vcpuNum": 96
   },
   {
    "_defaultOrder": 47,
    "_isFastLaunch": false,
    "category": "Accelerated computing",
    "gpuNum": 1,
    "hideHardwareSpecs": false,
    "memoryGiB": 16,
    "name": "ml.g5.xlarge",
    "vcpuNum": 4
   },
   {
    "_defaultOrder": 48,
    "_isFastLaunch": false,
    "category": "Accelerated computing",
    "gpuNum": 1,
    "hideHardwareSpecs": false,
    "memoryGiB": 32,
    "name": "ml.g5.2xlarge",
    "vcpuNum": 8
   },
   {
    "_defaultOrder": 49,
    "_isFastLaunch": false,
    "category": "Accelerated computing",
    "gpuNum": 1,
    "hideHardwareSpecs": false,
    "memoryGiB": 64,
    "name": "ml.g5.4xlarge",
    "vcpuNum": 16
   },
   {
    "_defaultOrder": 50,
    "_isFastLaunch": false,
    "category": "Accelerated computing",
    "gpuNum": 1,
    "hideHardwareSpecs": false,
    "memoryGiB": 128,
    "name": "ml.g5.8xlarge",
    "vcpuNum": 32
   },
   {
    "_defaultOrder": 51,
    "_isFastLaunch": false,
    "category": "Accelerated computing",
    "gpuNum": 1,
    "hideHardwareSpecs": false,
    "memoryGiB": 256,
    "name": "ml.g5.16xlarge",
    "vcpuNum": 64
   },
   {
    "_defaultOrder": 52,
    "_isFastLaunch": false,
    "category": "Accelerated computing",
    "gpuNum": 4,
    "hideHardwareSpecs": false,
    "memoryGiB": 192,
    "name": "ml.g5.12xlarge",
    "vcpuNum": 48
   },
   {
    "_defaultOrder": 53,
    "_isFastLaunch": false,
    "category": "Accelerated computing",
    "gpuNum": 4,
    "hideHardwareSpecs": false,
    "memoryGiB": 384,
    "name": "ml.g5.24xlarge",
    "vcpuNum": 96
   },
   {
    "_defaultOrder": 54,
    "_isFastLaunch": false,
    "category": "Accelerated computing",
    "gpuNum": 8,
    "hideHardwareSpecs": false,
    "memoryGiB": 768,
    "name": "ml.g5.48xlarge",
    "vcpuNum": 192
   },
   {
    "_defaultOrder": 55,
    "_isFastLaunch": false,
    "category": "Accelerated computing",
    "gpuNum": 8,
    "hideHardwareSpecs": false,
    "memoryGiB": 1152,
    "name": "ml.p4d.24xlarge",
    "vcpuNum": 96
   },
   {
    "_defaultOrder": 56,
    "_isFastLaunch": false,
    "category": "Accelerated computing",
    "gpuNum": 8,
    "hideHardwareSpecs": false,
    "memoryGiB": 1152,
    "name": "ml.p4de.24xlarge",
    "vcpuNum": 96
   },
   {
    "_defaultOrder": 57,
    "_isFastLaunch": false,
    "category": "Accelerated computing",
    "gpuNum": 0,
    "hideHardwareSpecs": false,
    "memoryGiB": 32,
    "name": "ml.trn1.2xlarge",
    "vcpuNum": 8
   },
   {
    "_defaultOrder": 58,
    "_isFastLaunch": false,
    "category": "Accelerated computing",
    "gpuNum": 0,
    "hideHardwareSpecs": false,
    "memoryGiB": 512,
    "name": "ml.trn1.32xlarge",
    "vcpuNum": 128
   },
   {
    "_defaultOrder": 59,
    "_isFastLaunch": false,
    "category": "Accelerated computing",
    "gpuNum": 0,
    "hideHardwareSpecs": false,
    "memoryGiB": 512,
    "name": "ml.trn1n.32xlarge",
    "vcpuNum": 128
   }
  ],
  "instance_type": "ml.m5.large",
  "kernelspec": {
   "display_name": "Python 3 (TensorFlow 2.11.0 Python 3.9 GPU Optimized)",
   "language": "python",
   "name": "python3__SAGEMAKER_INTERNAL__arn:aws:sagemaker:us-east-1:081325390199:image/tensorflow-2.11.0-gpu-py39-cu112-ubuntu20.04-sagemaker-v1.1"
  },
  "language_info": {
   "codemirror_mode": {
    "name": "ipython",
    "version": 3
   },
   "file_extension": ".py",
   "mimetype": "text/x-python",
   "name": "python",
   "nbconvert_exporter": "python",
   "pygments_lexer": "ipython3",
   "version": "3.9.10"
  }
 },
 "nbformat": 4,
 "nbformat_minor": 5
}
