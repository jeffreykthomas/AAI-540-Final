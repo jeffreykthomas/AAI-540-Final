{
 "cells": [
  {
   "cell_type": "markdown",
   "id": "1b4e5d11-39a7-42e6-86e2-0d5c30b99994",
   "metadata": {},
   "source": [
    "# CloudWatch"
   ]
  },
  {
   "cell_type": "code",
   "execution_count": 2,
   "id": "2cae21f9-da6e-4735-b67c-14a6e6e20f7c",
   "metadata": {
    "tags": []
   },
   "outputs": [
    {
     "name": "stdout",
     "output_type": "stream",
     "text": [
      "sagemaker.config INFO - Not applying SDK defaults from location: /etc/xdg/sagemaker/config.yaml\n",
      "sagemaker.config INFO - Not applying SDK defaults from location: /root/.config/sagemaker/config.yaml\n",
      "CPU times: user 1.22 s, sys: 302 ms, total: 1.52 s\n",
      "Wall time: 2.81 s\n"
     ]
    }
   ],
   "source": [
    "%%time\n",
    "import boto3\n",
    "import pandas as pd\n",
    "from datetime import datetime, timedelta, timezone\n",
    "import io\n",
    "import json\n",
    "from time import sleep\n",
    "from threading import Thread\n",
    "\n",
    "import sagemaker\n",
    "from sagemaker.session import Session\n",
    "from sagemaker.feature_store.feature_group import FeatureGroup\n",
    "from sagemaker import get_execution_role, session, Session, image_uris\n",
    "from sagemaker.s3 import S3Downloader, S3Uploader\n",
    "from sagemaker.processing import ProcessingJob\n",
    "from sagemaker.serializers import CSVSerializer\n",
    "from sagemaker.model_monitor import DataCaptureConfig\n",
    "from sagemaker.huggingface.model import HuggingFaceModel"
   ]
  },
  {
   "cell_type": "code",
   "execution_count": 3,
   "id": "c609b2f6-a95e-4391-adea-d44dc4421ddd",
   "metadata": {
    "tags": []
   },
   "outputs": [
    {
     "name": "stdout",
     "output_type": "stream",
     "text": [
      "sagemaker.config INFO - Not applying SDK defaults from location: /etc/xdg/sagemaker/config.yaml\n",
      "sagemaker.config INFO - Not applying SDK defaults from location: /root/.config/sagemaker/config.yaml\n",
      "Image URI: 777275614652.dkr.ecr.us-east-2.amazonaws.com/sagemaker-model-monitor-analyzer\n",
      "Capture path: s3://aai-540-final-data-east/sagemaker/AIEmotions-ModelQualityMonitor/datacapture\n",
      "Ground truth path: s3://aai-540-final-data-east/sagemaker/AIEmotions-ModelQualityMonitor/ground_truth_data/2024-02-23-05-27-12\n",
      "Report path: s3://aai-540-final-data-east/sagemaker/AIEmotions-ModelQualityMonitor/reports\n"
     ]
    }
   ],
   "source": [
    "##S3 prefixes\n",
    "bucket_name = 'aai-540-final-data-east'\n",
    "region_name = 'us-east-2'\n",
    "session = sagemaker.Session(boto3.Session(region_name=region_name))\n",
    "s3 = session.boto_session.client('s3')\n",
    "\n",
    "prefix = \"sagemaker/AIEmotions-ModelQualityMonitor\"\n",
    "data_capture_prefix = f\"{prefix}/datacapture\"\n",
    "s3_capture_upload_path = f\"s3://{bucket_name}/{data_capture_prefix}\"\n",
    "\n",
    "\n",
    "ground_truth_upload_path = (\n",
    "    f\"s3://{bucket_name}/{prefix}/ground_truth_data/{datetime.now():%Y-%m-%d-%H-%M-%S}\"\n",
    ")\n",
    "\n",
    "reports_prefix = f\"{prefix}/reports\"\n",
    "s3_report_path = f\"s3://{bucket_name}/{reports_prefix}\"\n",
    "\n",
    "##Get the model monitor image\n",
    "monitor_image_uri = image_uris.retrieve(framework=\"model-monitor\", region=region_name)\n",
    "\n",
    "print(\"Image URI:\", monitor_image_uri)\n",
    "print(f\"Capture path: {s3_capture_upload_path}\")\n",
    "print(f\"Ground truth path: {ground_truth_upload_path}\")\n",
    "print(f\"Report path: {s3_report_path}\")"
   ]
  },
  {
   "cell_type": "code",
   "execution_count": 4,
   "id": "c8342d93-fc3c-4333-9703-272b95814201",
   "metadata": {
    "tags": []
   },
   "outputs": [
    {
     "data": {
      "text/html": [
       "<div>\n",
       "<style scoped>\n",
       "    .dataframe tbody tr th:only-of-type {\n",
       "        vertical-align: middle;\n",
       "    }\n",
       "\n",
       "    .dataframe tbody tr th {\n",
       "        vertical-align: top;\n",
       "    }\n",
       "\n",
       "    .dataframe thead th {\n",
       "        text-align: right;\n",
       "    }\n",
       "</style>\n",
       "<table border=\"1\" class=\"dataframe\">\n",
       "  <thead>\n",
       "    <tr style=\"text-align: right;\">\n",
       "      <th></th>\n",
       "      <th>text</th>\n",
       "      <th>emotions</th>\n",
       "    </tr>\n",
       "  </thead>\n",
       "  <tbody>\n",
       "    <tr>\n",
       "      <th>0</th>\n",
       "      <td>Yeah I tried to apply but with being partially...</td>\n",
       "      <td>sadness</td>\n",
       "    </tr>\n",
       "    <tr>\n",
       "      <th>1</th>\n",
       "      <td>First time, health/environmental reasons. Seco...</td>\n",
       "      <td>neutral</td>\n",
       "    </tr>\n",
       "    <tr>\n",
       "      <th>2</th>\n",
       "      <td>Wow. I dig that.</td>\n",
       "      <td>affectionate</td>\n",
       "    </tr>\n",
       "    <tr>\n",
       "      <th>3</th>\n",
       "      <td>Thank you! We’re currently shoveling ourselves...</td>\n",
       "      <td>happy</td>\n",
       "    </tr>\n",
       "    <tr>\n",
       "      <th>4</th>\n",
       "      <td>This is one of my favorite of [NAME] songs alt...</td>\n",
       "      <td>affectionate</td>\n",
       "    </tr>\n",
       "    <tr>\n",
       "      <th>...</th>\n",
       "      <td>...</td>\n",
       "      <td>...</td>\n",
       "    </tr>\n",
       "    <tr>\n",
       "      <th>5422</th>\n",
       "      <td>So, the kicker... her brother played on Xbox s...</td>\n",
       "      <td>neutral</td>\n",
       "    </tr>\n",
       "    <tr>\n",
       "      <th>5423</th>\n",
       "      <td>It would be hilarious if it was a pasta place too</td>\n",
       "      <td>happy</td>\n",
       "    </tr>\n",
       "    <tr>\n",
       "      <th>5424</th>\n",
       "      <td>Oh damn, that would have been the only correct...</td>\n",
       "      <td>sadness</td>\n",
       "    </tr>\n",
       "    <tr>\n",
       "      <th>5425</th>\n",
       "      <td>At this point, LSC only exists to give sociali...</td>\n",
       "      <td>anger</td>\n",
       "    </tr>\n",
       "    <tr>\n",
       "      <th>5426</th>\n",
       "      <td>omgad that monster!</td>\n",
       "      <td>neutral</td>\n",
       "    </tr>\n",
       "  </tbody>\n",
       "</table>\n",
       "<p>5427 rows × 2 columns</p>\n",
       "</div>"
      ],
      "text/plain": [
       "                                                   text      emotions\n",
       "0     Yeah I tried to apply but with being partially...       sadness\n",
       "1     First time, health/environmental reasons. Seco...       neutral\n",
       "2                                      Wow. I dig that.  affectionate\n",
       "3     Thank you! We’re currently shoveling ourselves...         happy\n",
       "4     This is one of my favorite of [NAME] songs alt...  affectionate\n",
       "...                                                 ...           ...\n",
       "5422  So, the kicker... her brother played on Xbox s...       neutral\n",
       "5423  It would be hilarious if it was a pasta place too         happy\n",
       "5424  Oh damn, that would have been the only correct...       sadness\n",
       "5425  At this point, LSC only exists to give sociali...         anger\n",
       "5426                                omgad that monster!       neutral\n",
       "\n",
       "[5427 rows x 2 columns]"
      ]
     },
     "execution_count": 4,
     "metadata": {},
     "output_type": "execute_result"
    }
   ],
   "source": [
    "df_test_new = pd.read_csv('data/test.csv')\n",
    "df_test_new\n",
    "\n",
    "emotion_categories = {\n",
    "\t\"anger\": [\"anger\", \"annoyance\", \"disapproval\"],\n",
    "\t\"disgust\": [\"disgust\"],\n",
    "\t\"fear\": [\"fear\", \"nervousness\"],\n",
    "\t\"happy\": [\"joy\", \"amusement\", \"approval\", \"gratitude\"],\n",
    "\t\"optimistic\": [\"optimism\", \"relief\", \"pride\", \"excitement\"],\n",
    "\t\"affectionate\": [ \"love\", \"caring\", \"admiration\",  \"desire\"],\n",
    "\t\"sadness\": [\"sadness\", \"disappointment\", \"embarrassment\", \"grief\",  \"remorse\"],\n",
    "\t\"surprise\": [\"surprise\", \"realization\", \"confusion\", \"curiosity\"],\n",
    "\t\"neutral\": [\"neutral\"]\n",
    "} \n",
    "\n",
    "emotion_index_to_label = {index: label for index, label in enumerate(emotion_categories)}\n",
    "df_test_new['emotions'] = df_test_new['emotions'].apply(lambda x: emotion_index_to_label[x])\n",
    "df_test_new"
   ]
  },
  {
   "cell_type": "code",
   "execution_count": 5,
   "id": "c1684d9e-cd82-420b-ae09-428a9fc7e105",
   "metadata": {
    "tags": []
   },
   "outputs": [
    {
     "name": "stdout",
     "output_type": "stream",
     "text": [
      "sagemaker.config INFO - Not applying SDK defaults from location: /etc/xdg/sagemaker/config.yaml\n",
      "sagemaker.config INFO - Not applying SDK defaults from location: /root/.config/sagemaker/config.yaml\n",
      "sagemaker.config INFO - Not applying SDK defaults from location: /etc/xdg/sagemaker/config.yaml\n",
      "sagemaker.config INFO - Not applying SDK defaults from location: /root/.config/sagemaker/config.yaml\n",
      "sagemaker.config INFO - Not applying SDK defaults from location: /etc/xdg/sagemaker/config.yaml\n",
      "sagemaker.config INFO - Not applying SDK defaults from location: /root/.config/sagemaker/config.yaml\n"
     ]
    }
   ],
   "source": [
    "#Retrieve Model\n",
    "role = sagemaker.get_execution_role()\n",
    "s3 = boto3.client('s3')\n",
    "model_dir = 'models/tuned_model/'\n",
    "tar_file = 'model.tar.gz'\n",
    "\n",
    "\n",
    "model_name = f\"AIEmotion-model-monitor-{datetime.utcnow():%Y-%m-%d-%H%M}\"\n",
    "\n",
    "model_data = f's3://{bucket_name}/{model_dir}{tar_file}'\n",
    "tensorflow_version = '2.6.3'\n",
    "transformers_version='4.17.0'\n",
    "py_version = 'py38'\n",
    "huggingface_model = HuggingFaceModel(model_data=model_data,\n",
    "                                     role=role,\n",
    "                                     transformers_version=transformers_version,\n",
    "                                     tensorflow_version=tensorflow_version,\n",
    "                                     py_version=py_version,\n",
    "                                     entry_point='inference.py'\n",
    "                                   )"
   ]
  },
  {
   "cell_type": "code",
   "execution_count": 6,
   "id": "c6674e18-89e7-47d7-a07a-831cf7429d74",
   "metadata": {
    "tags": []
   },
   "outputs": [
    {
     "name": "stdout",
     "output_type": "stream",
     "text": [
      "EndpointName = AIEmotion-model-quality-monitor-2024-02-23-0528\n",
      "sagemaker.config INFO - Not applying SDK defaults from location: /etc/xdg/sagemaker/config.yaml\n",
      "sagemaker.config INFO - Not applying SDK defaults from location: /root/.config/sagemaker/config.yaml\n",
      "-----!"
     ]
    }
   ],
   "source": [
    "endpoint_name = f\"AIEmotion-model-quality-monitor-{datetime.utcnow():%Y-%m-%d-%H%M}\"\n",
    "#endpoint_name = 'emotion-ai-endpoint'\n",
    "print(\"EndpointName =\", endpoint_name)\n",
    "\n",
    "data_capture_config = DataCaptureConfig(\n",
    "    enable_capture=True, sampling_percentage=100, destination_s3_uri=s3_capture_upload_path\n",
    ")\n",
    "\n",
    "predictor = huggingface_model.deploy(\n",
    "    initial_instance_count=1,\n",
    "    instance_type='ml.c5.large',\n",
    "    endpoint_name=endpoint_name,\n",
    "    data_capture_config=data_capture_config,\n",
    ")"
   ]
  },
  {
   "cell_type": "code",
   "execution_count": 7,
   "id": "53bdcf0d-ca62-4535-9c8a-8e22d982c1d2",
   "metadata": {
    "tags": []
   },
   "outputs": [
    {
     "name": "stdout",
     "output_type": "stream",
     "text": [
      "Baseline data uri: s3://aai-540-final-data-east/sagemaker/AIEmotions-ModelQualityMonitor/baselining/data\n",
      "Baseline results uri: s3://aai-540-final-data-east/sagemaker/AIEmotions-ModelQualityMonitor/baselining/results\n"
     ]
    }
   ],
   "source": [
    "# Predictions as baseline dataset\n",
    "baseline_prefix = prefix + \"/baselining\"\n",
    "baseline_data_prefix = baseline_prefix + \"/data\"\n",
    "baseline_results_prefix = baseline_prefix + \"/results\"\n",
    "\n",
    "baseline_data_uri = f\"s3://{bucket_name}/{baseline_data_prefix}\"\n",
    "baseline_results_uri = f\"s3://{bucket_name}/{baseline_results_prefix}\"\n",
    "print(f\"Baseline data uri: {baseline_data_uri}\")\n",
    "print(f\"Baseline results uri: {baseline_results_uri}\")"
   ]
  },
  {
   "cell_type": "code",
   "execution_count": 8,
   "id": "c9152541-3913-4244-b827-6c42b90ef31d",
   "metadata": {
    "tags": []
   },
   "outputs": [],
   "source": [
    "# Grab a sample of the dataset\n",
    "df_test_subset = df_test_new.sample(500)\n",
    "df_test_subset = df_test_subset.reset_index(drop=True)"
   ]
  },
  {
   "cell_type": "code",
   "execution_count": 22,
   "id": "03c9406d-a6a2-43c7-ba4c-707e8140eb89",
   "metadata": {
    "tags": []
   },
   "outputs": [],
   "source": [
    "def calculate_predictions(results):\n",
    "    # Initialize an empty list to collect dictionaries\n",
    "    predictions = []\n",
    "    \n",
    "    for result in results:\n",
    "        res = json.loads(result[0])['slack_app']\n",
    "        pred_labels = list(res.keys())\n",
    "        probabilities = list(res.values())\n",
    "        \n",
    "        # For each result, create a dictionary with the desired structure\n",
    "        predictions.append({'pred_label': pred_labels[0], 'probability': probabilities[0]})\n",
    "    \n",
    "    # Create a DataFrame directly from the list of dictionaries\n",
    "    df_results = pd.DataFrame(predictions)\n",
    "    \n",
    "    return df_results"
   ]
  },
  {
   "cell_type": "code",
   "execution_count": 10,
   "id": "ad4fd43d-ed93-478f-a108-990b45811e61",
   "metadata": {
    "tags": []
   },
   "outputs": [
    {
     "data": {
      "text/plain": [
       "0      [{\"slack_app\": {\"affectionate\": 0.883808732032...\n",
       "1      [{\"slack_app\": {\"happy\": 0.2863628566265106, \"...\n",
       "2      [{\"slack_app\": {\"surprised\": 0.709702372550964...\n",
       "3      [{\"slack_app\": {\"surprised\": 0.352595955133438...\n",
       "4      [{\"slack_app\": {\"happy\": 0.801091730594635, \"o...\n",
       "                             ...                        \n",
       "495    [{\"slack_app\": {\"happy\": 0.9436793327331543, \"...\n",
       "496    [{\"slack_app\": {\"affectionate\": 0.829603314399...\n",
       "497    [{\"slack_app\": {\"anger\": 0.43782418966293335, ...\n",
       "498    [{\"slack_app\": {\"anger\": 0.5329213738441467, \"...\n",
       "499    [{\"slack_app\": {\"affectionate\": 0.639414906501...\n",
       "Length: 500, dtype: object"
      ]
     },
     "execution_count": 10,
     "metadata": {},
     "output_type": "execute_result"
    }
   ],
   "source": [
    "predictions = df_test_subset.apply(lambda x: predictor.predict({'text': x['text']}), axis = 1)\n",
    "predictions"
   ]
  },
  {
   "cell_type": "code",
   "execution_count": 23,
   "id": "aca88cf1-99bb-4a8f-83d9-0da6d9f68eb3",
   "metadata": {
    "tags": []
   },
   "outputs": [
    {
     "data": {
      "text/html": [
       "<div>\n",
       "<style scoped>\n",
       "    .dataframe tbody tr th:only-of-type {\n",
       "        vertical-align: middle;\n",
       "    }\n",
       "\n",
       "    .dataframe tbody tr th {\n",
       "        vertical-align: top;\n",
       "    }\n",
       "\n",
       "    .dataframe thead th {\n",
       "        text-align: right;\n",
       "    }\n",
       "</style>\n",
       "<table border=\"1\" class=\"dataframe\">\n",
       "  <thead>\n",
       "    <tr style=\"text-align: right;\">\n",
       "      <th></th>\n",
       "      <th>pred_label</th>\n",
       "      <th>probability</th>\n",
       "    </tr>\n",
       "  </thead>\n",
       "  <tbody>\n",
       "    <tr>\n",
       "      <th>0</th>\n",
       "      <td>affectionate</td>\n",
       "      <td>0.883809</td>\n",
       "    </tr>\n",
       "    <tr>\n",
       "      <th>1</th>\n",
       "      <td>happy</td>\n",
       "      <td>0.286363</td>\n",
       "    </tr>\n",
       "    <tr>\n",
       "      <th>2</th>\n",
       "      <td>surprised</td>\n",
       "      <td>0.709702</td>\n",
       "    </tr>\n",
       "    <tr>\n",
       "      <th>3</th>\n",
       "      <td>surprised</td>\n",
       "      <td>0.352596</td>\n",
       "    </tr>\n",
       "    <tr>\n",
       "      <th>4</th>\n",
       "      <td>happy</td>\n",
       "      <td>0.801092</td>\n",
       "    </tr>\n",
       "    <tr>\n",
       "      <th>...</th>\n",
       "      <td>...</td>\n",
       "      <td>...</td>\n",
       "    </tr>\n",
       "    <tr>\n",
       "      <th>495</th>\n",
       "      <td>happy</td>\n",
       "      <td>0.943679</td>\n",
       "    </tr>\n",
       "    <tr>\n",
       "      <th>496</th>\n",
       "      <td>affectionate</td>\n",
       "      <td>0.829603</td>\n",
       "    </tr>\n",
       "    <tr>\n",
       "      <th>497</th>\n",
       "      <td>anger</td>\n",
       "      <td>0.437824</td>\n",
       "    </tr>\n",
       "    <tr>\n",
       "      <th>498</th>\n",
       "      <td>anger</td>\n",
       "      <td>0.532921</td>\n",
       "    </tr>\n",
       "    <tr>\n",
       "      <th>499</th>\n",
       "      <td>affectionate</td>\n",
       "      <td>0.639415</td>\n",
       "    </tr>\n",
       "  </tbody>\n",
       "</table>\n",
       "<p>500 rows × 2 columns</p>\n",
       "</div>"
      ],
      "text/plain": [
       "       pred_label  probability\n",
       "0    affectionate     0.883809\n",
       "1           happy     0.286363\n",
       "2       surprised     0.709702\n",
       "3       surprised     0.352596\n",
       "4           happy     0.801092\n",
       "..            ...          ...\n",
       "495         happy     0.943679\n",
       "496  affectionate     0.829603\n",
       "497         anger     0.437824\n",
       "498         anger     0.532921\n",
       "499  affectionate     0.639415\n",
       "\n",
       "[500 rows x 2 columns]"
      ]
     },
     "execution_count": 23,
     "metadata": {},
     "output_type": "execute_result"
    }
   ],
   "source": [
    "df_preds = calculate_predictions(predictions)\n",
    "df_preds"
   ]
  },
  {
   "cell_type": "code",
   "execution_count": 20,
   "id": "251935ad-f6b8-4686-927d-f7b9dd274836",
   "metadata": {
    "tags": []
   },
   "outputs": [
    {
     "data": {
      "text/html": [
       "<div>\n",
       "<style scoped>\n",
       "    .dataframe tbody tr th:only-of-type {\n",
       "        vertical-align: middle;\n",
       "    }\n",
       "\n",
       "    .dataframe tbody tr th {\n",
       "        vertical-align: top;\n",
       "    }\n",
       "\n",
       "    .dataframe thead th {\n",
       "        text-align: right;\n",
       "    }\n",
       "</style>\n",
       "<table border=\"1\" class=\"dataframe\">\n",
       "  <thead>\n",
       "    <tr style=\"text-align: right;\">\n",
       "      <th></th>\n",
       "      <th>text</th>\n",
       "      <th>emotions</th>\n",
       "    </tr>\n",
       "  </thead>\n",
       "  <tbody>\n",
       "    <tr>\n",
       "      <th>0</th>\n",
       "      <td>Something like Chariot will occur again but al...</td>\n",
       "      <td>optimistic</td>\n",
       "    </tr>\n",
       "    <tr>\n",
       "      <th>1</th>\n",
       "      <td>It's got home made bread pudding so therefore ...</td>\n",
       "      <td>optimistic</td>\n",
       "    </tr>\n",
       "    <tr>\n",
       "      <th>2</th>\n",
       "      <td>Ok but wouldnt that make me seem like a loser?...</td>\n",
       "      <td>anger</td>\n",
       "    </tr>\n",
       "    <tr>\n",
       "      <th>3</th>\n",
       "      <td>I guess I can see how someone thousands of mil...</td>\n",
       "      <td>surprise</td>\n",
       "    </tr>\n",
       "    <tr>\n",
       "      <th>4</th>\n",
       "      <td>Glad this waste of time is over. Lets get back...</td>\n",
       "      <td>happy</td>\n",
       "    </tr>\n",
       "    <tr>\n",
       "      <th>...</th>\n",
       "      <td>...</td>\n",
       "      <td>...</td>\n",
       "    </tr>\n",
       "    <tr>\n",
       "      <th>495</th>\n",
       "      <td>Saw this on r/teenagers first haha</td>\n",
       "      <td>happy</td>\n",
       "    </tr>\n",
       "    <tr>\n",
       "      <th>496</th>\n",
       "      <td>He gets criticized for being too \"showy\" in hi...</td>\n",
       "      <td>affectionate</td>\n",
       "    </tr>\n",
       "    <tr>\n",
       "      <th>497</th>\n",
       "      <td>[NAME] had a record for not scoring goals for ...</td>\n",
       "      <td>neutral</td>\n",
       "    </tr>\n",
       "    <tr>\n",
       "      <th>498</th>\n",
       "      <td>So you're proudly ignorant. Cool bruh</td>\n",
       "      <td>disgust</td>\n",
       "    </tr>\n",
       "    <tr>\n",
       "      <th>499</th>\n",
       "      <td>[NAME] was sneaky and he had to being 5' 6' at...</td>\n",
       "      <td>neutral</td>\n",
       "    </tr>\n",
       "  </tbody>\n",
       "</table>\n",
       "<p>500 rows × 2 columns</p>\n",
       "</div>"
      ],
      "text/plain": [
       "                                                  text      emotions\n",
       "0    Something like Chariot will occur again but al...    optimistic\n",
       "1    It's got home made bread pudding so therefore ...    optimistic\n",
       "2    Ok but wouldnt that make me seem like a loser?...         anger\n",
       "3    I guess I can see how someone thousands of mil...      surprise\n",
       "4    Glad this waste of time is over. Lets get back...         happy\n",
       "..                                                 ...           ...\n",
       "495                 Saw this on r/teenagers first haha         happy\n",
       "496  He gets criticized for being too \"showy\" in hi...  affectionate\n",
       "497  [NAME] had a record for not scoring goals for ...       neutral\n",
       "498              So you're proudly ignorant. Cool bruh       disgust\n",
       "499  [NAME] was sneaky and he had to being 5' 6' at...       neutral\n",
       "\n",
       "[500 rows x 2 columns]"
      ]
     },
     "execution_count": 20,
     "metadata": {},
     "output_type": "execute_result"
    }
   ],
   "source": [
    "df_test_subset"
   ]
  },
  {
   "cell_type": "code",
   "execution_count": 24,
   "id": "b94c20ac-59e9-4b55-bfb8-05ec9221dcb7",
   "metadata": {
    "tags": []
   },
   "outputs": [
    {
     "data": {
      "text/html": [
       "<div>\n",
       "<style scoped>\n",
       "    .dataframe tbody tr th:only-of-type {\n",
       "        vertical-align: middle;\n",
       "    }\n",
       "\n",
       "    .dataframe tbody tr th {\n",
       "        vertical-align: top;\n",
       "    }\n",
       "\n",
       "    .dataframe thead th {\n",
       "        text-align: right;\n",
       "    }\n",
       "</style>\n",
       "<table border=\"1\" class=\"dataframe\">\n",
       "  <thead>\n",
       "    <tr style=\"text-align: right;\">\n",
       "      <th></th>\n",
       "      <th>text</th>\n",
       "      <th>true_label</th>\n",
       "      <th>pred_label</th>\n",
       "      <th>probability</th>\n",
       "    </tr>\n",
       "  </thead>\n",
       "  <tbody>\n",
       "    <tr>\n",
       "      <th>0</th>\n",
       "      <td>Something like Chariot will occur again but al...</td>\n",
       "      <td>optimistic</td>\n",
       "      <td>affectionate</td>\n",
       "      <td>0.883809</td>\n",
       "    </tr>\n",
       "    <tr>\n",
       "      <th>1</th>\n",
       "      <td>It's got home made bread pudding so therefore ...</td>\n",
       "      <td>optimistic</td>\n",
       "      <td>happy</td>\n",
       "      <td>0.286363</td>\n",
       "    </tr>\n",
       "    <tr>\n",
       "      <th>2</th>\n",
       "      <td>Ok but wouldnt that make me seem like a loser?...</td>\n",
       "      <td>anger</td>\n",
       "      <td>surprise</td>\n",
       "      <td>0.709702</td>\n",
       "    </tr>\n",
       "    <tr>\n",
       "      <th>3</th>\n",
       "      <td>I guess I can see how someone thousands of mil...</td>\n",
       "      <td>surprise</td>\n",
       "      <td>surprise</td>\n",
       "      <td>0.352596</td>\n",
       "    </tr>\n",
       "    <tr>\n",
       "      <th>4</th>\n",
       "      <td>Glad this waste of time is over. Lets get back...</td>\n",
       "      <td>happy</td>\n",
       "      <td>happy</td>\n",
       "      <td>0.801092</td>\n",
       "    </tr>\n",
       "    <tr>\n",
       "      <th>...</th>\n",
       "      <td>...</td>\n",
       "      <td>...</td>\n",
       "      <td>...</td>\n",
       "      <td>...</td>\n",
       "    </tr>\n",
       "    <tr>\n",
       "      <th>495</th>\n",
       "      <td>Saw this on r/teenagers first haha</td>\n",
       "      <td>happy</td>\n",
       "      <td>happy</td>\n",
       "      <td>0.943679</td>\n",
       "    </tr>\n",
       "    <tr>\n",
       "      <th>496</th>\n",
       "      <td>He gets criticized for being too \"showy\" in hi...</td>\n",
       "      <td>affectionate</td>\n",
       "      <td>affectionate</td>\n",
       "      <td>0.829603</td>\n",
       "    </tr>\n",
       "    <tr>\n",
       "      <th>497</th>\n",
       "      <td>[NAME] had a record for not scoring goals for ...</td>\n",
       "      <td>neutral</td>\n",
       "      <td>anger</td>\n",
       "      <td>0.437824</td>\n",
       "    </tr>\n",
       "    <tr>\n",
       "      <th>498</th>\n",
       "      <td>So you're proudly ignorant. Cool bruh</td>\n",
       "      <td>disgust</td>\n",
       "      <td>anger</td>\n",
       "      <td>0.532921</td>\n",
       "    </tr>\n",
       "    <tr>\n",
       "      <th>499</th>\n",
       "      <td>[NAME] was sneaky and he had to being 5' 6' at...</td>\n",
       "      <td>neutral</td>\n",
       "      <td>affectionate</td>\n",
       "      <td>0.639415</td>\n",
       "    </tr>\n",
       "  </tbody>\n",
       "</table>\n",
       "<p>500 rows × 4 columns</p>\n",
       "</div>"
      ],
      "text/plain": [
       "                                                  text    true_label  \\\n",
       "0    Something like Chariot will occur again but al...    optimistic   \n",
       "1    It's got home made bread pudding so therefore ...    optimistic   \n",
       "2    Ok but wouldnt that make me seem like a loser?...         anger   \n",
       "3    I guess I can see how someone thousands of mil...      surprise   \n",
       "4    Glad this waste of time is over. Lets get back...         happy   \n",
       "..                                                 ...           ...   \n",
       "495                 Saw this on r/teenagers first haha         happy   \n",
       "496  He gets criticized for being too \"showy\" in hi...  affectionate   \n",
       "497  [NAME] had a record for not scoring goals for ...       neutral   \n",
       "498              So you're proudly ignorant. Cool bruh       disgust   \n",
       "499  [NAME] was sneaky and he had to being 5' 6' at...       neutral   \n",
       "\n",
       "       pred_label  probability  \n",
       "0    affectionate     0.883809  \n",
       "1           happy     0.286363  \n",
       "2        surprise     0.709702  \n",
       "3        surprise     0.352596  \n",
       "4           happy     0.801092  \n",
       "..            ...          ...  \n",
       "495         happy     0.943679  \n",
       "496  affectionate     0.829603  \n",
       "497         anger     0.437824  \n",
       "498         anger     0.532921  \n",
       "499  affectionate     0.639415  \n",
       "\n",
       "[500 rows x 4 columns]"
      ]
     },
     "execution_count": 24,
     "metadata": {},
     "output_type": "execute_result"
    }
   ],
   "source": [
    "# Concat datasets\n",
    "validate_dataset = pd.concat([df_test_subset, df_preds], ignore_index=True, axis = 1)\n",
    "validate_dataset = validate_dataset.rename(columns = {0: 'text', \n",
    "                                                      1: 'true_label', \n",
    "                                                      2: 'pred_label', \n",
    "                                                      3: 'probability'})\n",
    "\n",
    "validate_dataset['pred_label'] = validate_dataset['pred_label'].replace({'sad': 'sadness', 'surprised': 'surprise'})\n",
    "validate_dataset"
   ]
  },
  {
   "cell_type": "code",
   "execution_count": 25,
   "id": "43e05c1f-eb05-4df1-9839-7314f6a569d7",
   "metadata": {
    "tags": []
   },
   "outputs": [],
   "source": [
    "# Export to CSV\n",
    "validate_dataset_name = 'validate_dataset.csv'\n",
    "validate_dataset.to_csv(validate_dataset_name, index=False) "
   ]
  },
  {
   "cell_type": "code",
   "execution_count": 26,
   "id": "eeef0b98-b965-417d-ad2d-3910da1932fa",
   "metadata": {
    "tags": []
   },
   "outputs": [
    {
     "name": "stdout",
     "output_type": "stream",
     "text": [
      "sagemaker.config INFO - Not applying SDK defaults from location: /etc/xdg/sagemaker/config.yaml\n",
      "sagemaker.config INFO - Not applying SDK defaults from location: /root/.config/sagemaker/config.yaml\n"
     ]
    },
    {
     "data": {
      "text/plain": [
       "'s3://aai-540-final-data-east/sagemaker/AIEmotions-ModelQualityMonitor/baselining/data/validate_dataset.csv'"
      ]
     },
     "execution_count": 26,
     "metadata": {},
     "output_type": "execute_result"
    }
   ],
   "source": [
    "# Upload baseline\n",
    "baseline_dataset_uri = S3Uploader.upload(f\"{validate_dataset_name}\", baseline_data_uri)\n",
    "baseline_dataset_uri"
   ]
  },
  {
   "cell_type": "markdown",
   "id": "b5e20072-2013-4f12-a783-c3e1919b1083",
   "metadata": {},
   "source": [
    "## Setup Baseline"
   ]
  },
  {
   "cell_type": "code",
   "execution_count": 30,
   "id": "480ce54a-95f9-4894-96f1-766371a744f3",
   "metadata": {
    "tags": []
   },
   "outputs": [
    {
     "name": "stderr",
     "output_type": "stream",
     "text": [
      "INFO:sagemaker.image_uris:Defaulting to the only supported framework/algorithm version: .\n",
      "INFO:sagemaker.image_uris:Ignoring unnecessary instance type: None.\n",
      "INFO:sagemaker:Creating processing-job with name AIEmotions-model-baseline-job-2024-02-23-0551\n"
     ]
    },
    {
     "name": "stdout",
     "output_type": "stream",
     "text": [
      "...........................................................................!"
     ]
    }
   ],
   "source": [
    "from sagemaker.model_monitor import ModelQualityMonitor\n",
    "from sagemaker.model_monitor import EndpointInput\n",
    "from sagemaker.model_monitor.dataset_format import DatasetFormat\n",
    "\n",
    "baseline_dataset_uri = f's3://{bucket_name}/sagemaker/AIEmotions-ModelQualityMonitor/baselining/data/validate_dataset.csv'\n",
    "\n",
    "emotions_base_model_quality_monitor = ModelQualityMonitor(\n",
    "    role=role,\n",
    "    instance_count=1,\n",
    "    instance_type='ml.m5.large',\n",
    "    volume_size_in_gb=20,\n",
    "    max_runtime_in_seconds=1800,\n",
    "    sagemaker_session=session,\n",
    ")\n",
    "\n",
    "# Name of the model quality baseline job\n",
    "baseline_job_name = f\"AIEmotions-model-baseline-job-{datetime.utcnow():%Y-%m-%d-%H%M}\"\n",
    "\n",
    "\n",
    "# Execute the baseline suggestion job.\n",
    "job = emotions_base_model_quality_monitor.suggest_baseline(\n",
    "    job_name=baseline_job_name,\n",
    "    baseline_dataset=baseline_dataset_uri,\n",
    "    dataset_format=DatasetFormat.csv(header=True),\n",
    "    output_s3_uri=baseline_results_uri,\n",
    "    problem_type=\"MulticlassClassification\",\n",
    "    inference_attribute=\"pred_label\",\n",
    "    probability_attribute=\"probability\",\n",
    "    ground_truth_attribute=\"true_label\",\n",
    ")\n",
    "job.wait(logs=False)"
   ]
  },
  {
   "cell_type": "code",
   "execution_count": 31,
   "id": "0182e46f-5c71-4bfa-8dee-e4ec674bec9a",
   "metadata": {
    "tags": []
   },
   "outputs": [],
   "source": [
    "baseline_job = emotions_base_model_quality_monitor.latest_baselining_job"
   ]
  },
  {
   "cell_type": "code",
   "execution_count": 32,
   "id": "beb708d8-6d60-406c-9499-0ca752ac1439",
   "metadata": {
    "tags": []
   },
   "outputs": [
    {
     "data": {
      "text/html": [
       "<div>\n",
       "<style scoped>\n",
       "    .dataframe tbody tr th:only-of-type {\n",
       "        vertical-align: middle;\n",
       "    }\n",
       "\n",
       "    .dataframe tbody tr th {\n",
       "        vertical-align: top;\n",
       "    }\n",
       "\n",
       "    .dataframe thead th {\n",
       "        text-align: right;\n",
       "    }\n",
       "</style>\n",
       "<table border=\"1\" class=\"dataframe\">\n",
       "  <thead>\n",
       "    <tr style=\"text-align: right;\">\n",
       "      <th></th>\n",
       "      <th>0</th>\n",
       "    </tr>\n",
       "  </thead>\n",
       "  <tbody>\n",
       "    <tr>\n",
       "      <th>confusion_matrix._but_i_have_a_boyfriend.\"\"_end_of_conversation.\"._but_i_have_a_boyfriend.\"\"_end_of_conversation.\"</th>\n",
       "      <td>0.000000</td>\n",
       "    </tr>\n",
       "    <tr>\n",
       "      <th>confusion_matrix._but_i_have_a_boyfriend.\"\"_end_of_conversation.\".disgust</th>\n",
       "      <td>0.000000</td>\n",
       "    </tr>\n",
       "    <tr>\n",
       "      <th>confusion_matrix._but_i_have_a_boyfriend.\"\"_end_of_conversation.\".surprise</th>\n",
       "      <td>0.000000</td>\n",
       "    </tr>\n",
       "    <tr>\n",
       "      <th>confusion_matrix._but_i_have_a_boyfriend.\"\"_end_of_conversation.\".happy</th>\n",
       "      <td>0.000000</td>\n",
       "    </tr>\n",
       "    <tr>\n",
       "      <th>confusion_matrix._but_i_have_a_boyfriend.\"\"_end_of_conversation.\".optimistic</th>\n",
       "      <td>0.000000</td>\n",
       "    </tr>\n",
       "    <tr>\n",
       "      <th>...</th>\n",
       "      <td>...</td>\n",
       "    </tr>\n",
       "    <tr>\n",
       "      <th>weighted_f0_5_best_constant_classifier.standard_deviation</th>\n",
       "      <td>0.008605</td>\n",
       "    </tr>\n",
       "    <tr>\n",
       "      <th>weighted_f1_best_constant_classifier.value</th>\n",
       "      <td>0.167250</td>\n",
       "    </tr>\n",
       "    <tr>\n",
       "      <th>weighted_f1_best_constant_classifier.standard_deviation</th>\n",
       "      <td>0.010222</td>\n",
       "    </tr>\n",
       "    <tr>\n",
       "      <th>weighted_f2_best_constant_classifier.value</th>\n",
       "      <td>0.238776</td>\n",
       "    </tr>\n",
       "    <tr>\n",
       "      <th>weighted_f2_best_constant_classifier.standard_deviation</th>\n",
       "      <td>0.012003</td>\n",
       "    </tr>\n",
       "  </tbody>\n",
       "</table>\n",
       "<p>124 rows × 1 columns</p>\n",
       "</div>"
      ],
      "text/plain": [
       "                                                           0\n",
       "confusion_matrix._but_i_have_a_boyfriend.\"\"_end...  0.000000\n",
       "confusion_matrix._but_i_have_a_boyfriend.\"\"_end...  0.000000\n",
       "confusion_matrix._but_i_have_a_boyfriend.\"\"_end...  0.000000\n",
       "confusion_matrix._but_i_have_a_boyfriend.\"\"_end...  0.000000\n",
       "confusion_matrix._but_i_have_a_boyfriend.\"\"_end...  0.000000\n",
       "...                                                      ...\n",
       "weighted_f0_5_best_constant_classifier.standard...  0.008605\n",
       "weighted_f1_best_constant_classifier.value          0.167250\n",
       "weighted_f1_best_constant_classifier.standard_d...  0.010222\n",
       "weighted_f2_best_constant_classifier.value          0.238776\n",
       "weighted_f2_best_constant_classifier.standard_d...  0.012003\n",
       "\n",
       "[124 rows x 1 columns]"
      ]
     },
     "execution_count": 32,
     "metadata": {},
     "output_type": "execute_result"
    }
   ],
   "source": [
    "multiclass_metrics = baseline_job.baseline_statistics().body_dict[\"multiclass_classification_metrics\"]\n",
    "pd.json_normalize(multiclass_metrics).T"
   ]
  },
  {
   "cell_type": "code",
   "execution_count": 33,
   "id": "c537c162-449e-4dda-9ac3-09c3287369c1",
   "metadata": {
    "tags": []
   },
   "outputs": [
    {
     "data": {
      "text/html": [
       "<div>\n",
       "<style scoped>\n",
       "    .dataframe tbody tr th:only-of-type {\n",
       "        vertical-align: middle;\n",
       "    }\n",
       "\n",
       "    .dataframe tbody tr th {\n",
       "        vertical-align: top;\n",
       "    }\n",
       "\n",
       "    .dataframe thead th {\n",
       "        text-align: right;\n",
       "    }\n",
       "</style>\n",
       "<table border=\"1\" class=\"dataframe\">\n",
       "  <thead>\n",
       "    <tr style=\"text-align: right;\">\n",
       "      <th></th>\n",
       "      <th>threshold</th>\n",
       "      <th>comparison_operator</th>\n",
       "    </tr>\n",
       "  </thead>\n",
       "  <tbody>\n",
       "    <tr>\n",
       "      <th>accuracy</th>\n",
       "      <td>0.678</td>\n",
       "      <td>LessThanThreshold</td>\n",
       "    </tr>\n",
       "    <tr>\n",
       "      <th>weighted_recall</th>\n",
       "      <td>0.678</td>\n",
       "      <td>LessThanThreshold</td>\n",
       "    </tr>\n",
       "    <tr>\n",
       "      <th>weighted_precision</th>\n",
       "      <td>0.682124</td>\n",
       "      <td>LessThanThreshold</td>\n",
       "    </tr>\n",
       "    <tr>\n",
       "      <th>weighted_f0_5</th>\n",
       "      <td>0.678678</td>\n",
       "      <td>LessThanThreshold</td>\n",
       "    </tr>\n",
       "    <tr>\n",
       "      <th>weighted_f1</th>\n",
       "      <td>0.676053</td>\n",
       "      <td>LessThanThreshold</td>\n",
       "    </tr>\n",
       "    <tr>\n",
       "      <th>weighted_f2</th>\n",
       "      <td>0.676266</td>\n",
       "      <td>LessThanThreshold</td>\n",
       "    </tr>\n",
       "  </tbody>\n",
       "</table>\n",
       "</div>"
      ],
      "text/plain": [
       "                   threshold comparison_operator\n",
       "accuracy               0.678   LessThanThreshold\n",
       "weighted_recall        0.678   LessThanThreshold\n",
       "weighted_precision  0.682124   LessThanThreshold\n",
       "weighted_f0_5       0.678678   LessThanThreshold\n",
       "weighted_f1         0.676053   LessThanThreshold\n",
       "weighted_f2         0.676266   LessThanThreshold"
      ]
     },
     "execution_count": 33,
     "metadata": {},
     "output_type": "execute_result"
    }
   ],
   "source": [
    "pd.DataFrame(baseline_job.suggested_constraints().body_dict[\"multiclass_classification_constraints\"]).T"
   ]
  },
  {
   "cell_type": "markdown",
   "id": "6cab719d-caea-479a-bbaa-40ff92f35e00",
   "metadata": {},
   "source": [
    "## Setup continuous model monitoring"
   ]
  },
  {
   "cell_type": "code",
   "execution_count": 68,
   "id": "82bb6710-f484-49f2-a38f-c868d2dd6d5d",
   "metadata": {
    "tags": []
   },
   "outputs": [],
   "source": [
    "# Generate a small sample from our testing data\n",
    "synthetic_sample = df_test_new.sample(300)\n",
    "synthetic_sample = synthetic_sample.reset_index(drop=True)\n",
    "#synthetic_sample.to_csv('synthetic_data.csv', index=False)"
   ]
  },
  {
   "cell_type": "code",
   "execution_count": 71,
   "id": "cf887d31-1ffe-47a8-9791-e73148e662ba",
   "metadata": {
    "tags": []
   },
   "outputs": [
    {
     "name": "stdout",
     "output_type": "stream",
     "text": [
      "CPU times: user 3.32 ms, sys: 0 ns, total: 3.32 ms\n",
      "Wall time: 6.44 ms\n"
     ]
    }
   ],
   "source": [
    "%%time\n",
    "\n",
    "from time import sleep\n",
    "from threading import Thread\n",
    "\n",
    "# print(\"Sending test traffic to the endpoint {}. \\nPlease wait...\".format(endpoint_name))\n",
    "\n",
    "# #flat_list = []\n",
    "# for i in range(50):\n",
    "#     result = predictor.predict({'text': synthetic_sample['text'][i]})\n",
    "#     #flat_list.append(float(\"%.3f\" % (np.array(result))))\n",
    "#     time.sleep(0.5)\n",
    "\n",
    "# print(\"Done!\")\n",
    "#print(\"predictions: \\t{}\".format(np.array(flat_list)))\n",
    "\n",
    "def invoke_endpoint(ep_name, dataframe):\n",
    "    i = 0\n",
    "    for index, row in dataframe.iterrows():\n",
    "        payload = {'text': row['text']}\n",
    "        payload_str = json.dumps(payload)\n",
    "        response = session.sagemaker_runtime_client.invoke_endpoint(\n",
    "            EndpointName=ep_name,\n",
    "            ContentType='application/json',\n",
    "            Body=payload_str,\n",
    "            InferenceId=str(i),\n",
    "        )['Body'].read()\n",
    "        i += 1\n",
    "        sleep(1)\n",
    "\n",
    "\n",
    "def invoke_endpoint_forever(df):\n",
    "    while True:\n",
    "        try:\n",
    "            invoke_endpoint(endpoint_name, df)\n",
    "        except session.sagemaker_runtime_client.exceptions.ValidationError:\n",
    "            pass\n",
    "\n",
    "\n",
    "thread = Thread(target=invoke_endpoint_forever, args=(synthetic_sample,))\n",
    "thread.start()"
   ]
  },
  {
   "cell_type": "code",
   "execution_count": 77,
   "id": "e35315ee-bac8-49c6-be05-249723245fcf",
   "metadata": {
    "tags": []
   },
   "outputs": [
    {
     "name": "stdout",
     "output_type": "stream",
     "text": [
      "Found Capture Files:\n",
      "sagemaker/AIEmotions-ModelQualityMonitor/datacapture/AIEmotion-base-model-quality-monitor-2024-02-21-1936/AllTraffic/2024/02/21/19/42-02-154-e8c225fd-fdc6-494b-94ef-271e29dac317.jsonl\n",
      " sagemaker/AIEmotions-ModelQualityMonitor/datacapture/AIEmotion-base-model-quality-monitor-2024-02-21-1936/AllTraffic/2024/02/21/19/43-02-229-f5a18b9d-ca3f-4e14-bd19-b2abcf6a8a0b.jsonl\n",
      " sagemaker/AIEmotions-ModelQualityMonitor/datacapture/AIEmotion-base-model-quality-monitor-2024-02-21-1936/AllTraffic/2024/02/21/19/44-02-285-c1bdff4b-39b6-4d2e-80c6-8b801185d05d.jsonl\n",
      " sagemaker/AIEmotions-ModelQualityMonitor/datacapture/AIEmotion-base-model-quality-monitor-2024-02-21-1936/AllTraffic/2024/02/21/21/04-21-782-088ac09c-542b-4d54-941a-196608f5604a.jsonl\n",
      " sagemaker/AIEmotions-ModelQualityMonitor/datacapture/AIEmotion-model-quality-monitor-2024-02-23-0528/AllTraffic/2024/02/23/05/36-15-073-49a4184b-51e7-4770-9769-c2697565f9fb.jsonl\n",
      " sagemaker/AIEmotions-ModelQualityMonitor/datacapture/AIEmotion-model-quality-monitor-2024-02-23-0528/AllTraffic/2024/02/23/05/37-15-130-45fbb728-870a-49ac-91c2-7f5dad06499a.jsonl\n",
      " sagemaker/AIEmotions-ModelQualityMonitor/datacapture/AIEmotion-model-quality-monitor-2024-02-23-0528/AllTraffic/2024/02/23/05/38-15-224-e0e483dc-3d06-42f7-884a-6eed40195959.jsonl\n",
      " sagemaker/AIEmotions-ModelQualityMonitor/datacapture/AIEmotion-model-quality-monitor-2024-02-23-0528/AllTraffic/2024/02/23/05/58-13-267-8af2e3d8-b66c-4e1c-90f1-a8d0ddc48140.jsonl\n",
      " sagemaker/AIEmotions-ModelQualityMonitor/datacapture/AIEmotion-model-quality-monitor-2024-02-23-0528/AllTraffic/2024/02/23/06/48-48-032-e440d03a-ed3a-4e86-9da0-f7bdb6584505.jsonl\n",
      " sagemaker/AIEmotions-ModelQualityMonitor/datacapture/AIEmotion-model-quality-monitor-2024-02-23-0528/AllTraffic/2024/02/23/16/50-00-622-f5b1aff2-5ec4-4965-beb4-7d4a7d2a9639.jsonl\n",
      " sagemaker/AIEmotions-ModelQualityMonitor/datacapture/AIEmotion-model-quality-monitor-2024-02-23-0528/AllTraffic/2024/02/23/17/05-19-386-7b672eb0-5032-4ea6-9589-957b77912fb4.jsonl\n",
      " sagemaker/AIEmotions-ModelQualityMonitor/datacapture/AIEmotion-model-quality-monitor-2024-02-23-0528/AllTraffic/2024/02/23/17/06-20-633-c945f1dc-9650-441b-8eff-a2696a1014b5.jsonl\n",
      " sagemaker/AIEmotions-ModelQualityMonitor/datacapture/AIEmotion-model-quality-monitor-2024-02-23-0528/AllTraffic/2024/02/23/17/07-20-645-022b6663-eed6-40ca-8827-b60e8eef915f.jsonl\n",
      " sagemaker/AIEmotions-ModelQualityMonitor/datacapture/AIEmotion-model-quality-monitor-2024-02-23-0528/AllTraffic/2024/02/23/17/08-21-774-a2eba202-8c0d-41d4-9a63-f052292afe02.jsonl\n",
      " sagemaker/AIEmotions-ModelQualityMonitor/datacapture/AIEmotion-model-quality-monitor-2024-02-23-0528/AllTraffic/2024/02/23/17/09-22-935-cc087219-c26a-45c2-854e-2eed3f7965c6.jsonl\n",
      " sagemaker/AIEmotions-ModelQualityMonitor/datacapture/AIEmotion-model-quality-monitor-2024-02-23-0528/AllTraffic/2024/02/23/17/10-22-966-2132cc8f-ca0f-44d2-afd1-6613d31ddba9.jsonl\n",
      " sagemaker/AIEmotions-ModelQualityMonitor/datacapture/AIEmotion-model-quality-monitor-2024-02-23-0528/AllTraffic/2024/02/23/17/11-23-884-55222530-e01d-4df8-8e92-71c9e10f19cc.jsonl\n",
      " sagemaker/AIEmotions-ModelQualityMonitor/datacapture/AIEmotion-model-quality-monitor-2024-02-23-0528/AllTraffic/2024/02/23/17/12-25-016-eb76bfa7-973e-4242-9685-8cf941c7e554.jsonl\n",
      " sagemaker/AIEmotions-ModelQualityMonitor/datacapture/AIEmotion-model-quality-monitor-2024-02-23-0528/AllTraffic/2024/02/23/17/13-25-374-84b6083a-7666-4dfa-ab26-f95f197f6697.jsonl\n"
     ]
    }
   ],
   "source": [
    "s3_client = boto3.Session().client(\"s3\")\n",
    "result = s3_client.list_objects(Bucket=bucket_name, Prefix=data_capture_prefix)\n",
    "capture_files = [capture_file.get(\"Key\") for capture_file in result.get(\"Contents\")]\n",
    "print(\"Found Capture Files:\")\n",
    "print(\"\\n \".join(capture_files))"
   ]
  },
  {
   "cell_type": "code",
   "execution_count": 78,
   "id": "f175baf7-1eda-4614-b831-a75dea6636f5",
   "metadata": {
    "tags": []
   },
   "outputs": [
    {
     "name": "stdout",
     "output_type": "stream",
     "text": [
      "{\"captureData\":{\"endpointInput\":{\"observedContentType\":\"application/json\",\"mode\":\"INPUT\",\"data\":\"{\\\"text\\\": \\\"Looks like your hormones are not working properly.\\\"}\",\"encoding\":\"JSON\"},\"endpointOutput\":{\"observedContentType\":\"application/json\",\"mode\":\"OUTPUT\",\"data\":\"[\\n  \\\"{\\\\\\\"slack_app\\\\\\\": {\\\\\\\"neutral\\\\\\\": 0.35021427273750305, \\\\\\\"sad\\\\\\\": 0.29360532760620117, \\\\\\\"anger\\\\\\\": 0.18568338453769684}, \\\\\\\"predictions\\\\\\\": {\\\\\\\"neutral\\\\\\\": 0.35021427273750305}}\\\",\\n  \\\"application/json\\\"\\n]\",\"encoding\":\"JSON\"}},\"eventMetadata\":{\"eventId\":\"c0298b91-c17a-429a-88e7-e24f3c54b334\",\"inferenceId\":\"89\",\"inferenceTime\":\"2024-02-23T17:13:25Z\"},\"eventVersion\":\"0\"}\n",
      "{\"captureData\":{\"endpointInput\":{\"observedContentType\":\"application/json\",\"mode\":\"INPUT\",\"data\":\"{\\\"text\\\": \\\"Maybe, idk though. I dont think thats enough to nail him. We need more.\\\"}\",\"encoding\":\"JSON\"},\"endpointOutput\":{\"observedContentType\":\"application/json\",\"mode\":\"OUTPUT\",\"data\":\"[\\n  \\\"{\\\\\\\"slack_app\\\\\\\": {\\\\\\\"neutral\\\\\\\": 0.5473725199699402, \\\\\\\"anger\\\\\\\": 0.18151387572288513, \\\\\\\"surprised\\\\\\\": 0.07582896202802658}, \\\\\\\"predictions\\\\\\\": {\\\\\\\"neutral\\\\\\\": 0.5473725199699402}}\\\",\\n  \\\"application/json\\\"\\n]\",\"encoding\":\"JSON\"}},\"eventMetadata\":{\"eventId\":\"897f206f-6a1b-48d7-b859-672c7ef96aa4\",\"inferenceId\":\"90\",\"inferenceTime\":\"2024-02-23T17:13:26Z\"},\"eventVersion\":\"0\"}\n",
      "{\"captureData\":{\"endpointInput\":{\"observedContentType\":\"application/json\",\"mode\":\"INPUT\",\"data\":\"{\\\"text\\\": \\\"Yeah wat a fucking knob right? Fucking nick...\\\"}\",\"encoding\":\"JSON\"},\"endpointOutput\":{\"observedContentType\":\"application/json\",\"mode\":\"OUTPUT\",\"data\":\"[\\n  \\\"{\\\\\\\"slack_app\\\\\\\": {\\\\\\\"anger\\\\\\\": 0.9006302356719971, \\\\\\\"neutral\\\\\\\": 0.031797971576452255, \\\\\\\"disgust\\\\\\\": 0.02245163358747959}, \\\\\\\"predictions\\\\\\\": {\\\\\\\"anger\\\\\\\": 0.9006302356719971}}\\\",\\n  \\\"application/json\\\"\\n]\",\"encoding\":\"JSON\"}},\"eventMetadata\":{\"eventId\":\"f9dec31c-7d96-439b-9892-5a8229b3f87f\",\"inferenceId\":\"91\",\"inferenceTime\":\"2024-02-23T17:13:27Z\"},\"eventVersion\":\n"
     ]
    }
   ],
   "source": [
    "def get_obj_body(obj_key):\n",
    "    return s3_client.get_object(Bucket=bucket_name, Key=obj_key).get(\"Body\").read().decode(\"utf-8\")\n",
    "\n",
    "\n",
    "capture_file = get_obj_body(capture_files[-1])\n",
    "print(capture_file[:2000])"
   ]
  },
  {
   "cell_type": "code",
   "execution_count": 79,
   "id": "662a64df-48a2-4a6c-a080-df646f70ad02",
   "metadata": {
    "tags": []
   },
   "outputs": [
    {
     "name": "stdout",
     "output_type": "stream",
     "text": [
      "{\n",
      "  \"captureData\": {\n",
      "    \"endpointInput\": {\n",
      "      \"observedContentType\": \"application/json\",\n",
      "      \"mode\": \"INPUT\",\n",
      "      \"data\": \"{\\\"text\\\": \\\"Looks like your hormones are not working properly.\\\"}\",\n",
      "      \"encoding\": \"JSON\"\n",
      "    },\n",
      "    \"endpointOutput\": {\n",
      "      \"observedContentType\": \"application/json\",\n",
      "      \"mode\": \"OUTPUT\",\n",
      "      \"data\": \"[\\n  \\\"{\\\\\\\"slack_app\\\\\\\": {\\\\\\\"neutral\\\\\\\": 0.35021427273750305, \\\\\\\"sad\\\\\\\": 0.29360532760620117, \\\\\\\"anger\\\\\\\": 0.18568338453769684}, \\\\\\\"predictions\\\\\\\": {\\\\\\\"neutral\\\\\\\": 0.35021427273750305}}\\\",\\n  \\\"application/json\\\"\\n]\",\n",
      "      \"encoding\": \"JSON\"\n",
      "    }\n",
      "  },\n",
      "  \"eventMetadata\": {\n",
      "    \"eventId\": \"c0298b91-c17a-429a-88e7-e24f3c54b334\",\n",
      "    \"inferenceId\": \"89\",\n",
      "    \"inferenceTime\": \"2024-02-23T17:13:25Z\"\n",
      "  },\n",
      "  \"eventVersion\": \"0\"\n",
      "}\n"
     ]
    }
   ],
   "source": [
    "import json\n",
    "\n",
    "print(json.dumps(json.loads(capture_file.split(\"\\n\")[0]), indent=2))"
   ]
  },
  {
   "cell_type": "code",
   "execution_count": 82,
   "id": "f9d71cad-aeca-4e66-9f35-ef10b130265d",
   "metadata": {
    "tags": []
   },
   "outputs": [
    {
     "name": "stdout",
     "output_type": "stream",
     "text": [
      "Uploading 300 records to s3://aai-540-final-data-east/sagemaker/AIEmotions-ModelQualityMonitor/ground_truth_data/2024-02-23-05-27-12/2024/02/23/17/2817.jsonl\n",
      "sagemaker.config INFO - Not applying SDK defaults from location: /etc/xdg/sagemaker/config.yaml\n",
      "sagemaker.config INFO - Not applying SDK defaults from location: /root/.config/sagemaker/config.yaml\n"
     ]
    }
   ],
   "source": [
    "# Generating Ground truth\n",
    "def ground_truth_with_id(row_data, inference_id):\n",
    "    return {\n",
    "        \"groundTruthData\": {\n",
    "            \"data\": row_data['emotions'],\n",
    "            \"encoding\": \"CSV\",\n",
    "        },\n",
    "        \"eventMetadata\": {\n",
    "            \"eventId\": str(inference_id),\n",
    "        },\n",
    "        \"eventVersion\": \"0\",\n",
    "    }\n",
    "\n",
    "def upload_ground_truth(df, upload_time):\n",
    "    ground_records = [json.dumps(ground_truth_with_id(row, idx)) for idx, row in df.iterrows()]\n",
    "    data_to_upload = \"\\n\".join(ground_records)\n",
    "    target_s3_uri = f\"{ground_truth_upload_path}/{upload_time:%Y/%m/%d/%H/%M%S}.jsonl\"\n",
    "    print(f\"Uploading {len(ground_records)} records to\", target_s3_uri)\n",
    "    S3Uploader.upload_string_as_file_body(data_to_upload, target_s3_uri)\n",
    "\n",
    "def generate_gt_data_forever(df):\n",
    "    while True:\n",
    "        upload_ground_truth(df, datetime.utcnow())\n",
    "        sleep(60 * 60)\n",
    "        \n",
    "gt_thread = Thread(target=generate_gt_data_forever, args=(synthetic_sample,))\n",
    "gt_thread.start()"
   ]
  },
  {
   "cell_type": "code",
   "execution_count": 149,
   "id": "62a615e0-49ec-49b2-be74-2516c488a9e6",
   "metadata": {
    "tags": []
   },
   "outputs": [
    {
     "name": "stdout",
     "output_type": "stream",
     "text": [
      "\n",
      "Deleting Monitoring Schedule with name: AIEmotion-model-monitoring-schedule-2024-02-23-1734\n"
     ]
    },
    {
     "name": "stderr",
     "output_type": "stream",
     "text": [
      "INFO:sagemaker.model_monitor.model_monitoring:Deleting Model Quality Job Definition with name: model-quality-job-definition-2024-02-23-17-34-29-021\n"
     ]
    }
   ],
   "source": [
    "emotions_base_model_quality_monitor.delete_monitoring_schedule()"
   ]
  },
  {
   "cell_type": "code",
   "execution_count": 148,
   "id": "94acda9b-e78e-4e8e-be55-dadf5af85bae",
   "metadata": {
    "tags": []
   },
   "outputs": [
    {
     "name": "stdout",
     "output_type": "stream",
     "text": [
      "Writing processing_script.py\n"
     ]
    }
   ],
   "source": [
    "%%writefile processing_script.py\n",
    "\n",
    "import json\n",
    "import boto3\n",
    "\n",
    "def preprocess_handler(inference_record):\n",
    "    input_data = json.loads(inference_record.endpointInput.data)\n",
    "\n",
    "    output_data = inference_record.endpointOutput\n",
    "    output_data = json.loads(output_data['data'])[0]\n",
    "    output_data = json.loads(output_data)\n",
    "    output_data = {\"predictions\": list(output_data['predictions'].keys())[0]}\n",
    "\n",
    "    return {**input_data}"
   ]
  },
  {
   "cell_type": "code",
   "execution_count": 152,
   "id": "2e81f0f0-244f-48ec-8c8a-9fe0e9a0890a",
   "metadata": {
    "tags": []
   },
   "outputs": [
    {
     "name": "stderr",
     "output_type": "stream",
     "text": [
      "INFO:sagemaker.model_monitor.model_monitoring:Creating Monitoring Schedule with name: AIEmotion-model-monitoring-schedule-2024-02-23-1900\n"
     ]
    }
   ],
   "source": [
    "from sagemaker.model_monitor import CronExpressionGenerator\n",
    "from time import gmtime, strftime\n",
    "##Monitoring schedule name\n",
    "model_monitor_schedule_name = (f\"AIEmotion-model-monitoring-schedule-{datetime.utcnow():%Y-%m-%d-%H%M}\")\n",
    "\n",
    "endpoint_input=EndpointInput(\n",
    "        endpoint_name=endpoint_name,\n",
    "        inference_attribute = 'predictions',\n",
    "        destination=\"/opt/ml/processing/input_data\"\n",
    "    )\n",
    "\n",
    "emotions_base_model_quality_monitor.create_monitoring_schedule(\n",
    "    monitor_schedule_name=model_monitor_schedule_name,\n",
    "    endpoint_input=endpoint_input,\n",
    "    output_s3_uri=s3_report_path,\n",
    "    constraints=baseline_job.suggested_constraints(),\n",
    "    ground_truth_input=ground_truth_upload_path,\n",
    "    problem_type = 'MulticlassClassification',\n",
    "    schedule_cron_expression=CronExpressionGenerator.hourly(),\n",
    "    record_preprocessor_script='processing_script.py',\n",
    "    enable_cloudwatch_metrics=True,\n",
    ")"
   ]
  },
  {
   "cell_type": "code",
   "execution_count": 153,
   "id": "ceed3032-f4ee-4ae9-aac4-69f50b0105aa",
   "metadata": {
    "tags": []
   },
   "outputs": [
    {
     "data": {
      "text/plain": [
       "{'MonitoringScheduleArn': 'arn:aws:sagemaker:us-east-2:891377274348:monitoring-schedule/AIEmotion-model-monitoring-schedule-2024-02-23-1900',\n",
       " 'MonitoringScheduleName': 'AIEmotion-model-monitoring-schedule-2024-02-23-1900',\n",
       " 'MonitoringScheduleStatus': 'Pending',\n",
       " 'MonitoringType': 'ModelQuality',\n",
       " 'CreationTime': datetime.datetime(2024, 2, 23, 19, 0, 12, 610000, tzinfo=tzlocal()),\n",
       " 'LastModifiedTime': datetime.datetime(2024, 2, 23, 19, 0, 12, 708000, tzinfo=tzlocal()),\n",
       " 'MonitoringScheduleConfig': {'ScheduleConfig': {'ScheduleExpression': 'cron(0 * ? * * *)'},\n",
       "  'MonitoringJobDefinitionName': 'model-quality-job-definition-2024-02-23-19-00-11-816',\n",
       "  'MonitoringType': 'ModelQuality'},\n",
       " 'EndpointName': 'AIEmotion-model-quality-monitor-2024-02-23-0528',\n",
       " 'ResponseMetadata': {'RequestId': '7a86c29a-d95e-4af2-a797-f38c18c15b67',\n",
       "  'HTTPStatusCode': 200,\n",
       "  'HTTPHeaders': {'x-amzn-requestid': '7a86c29a-d95e-4af2-a797-f38c18c15b67',\n",
       "   'content-type': 'application/x-amz-json-1.1',\n",
       "   'content-length': '626',\n",
       "   'date': 'Fri, 23 Feb 2024 19:00:16 GMT'},\n",
       "  'RetryAttempts': 0}}"
      ]
     },
     "execution_count": 153,
     "metadata": {},
     "output_type": "execute_result"
    }
   ],
   "source": [
    "emotions_base_model_quality_monitor.describe_schedule()"
   ]
  },
  {
   "cell_type": "code",
   "execution_count": 154,
   "id": "1d5554e5-4d2e-42b3-8b93-9471bcb5ecdb",
   "metadata": {
    "tags": []
   },
   "outputs": [
    {
     "name": "stdout",
     "output_type": "stream",
     "text": [
      "No executions found for schedule. monitoring_schedule_name: AIEmotion-model-monitoring-schedule-2024-02-23-1900\n"
     ]
    },
    {
     "data": {
      "text/plain": [
       "[]"
      ]
     },
     "execution_count": 154,
     "metadata": {},
     "output_type": "execute_result"
    }
   ],
   "source": [
    "executions = emotions_base_model_quality_monitor.list_executions()\n",
    "executions"
   ]
  },
  {
   "cell_type": "code",
   "execution_count": 155,
   "id": "0e60fed9-d42e-4fd9-8104-9a2639b18c65",
   "metadata": {
    "tags": []
   },
   "outputs": [
    {
     "name": "stdout",
     "output_type": "stream",
     "text": [
      "Waiting for first execution.......................................................................................................................................................................Uploading 300 records to s3://aai-540-final-data-east/sagemaker/AIEmotions-ModelQualityMonitor/ground_truth_data/2024-02-23-05-27-12/2024/02/23/19/2817.jsonl\n",
      "sagemaker.config INFO - Not applying SDK defaults from location: /etc/xdg/sagemaker/config.yaml\n",
      "sagemaker.config INFO - Not applying SDK defaults from location: /root/.config/sagemaker/config.yaml\n",
      "....................................................................................................................................................................................................................................\n",
      "Execution found!\n"
     ]
    }
   ],
   "source": [
    "# Wait for the first execution of the monitoring_schedule\n",
    "print(\"Waiting for first execution\", end=\"\")\n",
    "while True:\n",
    "    execution = emotions_base_model_quality_monitor.describe_schedule().get(\n",
    "        \"LastMonitoringExecutionSummary\"\n",
    "    )\n",
    "    if execution:\n",
    "        break\n",
    "    print(\".\", end=\"\", flush=True)\n",
    "    sleep(10)\n",
    "print()\n",
    "print(\"Execution found!\")"
   ]
  },
  {
   "cell_type": "code",
   "execution_count": 156,
   "id": "fdd35139-38cf-4fec-a64f-21c8ec86e4cd",
   "metadata": {
    "tags": []
   },
   "outputs": [
    {
     "name": "stdout",
     "output_type": "stream",
     "text": [
      "."
     ]
    },
    {
     "data": {
      "text/plain": [
       "{'ProcessingInputs': [{'InputName': 'groundtruth_input_1',\n",
       "   'AppManaged': False,\n",
       "   'S3Input': {'S3Uri': 's3://aai-540-final-data-east/sagemaker/AIEmotions-ModelQualityMonitor/ground_truth_data/2024-02-23-05-27-12/2024/02/23/19',\n",
       "    'LocalPath': '/opt/ml/processing/groundtruth/2024/02/23/19',\n",
       "    'S3DataType': 'S3Prefix',\n",
       "    'S3InputMode': 'File',\n",
       "    'S3DataDistributionType': 'FullyReplicated',\n",
       "    'S3CompressionType': 'None'}},\n",
       "  {'InputName': 'endpoint_input_1',\n",
       "   'AppManaged': False,\n",
       "   'S3Input': {'S3Uri': 's3://aai-540-final-data-east/sagemaker/AIEmotions-ModelQualityMonitor/datacapture/AIEmotion-model-quality-monitor-2024-02-23-0528/AllTraffic/2024/02/23/19',\n",
       "    'LocalPath': '/opt/ml/processing/input_data/AIEmotion-model-quality-monitor-2024-02-23-0528/AllTraffic/2024/02/23/19',\n",
       "    'S3DataType': 'S3Prefix',\n",
       "    'S3InputMode': 'File',\n",
       "    'S3DataDistributionType': 'FullyReplicated',\n",
       "    'S3CompressionType': 'None'}}],\n",
       " 'ProcessingOutputConfig': {'Outputs': [{'OutputName': 'result',\n",
       "    'S3Output': {'S3Uri': 's3://aai-540-final-data-east/sagemaker/AIEmotions-ModelQualityMonitor/reports/merge',\n",
       "     'LocalPath': '/opt/ml/processing/output',\n",
       "     'S3UploadMode': 'EndOfJob'},\n",
       "    'AppManaged': False}]},\n",
       " 'ProcessingJobName': 'groundtruth-merge-202402232000-d3c11b8da18c930dc36a2e8f',\n",
       " 'ProcessingResources': {'ClusterConfig': {'InstanceCount': 1,\n",
       "   'InstanceType': 'ml.m5.large',\n",
       "   'VolumeSizeInGB': 20}},\n",
       " 'StoppingCondition': {'MaxRuntimeInSeconds': 1800},\n",
       " 'AppSpecification': {'ImageUri': '777275614652.dkr.ecr.us-east-2.amazonaws.com/sagemaker-model-monitor-groundtruth-merger'},\n",
       " 'Environment': {'dataset_format': '{\"sagemakerCaptureJson\":{\"captureIndexNames\":null}}',\n",
       "  'dataset_source': '/opt/ml/processing/input_data',\n",
       "  'end_time': '2024-02-23T20:00:00Z',\n",
       "  'ground_truth_source': '/opt/ml/processing/groundtruth',\n",
       "  'monitoring_input_type': 'ENDPOINT_INPUT',\n",
       "  'output_path': '/opt/ml/processing/output',\n",
       "  'start_time': '2024-02-23T19:00:00Z'},\n",
       " 'RoleArn': 'arn:aws:iam::891377274348:role/service-role/AmazonSageMaker-ExecutionRole-20240220T192275',\n",
       " 'ProcessingJobArn': 'arn:aws:sagemaker:us-east-2:891377274348:processing-job/groundtruth-merge-202402232000-d3c11b8da18c930dc36a2e8f',\n",
       " 'ProcessingJobStatus': 'InProgress',\n",
       " 'LastModifiedTime': datetime.datetime(2024, 2, 23, 20, 6, 40, 869000, tzinfo=tzlocal()),\n",
       " 'CreationTime': datetime.datetime(2024, 2, 23, 20, 6, 40, 470000, tzinfo=tzlocal()),\n",
       " 'MonitoringScheduleArn': 'arn:aws:sagemaker:us-east-2:891377274348:monitoring-schedule/AIEmotion-model-monitoring-schedule-2024-02-23-1900',\n",
       " 'ResponseMetadata': {'RequestId': 'eec017d9-55a7-48fc-a157-6818e27c0036',\n",
       "  'HTTPStatusCode': 200,\n",
       "  'HTTPHeaders': {'x-amzn-requestid': 'eec017d9-55a7-48fc-a157-6818e27c0036',\n",
       "   'content-type': 'application/x-amz-json-1.1',\n",
       "   'content-length': '2293',\n",
       "   'date': 'Fri, 23 Feb 2024 20:06:51 GMT'},\n",
       "  'RetryAttempts': 0}}"
      ]
     },
     "execution_count": 156,
     "metadata": {},
     "output_type": "execute_result"
    },
    {
     "name": "stdout",
     "output_type": "stream",
     "text": [
      "Uploading 300 records to s3://aai-540-final-data-east/sagemaker/AIEmotions-ModelQualityMonitor/ground_truth_data/2024-02-23-05-27-12/2024/02/23/20/2817.jsonl\n",
      "sagemaker.config INFO - Not applying SDK defaults from location: /etc/xdg/sagemaker/config.yaml\n",
      "sagemaker.config INFO - Not applying SDK defaults from location: /root/.config/sagemaker/config.yaml\n"
     ]
    }
   ],
   "source": [
    "while not executions:\n",
    "    executions = emotions_base_model_quality_monitor.list_executions()\n",
    "    print(\".\", end=\"\", flush=True)\n",
    "    sleep(10)\n",
    "latest_execution = executions[-1]\n",
    "latest_execution.describe()"
   ]
  },
  {
   "cell_type": "code",
   "execution_count": 89,
   "id": "0cd08eb2-0aa8-4c94-818b-14b6c8e80faf",
   "metadata": {
    "tags": []
   },
   "outputs": [
    {
     "name": "stdout",
     "output_type": "stream",
     "text": [
      "Report Uri: s3://aai-540-final-data-east/sagemaker/AIEmotions-ModelQualityMonitor/reports/AIEmotion-model-quality-monitor-2024-02-23-0528/AIEmotion-model-monitoring-schedule-2024-02-23-1734/2024/02/23/18\n"
     ]
    }
   ],
   "source": [
    "latest_execution = emotions_base_model_quality_monitor.list_executions()[-1]\n",
    "report_uri = latest_execution.describe()[\"ProcessingOutputConfig\"][\"Outputs\"][0][\"S3Output\"][\n",
    "    \"S3Uri\"\n",
    "]\n",
    "print(\"Report Uri:\", report_uri)"
   ]
  },
  {
   "cell_type": "code",
   "execution_count": null,
   "id": "aacb3490-b35b-4f4b-9398-52c39c516891",
   "metadata": {
    "tags": []
   },
   "outputs": [
    {
     "name": "stdout",
     "output_type": "stream",
     "text": [
      "Uploading 300 records to s3://aai-540-final-data-east/sagemaker/AIEmotions-ModelQualityMonitor/ground_truth_data/2024-02-23-05-27-12/2024/02/23/18/2817.jsonl\n",
      "sagemaker.config INFO - Not applying SDK defaults from location: /etc/xdg/sagemaker/config.yaml\n",
      "sagemaker.config INFO - Not applying SDK defaults from location: /root/.config/sagemaker/config.yaml\n"
     ]
    }
   ],
   "source": [
    "pd.options.display.max_colwidth = None\n",
    "violations = latest_execution.constraint_violations().body_dict[\"violations\"]\n",
    "violations_df = pd.json_normalize(violations)\n",
    "violations_df.head(10)"
   ]
  },
  {
   "cell_type": "markdown",
   "id": "2e77d056-5ec7-4077-b939-8c2b84e5a5ef",
   "metadata": {},
   "source": [
    "## Analyze Model Quality"
   ]
  },
  {
   "cell_type": "code",
   "execution_count": null,
   "id": "b9ab4950-14a6-4f6b-a1dd-ed430e4d4277",
   "metadata": {
    "tags": []
   },
   "outputs": [],
   "source": [
    "# Create CloudWatch client\n",
    "cw_client = boto3.Session().client(\"cloudwatch\")\n",
    "\n",
    "namespace = \"aws/sagemaker/Endpoints/model-metrics\"\n",
    "\n",
    "cw_dimensions = [\n",
    "    {\"Name\": \"Endpoint\", \"Value\": endpoint_name},\n",
    "    {\"Name\": \"MonitoringSchedule\", \"Value\": model_monitor_schedule_name},\n",
    "]"
   ]
  },
  {
   "cell_type": "code",
   "execution_count": null,
   "id": "7f74f42e-9ec5-4d69-8445-0614fc231678",
   "metadata": {
    "tags": []
   },
   "outputs": [],
   "source": [
    "# List metrics through the pagination interface\n",
    "paginator = cw_client.get_paginator(\"list_metrics\")\n",
    "\n",
    "for response in paginator.paginate(Dimensions=cw_dimensions, Namespace=namespace):\n",
    "    model_quality_metrics = response[\"Metrics\"]\n",
    "    for metric in model_quality_metrics:\n",
    "        print(metric[\"MetricName\"])"
   ]
  },
  {
   "cell_type": "code",
   "execution_count": null,
   "id": "2a4b7b57-38a3-4f0d-817c-9a84d94dcdef",
   "metadata": {
    "tags": []
   },
   "outputs": [],
   "source": [
    "alarm_name = \"MODEL_QUALITY_F1_SCORE\"\n",
    "alarm_desc = (\n",
    "    \"Trigger an CloudWatch alarm when the f1 score drifts away from the baseline constraints\"\n",
    ")\n",
    "model_quality_f2_drift_threshold = (\n",
    "    0.6  ##Setting this threshold purposefully low to see the alarm quickly.\n",
    ")\n",
    "metric_name = \"f1\"\n",
    "namespace = \"aws/sagemaker/Endpoints/model-metrics\"\n",
    "\n",
    "cw_client.put_metric_alarm(\n",
    "    AlarmName=alarm_name,\n",
    "    AlarmDescription=alarm_desc,\n",
    "    ActionsEnabled=True,\n",
    "    MetricName=metric_name,\n",
    "    Namespace=namespace,\n",
    "    Statistic=\"Average\",\n",
    "    Dimensions=[\n",
    "        {\"Name\": \"Endpoint\", \"Value\": endpoint_name},\n",
    "        {\"Name\": \"MonitoringSchedule\", \"Value\": model_monitor_schedule_name},\n",
    "    ],\n",
    "    Period=600,\n",
    "    EvaluationPeriods=1,\n",
    "    DatapointsToAlarm=1,\n",
    "    Threshold=model_quality_f2_drift_threshold,\n",
    "    ComparisonOperator=\"LessThanOrEqualToThreshold\",\n",
    "    TreatMissingData=\"breaching\",\n",
    ")"
   ]
  },
  {
   "cell_type": "markdown",
   "id": "c6e87ce1-67fd-4a19-bb2b-76b43ccde3ad",
   "metadata": {},
   "source": [
    "## Release Resources"
   ]
  },
  {
   "cell_type": "code",
   "execution_count": null,
   "id": "0b6d1fe7-cb53-4c67-b374-97ac9e1002ec",
   "metadata": {},
   "outputs": [],
   "source": [
    "emotions_base_model_quality_monitor.delete_monitoring_schedule()\n",
    "sleep(60)\n",
    "\n",
    "predictor.delete_endpoint()\n",
    "predictor.delete_model()"
   ]
  },
  {
   "cell_type": "code",
   "execution_count": null,
   "id": "1498c1f1-26ad-47dd-ad76-6791be57a6bf",
   "metadata": {},
   "outputs": [],
   "source": []
  }
 ],
 "metadata": {
  "availableInstances": [
   {
    "_defaultOrder": 0,
    "_isFastLaunch": true,
    "category": "General purpose",
    "gpuNum": 0,
    "hideHardwareSpecs": false,
    "memoryGiB": 4,
    "name": "ml.t3.medium",
    "vcpuNum": 2
   },
   {
    "_defaultOrder": 1,
    "_isFastLaunch": false,
    "category": "General purpose",
    "gpuNum": 0,
    "hideHardwareSpecs": false,
    "memoryGiB": 8,
    "name": "ml.t3.large",
    "vcpuNum": 2
   },
   {
    "_defaultOrder": 2,
    "_isFastLaunch": false,
    "category": "General purpose",
    "gpuNum": 0,
    "hideHardwareSpecs": false,
    "memoryGiB": 16,
    "name": "ml.t3.xlarge",
    "vcpuNum": 4
   },
   {
    "_defaultOrder": 3,
    "_isFastLaunch": false,
    "category": "General purpose",
    "gpuNum": 0,
    "hideHardwareSpecs": false,
    "memoryGiB": 32,
    "name": "ml.t3.2xlarge",
    "vcpuNum": 8
   },
   {
    "_defaultOrder": 4,
    "_isFastLaunch": true,
    "category": "General purpose",
    "gpuNum": 0,
    "hideHardwareSpecs": false,
    "memoryGiB": 8,
    "name": "ml.m5.large",
    "vcpuNum": 2
   },
   {
    "_defaultOrder": 5,
    "_isFastLaunch": false,
    "category": "General purpose",
    "gpuNum": 0,
    "hideHardwareSpecs": false,
    "memoryGiB": 16,
    "name": "ml.m5.xlarge",
    "vcpuNum": 4
   },
   {
    "_defaultOrder": 6,
    "_isFastLaunch": false,
    "category": "General purpose",
    "gpuNum": 0,
    "hideHardwareSpecs": false,
    "memoryGiB": 32,
    "name": "ml.m5.2xlarge",
    "vcpuNum": 8
   },
   {
    "_defaultOrder": 7,
    "_isFastLaunch": false,
    "category": "General purpose",
    "gpuNum": 0,
    "hideHardwareSpecs": false,
    "memoryGiB": 64,
    "name": "ml.m5.4xlarge",
    "vcpuNum": 16
   },
   {
    "_defaultOrder": 8,
    "_isFastLaunch": false,
    "category": "General purpose",
    "gpuNum": 0,
    "hideHardwareSpecs": false,
    "memoryGiB": 128,
    "name": "ml.m5.8xlarge",
    "vcpuNum": 32
   },
   {
    "_defaultOrder": 9,
    "_isFastLaunch": false,
    "category": "General purpose",
    "gpuNum": 0,
    "hideHardwareSpecs": false,
    "memoryGiB": 192,
    "name": "ml.m5.12xlarge",
    "vcpuNum": 48
   },
   {
    "_defaultOrder": 10,
    "_isFastLaunch": false,
    "category": "General purpose",
    "gpuNum": 0,
    "hideHardwareSpecs": false,
    "memoryGiB": 256,
    "name": "ml.m5.16xlarge",
    "vcpuNum": 64
   },
   {
    "_defaultOrder": 11,
    "_isFastLaunch": false,
    "category": "General purpose",
    "gpuNum": 0,
    "hideHardwareSpecs": false,
    "memoryGiB": 384,
    "name": "ml.m5.24xlarge",
    "vcpuNum": 96
   },
   {
    "_defaultOrder": 12,
    "_isFastLaunch": false,
    "category": "General purpose",
    "gpuNum": 0,
    "hideHardwareSpecs": false,
    "memoryGiB": 8,
    "name": "ml.m5d.large",
    "vcpuNum": 2
   },
   {
    "_defaultOrder": 13,
    "_isFastLaunch": false,
    "category": "General purpose",
    "gpuNum": 0,
    "hideHardwareSpecs": false,
    "memoryGiB": 16,
    "name": "ml.m5d.xlarge",
    "vcpuNum": 4
   },
   {
    "_defaultOrder": 14,
    "_isFastLaunch": false,
    "category": "General purpose",
    "gpuNum": 0,
    "hideHardwareSpecs": false,
    "memoryGiB": 32,
    "name": "ml.m5d.2xlarge",
    "vcpuNum": 8
   },
   {
    "_defaultOrder": 15,
    "_isFastLaunch": false,
    "category": "General purpose",
    "gpuNum": 0,
    "hideHardwareSpecs": false,
    "memoryGiB": 64,
    "name": "ml.m5d.4xlarge",
    "vcpuNum": 16
   },
   {
    "_defaultOrder": 16,
    "_isFastLaunch": false,
    "category": "General purpose",
    "gpuNum": 0,
    "hideHardwareSpecs": false,
    "memoryGiB": 128,
    "name": "ml.m5d.8xlarge",
    "vcpuNum": 32
   },
   {
    "_defaultOrder": 17,
    "_isFastLaunch": false,
    "category": "General purpose",
    "gpuNum": 0,
    "hideHardwareSpecs": false,
    "memoryGiB": 192,
    "name": "ml.m5d.12xlarge",
    "vcpuNum": 48
   },
   {
    "_defaultOrder": 18,
    "_isFastLaunch": false,
    "category": "General purpose",
    "gpuNum": 0,
    "hideHardwareSpecs": false,
    "memoryGiB": 256,
    "name": "ml.m5d.16xlarge",
    "vcpuNum": 64
   },
   {
    "_defaultOrder": 19,
    "_isFastLaunch": false,
    "category": "General purpose",
    "gpuNum": 0,
    "hideHardwareSpecs": false,
    "memoryGiB": 384,
    "name": "ml.m5d.24xlarge",
    "vcpuNum": 96
   },
   {
    "_defaultOrder": 20,
    "_isFastLaunch": false,
    "category": "General purpose",
    "gpuNum": 0,
    "hideHardwareSpecs": true,
    "memoryGiB": 0,
    "name": "ml.geospatial.interactive",
    "supportedImageNames": [
     "sagemaker-geospatial-v1-0"
    ],
    "vcpuNum": 0
   },
   {
    "_defaultOrder": 21,
    "_isFastLaunch": true,
    "category": "Compute optimized",
    "gpuNum": 0,
    "hideHardwareSpecs": false,
    "memoryGiB": 4,
    "name": "ml.c5.large",
    "vcpuNum": 2
   },
   {
    "_defaultOrder": 22,
    "_isFastLaunch": false,
    "category": "Compute optimized",
    "gpuNum": 0,
    "hideHardwareSpecs": false,
    "memoryGiB": 8,
    "name": "ml.c5.xlarge",
    "vcpuNum": 4
   },
   {
    "_defaultOrder": 23,
    "_isFastLaunch": false,
    "category": "Compute optimized",
    "gpuNum": 0,
    "hideHardwareSpecs": false,
    "memoryGiB": 16,
    "name": "ml.c5.2xlarge",
    "vcpuNum": 8
   },
   {
    "_defaultOrder": 24,
    "_isFastLaunch": false,
    "category": "Compute optimized",
    "gpuNum": 0,
    "hideHardwareSpecs": false,
    "memoryGiB": 32,
    "name": "ml.c5.4xlarge",
    "vcpuNum": 16
   },
   {
    "_defaultOrder": 25,
    "_isFastLaunch": false,
    "category": "Compute optimized",
    "gpuNum": 0,
    "hideHardwareSpecs": false,
    "memoryGiB": 72,
    "name": "ml.c5.9xlarge",
    "vcpuNum": 36
   },
   {
    "_defaultOrder": 26,
    "_isFastLaunch": false,
    "category": "Compute optimized",
    "gpuNum": 0,
    "hideHardwareSpecs": false,
    "memoryGiB": 96,
    "name": "ml.c5.12xlarge",
    "vcpuNum": 48
   },
   {
    "_defaultOrder": 27,
    "_isFastLaunch": false,
    "category": "Compute optimized",
    "gpuNum": 0,
    "hideHardwareSpecs": false,
    "memoryGiB": 144,
    "name": "ml.c5.18xlarge",
    "vcpuNum": 72
   },
   {
    "_defaultOrder": 28,
    "_isFastLaunch": false,
    "category": "Compute optimized",
    "gpuNum": 0,
    "hideHardwareSpecs": false,
    "memoryGiB": 192,
    "name": "ml.c5.24xlarge",
    "vcpuNum": 96
   },
   {
    "_defaultOrder": 29,
    "_isFastLaunch": true,
    "category": "Accelerated computing",
    "gpuNum": 1,
    "hideHardwareSpecs": false,
    "memoryGiB": 16,
    "name": "ml.g4dn.xlarge",
    "vcpuNum": 4
   },
   {
    "_defaultOrder": 30,
    "_isFastLaunch": false,
    "category": "Accelerated computing",
    "gpuNum": 1,
    "hideHardwareSpecs": false,
    "memoryGiB": 32,
    "name": "ml.g4dn.2xlarge",
    "vcpuNum": 8
   },
   {
    "_defaultOrder": 31,
    "_isFastLaunch": false,
    "category": "Accelerated computing",
    "gpuNum": 1,
    "hideHardwareSpecs": false,
    "memoryGiB": 64,
    "name": "ml.g4dn.4xlarge",
    "vcpuNum": 16
   },
   {
    "_defaultOrder": 32,
    "_isFastLaunch": false,
    "category": "Accelerated computing",
    "gpuNum": 1,
    "hideHardwareSpecs": false,
    "memoryGiB": 128,
    "name": "ml.g4dn.8xlarge",
    "vcpuNum": 32
   },
   {
    "_defaultOrder": 33,
    "_isFastLaunch": false,
    "category": "Accelerated computing",
    "gpuNum": 4,
    "hideHardwareSpecs": false,
    "memoryGiB": 192,
    "name": "ml.g4dn.12xlarge",
    "vcpuNum": 48
   },
   {
    "_defaultOrder": 34,
    "_isFastLaunch": false,
    "category": "Accelerated computing",
    "gpuNum": 1,
    "hideHardwareSpecs": false,
    "memoryGiB": 256,
    "name": "ml.g4dn.16xlarge",
    "vcpuNum": 64
   },
   {
    "_defaultOrder": 35,
    "_isFastLaunch": false,
    "category": "Accelerated computing",
    "gpuNum": 1,
    "hideHardwareSpecs": false,
    "memoryGiB": 61,
    "name": "ml.p3.2xlarge",
    "vcpuNum": 8
   },
   {
    "_defaultOrder": 36,
    "_isFastLaunch": false,
    "category": "Accelerated computing",
    "gpuNum": 4,
    "hideHardwareSpecs": false,
    "memoryGiB": 244,
    "name": "ml.p3.8xlarge",
    "vcpuNum": 32
   },
   {
    "_defaultOrder": 37,
    "_isFastLaunch": false,
    "category": "Accelerated computing",
    "gpuNum": 8,
    "hideHardwareSpecs": false,
    "memoryGiB": 488,
    "name": "ml.p3.16xlarge",
    "vcpuNum": 64
   },
   {
    "_defaultOrder": 38,
    "_isFastLaunch": false,
    "category": "Accelerated computing",
    "gpuNum": 8,
    "hideHardwareSpecs": false,
    "memoryGiB": 768,
    "name": "ml.p3dn.24xlarge",
    "vcpuNum": 96
   },
   {
    "_defaultOrder": 39,
    "_isFastLaunch": false,
    "category": "Memory Optimized",
    "gpuNum": 0,
    "hideHardwareSpecs": false,
    "memoryGiB": 16,
    "name": "ml.r5.large",
    "vcpuNum": 2
   },
   {
    "_defaultOrder": 40,
    "_isFastLaunch": false,
    "category": "Memory Optimized",
    "gpuNum": 0,
    "hideHardwareSpecs": false,
    "memoryGiB": 32,
    "name": "ml.r5.xlarge",
    "vcpuNum": 4
   },
   {
    "_defaultOrder": 41,
    "_isFastLaunch": false,
    "category": "Memory Optimized",
    "gpuNum": 0,
    "hideHardwareSpecs": false,
    "memoryGiB": 64,
    "name": "ml.r5.2xlarge",
    "vcpuNum": 8
   },
   {
    "_defaultOrder": 42,
    "_isFastLaunch": false,
    "category": "Memory Optimized",
    "gpuNum": 0,
    "hideHardwareSpecs": false,
    "memoryGiB": 128,
    "name": "ml.r5.4xlarge",
    "vcpuNum": 16
   },
   {
    "_defaultOrder": 43,
    "_isFastLaunch": false,
    "category": "Memory Optimized",
    "gpuNum": 0,
    "hideHardwareSpecs": false,
    "memoryGiB": 256,
    "name": "ml.r5.8xlarge",
    "vcpuNum": 32
   },
   {
    "_defaultOrder": 44,
    "_isFastLaunch": false,
    "category": "Memory Optimized",
    "gpuNum": 0,
    "hideHardwareSpecs": false,
    "memoryGiB": 384,
    "name": "ml.r5.12xlarge",
    "vcpuNum": 48
   },
   {
    "_defaultOrder": 45,
    "_isFastLaunch": false,
    "category": "Memory Optimized",
    "gpuNum": 0,
    "hideHardwareSpecs": false,
    "memoryGiB": 512,
    "name": "ml.r5.16xlarge",
    "vcpuNum": 64
   },
   {
    "_defaultOrder": 46,
    "_isFastLaunch": false,
    "category": "Memory Optimized",
    "gpuNum": 0,
    "hideHardwareSpecs": false,
    "memoryGiB": 768,
    "name": "ml.r5.24xlarge",
    "vcpuNum": 96
   },
   {
    "_defaultOrder": 47,
    "_isFastLaunch": false,
    "category": "Accelerated computing",
    "gpuNum": 1,
    "hideHardwareSpecs": false,
    "memoryGiB": 16,
    "name": "ml.g5.xlarge",
    "vcpuNum": 4
   },
   {
    "_defaultOrder": 48,
    "_isFastLaunch": false,
    "category": "Accelerated computing",
    "gpuNum": 1,
    "hideHardwareSpecs": false,
    "memoryGiB": 32,
    "name": "ml.g5.2xlarge",
    "vcpuNum": 8
   },
   {
    "_defaultOrder": 49,
    "_isFastLaunch": false,
    "category": "Accelerated computing",
    "gpuNum": 1,
    "hideHardwareSpecs": false,
    "memoryGiB": 64,
    "name": "ml.g5.4xlarge",
    "vcpuNum": 16
   },
   {
    "_defaultOrder": 50,
    "_isFastLaunch": false,
    "category": "Accelerated computing",
    "gpuNum": 1,
    "hideHardwareSpecs": false,
    "memoryGiB": 128,
    "name": "ml.g5.8xlarge",
    "vcpuNum": 32
   },
   {
    "_defaultOrder": 51,
    "_isFastLaunch": false,
    "category": "Accelerated computing",
    "gpuNum": 1,
    "hideHardwareSpecs": false,
    "memoryGiB": 256,
    "name": "ml.g5.16xlarge",
    "vcpuNum": 64
   },
   {
    "_defaultOrder": 52,
    "_isFastLaunch": false,
    "category": "Accelerated computing",
    "gpuNum": 4,
    "hideHardwareSpecs": false,
    "memoryGiB": 192,
    "name": "ml.g5.12xlarge",
    "vcpuNum": 48
   },
   {
    "_defaultOrder": 53,
    "_isFastLaunch": false,
    "category": "Accelerated computing",
    "gpuNum": 4,
    "hideHardwareSpecs": false,
    "memoryGiB": 384,
    "name": "ml.g5.24xlarge",
    "vcpuNum": 96
   },
   {
    "_defaultOrder": 54,
    "_isFastLaunch": false,
    "category": "Accelerated computing",
    "gpuNum": 8,
    "hideHardwareSpecs": false,
    "memoryGiB": 768,
    "name": "ml.g5.48xlarge",
    "vcpuNum": 192
   },
   {
    "_defaultOrder": 55,
    "_isFastLaunch": false,
    "category": "Accelerated computing",
    "gpuNum": 8,
    "hideHardwareSpecs": false,
    "memoryGiB": 1152,
    "name": "ml.p4d.24xlarge",
    "vcpuNum": 96
   },
   {
    "_defaultOrder": 56,
    "_isFastLaunch": false,
    "category": "Accelerated computing",
    "gpuNum": 8,
    "hideHardwareSpecs": false,
    "memoryGiB": 1152,
    "name": "ml.p4de.24xlarge",
    "vcpuNum": 96
   },
   {
    "_defaultOrder": 57,
    "_isFastLaunch": false,
    "category": "Accelerated computing",
    "gpuNum": 0,
    "hideHardwareSpecs": false,
    "memoryGiB": 32,
    "name": "ml.trn1.2xlarge",
    "vcpuNum": 8
   },
   {
    "_defaultOrder": 58,
    "_isFastLaunch": false,
    "category": "Accelerated computing",
    "gpuNum": 0,
    "hideHardwareSpecs": false,
    "memoryGiB": 512,
    "name": "ml.trn1.32xlarge",
    "vcpuNum": 128
   },
   {
    "_defaultOrder": 59,
    "_isFastLaunch": false,
    "category": "Accelerated computing",
    "gpuNum": 0,
    "hideHardwareSpecs": false,
    "memoryGiB": 512,
    "name": "ml.trn1n.32xlarge",
    "vcpuNum": 128
   }
  ],
  "instance_type": "ml.t3.medium",
  "kernelspec": {
   "display_name": "Python 3 (Data Science 3.0)",
   "language": "python",
   "name": "python3__SAGEMAKER_INTERNAL__arn:aws:sagemaker:us-east-2:429704687514:image/sagemaker-data-science-310-v1"
  },
  "language_info": {
   "codemirror_mode": {
    "name": "ipython",
    "version": 3
   },
   "file_extension": ".py",
   "mimetype": "text/x-python",
   "name": "python",
   "nbconvert_exporter": "python",
   "pygments_lexer": "ipython3",
   "version": "3.10.6"
  }
 },
 "nbformat": 4,
 "nbformat_minor": 5
}
