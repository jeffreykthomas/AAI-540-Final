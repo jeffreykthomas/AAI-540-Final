{
 "cells": [
  {
   "cell_type": "code",
   "execution_count": 2,
   "id": "f2409fd0-38db-48a5-a523-40aac469a615",
   "metadata": {
    "tags": []
   },
   "outputs": [
    {
     "name": "stdout",
     "output_type": "stream",
     "text": [
      "\u001b[33mWARNING: Running pip as the 'root' user can result in broken permissions and conflicting behaviour with the system package manager. It is recommended to use a virtual environment instead: https://pip.pypa.io/warnings/venv\u001b[0m\u001b[33m\n",
      "\u001b[0m"
     ]
    }
   ],
   "source": [
    "!pip install -qU transformers pip"
   ]
  },
  {
   "cell_type": "code",
   "execution_count": 23,
   "id": "a513dd6d-573d-48c5-b892-376ca07cdf22",
   "metadata": {
    "tags": []
   },
   "outputs": [],
   "source": [
    "import boto3\n",
    "import pandas as pd\n",
    "\n",
    "from sagemaker import get_execution_role\n",
    "import io\n",
    "\n",
    "from transformers import BertTokenizer\n",
    "from tensorflow.data import Dataset\n",
    "from sagemaker.feature_store.feature_group import FeatureGroup\n",
    "\n",
    "from time import gmtime, strftime, sleep\n",
    "import time\n",
    "from sagemaker.session import Session\n",
    "\n",
    "from sklearn.model_selection import train_test_split"
   ]
  },
  {
   "cell_type": "code",
   "execution_count": 8,
   "id": "ae73f403-103b-496d-ac3d-93481aa5f1e8",
   "metadata": {
    "tags": []
   },
   "outputs": [],
   "source": [
    "region_name='us-west-2'\n",
    "session = boto3.Session(region_name=region_name)\n",
    "\n",
    "s3 = session.client('s3')\n",
    "bucket_name = 'aai-540-final-data'\n",
    "s3_path = 'data/pre_processed_data.tsv'"
   ]
  },
  {
   "cell_type": "code",
   "execution_count": 9,
   "id": "b1ebc4ef-9b56-4075-b37d-4ba04a5153e5",
   "metadata": {
    "tags": []
   },
   "outputs": [],
   "source": [
    "sagemaker_client = session.client(service_name=\"sagemaker\", region_name=region_name)\n",
    "featurestore_runtime = session.client(\n",
    "    service_name=\"sagemaker-featurestore-runtime\", region_name=region_name\n",
    ")\n",
    "\n",
    "feature_store_session = Session(\n",
    "    boto_session=session,\n",
    "    sagemaker_client=sagemaker_client,\n",
    "    sagemaker_featurestore_runtime_client=featurestore_runtime,\n",
    ")"
   ]
  },
  {
   "cell_type": "code",
   "execution_count": 10,
   "id": "e9283dcb-acf4-463a-a14d-142cc7ae10f4",
   "metadata": {
    "tags": []
   },
   "outputs": [],
   "source": [
    "prefix = \"sagemaker-featurestore-GOEmotions\""
   ]
  },
  {
   "cell_type": "code",
   "execution_count": 11,
   "id": "3636e38f-3f30-4729-8790-cda9c02b947e",
   "metadata": {
    "tags": []
   },
   "outputs": [
    {
     "name": "stdout",
     "output_type": "stream",
     "text": [
      "arn:aws:iam::542526735114:role/LabRole\n"
     ]
    }
   ],
   "source": [
    "role = get_execution_role()\n",
    "print(role)"
   ]
  },
  {
   "cell_type": "code",
   "execution_count": 12,
   "id": "87ffa7e2-bfb0-4b79-b9f6-4fffbf0a214e",
   "metadata": {
    "tags": []
   },
   "outputs": [
    {
     "data": {
      "text/html": [
       "<div>\n",
       "<style scoped>\n",
       "    .dataframe tbody tr th:only-of-type {\n",
       "        vertical-align: middle;\n",
       "    }\n",
       "\n",
       "    .dataframe tbody tr th {\n",
       "        vertical-align: top;\n",
       "    }\n",
       "\n",
       "    .dataframe thead th {\n",
       "        text-align: right;\n",
       "    }\n",
       "</style>\n",
       "<table border=\"1\" class=\"dataframe\">\n",
       "  <thead>\n",
       "    <tr style=\"text-align: right;\">\n",
       "      <th></th>\n",
       "      <th>text</th>\n",
       "      <th>emotions</th>\n",
       "      <th>id</th>\n",
       "    </tr>\n",
       "  </thead>\n",
       "  <tbody>\n",
       "    <tr>\n",
       "      <th>0</th>\n",
       "      <td>He isn't as big, but he's still quite popular....</td>\n",
       "      <td>0</td>\n",
       "      <td>eczuekb</td>\n",
       "    </tr>\n",
       "    <tr>\n",
       "      <th>1</th>\n",
       "      <td>that's adorable asf</td>\n",
       "      <td>0</td>\n",
       "      <td>ef961hv</td>\n",
       "    </tr>\n",
       "    <tr>\n",
       "      <th>2</th>\n",
       "      <td>I have, and now that you mention it, I think t...</td>\n",
       "      <td>27</td>\n",
       "      <td>ed9w1hm</td>\n",
       "    </tr>\n",
       "    <tr>\n",
       "      <th>3</th>\n",
       "      <td>I wanted to downvote this, but it's not your f...</td>\n",
       "      <td>27</td>\n",
       "      <td>ee52cjs</td>\n",
       "    </tr>\n",
       "    <tr>\n",
       "      <th>4</th>\n",
       "      <td>Build a wall? /jk</td>\n",
       "      <td>27</td>\n",
       "      <td>edsqvyx</td>\n",
       "    </tr>\n",
       "  </tbody>\n",
       "</table>\n",
       "</div>"
      ],
      "text/plain": [
       "                                                text  emotions       id\n",
       "0  He isn't as big, but he's still quite popular....         0  eczuekb\n",
       "1                                that's adorable asf         0  ef961hv\n",
       "2  I have, and now that you mention it, I think t...        27  ed9w1hm\n",
       "3  I wanted to downvote this, but it's not your f...        27  ee52cjs\n",
       "4                                  Build a wall? /jk        27  edsqvyx"
      ]
     },
     "execution_count": 12,
     "metadata": {},
     "output_type": "execute_result"
    }
   ],
   "source": [
    "# Generate the URL to get 'key-name' from 'bucket-name'\n",
    "data_obj = s3.get_object(Bucket=bucket_name, Key=s3_path)\n",
    "\n",
    "df = pd.read_csv(io.BytesIO(data_obj['Body'].read()), delimiter='\\t')\n",
    "df.head()"
   ]
  },
  {
   "cell_type": "code",
   "execution_count": 13,
   "id": "7b125d26-76bd-4659-8e27-722109c00fb2",
   "metadata": {
    "tags": []
   },
   "outputs": [
    {
     "data": {
      "text/plain": [
       "anger            6724\n",
       "disgust           738\n",
       "fear              790\n",
       "happy            9993\n",
       "optimistic       2274\n",
       "affectionate     8904\n",
       "sadness          3235\n",
       "surprise         5584\n",
       "neutral         16021\n",
       "dtype: int64"
      ]
     },
     "execution_count": 13,
     "metadata": {},
     "output_type": "execute_result"
    }
   ],
   "source": [
    "# Loading the file with emotion label names\n",
    "emotion_labels_obj = s3.get_object(Bucket=bucket_name, Key='data/emotions.txt')\n",
    "emotion_labels_data = emotion_labels_obj['Body'].read()\n",
    "\n",
    "# Converting the data from bytes to string and splitting by lines\n",
    "emotion_labels = emotion_labels_data.decode('utf-8').splitlines()\n",
    "# Split emotions column to get count of each emotion individually\n",
    "split_emotions = df['emotions'].astype(str).str.split(',')\n",
    "all_emotions = split_emotions.explode().astype(int)\n",
    "# Creating a mapping of indices to emotion labels\n",
    "emotion_index_to_label = {index: label for index, label in enumerate(emotion_labels)}\n",
    "\n",
    "# Applying the mapping to the emotions dataset\n",
    "labeled_emotions = all_emotions.map(emotion_index_to_label)\n",
    "\n",
    "# Counting occurrences of each emotion label\n",
    "labeled_emotion_counts = labeled_emotions.value_counts()\n",
    "\n",
    "emotion_categories = {\n",
    "\t\"anger\": [\"anger\", \"annoyance\", \"disapproval\"],\n",
    "\t\"disgust\": [\"disgust\"],\n",
    "\t\"fear\": [\"fear\", \"nervousness\"],\n",
    "\t\"happy\": [\"joy\", \"amusement\", \"approval\", \"gratitude\"],\n",
    "\t\"optimistic\": [\"optimism\", \"relief\", \"pride\", \"excitement\"],\n",
    "\t\"affectionate\": [ \"love\", \"caring\", \"admiration\",  \"desire\"],\n",
    "\t\"sadness\": [\"sadness\", \"disappointment\", \"embarrassment\", \"grief\",  \"remorse\"],\n",
    "\t\"surprise\": [\"surprise\", \"realization\", \"confusion\", \"curiosity\"],\n",
    "\t\"neutral\": [\"neutral\"]\n",
    "} \n",
    "\n",
    "emotion_to_category = {}\n",
    "for category, emotions in emotion_categories.items():\n",
    "\tfor emotion in emotions:\n",
    "\t\temotion_to_category[emotion] = category\n",
    "\n",
    "category_counts = pd.Series(dtype=int).reindex(emotion_categories.keys(), fill_value=0)\n",
    "\n",
    "for emotion, count in labeled_emotion_counts.items():\n",
    "\tcategory = emotion_to_category[emotion]\n",
    "\tif category:\n",
    "\t\tcategory_counts[category] += count\n",
    "\n",
    "category_counts"
   ]
  },
  {
   "cell_type": "code",
   "execution_count": 14,
   "id": "dcd3c91b-fb99-4b49-998b-14cc1f096843",
   "metadata": {
    "tags": []
   },
   "outputs": [],
   "source": [
    "# Convert the labels given the emotion_categories mapping\n",
    "df['emotions'] = df['emotions'].apply(lambda x: emotion_to_category[emotion_index_to_label[x]])"
   ]
  },
  {
   "cell_type": "code",
   "execution_count": 15,
   "id": "2d0bc6ac-ed34-445c-b3ed-9d94696be247",
   "metadata": {
    "tags": []
   },
   "outputs": [
    {
     "data": {
      "text/plain": [
       "9"
      ]
     },
     "execution_count": 15,
     "metadata": {},
     "output_type": "execute_result"
    }
   ],
   "source": [
    "# count number of labels\n",
    "num_labels = len(category_counts)\n",
    "num_labels"
   ]
  },
  {
   "cell_type": "code",
   "execution_count": 16,
   "id": "16c70d3c-4c8f-4cec-81d7-157fb153df86",
   "metadata": {
    "tags": []
   },
   "outputs": [],
   "source": [
    "# Load the BERT tokenizer\n",
    "tokenizer = BertTokenizer.from_pretrained('bert-base-uncased')"
   ]
  },
  {
   "cell_type": "code",
   "execution_count": 17,
   "id": "7cafd409-aa11-4360-aa0a-2f7382cf5627",
   "metadata": {
    "tags": []
   },
   "outputs": [],
   "source": [
    "# Tokenize the input data\n",
    "df_encodings = tokenizer(df['text'].tolist(), truncation=True, padding=True, max_length= 50)"
   ]
  },
  {
   "cell_type": "code",
   "execution_count": 18,
   "id": "aaaa4526-9b4a-4ac7-a9bb-fcb2ec6083f3",
   "metadata": {
    "tags": []
   },
   "outputs": [
    {
     "data": {
      "text/html": [
       "<div>\n",
       "<style scoped>\n",
       "    .dataframe tbody tr th:only-of-type {\n",
       "        vertical-align: middle;\n",
       "    }\n",
       "\n",
       "    .dataframe tbody tr th {\n",
       "        vertical-align: top;\n",
       "    }\n",
       "\n",
       "    .dataframe thead th {\n",
       "        text-align: right;\n",
       "    }\n",
       "</style>\n",
       "<table border=\"1\" class=\"dataframe\">\n",
       "  <thead>\n",
       "    <tr style=\"text-align: right;\">\n",
       "      <th></th>\n",
       "      <th>input_ids</th>\n",
       "      <th>attention_mask</th>\n",
       "    </tr>\n",
       "  </thead>\n",
       "  <tbody>\n",
       "    <tr>\n",
       "      <th>0</th>\n",
       "      <td>[101, 2002, 3475, 1005, 1056, 2004, 2502, 1010...</td>\n",
       "      <td>[1, 1, 1, 1, 1, 1, 1, 1, 1, 1, 1, 1, 1, 1, 1, ...</td>\n",
       "    </tr>\n",
       "    <tr>\n",
       "      <th>1</th>\n",
       "      <td>[101, 2008, 1005, 1055, 23677, 2004, 2546, 102...</td>\n",
       "      <td>[1, 1, 1, 1, 1, 1, 1, 1, 0, 0, 0, 0, 0, 0, 0, ...</td>\n",
       "    </tr>\n",
       "    <tr>\n",
       "      <th>2</th>\n",
       "      <td>[101, 1045, 2031, 1010, 1998, 2085, 2008, 2017...</td>\n",
       "      <td>[1, 1, 1, 1, 1, 1, 1, 1, 1, 1, 1, 1, 1, 1, 1, ...</td>\n",
       "    </tr>\n",
       "    <tr>\n",
       "      <th>3</th>\n",
       "      <td>[101, 1045, 2359, 2000, 2091, 22994, 2063, 202...</td>\n",
       "      <td>[1, 1, 1, 1, 1, 1, 1, 1, 1, 1, 1, 1, 1, 1, 1, ...</td>\n",
       "    </tr>\n",
       "    <tr>\n",
       "      <th>4</th>\n",
       "      <td>[101, 3857, 1037, 2813, 1029, 1013, 1046, 2243...</td>\n",
       "      <td>[1, 1, 1, 1, 1, 1, 1, 1, 1, 0, 0, 0, 0, 0, 0, ...</td>\n",
       "    </tr>\n",
       "    <tr>\n",
       "      <th>...</th>\n",
       "      <td>...</td>\n",
       "      <td>...</td>\n",
       "    </tr>\n",
       "    <tr>\n",
       "      <th>54258</th>\n",
       "      <td>[101, 1031, 2171, 1033, 1012, 2054, 1037, 2051...</td>\n",
       "      <td>[1, 1, 1, 1, 1, 1, 1, 1, 1, 1, 1, 1, 1, 0, 0, ...</td>\n",
       "    </tr>\n",
       "    <tr>\n",
       "      <th>54259</th>\n",
       "      <td>[101, 2085, 2057, 1521, 2128, 10261, 2331, 200...</td>\n",
       "      <td>[1, 1, 1, 1, 1, 1, 1, 1, 1, 1, 1, 1, 1, 1, 1, ...</td>\n",
       "    </tr>\n",
       "    <tr>\n",
       "      <th>54260</th>\n",
       "      <td>[101, 11082, 2175, 13664, 3336, 102, 0, 0, 0, ...</td>\n",
       "      <td>[1, 1, 1, 1, 1, 1, 0, 0, 0, 0, 0, 0, 0, 0, 0, ...</td>\n",
       "    </tr>\n",
       "    <tr>\n",
       "      <th>54261</th>\n",
       "      <td>[101, 2002, 2170, 1031, 2171, 1033, 2000, 1996...</td>\n",
       "      <td>[1, 1, 1, 1, 1, 1, 1, 1, 1, 1, 1, 1, 1, 1, 1, ...</td>\n",
       "    </tr>\n",
       "    <tr>\n",
       "      <th>54262</th>\n",
       "      <td>[101, 4283, 1010, 1031, 2171, 1033, 102, 0, 0,...</td>\n",
       "      <td>[1, 1, 1, 1, 1, 1, 1, 0, 0, 0, 0, 0, 0, 0, 0, ...</td>\n",
       "    </tr>\n",
       "  </tbody>\n",
       "</table>\n",
       "<p>54263 rows × 2 columns</p>\n",
       "</div>"
      ],
      "text/plain": [
       "                                               input_ids  \\\n",
       "0      [101, 2002, 3475, 1005, 1056, 2004, 2502, 1010...   \n",
       "1      [101, 2008, 1005, 1055, 23677, 2004, 2546, 102...   \n",
       "2      [101, 1045, 2031, 1010, 1998, 2085, 2008, 2017...   \n",
       "3      [101, 1045, 2359, 2000, 2091, 22994, 2063, 202...   \n",
       "4      [101, 3857, 1037, 2813, 1029, 1013, 1046, 2243...   \n",
       "...                                                  ...   \n",
       "54258  [101, 1031, 2171, 1033, 1012, 2054, 1037, 2051...   \n",
       "54259  [101, 2085, 2057, 1521, 2128, 10261, 2331, 200...   \n",
       "54260  [101, 11082, 2175, 13664, 3336, 102, 0, 0, 0, ...   \n",
       "54261  [101, 2002, 2170, 1031, 2171, 1033, 2000, 1996...   \n",
       "54262  [101, 4283, 1010, 1031, 2171, 1033, 102, 0, 0,...   \n",
       "\n",
       "                                          attention_mask  \n",
       "0      [1, 1, 1, 1, 1, 1, 1, 1, 1, 1, 1, 1, 1, 1, 1, ...  \n",
       "1      [1, 1, 1, 1, 1, 1, 1, 1, 0, 0, 0, 0, 0, 0, 0, ...  \n",
       "2      [1, 1, 1, 1, 1, 1, 1, 1, 1, 1, 1, 1, 1, 1, 1, ...  \n",
       "3      [1, 1, 1, 1, 1, 1, 1, 1, 1, 1, 1, 1, 1, 1, 1, ...  \n",
       "4      [1, 1, 1, 1, 1, 1, 1, 1, 1, 0, 0, 0, 0, 0, 0, ...  \n",
       "...                                                  ...  \n",
       "54258  [1, 1, 1, 1, 1, 1, 1, 1, 1, 1, 1, 1, 1, 0, 0, ...  \n",
       "54259  [1, 1, 1, 1, 1, 1, 1, 1, 1, 1, 1, 1, 1, 1, 1, ...  \n",
       "54260  [1, 1, 1, 1, 1, 1, 0, 0, 0, 0, 0, 0, 0, 0, 0, ...  \n",
       "54261  [1, 1, 1, 1, 1, 1, 1, 1, 1, 1, 1, 1, 1, 1, 1, ...  \n",
       "54262  [1, 1, 1, 1, 1, 1, 1, 0, 0, 0, 0, 0, 0, 0, 0, ...  \n",
       "\n",
       "[54263 rows x 2 columns]"
      ]
     },
     "execution_count": 18,
     "metadata": {},
     "output_type": "execute_result"
    }
   ],
   "source": [
    "# Convert input_ids and attention_mask to lists\n",
    "input_ids = df_encodings['input_ids']\n",
    "attention_masks = df_encodings['attention_mask']\n",
    "# Create a DataFrame\n",
    "df_encoded = pd.DataFrame({\n",
    "    'input_ids': input_ids,\n",
    "    'attention_mask': attention_masks\n",
    "})\n",
    "# Display the DataFrame\n",
    "df_encoded"
   ]
  },
  {
   "cell_type": "code",
   "execution_count": 41,
   "id": "d1b6862f-37b8-4281-af27-1cc341ed83a0",
   "metadata": {
    "tags": []
   },
   "outputs": [],
   "source": [
    "df_encoded['emotions'] = df['emotions']\n",
    "df_encoded['text'] = df['text']\n",
    "df_encoded['id'] = df['id']"
   ]
  },
  {
   "cell_type": "code",
   "execution_count": 42,
   "id": "d902de98-822f-43d0-b464-af950411c002",
   "metadata": {
    "tags": []
   },
   "outputs": [
    {
     "data": {
      "text/html": [
       "<div>\n",
       "<style scoped>\n",
       "    .dataframe tbody tr th:only-of-type {\n",
       "        vertical-align: middle;\n",
       "    }\n",
       "\n",
       "    .dataframe tbody tr th {\n",
       "        vertical-align: top;\n",
       "    }\n",
       "\n",
       "    .dataframe thead th {\n",
       "        text-align: right;\n",
       "    }\n",
       "</style>\n",
       "<table border=\"1\" class=\"dataframe\">\n",
       "  <thead>\n",
       "    <tr style=\"text-align: right;\">\n",
       "      <th></th>\n",
       "      <th>input_ids</th>\n",
       "      <th>attention_mask</th>\n",
       "      <th>emotions</th>\n",
       "      <th>text</th>\n",
       "      <th>EventTime</th>\n",
       "      <th>id</th>\n",
       "    </tr>\n",
       "  </thead>\n",
       "  <tbody>\n",
       "    <tr>\n",
       "      <th>0</th>\n",
       "      <td>[101, 2002, 3475, 1005, 1056, 2004, 2502, 1010...</td>\n",
       "      <td>[1, 1, 1, 1, 1, 1, 1, 1, 1, 1, 1, 1, 1, 1, 1, ...</td>\n",
       "      <td>affectionate</td>\n",
       "      <td>He isn't as big, but he's still quite popular....</td>\n",
       "      <td>1.707786e+09</td>\n",
       "      <td>eczuekb</td>\n",
       "    </tr>\n",
       "    <tr>\n",
       "      <th>1</th>\n",
       "      <td>[101, 2008, 1005, 1055, 23677, 2004, 2546, 102...</td>\n",
       "      <td>[1, 1, 1, 1, 1, 1, 1, 1, 0, 0, 0, 0, 0, 0, 0, ...</td>\n",
       "      <td>affectionate</td>\n",
       "      <td>that's adorable asf</td>\n",
       "      <td>1.707786e+09</td>\n",
       "      <td>ef961hv</td>\n",
       "    </tr>\n",
       "    <tr>\n",
       "      <th>2</th>\n",
       "      <td>[101, 1045, 2031, 1010, 1998, 2085, 2008, 2017...</td>\n",
       "      <td>[1, 1, 1, 1, 1, 1, 1, 1, 1, 1, 1, 1, 1, 1, 1, ...</td>\n",
       "      <td>neutral</td>\n",
       "      <td>I have, and now that you mention it, I think t...</td>\n",
       "      <td>1.707786e+09</td>\n",
       "      <td>ed9w1hm</td>\n",
       "    </tr>\n",
       "    <tr>\n",
       "      <th>3</th>\n",
       "      <td>[101, 1045, 2359, 2000, 2091, 22994, 2063, 202...</td>\n",
       "      <td>[1, 1, 1, 1, 1, 1, 1, 1, 1, 1, 1, 1, 1, 1, 1, ...</td>\n",
       "      <td>neutral</td>\n",
       "      <td>I wanted to downvote this, but it's not your f...</td>\n",
       "      <td>1.707786e+09</td>\n",
       "      <td>ee52cjs</td>\n",
       "    </tr>\n",
       "    <tr>\n",
       "      <th>4</th>\n",
       "      <td>[101, 3857, 1037, 2813, 1029, 1013, 1046, 2243...</td>\n",
       "      <td>[1, 1, 1, 1, 1, 1, 1, 1, 1, 0, 0, 0, 0, 0, 0, ...</td>\n",
       "      <td>neutral</td>\n",
       "      <td>Build a wall? /jk</td>\n",
       "      <td>1.707786e+09</td>\n",
       "      <td>edsqvyx</td>\n",
       "    </tr>\n",
       "  </tbody>\n",
       "</table>\n",
       "</div>"
      ],
      "text/plain": [
       "                                           input_ids  \\\n",
       "0  [101, 2002, 3475, 1005, 1056, 2004, 2502, 1010...   \n",
       "1  [101, 2008, 1005, 1055, 23677, 2004, 2546, 102...   \n",
       "2  [101, 1045, 2031, 1010, 1998, 2085, 2008, 2017...   \n",
       "3  [101, 1045, 2359, 2000, 2091, 22994, 2063, 202...   \n",
       "4  [101, 3857, 1037, 2813, 1029, 1013, 1046, 2243...   \n",
       "\n",
       "                                      attention_mask      emotions  \\\n",
       "0  [1, 1, 1, 1, 1, 1, 1, 1, 1, 1, 1, 1, 1, 1, 1, ...  affectionate   \n",
       "1  [1, 1, 1, 1, 1, 1, 1, 1, 0, 0, 0, 0, 0, 0, 0, ...  affectionate   \n",
       "2  [1, 1, 1, 1, 1, 1, 1, 1, 1, 1, 1, 1, 1, 1, 1, ...       neutral   \n",
       "3  [1, 1, 1, 1, 1, 1, 1, 1, 1, 1, 1, 1, 1, 1, 1, ...       neutral   \n",
       "4  [1, 1, 1, 1, 1, 1, 1, 1, 1, 0, 0, 0, 0, 0, 0, ...       neutral   \n",
       "\n",
       "                                                text     EventTime       id  \n",
       "0  He isn't as big, but he's still quite popular....  1.707786e+09  eczuekb  \n",
       "1                                that's adorable asf  1.707786e+09  ef961hv  \n",
       "2  I have, and now that you mention it, I think t...  1.707786e+09  ed9w1hm  \n",
       "3  I wanted to downvote this, but it's not your f...  1.707786e+09  ee52cjs  \n",
       "4                                  Build a wall? /jk  1.707786e+09  edsqvyx  "
      ]
     },
     "execution_count": 42,
     "metadata": {},
     "output_type": "execute_result"
    }
   ],
   "source": [
    "df_encoded.head()"
   ]
  },
  {
   "cell_type": "code",
   "execution_count": 43,
   "id": "f19e6851-af82-4b4a-bb1b-3ba53dc4e0bb",
   "metadata": {
    "tags": []
   },
   "outputs": [
    {
     "data": {
      "text/html": [
       "<div>\n",
       "<style scoped>\n",
       "    .dataframe tbody tr th:only-of-type {\n",
       "        vertical-align: middle;\n",
       "    }\n",
       "\n",
       "    .dataframe tbody tr th {\n",
       "        vertical-align: top;\n",
       "    }\n",
       "\n",
       "    .dataframe thead th {\n",
       "        text-align: right;\n",
       "    }\n",
       "</style>\n",
       "<table border=\"1\" class=\"dataframe\">\n",
       "  <thead>\n",
       "    <tr style=\"text-align: right;\">\n",
       "      <th></th>\n",
       "      <th>input_ids</th>\n",
       "      <th>attention_mask</th>\n",
       "      <th>emotions</th>\n",
       "      <th>text</th>\n",
       "      <th>EventTime</th>\n",
       "      <th>id</th>\n",
       "      <th>data_type</th>\n",
       "    </tr>\n",
       "  </thead>\n",
       "  <tbody>\n",
       "    <tr>\n",
       "      <th>0</th>\n",
       "      <td>[101, 2464, 2004, 2775, 6905, 1999, 2070, 3182...</td>\n",
       "      <td>[1, 1, 1, 1, 1, 1, 1, 1, 1, 1, 1, 1, 1, 1, 1, ...</td>\n",
       "      <td>anger</td>\n",
       "      <td>Seen as Child abuse in some places. Not illega...</td>\n",
       "      <td>1.707786e+09</td>\n",
       "      <td>ee3gbt3</td>\n",
       "      <td>train</td>\n",
       "    </tr>\n",
       "    <tr>\n",
       "      <th>1</th>\n",
       "      <td>[101, 8840, 2140, 2012, 2023, 3160, 999, 2065,...</td>\n",
       "      <td>[1, 1, 1, 1, 1, 1, 1, 1, 1, 1, 1, 1, 1, 1, 1, ...</td>\n",
       "      <td>happy</td>\n",
       "      <td>LOL at this question! If he follows the sub......</td>\n",
       "      <td>1.707786e+09</td>\n",
       "      <td>ed4qqzj</td>\n",
       "      <td>train</td>\n",
       "    </tr>\n",
       "    <tr>\n",
       "      <th>2</th>\n",
       "      <td>[101, 2104, 11657, 1024, 2104, 4355, 21499, 19...</td>\n",
       "      <td>[1, 1, 1, 1, 1, 1, 1, 1, 1, 1, 1, 1, 1, 1, 1, ...</td>\n",
       "      <td>neutral</td>\n",
       "      <td>Underrate: underestimate the extent, value, or...</td>\n",
       "      <td>1.707786e+09</td>\n",
       "      <td>eewq2do</td>\n",
       "      <td>train</td>\n",
       "    </tr>\n",
       "    <tr>\n",
       "      <th>3</th>\n",
       "      <td>[101, 2197, 2724, 2253, 2092, 1010, 2871, 1009...</td>\n",
       "      <td>[1, 1, 1, 1, 1, 1, 1, 1, 1, 1, 1, 1, 1, 1, 1, ...</td>\n",
       "      <td>surprise</td>\n",
       "      <td>Last event went well, 40+ signups. Looking for...</td>\n",
       "      <td>1.707786e+09</td>\n",
       "      <td>edutjm3</td>\n",
       "      <td>train</td>\n",
       "    </tr>\n",
       "    <tr>\n",
       "      <th>4</th>\n",
       "      <td>[101, 1045, 3246, 2017, 1998, 2115, 2128, 7559...</td>\n",
       "      <td>[1, 1, 1, 1, 1, 1, 1, 1, 1, 1, 1, 1, 1, 1, 1, ...</td>\n",
       "      <td>optimistic</td>\n",
       "      <td>I hope you and your retarded phone have a nice...</td>\n",
       "      <td>1.707786e+09</td>\n",
       "      <td>ee7xsxe</td>\n",
       "      <td>train</td>\n",
       "    </tr>\n",
       "  </tbody>\n",
       "</table>\n",
       "</div>"
      ],
      "text/plain": [
       "                                           input_ids  \\\n",
       "0  [101, 2464, 2004, 2775, 6905, 1999, 2070, 3182...   \n",
       "1  [101, 8840, 2140, 2012, 2023, 3160, 999, 2065,...   \n",
       "2  [101, 2104, 11657, 1024, 2104, 4355, 21499, 19...   \n",
       "3  [101, 2197, 2724, 2253, 2092, 1010, 2871, 1009...   \n",
       "4  [101, 1045, 3246, 2017, 1998, 2115, 2128, 7559...   \n",
       "\n",
       "                                      attention_mask    emotions  \\\n",
       "0  [1, 1, 1, 1, 1, 1, 1, 1, 1, 1, 1, 1, 1, 1, 1, ...       anger   \n",
       "1  [1, 1, 1, 1, 1, 1, 1, 1, 1, 1, 1, 1, 1, 1, 1, ...       happy   \n",
       "2  [1, 1, 1, 1, 1, 1, 1, 1, 1, 1, 1, 1, 1, 1, 1, ...     neutral   \n",
       "3  [1, 1, 1, 1, 1, 1, 1, 1, 1, 1, 1, 1, 1, 1, 1, ...    surprise   \n",
       "4  [1, 1, 1, 1, 1, 1, 1, 1, 1, 1, 1, 1, 1, 1, 1, ...  optimistic   \n",
       "\n",
       "                                                text     EventTime       id  \\\n",
       "0  Seen as Child abuse in some places. Not illega...  1.707786e+09  ee3gbt3   \n",
       "1  LOL at this question! If he follows the sub......  1.707786e+09  ed4qqzj   \n",
       "2  Underrate: underestimate the extent, value, or...  1.707786e+09  eewq2do   \n",
       "3  Last event went well, 40+ signups. Looking for...  1.707786e+09  edutjm3   \n",
       "4  I hope you and your retarded phone have a nice...  1.707786e+09  ee7xsxe   \n",
       "\n",
       "  data_type  \n",
       "0     train  \n",
       "1     train  \n",
       "2     train  \n",
       "3     train  \n",
       "4     train  "
      ]
     },
     "execution_count": 43,
     "metadata": {},
     "output_type": "execute_result"
    }
   ],
   "source": [
    "# Split the dataset into training and test sets initially\n",
    "df_train, df_test = train_test_split(df_encoded, test_size=0.1, random_state=42)\n",
    "\n",
    "# Split the training set further into training and validation sets\n",
    "df_train, df_val = train_test_split(df_train, test_size=0.125, random_state=42)\n",
    "\n",
    "df_train['data_type'] = 'train'\n",
    "df_val['data_type'] = 'val'\n",
    "df_test['data_type'] = 'test'\n",
    "\n",
    "df_combined = pd.concat([df_train, df_val, df_test])\n",
    "df_combined = df_combined.sample(frac=1, random_state=42).reset_index(drop=True)\n",
    "\n",
    "df_combined.head()"
   ]
  },
  {
   "cell_type": "code",
   "execution_count": 44,
   "id": "426d2a4a-0394-4dc4-a491-bb8d0c06359b",
   "metadata": {
    "tags": []
   },
   "outputs": [],
   "source": [
    "emotion_feature_group_name = \"emotion-feature-group-\" + strftime(\"%d-%H-%M-%S\", gmtime())"
   ]
  },
  {
   "cell_type": "code",
   "execution_count": 45,
   "id": "a4a33280-18e8-43a2-a700-ae5f3e23e982",
   "metadata": {
    "tags": []
   },
   "outputs": [],
   "source": [
    "emotion_feature_group = FeatureGroup(\n",
    "    name=emotion_feature_group_name, sagemaker_session=feature_store_session\n",
    ")"
   ]
  },
  {
   "cell_type": "code",
   "execution_count": 46,
   "id": "df910a07-9902-44d0-a0af-1a741db9ba1c",
   "metadata": {
    "tags": []
   },
   "outputs": [
    {
     "data": {
      "text/plain": [
       "[FeatureDefinition(feature_name='input_ids', feature_type=<FeatureTypeEnum.STRING: 'String'>),\n",
       " FeatureDefinition(feature_name='attention_mask', feature_type=<FeatureTypeEnum.STRING: 'String'>),\n",
       " FeatureDefinition(feature_name='emotions', feature_type=<FeatureTypeEnum.STRING: 'String'>),\n",
       " FeatureDefinition(feature_name='text', feature_type=<FeatureTypeEnum.STRING: 'String'>),\n",
       " FeatureDefinition(feature_name='EventTime', feature_type=<FeatureTypeEnum.FRACTIONAL: 'Fractional'>),\n",
       " FeatureDefinition(feature_name='id', feature_type=<FeatureTypeEnum.STRING: 'String'>),\n",
       " FeatureDefinition(feature_name='data_type', feature_type=<FeatureTypeEnum.STRING: 'String'>)]"
      ]
     },
     "execution_count": 46,
     "metadata": {},
     "output_type": "execute_result"
    }
   ],
   "source": [
    "current_time_sec = int(round(time.time()))\n",
    "\n",
    "\n",
    "def cast_object_to_string(data_frame):\n",
    "    for label in data_frame.columns:\n",
    "        if data_frame.dtypes[label] == \"object\":\n",
    "            data_frame[label] = data_frame[label].astype(\"str\").astype(\"string\")\n",
    "\n",
    "\n",
    "# cast object dtype to string. The SageMaker FeatureStore Python SDK will then map the string dtype to String feature type.\n",
    "cast_object_to_string(df_combined)\n",
    "\n",
    "# record identifier and event time feature names\n",
    "record_identifier_feature_name = \"id\"\n",
    "event_time_feature_name = \"EventTime\"\n",
    "\n",
    "# append EventTime feature\n",
    "df_combined[event_time_feature_name] = pd.Series(\n",
    "    [current_time_sec] * len(df_combined), dtype=\"float64\"\n",
    ")\n",
    "\n",
    "# load feature definitions to the feature group. SageMaker FeatureStore Python SDK will auto-detect the data schema based on input data.\n",
    "emotion_feature_group.load_feature_definitions(data_frame=df_combined)"
   ]
  },
  {
   "cell_type": "code",
   "execution_count": 47,
   "id": "24dc590e-748c-4353-8f29-0e1e16c4c047",
   "metadata": {
    "tags": []
   },
   "outputs": [
    {
     "name": "stdout",
     "output_type": "stream",
     "text": [
      "Waiting for Feature Group Creation\n",
      "Waiting for Feature Group Creation\n",
      "Waiting for Feature Group Creation\n",
      "Waiting for Feature Group Creation\n",
      "FeatureGroup emotion-feature-group-13-03-13-24 successfully created.\n"
     ]
    }
   ],
   "source": [
    "def wait_for_feature_group_creation_complete(feature_group):\n",
    "    status = feature_group.describe().get(\"FeatureGroupStatus\")\n",
    "    while status == \"Creating\":\n",
    "        print(\"Waiting for Feature Group Creation\")\n",
    "        time.sleep(5)\n",
    "        status = feature_group.describe().get(\"FeatureGroupStatus\")\n",
    "    if status != \"Created\":\n",
    "        raise RuntimeError(f\"Failed to create feature group {feature_group.name}\")\n",
    "    print(f\"FeatureGroup {feature_group.name} successfully created.\")\n",
    "\n",
    "\n",
    "emotion_feature_group.create(\n",
    "    s3_uri=f\"s3://{bucket_name}/{prefix}\",\n",
    "    record_identifier_name=record_identifier_feature_name,\n",
    "    event_time_feature_name=event_time_feature_name,\n",
    "    role_arn=role,\n",
    "    enable_online_store=True,\n",
    ")\n",
    "\n",
    "wait_for_feature_group_creation_complete(feature_group=emotion_feature_group)"
   ]
  },
  {
   "cell_type": "code",
   "execution_count": 48,
   "id": "8757dd17-f926-4a03-aa09-3ac120a4d330",
   "metadata": {
    "tags": []
   },
   "outputs": [
    {
     "data": {
      "text/plain": [
       "{'FeatureGroupArn': 'arn:aws:sagemaker:us-west-2:542526735114:feature-group/emotion-feature-group-13-03-13-24',\n",
       " 'FeatureGroupName': 'emotion-feature-group-13-03-13-24',\n",
       " 'RecordIdentifierFeatureName': 'id',\n",
       " 'EventTimeFeatureName': 'EventTime',\n",
       " 'FeatureDefinitions': [{'FeatureName': 'input_ids', 'FeatureType': 'String'},\n",
       "  {'FeatureName': 'attention_mask', 'FeatureType': 'String'},\n",
       "  {'FeatureName': 'emotions', 'FeatureType': 'String'},\n",
       "  {'FeatureName': 'text', 'FeatureType': 'String'},\n",
       "  {'FeatureName': 'EventTime', 'FeatureType': 'Fractional'},\n",
       "  {'FeatureName': 'id', 'FeatureType': 'String'},\n",
       "  {'FeatureName': 'data_type', 'FeatureType': 'String'}],\n",
       " 'CreationTime': datetime.datetime(2024, 2, 13, 3, 13, 48, 411000, tzinfo=tzlocal()),\n",
       " 'OnlineStoreConfig': {'EnableOnlineStore': True},\n",
       " 'OfflineStoreConfig': {'S3StorageConfig': {'S3Uri': 's3://aai-540-final-data/sagemaker-featurestore-GOEmotions',\n",
       "   'ResolvedOutputS3Uri': 's3://aai-540-final-data/sagemaker-featurestore-GOEmotions/542526735114/sagemaker/us-west-2/offline-store/emotion-feature-group-13-03-13-24-1707794028/data'},\n",
       "  'DisableGlueTableCreation': False,\n",
       "  'DataCatalogConfig': {'TableName': 'emotion_feature_group_13_03_13_24_1707794028',\n",
       "   'Catalog': 'AwsDataCatalog',\n",
       "   'Database': 'sagemaker_featurestore'}},\n",
       " 'RoleArn': 'arn:aws:iam::542526735114:role/LabRole',\n",
       " 'FeatureGroupStatus': 'Created',\n",
       " 'OnlineStoreTotalSizeBytes': 0,\n",
       " 'ResponseMetadata': {'RequestId': '2178c65f-5e05-4b8a-8fda-5cdf77855dcf',\n",
       "  'HTTPStatusCode': 200,\n",
       "  'HTTPHeaders': {'x-amzn-requestid': '2178c65f-5e05-4b8a-8fda-5cdf77855dcf',\n",
       "   'content-type': 'application/x-amz-json-1.1',\n",
       "   'content-length': '1773',\n",
       "   'date': 'Tue, 13 Feb 2024 03:14:24 GMT'},\n",
       "  'RetryAttempts': 0}}"
      ]
     },
     "execution_count": 48,
     "metadata": {},
     "output_type": "execute_result"
    }
   ],
   "source": [
    "emotion_feature_group.describe()"
   ]
  },
  {
   "cell_type": "code",
   "execution_count": 49,
   "id": "de6bfb4a-2ce5-4f97-ac2c-c8f4cde89145",
   "metadata": {
    "tags": []
   },
   "outputs": [
    {
     "data": {
      "text/plain": [
       "{'FeatureGroupSummaries': [{'FeatureGroupName': 'neighborhood-feature-group',\n",
       "   'FeatureGroupArn': 'arn:aws:sagemaker:us-west-2:542526735114:feature-group/neighborhood-feature-group',\n",
       "   'CreationTime': datetime.datetime(2024, 1, 30, 3, 43, 51, 828000, tzinfo=tzlocal()),\n",
       "   'FeatureGroupStatus': 'Created',\n",
       "   'OfflineStoreStatus': {'Status': 'Active'}},\n",
       "  {'FeatureGroupName': 'emotion-feature-group-13-03-13-24',\n",
       "   'FeatureGroupArn': 'arn:aws:sagemaker:us-west-2:542526735114:feature-group/emotion-feature-group-13-03-13-24',\n",
       "   'CreationTime': datetime.datetime(2024, 2, 13, 3, 13, 48, 411000, tzinfo=tzlocal()),\n",
       "   'FeatureGroupStatus': 'Created'},\n",
       "  {'FeatureGroupName': 'emotion-feature-group-13-00-59-24',\n",
       "   'FeatureGroupArn': 'arn:aws:sagemaker:us-west-2:542526735114:feature-group/emotion-feature-group-13-00-59-24',\n",
       "   'CreationTime': datetime.datetime(2024, 2, 13, 1, 2, 14, 652000, tzinfo=tzlocal()),\n",
       "   'FeatureGroupStatus': 'Created',\n",
       "   'OfflineStoreStatus': {'Status': 'Active'}},\n",
       "  {'FeatureGroupName': 'emotion-feature-group-03-21-57-31',\n",
       "   'FeatureGroupArn': 'arn:aws:sagemaker:us-west-2:542526735114:feature-group/emotion-feature-group-03-21-57-31',\n",
       "   'CreationTime': datetime.datetime(2024, 2, 3, 21, 57, 39, 293000, tzinfo=tzlocal()),\n",
       "   'FeatureGroupStatus': 'Created',\n",
       "   'OfflineStoreStatus': {'Status': 'Active'}}],\n",
       " 'ResponseMetadata': {'RequestId': '69e8852b-7c07-461e-a778-d780e4c42de8',\n",
       "  'HTTPStatusCode': 200,\n",
       "  'HTTPHeaders': {'x-amzn-requestid': '69e8852b-7c07-461e-a778-d780e4c42de8',\n",
       "   'content-type': 'application/x-amz-json-1.1',\n",
       "   'content-length': '1052',\n",
       "   'date': 'Tue, 13 Feb 2024 03:14:30 GMT'},\n",
       "  'RetryAttempts': 0}}"
      ]
     },
     "execution_count": 49,
     "metadata": {},
     "output_type": "execute_result"
    }
   ],
   "source": [
    "sagemaker_client.list_feature_groups()"
   ]
  },
  {
   "cell_type": "code",
   "execution_count": 50,
   "id": "8e5fb9b3-d91b-446e-8769-23f973930bc7",
   "metadata": {
    "tags": []
   },
   "outputs": [
    {
     "data": {
      "text/plain": [
       "IngestionManagerPandas(feature_group_name='emotion-feature-group-13-03-13-24', sagemaker_fs_runtime_client_config=<botocore.config.Config object at 0x7fc1b306b8b0>, max_workers=3, max_processes=1, profile_name=None, _async_result=<multiprocess.pool.MapResult object at 0x7fc1a64bf220>, _processing_pool=<pool ProcessPool(ncpus=1)>, _failed_indices=[])"
      ]
     },
     "execution_count": 50,
     "metadata": {},
     "output_type": "execute_result"
    }
   ],
   "source": [
    "emotion_feature_group.ingest(data_frame=df_combined, max_workers=3, wait=True)"
   ]
  },
  {
   "cell_type": "code",
   "execution_count": 51,
   "id": "8ad73d81-e4b0-4554-bfe2-cb8df52ce621",
   "metadata": {},
   "outputs": [
    {
     "name": "stdout",
     "output_type": "stream",
     "text": [
      "542526735114\n",
      "Data available.\n"
     ]
    }
   ],
   "source": [
    "account_id = boto3.client(\"sts\").get_caller_identity()[\"Account\"]\n",
    "print(account_id)\n",
    "\n",
    "emotion_feature_group_resolved_output_s3_uri = (\n",
    "    emotion_feature_group.describe()\n",
    "    .get(\"OfflineStoreConfig\")\n",
    "    .get(\"S3StorageConfig\")\n",
    "    .get(\"ResolvedOutputS3Uri\")\n",
    ")\n",
    "\n",
    "\n",
    "emotion_feature_group_s3_prefix = emotion_feature_group_resolved_output_s3_uri.replace(\n",
    "    f\"s3://{bucket_name}/\", \"\"\n",
    ")\n",
    "\n",
    "\n",
    "offline_store_contents = None\n",
    "while offline_store_contents is None:\n",
    "    objects_in_bucket = s3.list_objects(\n",
    "        Bucket=bucket_name, Prefix=emotion_feature_group_s3_prefix\n",
    "    )\n",
    "    if \"Contents\" in objects_in_bucket and len(objects_in_bucket[\"Contents\"]) > 1:\n",
    "        offline_store_contents = objects_in_bucket[\"Contents\"]\n",
    "    else:\n",
    "        print(\"Waiting for data in offline store...\\n\")\n",
    "        sleep(60)\n",
    "\n",
    "print(\"Data available.\")"
   ]
  },
  {
   "cell_type": "code",
   "execution_count": null,
   "id": "6e3021ce-10d8-4e44-b268-92720b171b94",
   "metadata": {},
   "outputs": [],
   "source": []
  }
 ],
 "metadata": {
  "availableInstances": [
   {
    "_defaultOrder": 0,
    "_isFastLaunch": true,
    "category": "General purpose",
    "gpuNum": 0,
    "hideHardwareSpecs": false,
    "memoryGiB": 4,
    "name": "ml.t3.medium",
    "vcpuNum": 2
   },
   {
    "_defaultOrder": 1,
    "_isFastLaunch": false,
    "category": "General purpose",
    "gpuNum": 0,
    "hideHardwareSpecs": false,
    "memoryGiB": 8,
    "name": "ml.t3.large",
    "vcpuNum": 2
   },
   {
    "_defaultOrder": 2,
    "_isFastLaunch": false,
    "category": "General purpose",
    "gpuNum": 0,
    "hideHardwareSpecs": false,
    "memoryGiB": 16,
    "name": "ml.t3.xlarge",
    "vcpuNum": 4
   },
   {
    "_defaultOrder": 3,
    "_isFastLaunch": false,
    "category": "General purpose",
    "gpuNum": 0,
    "hideHardwareSpecs": false,
    "memoryGiB": 32,
    "name": "ml.t3.2xlarge",
    "vcpuNum": 8
   },
   {
    "_defaultOrder": 4,
    "_isFastLaunch": true,
    "category": "General purpose",
    "gpuNum": 0,
    "hideHardwareSpecs": false,
    "memoryGiB": 8,
    "name": "ml.m5.large",
    "vcpuNum": 2
   },
   {
    "_defaultOrder": 5,
    "_isFastLaunch": false,
    "category": "General purpose",
    "gpuNum": 0,
    "hideHardwareSpecs": false,
    "memoryGiB": 16,
    "name": "ml.m5.xlarge",
    "vcpuNum": 4
   },
   {
    "_defaultOrder": 6,
    "_isFastLaunch": false,
    "category": "General purpose",
    "gpuNum": 0,
    "hideHardwareSpecs": false,
    "memoryGiB": 32,
    "name": "ml.m5.2xlarge",
    "vcpuNum": 8
   },
   {
    "_defaultOrder": 7,
    "_isFastLaunch": false,
    "category": "General purpose",
    "gpuNum": 0,
    "hideHardwareSpecs": false,
    "memoryGiB": 64,
    "name": "ml.m5.4xlarge",
    "vcpuNum": 16
   },
   {
    "_defaultOrder": 8,
    "_isFastLaunch": false,
    "category": "General purpose",
    "gpuNum": 0,
    "hideHardwareSpecs": false,
    "memoryGiB": 128,
    "name": "ml.m5.8xlarge",
    "vcpuNum": 32
   },
   {
    "_defaultOrder": 9,
    "_isFastLaunch": false,
    "category": "General purpose",
    "gpuNum": 0,
    "hideHardwareSpecs": false,
    "memoryGiB": 192,
    "name": "ml.m5.12xlarge",
    "vcpuNum": 48
   },
   {
    "_defaultOrder": 10,
    "_isFastLaunch": false,
    "category": "General purpose",
    "gpuNum": 0,
    "hideHardwareSpecs": false,
    "memoryGiB": 256,
    "name": "ml.m5.16xlarge",
    "vcpuNum": 64
   },
   {
    "_defaultOrder": 11,
    "_isFastLaunch": false,
    "category": "General purpose",
    "gpuNum": 0,
    "hideHardwareSpecs": false,
    "memoryGiB": 384,
    "name": "ml.m5.24xlarge",
    "vcpuNum": 96
   },
   {
    "_defaultOrder": 12,
    "_isFastLaunch": false,
    "category": "General purpose",
    "gpuNum": 0,
    "hideHardwareSpecs": false,
    "memoryGiB": 8,
    "name": "ml.m5d.large",
    "vcpuNum": 2
   },
   {
    "_defaultOrder": 13,
    "_isFastLaunch": false,
    "category": "General purpose",
    "gpuNum": 0,
    "hideHardwareSpecs": false,
    "memoryGiB": 16,
    "name": "ml.m5d.xlarge",
    "vcpuNum": 4
   },
   {
    "_defaultOrder": 14,
    "_isFastLaunch": false,
    "category": "General purpose",
    "gpuNum": 0,
    "hideHardwareSpecs": false,
    "memoryGiB": 32,
    "name": "ml.m5d.2xlarge",
    "vcpuNum": 8
   },
   {
    "_defaultOrder": 15,
    "_isFastLaunch": false,
    "category": "General purpose",
    "gpuNum": 0,
    "hideHardwareSpecs": false,
    "memoryGiB": 64,
    "name": "ml.m5d.4xlarge",
    "vcpuNum": 16
   },
   {
    "_defaultOrder": 16,
    "_isFastLaunch": false,
    "category": "General purpose",
    "gpuNum": 0,
    "hideHardwareSpecs": false,
    "memoryGiB": 128,
    "name": "ml.m5d.8xlarge",
    "vcpuNum": 32
   },
   {
    "_defaultOrder": 17,
    "_isFastLaunch": false,
    "category": "General purpose",
    "gpuNum": 0,
    "hideHardwareSpecs": false,
    "memoryGiB": 192,
    "name": "ml.m5d.12xlarge",
    "vcpuNum": 48
   },
   {
    "_defaultOrder": 18,
    "_isFastLaunch": false,
    "category": "General purpose",
    "gpuNum": 0,
    "hideHardwareSpecs": false,
    "memoryGiB": 256,
    "name": "ml.m5d.16xlarge",
    "vcpuNum": 64
   },
   {
    "_defaultOrder": 19,
    "_isFastLaunch": false,
    "category": "General purpose",
    "gpuNum": 0,
    "hideHardwareSpecs": false,
    "memoryGiB": 384,
    "name": "ml.m5d.24xlarge",
    "vcpuNum": 96
   },
   {
    "_defaultOrder": 20,
    "_isFastLaunch": false,
    "category": "General purpose",
    "gpuNum": 0,
    "hideHardwareSpecs": true,
    "memoryGiB": 0,
    "name": "ml.geospatial.interactive",
    "supportedImageNames": [
     "sagemaker-geospatial-v1-0"
    ],
    "vcpuNum": 0
   },
   {
    "_defaultOrder": 21,
    "_isFastLaunch": true,
    "category": "Compute optimized",
    "gpuNum": 0,
    "hideHardwareSpecs": false,
    "memoryGiB": 4,
    "name": "ml.c5.large",
    "vcpuNum": 2
   },
   {
    "_defaultOrder": 22,
    "_isFastLaunch": false,
    "category": "Compute optimized",
    "gpuNum": 0,
    "hideHardwareSpecs": false,
    "memoryGiB": 8,
    "name": "ml.c5.xlarge",
    "vcpuNum": 4
   },
   {
    "_defaultOrder": 23,
    "_isFastLaunch": false,
    "category": "Compute optimized",
    "gpuNum": 0,
    "hideHardwareSpecs": false,
    "memoryGiB": 16,
    "name": "ml.c5.2xlarge",
    "vcpuNum": 8
   },
   {
    "_defaultOrder": 24,
    "_isFastLaunch": false,
    "category": "Compute optimized",
    "gpuNum": 0,
    "hideHardwareSpecs": false,
    "memoryGiB": 32,
    "name": "ml.c5.4xlarge",
    "vcpuNum": 16
   },
   {
    "_defaultOrder": 25,
    "_isFastLaunch": false,
    "category": "Compute optimized",
    "gpuNum": 0,
    "hideHardwareSpecs": false,
    "memoryGiB": 72,
    "name": "ml.c5.9xlarge",
    "vcpuNum": 36
   },
   {
    "_defaultOrder": 26,
    "_isFastLaunch": false,
    "category": "Compute optimized",
    "gpuNum": 0,
    "hideHardwareSpecs": false,
    "memoryGiB": 96,
    "name": "ml.c5.12xlarge",
    "vcpuNum": 48
   },
   {
    "_defaultOrder": 27,
    "_isFastLaunch": false,
    "category": "Compute optimized",
    "gpuNum": 0,
    "hideHardwareSpecs": false,
    "memoryGiB": 144,
    "name": "ml.c5.18xlarge",
    "vcpuNum": 72
   },
   {
    "_defaultOrder": 28,
    "_isFastLaunch": false,
    "category": "Compute optimized",
    "gpuNum": 0,
    "hideHardwareSpecs": false,
    "memoryGiB": 192,
    "name": "ml.c5.24xlarge",
    "vcpuNum": 96
   },
   {
    "_defaultOrder": 29,
    "_isFastLaunch": true,
    "category": "Accelerated computing",
    "gpuNum": 1,
    "hideHardwareSpecs": false,
    "memoryGiB": 16,
    "name": "ml.g4dn.xlarge",
    "vcpuNum": 4
   },
   {
    "_defaultOrder": 30,
    "_isFastLaunch": false,
    "category": "Accelerated computing",
    "gpuNum": 1,
    "hideHardwareSpecs": false,
    "memoryGiB": 32,
    "name": "ml.g4dn.2xlarge",
    "vcpuNum": 8
   },
   {
    "_defaultOrder": 31,
    "_isFastLaunch": false,
    "category": "Accelerated computing",
    "gpuNum": 1,
    "hideHardwareSpecs": false,
    "memoryGiB": 64,
    "name": "ml.g4dn.4xlarge",
    "vcpuNum": 16
   },
   {
    "_defaultOrder": 32,
    "_isFastLaunch": false,
    "category": "Accelerated computing",
    "gpuNum": 1,
    "hideHardwareSpecs": false,
    "memoryGiB": 128,
    "name": "ml.g4dn.8xlarge",
    "vcpuNum": 32
   },
   {
    "_defaultOrder": 33,
    "_isFastLaunch": false,
    "category": "Accelerated computing",
    "gpuNum": 4,
    "hideHardwareSpecs": false,
    "memoryGiB": 192,
    "name": "ml.g4dn.12xlarge",
    "vcpuNum": 48
   },
   {
    "_defaultOrder": 34,
    "_isFastLaunch": false,
    "category": "Accelerated computing",
    "gpuNum": 1,
    "hideHardwareSpecs": false,
    "memoryGiB": 256,
    "name": "ml.g4dn.16xlarge",
    "vcpuNum": 64
   },
   {
    "_defaultOrder": 35,
    "_isFastLaunch": false,
    "category": "Accelerated computing",
    "gpuNum": 1,
    "hideHardwareSpecs": false,
    "memoryGiB": 61,
    "name": "ml.p3.2xlarge",
    "vcpuNum": 8
   },
   {
    "_defaultOrder": 36,
    "_isFastLaunch": false,
    "category": "Accelerated computing",
    "gpuNum": 4,
    "hideHardwareSpecs": false,
    "memoryGiB": 244,
    "name": "ml.p3.8xlarge",
    "vcpuNum": 32
   },
   {
    "_defaultOrder": 37,
    "_isFastLaunch": false,
    "category": "Accelerated computing",
    "gpuNum": 8,
    "hideHardwareSpecs": false,
    "memoryGiB": 488,
    "name": "ml.p3.16xlarge",
    "vcpuNum": 64
   },
   {
    "_defaultOrder": 38,
    "_isFastLaunch": false,
    "category": "Accelerated computing",
    "gpuNum": 8,
    "hideHardwareSpecs": false,
    "memoryGiB": 768,
    "name": "ml.p3dn.24xlarge",
    "vcpuNum": 96
   },
   {
    "_defaultOrder": 39,
    "_isFastLaunch": false,
    "category": "Memory Optimized",
    "gpuNum": 0,
    "hideHardwareSpecs": false,
    "memoryGiB": 16,
    "name": "ml.r5.large",
    "vcpuNum": 2
   },
   {
    "_defaultOrder": 40,
    "_isFastLaunch": false,
    "category": "Memory Optimized",
    "gpuNum": 0,
    "hideHardwareSpecs": false,
    "memoryGiB": 32,
    "name": "ml.r5.xlarge",
    "vcpuNum": 4
   },
   {
    "_defaultOrder": 41,
    "_isFastLaunch": false,
    "category": "Memory Optimized",
    "gpuNum": 0,
    "hideHardwareSpecs": false,
    "memoryGiB": 64,
    "name": "ml.r5.2xlarge",
    "vcpuNum": 8
   },
   {
    "_defaultOrder": 42,
    "_isFastLaunch": false,
    "category": "Memory Optimized",
    "gpuNum": 0,
    "hideHardwareSpecs": false,
    "memoryGiB": 128,
    "name": "ml.r5.4xlarge",
    "vcpuNum": 16
   },
   {
    "_defaultOrder": 43,
    "_isFastLaunch": false,
    "category": "Memory Optimized",
    "gpuNum": 0,
    "hideHardwareSpecs": false,
    "memoryGiB": 256,
    "name": "ml.r5.8xlarge",
    "vcpuNum": 32
   },
   {
    "_defaultOrder": 44,
    "_isFastLaunch": false,
    "category": "Memory Optimized",
    "gpuNum": 0,
    "hideHardwareSpecs": false,
    "memoryGiB": 384,
    "name": "ml.r5.12xlarge",
    "vcpuNum": 48
   },
   {
    "_defaultOrder": 45,
    "_isFastLaunch": false,
    "category": "Memory Optimized",
    "gpuNum": 0,
    "hideHardwareSpecs": false,
    "memoryGiB": 512,
    "name": "ml.r5.16xlarge",
    "vcpuNum": 64
   },
   {
    "_defaultOrder": 46,
    "_isFastLaunch": false,
    "category": "Memory Optimized",
    "gpuNum": 0,
    "hideHardwareSpecs": false,
    "memoryGiB": 768,
    "name": "ml.r5.24xlarge",
    "vcpuNum": 96
   },
   {
    "_defaultOrder": 47,
    "_isFastLaunch": false,
    "category": "Accelerated computing",
    "gpuNum": 1,
    "hideHardwareSpecs": false,
    "memoryGiB": 16,
    "name": "ml.g5.xlarge",
    "vcpuNum": 4
   },
   {
    "_defaultOrder": 48,
    "_isFastLaunch": false,
    "category": "Accelerated computing",
    "gpuNum": 1,
    "hideHardwareSpecs": false,
    "memoryGiB": 32,
    "name": "ml.g5.2xlarge",
    "vcpuNum": 8
   },
   {
    "_defaultOrder": 49,
    "_isFastLaunch": false,
    "category": "Accelerated computing",
    "gpuNum": 1,
    "hideHardwareSpecs": false,
    "memoryGiB": 64,
    "name": "ml.g5.4xlarge",
    "vcpuNum": 16
   },
   {
    "_defaultOrder": 50,
    "_isFastLaunch": false,
    "category": "Accelerated computing",
    "gpuNum": 1,
    "hideHardwareSpecs": false,
    "memoryGiB": 128,
    "name": "ml.g5.8xlarge",
    "vcpuNum": 32
   },
   {
    "_defaultOrder": 51,
    "_isFastLaunch": false,
    "category": "Accelerated computing",
    "gpuNum": 1,
    "hideHardwareSpecs": false,
    "memoryGiB": 256,
    "name": "ml.g5.16xlarge",
    "vcpuNum": 64
   },
   {
    "_defaultOrder": 52,
    "_isFastLaunch": false,
    "category": "Accelerated computing",
    "gpuNum": 4,
    "hideHardwareSpecs": false,
    "memoryGiB": 192,
    "name": "ml.g5.12xlarge",
    "vcpuNum": 48
   },
   {
    "_defaultOrder": 53,
    "_isFastLaunch": false,
    "category": "Accelerated computing",
    "gpuNum": 4,
    "hideHardwareSpecs": false,
    "memoryGiB": 384,
    "name": "ml.g5.24xlarge",
    "vcpuNum": 96
   },
   {
    "_defaultOrder": 54,
    "_isFastLaunch": false,
    "category": "Accelerated computing",
    "gpuNum": 8,
    "hideHardwareSpecs": false,
    "memoryGiB": 768,
    "name": "ml.g5.48xlarge",
    "vcpuNum": 192
   },
   {
    "_defaultOrder": 55,
    "_isFastLaunch": false,
    "category": "Accelerated computing",
    "gpuNum": 8,
    "hideHardwareSpecs": false,
    "memoryGiB": 1152,
    "name": "ml.p4d.24xlarge",
    "vcpuNum": 96
   },
   {
    "_defaultOrder": 56,
    "_isFastLaunch": false,
    "category": "Accelerated computing",
    "gpuNum": 8,
    "hideHardwareSpecs": false,
    "memoryGiB": 1152,
    "name": "ml.p4de.24xlarge",
    "vcpuNum": 96
   },
   {
    "_defaultOrder": 57,
    "_isFastLaunch": false,
    "category": "Accelerated computing",
    "gpuNum": 0,
    "hideHardwareSpecs": false,
    "memoryGiB": 32,
    "name": "ml.trn1.2xlarge",
    "vcpuNum": 8
   },
   {
    "_defaultOrder": 58,
    "_isFastLaunch": false,
    "category": "Accelerated computing",
    "gpuNum": 0,
    "hideHardwareSpecs": false,
    "memoryGiB": 512,
    "name": "ml.trn1.32xlarge",
    "vcpuNum": 128
   },
   {
    "_defaultOrder": 59,
    "_isFastLaunch": false,
    "category": "Accelerated computing",
    "gpuNum": 0,
    "hideHardwareSpecs": false,
    "memoryGiB": 512,
    "name": "ml.trn1n.32xlarge",
    "vcpuNum": 128
   }
  ],
  "instance_type": "ml.t3.medium",
  "kernelspec": {
   "display_name": "Python 3 (TensorFlow 2.11.0 Python 3.9 CPU Optimized)",
   "language": "python",
   "name": "python3__SAGEMAKER_INTERNAL__arn:aws:sagemaker:us-west-2:236514542706:image/tensorflow-2.11.0-cpu-py39-ubuntu20.04-sagemaker-v1.1"
  },
  "language_info": {
   "codemirror_mode": {
    "name": "ipython",
    "version": 3
   },
   "file_extension": ".py",
   "mimetype": "text/x-python",
   "name": "python",
   "nbconvert_exporter": "python",
   "pygments_lexer": "ipython3",
   "version": "3.9.10"
  }
 },
 "nbformat": 4,
 "nbformat_minor": 5
}
